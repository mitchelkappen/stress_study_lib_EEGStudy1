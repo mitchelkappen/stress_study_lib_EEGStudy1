{
 "cells": [
  {
   "cell_type": "markdown",
   "id": "c7505abc-b16c-45ae-851c-5a7dc8c88b7f",
   "metadata": {},
   "source": [
    "# Extract R-peaks from ECG files"
   ]
  },
  {
   "cell_type": "code",
   "execution_count": 1,
   "id": "8ec46ded-8f3f-4ac2-a7f5-ff120e1bd6dc",
   "metadata": {},
   "outputs": [],
   "source": [
    "%load_ext autoreload\n",
    "%autoreload 2"
   ]
  },
  {
   "cell_type": "code",
   "execution_count": 2,
   "id": "39e6de63-648a-4034-8ee3-06a136860639",
   "metadata": {},
   "outputs": [],
   "source": [
    "import os\n",
    "from pathlib import Path\n",
    "\n",
    "import pandas as pd\n",
    "from tqdm.auto import tqdm\n",
    "\n",
    "from speech_study.process_ecg import process_ecg"
   ]
  },
  {
   "cell_type": "code",
   "execution_count": 3,
   "id": "33f8a902-3b0d-4871-82a2-8660cea444c6",
   "metadata": {},
   "outputs": [],
   "source": [
    "# configure user\n",
    "user = \"jonas\"  # set this to mitchel\n",
    "\n",
    "if user.lower() == \"jonas\":\n",
    "    BASE_PATH = Path(\"/users/jonvdrdo/jonas/data/aaa_contextaware/raw/uz_study/\")\n",
    "elif user.lower() == \"mitchel\":\n",
    "    BASE_PATH = Path(\"D:/Data/EEG_Study_1/\")\n",
    "DATA_PATH = BASE_PATH.joinpath(\"aligned_data\")\n",
    "\n",
    "eeg_feat_stat_dir = Path(DATA_PATH).joinpath(\"EEG1_study_feat_stats\")"
   ]
  },
  {
   "cell_type": "markdown",
   "id": "babe5a0e-0557-469d-8633-46e7961537ae",
   "metadata": {},
   "source": [
    "For more information about the ECG processing, look at [this python script](../speech_study/process_ecg.py)."
   ]
  },
  {
   "cell_type": "markdown",
   "id": "61df58e2-1b1f-4733-8f47-36123abd30c8",
   "metadata": {},
   "source": [
    "## Process the `edf_aligned` files"
   ]
  },
  {
   "cell_type": "code",
   "execution_count": 4,
   "id": "b8572aba-e61b-43a3-bb19-938f4f646aab",
   "metadata": {
    "tags": []
   },
   "outputs": [
    {
     "data": {
      "application/vnd.jupyter.widget-view+json": {
       "model_id": "030da426afa64615ba0fae89b89868a1",
       "version_major": 2,
       "version_minor": 0
      },
      "text/plain": [
       "  0%|          | 0/59 [00:00<?, ?it/s]"
      ]
     },
     "metadata": {},
     "output_type": "display_data"
    },
    {
     "name": "stdout",
     "output_type": "stream",
     "text": [
      "/users/jonvdrdo/jonas/data/aaa_contextaware/raw/uz_study/aligned_data/63/edf_aligned/ecg_2020_03_11.parquet\n",
      "/users/jonvdrdo/jonas/data/aaa_contextaware/raw/uz_study/aligned_data/17/edf_aligned/ecg_2020_02_10.parquet\n",
      "/users/jonvdrdo/jonas/data/aaa_contextaware/raw/uz_study/aligned_data/54/edf_aligned/ecg_2020_03_04.parquet\n",
      "/users/jonvdrdo/jonas/data/aaa_contextaware/raw/uz_study/aligned_data/69/edf_aligned/ecg_2020_07_07.parquet\n",
      "/users/jonvdrdo/jonas/data/aaa_contextaware/raw/uz_study/aligned_data/34/edf_aligned/ecg_2020_02_20.parquet\n",
      "/users/jonvdrdo/jonas/data/aaa_contextaware/raw/uz_study/aligned_data/68/edf_aligned/ecg_2020_07_06.parquet\n",
      "/users/jonvdrdo/jonas/data/aaa_contextaware/raw/uz_study/aligned_data/53/edf_aligned/ecg_2020_03_04.parquet\n",
      "/users/jonvdrdo/jonas/data/aaa_contextaware/raw/uz_study/aligned_data/22/edf_aligned/ecg_2020_02_12.parquet\n",
      "/users/jonvdrdo/jonas/data/aaa_contextaware/raw/uz_study/aligned_data/23/edf_aligned/ecg_2020_02_13.parquet\n",
      "/users/jonvdrdo/jonas/data/aaa_contextaware/raw/uz_study/aligned_data/64/edf_aligned/ecg_2020_07_01.parquet\n",
      "/users/jonvdrdo/jonas/data/aaa_contextaware/raw/uz_study/aligned_data/49/edf_aligned/ecg_2020_03_02.parquet\n",
      "/users/jonvdrdo/jonas/data/aaa_contextaware/raw/uz_study/aligned_data/70/edf_aligned/ecg_2020_07_07.parquet\n",
      "/users/jonvdrdo/jonas/data/aaa_contextaware/raw/uz_study/aligned_data/42/edf_aligned/ecg_2020_02_26.parquet\n",
      "/users/jonvdrdo/jonas/data/aaa_contextaware/raw/uz_study/aligned_data/48/edf_aligned/ecg_2020_03_02.parquet\n",
      "/users/jonvdrdo/jonas/data/aaa_contextaware/raw/uz_study/aligned_data/74/edf_aligned/ecg_2020_07_16.parquet\n",
      "/users/jonvdrdo/jonas/data/aaa_contextaware/raw/uz_study/aligned_data/66/edf_aligned/ecg_2020_07_02.parquet\n",
      "/users/jonvdrdo/jonas/data/aaa_contextaware/raw/uz_study/aligned_data/55/edf_aligned/ecg_2020_03_06.parquet\n",
      "/users/jonvdrdo/jonas/data/aaa_contextaware/raw/uz_study/aligned_data/40/edf_aligned/ecg_2020_02_25.parquet\n",
      "/users/jonvdrdo/jonas/data/aaa_contextaware/raw/uz_study/aligned_data/72/edf_aligned/ecg_2020_07_14.parquet\n",
      "/users/jonvdrdo/jonas/data/aaa_contextaware/raw/uz_study/aligned_data/31/edf_aligned/ecg_2020_02_19.parquet\n",
      "/users/jonvdrdo/jonas/data/aaa_contextaware/raw/uz_study/aligned_data/71/edf_aligned/ecg_2020_07_13.parquet\n",
      "/users/jonvdrdo/jonas/data/aaa_contextaware/raw/uz_study/aligned_data/33/edf_aligned/ecg_2020_02_20.parquet\n",
      "/users/jonvdrdo/jonas/data/aaa_contextaware/raw/uz_study/aligned_data/35/edf_aligned/ecg_2020_02_20.parquet\n",
      "/users/jonvdrdo/jonas/data/aaa_contextaware/raw/uz_study/aligned_data/77/edf_aligned/ecg_2020_08_20.parquet\n",
      "/users/jonvdrdo/jonas/data/aaa_contextaware/raw/uz_study/aligned_data/56/edf_aligned/ecg_2020_03_09.parquet\n",
      "/users/jonvdrdo/jonas/data/aaa_contextaware/raw/uz_study/aligned_data/39/edf_aligned/ecg_2020_02_24.parquet\n",
      "/users/jonvdrdo/jonas/data/aaa_contextaware/raw/uz_study/aligned_data/46/edf_aligned/ecg_2020_02_28.parquet\n",
      "/users/jonvdrdo/jonas/data/aaa_contextaware/raw/uz_study/aligned_data/79/edf_aligned/ecg_2020_08_24.parquet\n",
      "/users/jonvdrdo/jonas/data/aaa_contextaware/raw/uz_study/aligned_data/83/edf_aligned/ecg_2020_09_18.parquet\n",
      "/users/jonvdrdo/jonas/data/aaa_contextaware/raw/uz_study/aligned_data/32/edf_aligned/ecg_2020_02_19.parquet\n",
      "/users/jonvdrdo/jonas/data/aaa_contextaware/raw/uz_study/aligned_data/41/edf_aligned/ecg_2020_02_26.parquet\n",
      "/users/jonvdrdo/jonas/data/aaa_contextaware/raw/uz_study/aligned_data/19/edf_aligned/ecg_2020_02_11.parquet\n",
      "/users/jonvdrdo/jonas/data/aaa_contextaware/raw/uz_study/aligned_data/26/edf_aligned/ecg_2020_02_14.parquet\n",
      "/users/jonvdrdo/jonas/data/aaa_contextaware/raw/uz_study/aligned_data/51/edf_aligned/ecg_2020_03_03.parquet\n",
      "/users/jonvdrdo/jonas/data/aaa_contextaware/raw/uz_study/aligned_data/75/edf_aligned/ecg_2020_07_28.parquet\n",
      "/users/jonvdrdo/jonas/data/aaa_contextaware/raw/uz_study/aligned_data/59/edf_aligned/ecg_2020_03_10.parquet\n",
      "/users/jonvdrdo/jonas/data/aaa_contextaware/raw/uz_study/aligned_data/27/edf_aligned/ecg_2020_02_17.parquet\n",
      "/users/jonvdrdo/jonas/data/aaa_contextaware/raw/uz_study/aligned_data/73/edf_aligned/ecg_2020_07_14.parquet\n",
      "/users/jonvdrdo/jonas/data/aaa_contextaware/raw/uz_study/aligned_data/50/edf_aligned/ecg_2020_03_03.parquet\n",
      "/users/jonvdrdo/jonas/data/aaa_contextaware/raw/uz_study/aligned_data/78/edf_aligned/ecg_2020_08_21.parquet\n",
      "/users/jonvdrdo/jonas/data/aaa_contextaware/raw/uz_study/aligned_data/58/edf_aligned/ecg_2020_03_09.parquet\n",
      "/users/jonvdrdo/jonas/data/aaa_contextaware/raw/uz_study/aligned_data/36/edf_aligned/ecg_2020_02_21.parquet\n",
      "/users/jonvdrdo/jonas/data/aaa_contextaware/raw/uz_study/aligned_data/67/edf_aligned/ecg_2020_07_06.parquet\n",
      "/users/jonvdrdo/jonas/data/aaa_contextaware/raw/uz_study/aligned_data/28/edf_aligned/ecg_2020_02_17.parquet\n",
      "/users/jonvdrdo/jonas/data/aaa_contextaware/raw/uz_study/aligned_data/57/edf_aligned/ecg_2020_03_09.parquet\n",
      "/users/jonvdrdo/jonas/data/aaa_contextaware/raw/uz_study/aligned_data/60/edf_aligned/ecg_2020_03_10.parquet\n",
      "/users/jonvdrdo/jonas/data/aaa_contextaware/raw/uz_study/aligned_data/81/edf_aligned/ecg_2020_09_17.parquet\n",
      "/users/jonvdrdo/jonas/data/aaa_contextaware/raw/uz_study/aligned_data/29/edf_aligned/ecg_2020_02_17.parquet\n",
      "/users/jonvdrdo/jonas/data/aaa_contextaware/raw/uz_study/aligned_data/38/edf_aligned/ecg_2020_02_24.parquet\n",
      "/users/jonvdrdo/jonas/data/aaa_contextaware/raw/uz_study/aligned_data/18/edf_aligned/ecg_2020_02_11.parquet\n",
      "/users/jonvdrdo/jonas/data/aaa_contextaware/raw/uz_study/aligned_data/16/edf_aligned/ecg_2020_02_10.parquet\n",
      "/users/jonvdrdo/jonas/data/aaa_contextaware/raw/uz_study/aligned_data/44/edf_aligned/ecg_2020_02_27.parquet\n",
      "/users/jonvdrdo/jonas/data/aaa_contextaware/raw/uz_study/aligned_data/65/edf_aligned/ecg_2020_07_02.parquet\n",
      "/users/jonvdrdo/jonas/data/aaa_contextaware/raw/uz_study/aligned_data/30/edf_aligned/ecg_2020_02_18.parquet\n",
      "/users/jonvdrdo/jonas/data/aaa_contextaware/raw/uz_study/aligned_data/43/edf_aligned/ecg_2020_02_26.parquet\n",
      "/users/jonvdrdo/jonas/data/aaa_contextaware/raw/uz_study/aligned_data/80/edf_aligned/ecg_2020_09_16.parquet\n",
      "/users/jonvdrdo/jonas/data/aaa_contextaware/raw/uz_study/aligned_data/21/edf_aligned/ecg_2020_02_12.parquet\n",
      "/users/jonvdrdo/jonas/data/aaa_contextaware/raw/uz_study/aligned_data/76/edf_aligned/ecg_2020_07_28.parquet\n",
      "/users/jonvdrdo/jonas/data/aaa_contextaware/raw/uz_study/aligned_data/82/edf_aligned/ecg_2020_09_17.parquet\n"
     ]
    }
   ],
   "source": [
    "# First, process the aligned EDF files\n",
    "for pqt in tqdm(list(BASE_PATH.rglob(\"*/edf_aligned/ecg*.parquet\"))):\n",
    "    print(pqt)\n",
    "\n",
    "    # Read & process the ECG file\n",
    "    df_parquet = (\n",
    "        pd.read_parquet(pqt)\n",
    "        .set_index(\"timestamp\", drop=True)\n",
    "        .rename(columns={\"ECG_Raw\": \"ECG\"})\n",
    "    )\n",
    "    df_rr = process_ecg(df_parquet[\"ECG\"])\n",
    "\n",
    "    # save the file in feat stat dir\n",
    "    eeg_feat_stat_dir_user = eeg_feat_stat_dir.joinpath(pqt.parent.parent.name)\n",
    "    if not eeg_feat_stat_dir_user.exists():\n",
    "        os.mkdir(eeg_feat_stat_dir_user)\n",
    "    df_rr.reset_index().to_parquet(\n",
    "        eeg_feat_stat_dir_user.joinpath(\n",
    "            f\"rr_intervals_{'_'.join(pqt.name.split('_')[-3:])}\"\n",
    "        ),\n",
    "        engine=\"fastparquet\",\n",
    "    )\n",
    "\n",
    "    # save the file in the same folder as the ECG_file resides within\n",
    "    df_rr.reset_index().to_parquet(\n",
    "        pqt.parent.joinpath(f\"rr_intervals_{'_'.join(pqt.name.split('_')[-3:])}\"),\n",
    "        engine=\"fastparquet\",\n",
    "    )\n",
    "\n",
    "del df_parquet, pqt, eeg_feat_stat_dir_user, df_rr"
   ]
  },
  {
   "cell_type": "markdown",
   "id": "40b69a29-1f04-4673-9075-12b06ec2f528",
   "metadata": {},
   "source": [
    "## Process the non-aligned EDF_files"
   ]
  },
  {
   "cell_type": "code",
   "execution_count": 5,
   "id": "27eb532b",
   "metadata": {},
   "outputs": [
    {
     "data": {
      "application/vnd.jupyter.widget-view+json": {
       "model_id": "348c9a0b8d5f4b699e1d95461eee57c8",
       "version_major": 2,
       "version_minor": 0
      },
      "text/plain": [
       "  0%|          | 0/75 [00:00<?, ?it/s]"
      ]
     },
     "metadata": {},
     "output_type": "display_data"
    },
    {
     "name": "stdout",
     "output_type": "stream",
     "text": [
      "/users/jonvdrdo/jonas/data/aaa_contextaware/raw/uz_study/aligned_data/4/edf/ecg_2020_01_27.parquet\n",
      "/users/jonvdrdo/jonas/data/aaa_contextaware/raw/uz_study/aligned_data/13/edf/ecg_2020_02_04.parquet\n",
      "/users/jonvdrdo/jonas/data/aaa_contextaware/raw/uz_study/aligned_data/20/edf/ecg_2020_02_12.parquet\n",
      "/users/jonvdrdo/jonas/data/aaa_contextaware/raw/uz_study/aligned_data/11/edf/ecg_2020_02_03.parquet\n",
      "/users/jonvdrdo/jonas/data/aaa_contextaware/raw/uz_study/aligned_data/37/edf/ecg_2020_02_21.parquet\n",
      "/users/jonvdrdo/jonas/data/aaa_contextaware/raw/uz_study/aligned_data/8/edf/ecg_2020_01_31.parquet\n",
      "/users/jonvdrdo/jonas/data/aaa_contextaware/raw/uz_study/aligned_data/9/edf/ecg_2020_01_31.parquet\n",
      "/users/jonvdrdo/jonas/data/aaa_contextaware/raw/uz_study/aligned_data/15/edf/ecg_2020_02_06.parquet\n",
      "/users/jonvdrdo/jonas/data/aaa_contextaware/raw/uz_study/aligned_data/14/edf/ecg_2020_02_05.parquet\n",
      "/users/jonvdrdo/jonas/data/aaa_contextaware/raw/uz_study/aligned_data/10/edf/ecg_2020_02_03.parquet\n",
      "/users/jonvdrdo/jonas/data/aaa_contextaware/raw/uz_study/aligned_data/6/edf/ecg_2020_01_28.parquet\n",
      "/users/jonvdrdo/jonas/data/aaa_contextaware/raw/uz_study/aligned_data/5/edf/ecg_2020_01_28.parquet\n",
      "/users/jonvdrdo/jonas/data/aaa_contextaware/raw/uz_study/aligned_data/52/edf/ecg_2020_03_04.parquet\n",
      "/users/jonvdrdo/jonas/data/aaa_contextaware/raw/uz_study/aligned_data/7/edf/ecg_2020_01_30.parquet\n",
      "/users/jonvdrdo/jonas/data/aaa_contextaware/raw/uz_study/aligned_data/61/edf/ecg_2020_03_11.parquet\n",
      "/users/jonvdrdo/jonas/data/aaa_contextaware/raw/uz_study/aligned_data/12/edf/ecg_2020_02_04.parquet\n"
     ]
    }
   ],
   "source": [
    "# First create list of the aligned parquet users\n",
    "aligned_pqt_users = []\n",
    "for pqt in BASE_PATH.rglob(\"*/edf_aligned/ecg*.parquet\"):\n",
    "    aligned_pqt_users.append(pqt.parent.parent.name)\n",
    "\n",
    "\n",
    "for pqt in tqdm(list(BASE_PATH.rglob(\"*/edf/ecg*.parquet\"))):\n",
    "    # As aligned data takes precedence over non-aligned data, We will only process\n",
    "    # non-aligned `edf`-files when we do not have an aligned equivalent\n",
    "    if pqt.parent.parent.name not in aligned_pqt_users:\n",
    "        print(pqt)\n",
    "\n",
    "        df_parquet = (\n",
    "            pd.read_parquet(pqt)\n",
    "            .set_index(\"timestamp\", drop=True)\n",
    "            .rename(columns={\"ECG_Raw\": \"ECG\"})\n",
    "        )\n",
    "        df_rr = process_ecg(df_parquet[\"ECG\"])\n",
    "\n",
    "        # save the file in feat_stat_dir\n",
    "        eeg_feat_stat_dir_user = eeg_feat_stat_dir.joinpath(pqt.parent.parent.name)\n",
    "        if not eeg_feat_stat_dir_user.exists():\n",
    "            os.mkdir(eeg_feat_stat_dir_user)\n",
    "        df_rr.reset_index().to_parquet(\n",
    "            eeg_feat_stat_dir_user.joinpath(\n",
    "                f\"rr_intervals_{'_'.join(pqt.name.split('_')[-3:])}\"\n",
    "            ),\n",
    "            engine=\"fastparquet\",\n",
    "        )\n",
    "\n",
    "        # save the file in the same folder as the ECG_file resides within\n",
    "        df_rr.reset_index().to_parquet(\n",
    "            pqt.parent.joinpath(f\"rr_intervals_{'_'.join(pqt.name.split('_')[-3:])}\"),\n",
    "            engine=\"fastparquet\",\n",
    "        )\n"
   ]
  },
  {
   "cell_type": "code",
   "execution_count": 6,
   "id": "55f92014-4ef0-41a2-a132-a5cd5ef91b42",
   "metadata": {
    "pycharm": {
     "name": "#%%\n"
    }
   },
   "outputs": [
    {
     "data": {
      "text/html": [
       "<div>\n",
       "<style scoped>\n",
       "    .dataframe tbody tr th:only-of-type {\n",
       "        vertical-align: middle;\n",
       "    }\n",
       "\n",
       "    .dataframe tbody tr th {\n",
       "        vertical-align: top;\n",
       "    }\n",
       "\n",
       "    .dataframe thead th {\n",
       "        text-align: right;\n",
       "    }\n",
       "</style>\n",
       "<table border=\"1\" class=\"dataframe\">\n",
       "  <thead>\n",
       "    <tr style=\"text-align: right;\">\n",
       "      <th></th>\n",
       "      <th>r_peak_agreement</th>\n",
       "      <th>RR_interval_ms</th>\n",
       "      <th>HRV_ms</th>\n",
       "    </tr>\n",
       "    <tr>\n",
       "      <th>timestamp</th>\n",
       "      <th></th>\n",
       "      <th></th>\n",
       "      <th></th>\n",
       "    </tr>\n",
       "  </thead>\n",
       "  <tbody>\n",
       "    <tr>\n",
       "      <th>2020-02-04 10:05:25.041000+01:00</th>\n",
       "      <td>0.1</td>\n",
       "      <td>NaN</td>\n",
       "      <td>NaN</td>\n",
       "    </tr>\n",
       "    <tr>\n",
       "      <th>2020-02-04 10:05:25.843000+01:00</th>\n",
       "      <td>1.0</td>\n",
       "      <td>NaN</td>\n",
       "      <td>NaN</td>\n",
       "    </tr>\n",
       "    <tr>\n",
       "      <th>2020-02-04 10:05:26.695000+01:00</th>\n",
       "      <td>1.0</td>\n",
       "      <td>852.0</td>\n",
       "      <td>NaN</td>\n",
       "    </tr>\n",
       "    <tr>\n",
       "      <th>2020-02-04 10:05:27.582000+01:00</th>\n",
       "      <td>1.0</td>\n",
       "      <td>887.0</td>\n",
       "      <td>35.0</td>\n",
       "    </tr>\n",
       "    <tr>\n",
       "      <th>2020-02-04 10:05:28.435000+01:00</th>\n",
       "      <td>1.0</td>\n",
       "      <td>853.0</td>\n",
       "      <td>-34.0</td>\n",
       "    </tr>\n",
       "    <tr>\n",
       "      <th>...</th>\n",
       "      <td>...</td>\n",
       "      <td>...</td>\n",
       "      <td>...</td>\n",
       "    </tr>\n",
       "    <tr>\n",
       "      <th>2020-02-04 11:27:41.591000+01:00</th>\n",
       "      <td>1.0</td>\n",
       "      <td>765.0</td>\n",
       "      <td>50.0</td>\n",
       "    </tr>\n",
       "    <tr>\n",
       "      <th>2020-02-04 11:27:42.318000+01:00</th>\n",
       "      <td>1.0</td>\n",
       "      <td>727.0</td>\n",
       "      <td>-38.0</td>\n",
       "    </tr>\n",
       "    <tr>\n",
       "      <th>2020-02-04 11:27:43.029000+01:00</th>\n",
       "      <td>1.0</td>\n",
       "      <td>711.0</td>\n",
       "      <td>-16.0</td>\n",
       "    </tr>\n",
       "    <tr>\n",
       "      <th>2020-02-04 11:27:43.751000+01:00</th>\n",
       "      <td>1.0</td>\n",
       "      <td>722.0</td>\n",
       "      <td>11.0</td>\n",
       "    </tr>\n",
       "    <tr>\n",
       "      <th>2020-02-04 11:27:44.441000+01:00</th>\n",
       "      <td>1.0</td>\n",
       "      <td>690.0</td>\n",
       "      <td>-32.0</td>\n",
       "    </tr>\n",
       "  </tbody>\n",
       "</table>\n",
       "<p>6085 rows × 3 columns</p>\n",
       "</div>"
      ],
      "text/plain": [
       "                                  r_peak_agreement  RR_interval_ms  HRV_ms\n",
       "timestamp                                                                 \n",
       "2020-02-04 10:05:25.041000+01:00               0.1             NaN     NaN\n",
       "2020-02-04 10:05:25.843000+01:00               1.0             NaN     NaN\n",
       "2020-02-04 10:05:26.695000+01:00               1.0           852.0     NaN\n",
       "2020-02-04 10:05:27.582000+01:00               1.0           887.0    35.0\n",
       "2020-02-04 10:05:28.435000+01:00               1.0           853.0   -34.0\n",
       "...                                            ...             ...     ...\n",
       "2020-02-04 11:27:41.591000+01:00               1.0           765.0    50.0\n",
       "2020-02-04 11:27:42.318000+01:00               1.0           727.0   -38.0\n",
       "2020-02-04 11:27:43.029000+01:00               1.0           711.0   -16.0\n",
       "2020-02-04 11:27:43.751000+01:00               1.0           722.0    11.0\n",
       "2020-02-04 11:27:44.441000+01:00               1.0           690.0   -32.0\n",
       "\n",
       "[6085 rows x 3 columns]"
      ]
     },
     "execution_count": 6,
     "metadata": {},
     "output_type": "execute_result"
    }
   ],
   "source": [
    "df_rr"
   ]
  }
 ],
 "metadata": {
  "kernelspec": {
   "display_name": "speech-study",
   "language": "python",
   "name": "speech-study"
  },
  "language_info": {
   "codemirror_mode": {
    "name": "ipython",
    "version": 3
   },
   "file_extension": ".py",
   "mimetype": "text/x-python",
   "name": "python",
   "nbconvert_exporter": "python",
   "pygments_lexer": "ipython3",
   "version": "3.8.0"
  }
 },
 "nbformat": 4,
 "nbformat_minor": 5
}