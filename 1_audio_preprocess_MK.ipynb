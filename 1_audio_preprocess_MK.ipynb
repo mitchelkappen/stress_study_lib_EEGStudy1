{
 "cells": [
  {
   "cell_type": "markdown",
   "metadata": {},
   "source": [
    "# Feature Extraction from Speech Data with OpenSMILE and GeMaps config\n",
    "## Audio data collected in the EEG MIST paradigm"
   ]
  },
  {
   "cell_type": "code",
   "execution_count": 1,
   "metadata": {},
   "outputs": [],
   "source": [
    "import glob\n",
    "import os\n",
    "import re\n",
    "import subprocess\n",
    "from io import StringIO\n",
    "from pathlib import Path\n",
    "\n",
    "import numpy as np\n",
    "import pandas as pd\n",
    "from scipy.io import arff\n",
    "from tqdm.auto import tqdm\n",
    "\n",
    "Jonas = 0 # Set Jonas to 1 if Jonas"
   ]
  },
  {
   "cell_type": "code",
   "execution_count": 10,
   "metadata": {},
   "outputs": [],
   "source": [
    "# Set Data Path\n",
    "# DATA_PATH = \"C:/Users/mitch/OneDrive - UGent/UGent/Projects/5. VOP project/Voice_and_App/\"\n",
    "if(Jonas == 1):\n",
    "    BASE_PATH = \"/users/jonvdrdo/jonas/data/aaa_contextaware/raw/uz_study/\"\n",
    "    FEATURES_PATH = '' \n",
    "    DATA_PATH = BASE_PATH + \"aligned_data\"\n",
    "elif(Jonas == 0):\n",
    "    BASE_PATH = \"D:/Data/EEG_Study_1/\" # Go check 1_audio_preprocess.py\n",
    "    DATA_PATH = BASE_PATH + \"aligned_data\"\n",
    "    # Set OpenSMILE Config Path\n",
    "    OPENSMILE_CONFIG = '\"C:/Users/mitch/OneDrive - UGent/UGent/Topics/Facial/OpenSmile/opensmile-2.3.0/config/gemaps/GeMAPSv01a.conf\"'\n",
    "\n",
    "    FEATURES_PATH = DATA_PATH + \"/features_gemaps/\"\n",
    "    RAW_PATH = \"C:/Users/mitch/OneDrive - UGent/UGent/Projects/2. Vanhollebeke et al/Data/Actual/Audio_Jonas\"\n",
    "\n",
    "\n"
   ]
  },
  {
   "cell_type": "markdown",
   "metadata": {
    "tags": []
   },
   "source": [
    "# Extract features"
   ]
  },
  {
   "cell_type": "markdown",
   "metadata": {
    "tags": []
   },
   "source": [
    "## THIS ONE IS IF GETTING DATA FROM ALIGNED_DATA"
   ]
  },
  {
   "cell_type": "code",
   "execution_count": 11,
   "metadata": {},
   "outputs": [],
   "source": [
    "## Only run this cell ONCE (set to False if exctracted)\n",
    "\n",
    "# THIS ONE IS IF GETTING DATA FROM ALIGNED_DATA\n",
    "if False:\n",
    "    # Create paths if not existed\n",
    "    Path(FEATURES_PATH).mkdir(parents=True, exist_ok=True)\n",
    "\n",
    "    def extract(source, destination):\n",
    "        # Generate extraction command\n",
    "        cmd = \"C:/Users/mitch/OneDrive/Documents/UGent/Topics/Facial/OpenSmile/opensmile-2.3.0/SMILExtract_Release -C {} -I {} -O {}\".format(\n",
    "            OPENSMILE_CONFIG, source, destination\n",
    "        )\n",
    "        #     print(cmd)\n",
    "        p = subprocess.Popen(cmd, stdout=subprocess.PIPE, shell=True)\n",
    "        p.wait()\n",
    "\n",
    "    for wav_file in tqdm(glob.glob(DATA_PATH + \"/*/audio/*.wav\")):\n",
    "        participant_dir = wav_file.split(\"/\")[-1]\n",
    "        participant_dir = participant_dir.split(\"\\\\\")[1]\n",
    "        filename = re.findall(r\"udio\\\\(.+).wav\", wav_file)[\n",
    "            0\n",
    "        ]  # file name excluding .wav\n",
    "        #         filenum = re.findall(r'occ_(.+?).wav',wav_file)[0] # file number\n",
    "        filenum = filename[\n",
    "            filename.find(\"occ_\") + 4 : filename.find(\"occ_\") + 6\n",
    "        ]  # else it cant find exceptions like 99-2 or something\n",
    "\n",
    "        if (\n",
    "            filenum == \"99\"\n",
    "        ):  # Something went wrong in the naming of the inital files and this is a quick fix\n",
    "            filename = (\n",
    "                filename[: filename.find(\"occ_\") + 4]\n",
    "                + \"9\"\n",
    "                + filename[filename.find(\"occ_\") + 6 :]\n",
    "            )  # replace 99 by 9 but keep the rest\n",
    "\n",
    "        out_path = FEATURES_PATH + \"/\" + participant_dir + \"/\" + filename + \".arff\"\n",
    "\n",
    "        wav_file = '\"' + wav_file.replace(os.sep, \"/\") + '\"'\n",
    "        out_path = '\"' + out_path + '\"'\n",
    "\n",
    "        Path(FEATURES_PATH + \"/\" + participant_dir + \"/\").mkdir(\n",
    "            parents=True, exist_ok=True\n",
    "        )\n",
    "\n",
    "        extract(wav_file, out_path)\n",
    "#         break\n",
    "#     print(out_path)"
   ]
  },
  {
   "cell_type": "markdown",
   "metadata": {
    "tags": []
   },
   "source": [
    "## THIS ONE IS IF GETTING DATA FROM LOCAL JONAS_DATA"
   ]
  },
  {
   "cell_type": "code",
   "execution_count": 12,
   "metadata": {},
   "outputs": [],
   "source": [
    "## Only run this cell ONCE (set to False if exctracted)\n",
    "count = 0\n",
    "# THIS ONE IS IF GETTING DATA FROM LOCAL DATA\n",
    "if False:\n",
    "    # Create paths if not existed\n",
    "    Path(FEATURES_PATH).mkdir(parents=True, exist_ok=True)\n",
    "\n",
    "    def extract(source, destination):\n",
    "        # Generate extraction command\n",
    "        cmd = \"C:/Users/mitch/OneDrive/Documents/UGent/Topics/Facial/OpenSmile/opensmile-2.3.0/SMILExtract_Release -C {} -I {} -O {}\".format(\n",
    "            OPENSMILE_CONFIG, source, destination\n",
    "        )\n",
    "        #     print(cmd)\n",
    "        p = subprocess.Popen(cmd, stdout=subprocess.PIPE, shell=True)\n",
    "        p.wait()\n",
    "\n",
    "    for wav_file in tqdm(glob.glob(RAW_PATH + \"/*/sentences*.wav\")):\n",
    "        participant_dir = re.findall(r\"Jonas\\\\(.+?)\\\\sentences\", wav_file)[0]\n",
    "        filenum = re.findall(r\"occ_(.+?).wav\", wav_file)[0]\n",
    "\n",
    "        if (\n",
    "            filenum == \"99\"\n",
    "        ):  # Something went wrong in the naming of the inital files and this is a quick fix\n",
    "            filename = \"sentences_occ_\" + \"9\"\n",
    "        else:\n",
    "            filename = \"sentences_occ_\" + filenum\n",
    "\n",
    "        out_path = FEATURES_PATH + \"/\" + participant_dir + \"/\" + filename + \".arff\"\n",
    "\n",
    "        wav_file = '\"' + wav_file.replace(os.sep, \"/\") + '\"'\n",
    "        out_path = '\"' + out_path + '\"'\n",
    "\n",
    "        Path(FEATURES_PATH + \"/\" + participant_dir + \"/\").mkdir(\n",
    "            parents=True, exist_ok=True\n",
    "        )\n",
    "\n",
    "        extract(wav_file, out_path)\n",
    "#         print(f'in file is: ', wav_file, ' and out file is: ', out_path)\n",
    "#         break\n",
    "#     print(out_path)"
   ]
  },
  {
   "cell_type": "markdown",
   "metadata": {
    "tags": []
   },
   "source": [
    "# Load all Marloeses and compile into comprehensive df"
   ]
  },
  {
   "cell_type": "code",
   "execution_count": 13,
   "metadata": {},
   "outputs": [],
   "source": [
    "if False:  # Only used once to get everything into a nice .csv\n",
    "    from arff2pandas import a2p\n",
    "\n",
    "    dataMarloes = pd.DataFrame()\n",
    "    for arff_file in tqdm(glob.glob(FEATURES_PATH + \"/*/sentences*.arff\")):\n",
    "        participantNum = int(\n",
    "            re.findall(r\"features_gemaps\\\\(.+?)\\\\sentences\", arff_file)[0]\n",
    "        )\n",
    "        try:\n",
    "            fileNum = int(re.findall(r\"sentences_occ_(.+?).arff\", arff_file)[0])\n",
    "\n",
    "            with open(arff_file) as f:\n",
    "                df = a2p.load(f)\n",
    "                df.insert(\n",
    "                    0, \"participantNum\", participantNum\n",
    "                )  # Add column for participant Number\n",
    "                df.insert(1, \"fileNum\", fileNum)  # Add column for file Number\n",
    "                dataMarloes = dataMarloes.append(df)\n",
    "        except:\n",
    "            print(\n",
    "                f\"Something wrong with file name of participant: \",\n",
    "                participantNum,\n",
    "                \"File number: \",\n",
    "                fileNum + 1,\n",
    "            )\n",
    "\n",
    "    dataMarloes.to_csv(\n",
    "        FEATURES_PATH + \"marloesFeaturesCompiled.csv\", encoding=\"utf-8\", index=False\n",
    "    )\n",
    "\n",
    "dataMarloes = pd.read_csv(\n",
    "    FEATURES_PATH + \"marloesFeaturesCompiled.csv\"\n",
    ")  # Read .csv file\n",
    "\n",
    "dataMarloes = dataMarloes[\n",
    "    dataMarloes[\"fileNum\"] != 9\n",
    "]  # For now remove every first Marloes from the dataframe - we seem not to have any SAMs for these.\n",
    "\n",
    "# Rename column names because with the .arff files it got loaded weirdly\n",
    "maxX = len(dataMarloes.columns)\n",
    "count = 0\n",
    "\n",
    "while count < maxX:\n",
    "    if count > 2:  # Skip a few\n",
    "        name = dataMarloes.columns[count]\n",
    "        name = name[\n",
    "            0 : name.find(\"@NUMERIC\")\n",
    "        ]  # Find where @NUMERIC starts and get everything in front of it\n",
    "        dataMarloes.rename(\n",
    "            columns={dataMarloes.columns[count]: name}, inplace=True\n",
    "        )  # Rename columns\n",
    "    count = count + 1"
   ]
  },
  {
   "cell_type": "markdown",
   "metadata": {
    "tags": []
   },
   "source": [
    "# Add explicit responses from appData.csv"
   ]
  },
  {
   "cell_type": "code",
   "execution_count": 14,
   "metadata": {},
   "outputs": [],
   "source": [
    "if False:  # Only used once to get everything into a nice .csv\n",
    "    dataSAM = pd.DataFrame()\n",
    "\n",
    "    for csv_file in tqdm(glob.glob(DATA_PATH + \"/*/audio/appData.csv\")):\n",
    "        participantNum = csv_file.split(\"/\")[-1]\n",
    "        participantNum = int(participantNum.split(\"\\\\\")[1])\n",
    "\n",
    "        temp = pd.read_csv(csv_file)\n",
    "        for i in range(0, 9):\n",
    "            d = {\n",
    "                \"participantNum\": participantNum,\n",
    "                \"fileNum\": i,\n",
    "                \"arousal\": temp[\"arousals_\" + str(i)],\n",
    "                \"valence\": temp[\"valences_\" + str(i)],\n",
    "                \"dominance\": temp[\"dominances_\" + str(i)],\n",
    "            }\n",
    "            df = pd.DataFrame(data=d)\n",
    "            dataSAM = dataSAM.append(df)\n",
    "\n",
    "    dataSAM.to_csv(\n",
    "        FEATURES_PATH + \"SAMsCompiled.csv\", encoding=\"utf-8\", index=False\n",
    "    )  # Write CSV\n",
    "\n",
    "dataSAM = pd.read_csv(FEATURES_PATH + \"SAMsCompiled.csv\")  # Read CSV\n",
    "data = pd.merge(\n",
    "    dataMarloes, dataSAM, on=[\"participantNum\", \"fileNum\"]\n",
    ")  # Put marloes and SAMS together for all complete sets"
   ]
  },
  {
   "cell_type": "code",
   "execution_count": 16,
   "metadata": {},
   "outputs": [],
   "source": [
    "data = data[\n",
    "    ~np.logical_and(\n",
    "        data[\"participantNum\"] == 1,\n",
    "        np.logical_or(data[\"fileNum\"] == 1, data[\"fileNum\"] == 3),\n",
    "    )\n",
    "]  # PPT1\n",
    "\n",
    "data = data[data[\"participantNum\"] != 2]  # PPT2\n",
    "\n",
    "data = data[\n",
    "    ~np.logical_and(\n",
    "        data[\"participantNum\"] == 3,\n",
    "        np.logical_or(data[\"fileNum\"] == 0, data[\"fileNum\"] == 8),\n",
    "    )\n",
    "]  # PPT3\n",
    "\n",
    "data = data[~np.logical_and(data[\"participantNum\"] == 5, data[\"fileNum\"] == 8)]  # PPT5\n",
    "data = data[~np.logical_and(data[\"participantNum\"] == 6, data[\"fileNum\"] == 7)]  # PPT6\n",
    "data = data[~np.logical_and(data[\"participantNum\"] == 8, data[\"fileNum\"] == 8)]  # PPT8\n",
    "data = data[~np.logical_and(data[\"participantNum\"] == 9, data[\"fileNum\"] == 3)]  # PPT9\n",
    "data = data[\n",
    "    ~np.logical_and(data[\"participantNum\"] == 17, data[\"fileNum\"] == 6)\n",
    "]  # PPT17\n",
    "data = data[data[\"participantNum\"] != 24]  # PPT24\n",
    "data = data[data[\"participantNum\"] != 25]  # PPT25\n",
    "data = data[\n",
    "    ~np.logical_and(\n",
    "        data[\"participantNum\"] == 29,\n",
    "        np.logical_or.reduce(\n",
    "            (data[\"fileNum\"] == 2, data[\"fileNum\"] == 4, data[\"fileNum\"] == 8)\n",
    "        ),\n",
    "    )\n",
    "]\n",
    "data = data[\n",
    "    ~np.logical_and(data[\"participantNum\"] == 31, data[\"fileNum\"] == 2)\n",
    "]  # PPT31\n",
    "data = data[\n",
    "    ~np.logical_and(\n",
    "        data[\"participantNum\"] == 35,\n",
    "        np.logical_or.reduce(\n",
    "            (\n",
    "                data[\"fileNum\"] == 0,\n",
    "                data[\"fileNum\"] == 3,\n",
    "                data[\"fileNum\"] == 5,\n",
    "                data[\"fileNum\"] == 6,\n",
    "                data[\"fileNum\"] == 7,\n",
    "            )\n",
    "        ),\n",
    "    )\n",
    "]  # PPT35\n",
    "data = data[\n",
    "    ~np.logical_and(data[\"participantNum\"] == 36, data[\"fileNum\"] == 8)\n",
    "]  # PPT36\n",
    "data = data[data[\"participantNum\"] != 45]  # PPT45\n",
    "data = data[\n",
    "    ~np.logical_and(data[\"participantNum\"] == 48, data[\"fileNum\"] == 5)\n",
    "]  # PPT48\n",
    "data = data[data[\"participantNum\"] != 53]  # PPT53\n",
    "data = data[\n",
    "    ~np.logical_and(data[\"participantNum\"] == 60, data[\"fileNum\"] == 0)\n",
    "]  # PPT60\n",
    "data = data[\n",
    "    ~np.logical_and(data[\"participantNum\"] == 61, data[\"fileNum\"] == 7)\n",
    "]  # PPT61\n",
    "data = data[data[\"participantNum\"] != 62]  # PPT62\n",
    "# data = data[data['participantNum'] != 68] # PPT68 #### Something wrong with physiological data?\n",
    "data = data[data[\"participantNum\"] != 71]  # PPT71\n",
    "data = data[data[\"participantNum\"] != 72]  # PPT72\n",
    "data = data[data[\"participantNum\"] != 73]  # PPT73\n",
    "data = data[data[\"participantNum\"] != 74]  # PPT74\n",
    "# data = data[data['participantNum'] != 79] # PPT79 #### Something wrong with physiological data?\n",
    "data = data[data[\"participantNum\"] != 82]  # PPT82"
   ]
  },
  {
   "cell_type": "code",
   "execution_count": 17,
   "metadata": {},
   "outputs": [],
   "source": [
    "data.to_csv(FEATURES_PATH + \"audioandresponsedata.csv\", encoding=\"utf-8\", index=False)"
   ]
  },
  {
   "cell_type": "markdown",
   "metadata": {
    "tags": []
   },
   "source": [
    "# Get Physiological Data"
   ]
  },
  {
   "cell_type": "markdown",
   "metadata": {},
   "source": [
    "EDA"
   ]
  },
  {
   "cell_type": "code",
   "execution_count": 10,
   "metadata": {},
   "outputs": [],
   "source": [
    "EDA_PATH = \"EEG1_study_feat_stats\""
   ]
  },
  {
   "cell_type": "markdown",
   "metadata": {
    "tags": []
   },
   "source": [
    "# Get aligned markers / timestamps"
   ]
  },
  {
   "cell_type": "code",
   "execution_count": 11,
   "metadata": {
    "tags": []
   },
   "outputs": [
    {
     "data": {
      "application/vnd.jupyter.widget-view+json": {
       "model_id": "83aaad8cb57444149bf02e2c7d3077ac",
       "version_major": 2,
       "version_minor": 0
      },
      "text/plain": [
       "  0%|          | 0/79 [00:00<?, ?it/s]"
      ]
     },
     "metadata": {},
     "output_type": "display_data"
    },
    {
     "name": "stdout",
     "output_type": "stream",
     "text": [
      "no timeline_aligned.csv for ptcpt 2\n",
      "no timeline_aligned.csv for ptcpt 3\n",
      "no timeline_aligned.csv for ptcpt 4\n",
      "no timeline_aligned.csv for ptcpt 5\n",
      "no timeline_aligned.csv for ptcpt 6\n",
      "no timeline_aligned.csv for ptcpt 7\n",
      "no timeline_aligned.csv for ptcpt 8\n",
      "no timeline_aligned.csv for ptcpt 9\n",
      "no timeline_aligned.csv for ptcpt 10\n",
      "no timeline_aligned.csv for ptcpt 12\n",
      "no timeline_aligned.csv for ptcpt 13\n",
      "no timeline_aligned.csv for ptcpt 14\n",
      "no marker_edf_aligned.csv for ptcpt 18\n",
      "no timeline_aligned.csv for ptcpt 20\n",
      "no timeline_aligned.csv for ptcpt 24\n",
      "no timeline_aligned.csv for ptcpt 37\n",
      "no timeline_aligned.csv for ptcpt 47\n",
      "no timeline_aligned.csv for ptcpt 52\n",
      "no timeline_aligned.csv for ptcpt 61\n"
     ]
    }
   ],
   "source": [
    "# we construct the data again as we might remove/ subsample it in the next step\n",
    "data = pd.merge(\n",
    "    dataMarloes, dataSAM, on=[\"participantNum\", \"fileNum\"]\n",
    ")  # Put marloes and SAMS together for all complete sets\n",
    "\n",
    "import bisect\n",
    "import time\n",
    "\n",
    "range_list = [\n",
    "    # baseline\n",
    "    # (1, \"\", \"\"),\n",
    "    # controle\n",
    "    (2, \"Controle1Slide\", \"ControleSAM\"),\n",
    "    (3, \"Controle2Slide\", \"ControleSAM3\"),\n",
    "    (4, \"Controle3Slide\", \"ControleSAM4\"),\n",
    "    # stress\n",
    "    (6, \"Stress1Slide\", \"StressSAM\"),\n",
    "    (7, \"Stress2Slide\", \"StressSAM1\"),\n",
    "    (8, \"Stress3Slide\", \"StressSAM2\"),\n",
    "]\n",
    "\n",
    "marker_mapping = [(1, \"Rest EEG start\", \"Rest EEG end\")]\n",
    "\n",
    "data[\"HR\"] = np.nan\n",
    "data[\"HRV\"] = np.nan\n",
    "data[\"EDA\"] = np.nan\n",
    "data[\"SCR_RATE\"] = np.nan\n",
    "data[\"SCR_AMPL\"] = np.nan\n",
    "t = time.time()\n",
    "\n",
    "user_bar = tqdm(np.unique(data.participantNum))\n",
    "for p in user_bar:\n",
    "    timeline_file = Path(DATA_PATH + \"/\" + str(p) + \"/timeline_aligned.csv\")\n",
    "    marker_file = Path(DATA_PATH + \"/\" + str(p) + \"/marker_edf_aligned.csv\")\n",
    "    user_bar.set_description(desc=str(p))\n",
    "    #     print(f\"currently processing file: \", file)\n",
    "    if p != 68 | p != 79:\n",
    "        if timeline_file.exists() and marker_file.exists():\n",
    "            df_timeline = pd.read_csv(timeline_file)\n",
    "            df_marker = pd.read_csv(marker_file)\n",
    "\n",
    "            tempeda = pd.read_parquet(\n",
    "                Path(DATA_PATH)\n",
    "                .joinpath(EDA_PATH)\n",
    "                .joinpath(str(p))\n",
    "                .joinpath(\"gsr_processed.parquet\"),\n",
    "                engine=\"fastparquet\",\n",
    "            )  # @Jonas, these are the files you sent me through Mattermost\n",
    "            # ooh -> these files don't seem to have a tz-aware datetime index let me check\n",
    "\n",
    "            if tempeda.index.tzinfo is None:\n",
    "                print(f\"no tz info for ptcpt={p}\")\n",
    "                tempeda.index = tempeda.index.tz_localize(\"UCT\").tz_convert(\n",
    "                    \"Europe/Brussels\"\n",
    "                )\n",
    "\n",
    "            tempecg = pd.read_parquet(\n",
    "                Path(DATA_PATH).joinpath(str(p)).joinpath(\"edf_aligned/ecg.parquet\"),\n",
    "                engine=\"fastparquet\",\n",
    "            ).set_index(\"timestamp\", drop=True)\n",
    "\n",
    "            for c in [\"t_start\", \"t_stop\"]:\n",
    "                df_timeline[c] = pd.to_datetime(\n",
    "                    df_timeline[c], infer_datetime_format=True\n",
    "                )\n",
    "\n",
    "            for c in [\"timestamp\"]:\n",
    "                df_marker[c] = pd.to_datetime(df_marker[c], infer_datetime_format=True)\n",
    "\n",
    "            def compute_feats(start_ts, stop_ts, location):\n",
    "                # Average the data (this is probably pretty wrong) for the full segment to get one datapoint\n",
    "                HR = tempecg.ECG_Rate[start_ts:stop_ts].mean()\n",
    "                data.at[location, \"HR\"] = HR\n",
    "\n",
    "                # now contains the time-difference between consecutive heat-beats\n",
    "                HRV = (\n",
    "                    tempecg[tempecg.ECG_R_Peaks == 1][start_ts:stop_ts]\n",
    "                    .index.to_series()\n",
    "                    .diff()\n",
    "                    .diff()[2:]\n",
    "                    .dt.total_seconds()\n",
    "                )\n",
    "                # aggregate\n",
    "                HRV = HRV.std()\n",
    "                data.at[location, \"HRV\"] = HRV\n",
    "\n",
    "                EDA = tempeda.processed_EDA[start_ts:stop_ts].mean()\n",
    "                data.at[location, \"EDA\"] = EDA\n",
    "\n",
    "                # 4Hz - 60 seconds -> SCR_RATE = amount of SCR's per minute\n",
    "                SCR_RATE = tempeda.SCR_Peaks_neurokit[start_ts:stop_ts].mean() * 4 * 60\n",
    "                data.at[location, \"SCR_RATE\"] = SCR_RATE\n",
    "\n",
    "                SCR_AMPL = tempeda.SCR_Amplitude_reduced_acc[start_ts:stop_ts]\n",
    "                SCR_AMPL = SCR_AMPL[SCR_AMPL > 0]\n",
    "                if sum(SCR_AMPL.notna()):\n",
    "                    SCR_AMPL = np.quantile(SCR_AMPL, q=0.75)\n",
    "                    # we normalize the amplitude w.r.t. the EDA signal its value\n",
    "                    SCR_AMPL /= 1 + np.sqrt(EDA)\n",
    "                else:\n",
    "#                     print(\"SCR_AMPL is 0\")\n",
    "                    SCR_AMPL = 0\n",
    "                data.at[location, \"SCR_AMPL\"] = SCR_AMPL\n",
    "\n",
    "            for file_num, start_phase, end_phase in range_list:\n",
    "                # The timestamp of the start and end of this block\n",
    "                start_ts = df_timeline.t_start[\n",
    "                    np.where(df_timeline.Phase == start_phase)[0][0]\n",
    "                ]\n",
    "                stop_ts = df_timeline.t_start[\n",
    "                    np.where(df_timeline.Phase == end_phase)[0][0]\n",
    "                ]\n",
    "\n",
    "                location = np.where(\n",
    "                    (data[\"participantNum\"] == p) & (data[\"fileNum\"] == file_num)\n",
    "                )[0][0]\n",
    "\n",
    "                compute_feats(start_ts, stop_ts, location)\n",
    "\n",
    "            for file_num, start_action, end_action in marker_mapping:\n",
    "                # The timestamp of the start and end of this block\n",
    "                start_ts = df_marker.timestamp[df_marker.action == start_action].iloc[0]\n",
    "                stop_ts = df_marker.timestamp[df_marker.action == end_action].iloc[0]\n",
    "\n",
    "                location = np.where(\n",
    "                    (data[\"participantNum\"] == p) & (data[\"fileNum\"] == file_num)\n",
    "                )[0][0]\n",
    "\n",
    "                compute_feats(start_ts, stop_ts, location)\n",
    "\n",
    "        elif not timeline_file.exists():\n",
    "            print(f\"no {timeline_file.name} for ptcpt {p}\")\n",
    "        elif not marker_file.exists():\n",
    "            print(f\"no {marker_file.name} for ptcpt {p}\")\n",
    "            \n",
    "        # TODO Apply user based normalizations\n",
    "        \n",
    "# tempcsv\n",
    "elapsed = time.time() - t"
   ]
  },
  {
   "cell_type": "code",
   "execution_count": 18,
   "metadata": {},
   "outputs": [
    {
     "data": {
      "text/html": [
       "<div>\n",
       "<style scoped>\n",
       "    .dataframe tbody tr th:only-of-type {\n",
       "        vertical-align: middle;\n",
       "    }\n",
       "\n",
       "    .dataframe tbody tr th {\n",
       "        vertical-align: top;\n",
       "    }\n",
       "\n",
       "    .dataframe thead th {\n",
       "        text-align: right;\n",
       "    }\n",
       "</style>\n",
       "<table border=\"1\" class=\"dataframe\">\n",
       "  <thead>\n",
       "    <tr style=\"text-align: right;\">\n",
       "      <th></th>\n",
       "      <th>participantNum</th>\n",
       "      <th>fileNum</th>\n",
       "      <th>name@STRING</th>\n",
       "      <th>F0semitoneFrom27.5Hz_sma3nz_amean</th>\n",
       "      <th>F0semitoneFrom27.5Hz_sma3nz_stddevNorm</th>\n",
       "      <th>F0semitoneFrom27.5Hz_sma3nz_percentile20.0</th>\n",
       "      <th>F0semitoneFrom27.5Hz_sma3nz_percentile50.0</th>\n",
       "      <th>F0semitoneFrom27.5Hz_sma3nz_percentile80.0</th>\n",
       "      <th>F0semitoneFrom27.5Hz_sma3nz_pctlrange0-2</th>\n",
       "      <th>F0semitoneFrom27.5Hz_sma3nz_meanRisingSlope</th>\n",
       "      <th>...</th>\n",
       "      <th>loudnessPeaksPerSec</th>\n",
       "      <th>VoicedSegmentsPerSec</th>\n",
       "      <th>MeanVoicedSegmentLengthSec</th>\n",
       "      <th>StddevVoicedSegmentLengthSec</th>\n",
       "      <th>MeanUnvoicedSegmentLength</th>\n",
       "      <th>StddevUnvoicedSegmentLength</th>\n",
       "      <th>class</th>\n",
       "      <th>arousal</th>\n",
       "      <th>valence</th>\n",
       "      <th>dominance</th>\n",
       "    </tr>\n",
       "  </thead>\n",
       "  <tbody>\n",
       "    <tr>\n",
       "      <th>0</th>\n",
       "      <td>10</td>\n",
       "      <td>0</td>\n",
       "      <td>unknown</td>\n",
       "      <td>27.92543</td>\n",
       "      <td>0.234147</td>\n",
       "      <td>23.88995</td>\n",
       "      <td>30.34848</td>\n",
       "      <td>32.50033</td>\n",
       "      <td>8.610376</td>\n",
       "      <td>382.2287</td>\n",
       "      <td>...</td>\n",
       "      <td>2.586771</td>\n",
       "      <td>2.984585</td>\n",
       "      <td>0.193187</td>\n",
       "      <td>0.217103</td>\n",
       "      <td>0.126782</td>\n",
       "      <td>0.122798</td>\n",
       "      <td>NaN</td>\n",
       "      <td>3</td>\n",
       "      <td>5</td>\n",
       "      <td>6</td>\n",
       "    </tr>\n",
       "    <tr>\n",
       "      <th>1</th>\n",
       "      <td>10</td>\n",
       "      <td>1</td>\n",
       "      <td>unknown</td>\n",
       "      <td>27.96764</td>\n",
       "      <td>0.243268</td>\n",
       "      <td>21.31105</td>\n",
       "      <td>30.71822</td>\n",
       "      <td>32.79702</td>\n",
       "      <td>11.485970</td>\n",
       "      <td>345.8376</td>\n",
       "      <td>...</td>\n",
       "      <td>2.962298</td>\n",
       "      <td>3.056638</td>\n",
       "      <td>0.176667</td>\n",
       "      <td>0.210202</td>\n",
       "      <td>0.146333</td>\n",
       "      <td>0.126521</td>\n",
       "      <td>NaN</td>\n",
       "      <td>4</td>\n",
       "      <td>5</td>\n",
       "      <td>5</td>\n",
       "    </tr>\n",
       "    <tr>\n",
       "      <th>2</th>\n",
       "      <td>10</td>\n",
       "      <td>2</td>\n",
       "      <td>unknown</td>\n",
       "      <td>30.11015</td>\n",
       "      <td>0.192709</td>\n",
       "      <td>29.37389</td>\n",
       "      <td>31.81099</td>\n",
       "      <td>33.75395</td>\n",
       "      <td>4.380058</td>\n",
       "      <td>576.8564</td>\n",
       "      <td>...</td>\n",
       "      <td>1.382488</td>\n",
       "      <td>2.901418</td>\n",
       "      <td>0.188523</td>\n",
       "      <td>0.209418</td>\n",
       "      <td>0.141905</td>\n",
       "      <td>0.143771</td>\n",
       "      <td>NaN</td>\n",
       "      <td>6</td>\n",
       "      <td>4</td>\n",
       "      <td>6</td>\n",
       "    </tr>\n",
       "    <tr>\n",
       "      <th>3</th>\n",
       "      <td>10</td>\n",
       "      <td>3</td>\n",
       "      <td>unknown</td>\n",
       "      <td>28.57158</td>\n",
       "      <td>0.264562</td>\n",
       "      <td>20.17927</td>\n",
       "      <td>31.55440</td>\n",
       "      <td>34.09322</td>\n",
       "      <td>13.913950</td>\n",
       "      <td>381.3787</td>\n",
       "      <td>...</td>\n",
       "      <td>3.172008</td>\n",
       "      <td>3.079948</td>\n",
       "      <td>0.190425</td>\n",
       "      <td>0.209711</td>\n",
       "      <td>0.123953</td>\n",
       "      <td>0.113591</td>\n",
       "      <td>NaN</td>\n",
       "      <td>5</td>\n",
       "      <td>4</td>\n",
       "      <td>5</td>\n",
       "    </tr>\n",
       "    <tr>\n",
       "      <th>4</th>\n",
       "      <td>10</td>\n",
       "      <td>4</td>\n",
       "      <td>unknown</td>\n",
       "      <td>29.18650</td>\n",
       "      <td>0.228047</td>\n",
       "      <td>27.77788</td>\n",
       "      <td>31.30969</td>\n",
       "      <td>33.87980</td>\n",
       "      <td>6.101919</td>\n",
       "      <td>396.8851</td>\n",
       "      <td>...</td>\n",
       "      <td>3.081511</td>\n",
       "      <td>3.020246</td>\n",
       "      <td>0.185495</td>\n",
       "      <td>0.202963</td>\n",
       "      <td>0.130690</td>\n",
       "      <td>0.148902</td>\n",
       "      <td>NaN</td>\n",
       "      <td>3</td>\n",
       "      <td>5</td>\n",
       "      <td>5</td>\n",
       "    </tr>\n",
       "    <tr>\n",
       "      <th>...</th>\n",
       "      <td>...</td>\n",
       "      <td>...</td>\n",
       "      <td>...</td>\n",
       "      <td>...</td>\n",
       "      <td>...</td>\n",
       "      <td>...</td>\n",
       "      <td>...</td>\n",
       "      <td>...</td>\n",
       "      <td>...</td>\n",
       "      <td>...</td>\n",
       "      <td>...</td>\n",
       "      <td>...</td>\n",
       "      <td>...</td>\n",
       "      <td>...</td>\n",
       "      <td>...</td>\n",
       "      <td>...</td>\n",
       "      <td>...</td>\n",
       "      <td>...</td>\n",
       "      <td>...</td>\n",
       "      <td>...</td>\n",
       "      <td>...</td>\n",
       "    </tr>\n",
       "    <tr>\n",
       "      <th>706</th>\n",
       "      <td>9</td>\n",
       "      <td>4</td>\n",
       "      <td>unknown</td>\n",
       "      <td>31.14767</td>\n",
       "      <td>0.207179</td>\n",
       "      <td>30.98799</td>\n",
       "      <td>33.14330</td>\n",
       "      <td>34.86370</td>\n",
       "      <td>3.875711</td>\n",
       "      <td>474.9471</td>\n",
       "      <td>...</td>\n",
       "      <td>4.905848</td>\n",
       "      <td>3.576751</td>\n",
       "      <td>0.165417</td>\n",
       "      <td>0.124688</td>\n",
       "      <td>0.102923</td>\n",
       "      <td>0.080493</td>\n",
       "      <td>NaN</td>\n",
       "      <td>4</td>\n",
       "      <td>5</td>\n",
       "      <td>5</td>\n",
       "    </tr>\n",
       "    <tr>\n",
       "      <th>707</th>\n",
       "      <td>9</td>\n",
       "      <td>5</td>\n",
       "      <td>unknown</td>\n",
       "      <td>30.24376</td>\n",
       "      <td>0.213152</td>\n",
       "      <td>27.89069</td>\n",
       "      <td>32.60919</td>\n",
       "      <td>34.39397</td>\n",
       "      <td>6.503281</td>\n",
       "      <td>447.9238</td>\n",
       "      <td>...</td>\n",
       "      <td>5.159959</td>\n",
       "      <td>3.732504</td>\n",
       "      <td>0.162917</td>\n",
       "      <td>0.118104</td>\n",
       "      <td>0.089118</td>\n",
       "      <td>0.080745</td>\n",
       "      <td>NaN</td>\n",
       "      <td>5</td>\n",
       "      <td>3</td>\n",
       "      <td>1</td>\n",
       "    </tr>\n",
       "    <tr>\n",
       "      <th>708</th>\n",
       "      <td>9</td>\n",
       "      <td>6</td>\n",
       "      <td>unknown</td>\n",
       "      <td>30.15134</td>\n",
       "      <td>0.221737</td>\n",
       "      <td>23.99664</td>\n",
       "      <td>32.78212</td>\n",
       "      <td>34.68797</td>\n",
       "      <td>10.691330</td>\n",
       "      <td>489.2083</td>\n",
       "      <td>...</td>\n",
       "      <td>5.775076</td>\n",
       "      <td>3.609558</td>\n",
       "      <td>0.168873</td>\n",
       "      <td>0.128759</td>\n",
       "      <td>0.091618</td>\n",
       "      <td>0.098647</td>\n",
       "      <td>NaN</td>\n",
       "      <td>5</td>\n",
       "      <td>4</td>\n",
       "      <td>2</td>\n",
       "    </tr>\n",
       "    <tr>\n",
       "      <th>709</th>\n",
       "      <td>9</td>\n",
       "      <td>7</td>\n",
       "      <td>unknown</td>\n",
       "      <td>31.15793</td>\n",
       "      <td>0.180178</td>\n",
       "      <td>30.95590</td>\n",
       "      <td>32.94125</td>\n",
       "      <td>34.51957</td>\n",
       "      <td>3.563662</td>\n",
       "      <td>337.6467</td>\n",
       "      <td>...</td>\n",
       "      <td>5.755016</td>\n",
       "      <td>3.548729</td>\n",
       "      <td>0.166119</td>\n",
       "      <td>0.139733</td>\n",
       "      <td>0.096667</td>\n",
       "      <td>0.074148</td>\n",
       "      <td>NaN</td>\n",
       "      <td>4</td>\n",
       "      <td>3</td>\n",
       "      <td>2</td>\n",
       "    </tr>\n",
       "    <tr>\n",
       "      <th>710</th>\n",
       "      <td>9</td>\n",
       "      <td>8</td>\n",
       "      <td>unknown</td>\n",
       "      <td>32.28329</td>\n",
       "      <td>0.160083</td>\n",
       "      <td>31.92023</td>\n",
       "      <td>33.82060</td>\n",
       "      <td>35.26515</td>\n",
       "      <td>3.344917</td>\n",
       "      <td>296.1331</td>\n",
       "      <td>...</td>\n",
       "      <td>5.425220</td>\n",
       "      <td>3.333333</td>\n",
       "      <td>0.175882</td>\n",
       "      <td>0.137992</td>\n",
       "      <td>0.113226</td>\n",
       "      <td>0.110450</td>\n",
       "      <td>NaN</td>\n",
       "      <td>4</td>\n",
       "      <td>5</td>\n",
       "      <td>4</td>\n",
       "    </tr>\n",
       "  </tbody>\n",
       "</table>\n",
       "<p>619 rows × 69 columns</p>\n",
       "</div>"
      ],
      "text/plain": [
       "     participantNum  fileNum name@STRING  F0semitoneFrom27.5Hz_sma3nz_amean  \\\n",
       "0                10        0     unknown                           27.92543   \n",
       "1                10        1     unknown                           27.96764   \n",
       "2                10        2     unknown                           30.11015   \n",
       "3                10        3     unknown                           28.57158   \n",
       "4                10        4     unknown                           29.18650   \n",
       "..              ...      ...         ...                                ...   \n",
       "706               9        4     unknown                           31.14767   \n",
       "707               9        5     unknown                           30.24376   \n",
       "708               9        6     unknown                           30.15134   \n",
       "709               9        7     unknown                           31.15793   \n",
       "710               9        8     unknown                           32.28329   \n",
       "\n",
       "     F0semitoneFrom27.5Hz_sma3nz_stddevNorm  \\\n",
       "0                                  0.234147   \n",
       "1                                  0.243268   \n",
       "2                                  0.192709   \n",
       "3                                  0.264562   \n",
       "4                                  0.228047   \n",
       "..                                      ...   \n",
       "706                                0.207179   \n",
       "707                                0.213152   \n",
       "708                                0.221737   \n",
       "709                                0.180178   \n",
       "710                                0.160083   \n",
       "\n",
       "     F0semitoneFrom27.5Hz_sma3nz_percentile20.0  \\\n",
       "0                                      23.88995   \n",
       "1                                      21.31105   \n",
       "2                                      29.37389   \n",
       "3                                      20.17927   \n",
       "4                                      27.77788   \n",
       "..                                          ...   \n",
       "706                                    30.98799   \n",
       "707                                    27.89069   \n",
       "708                                    23.99664   \n",
       "709                                    30.95590   \n",
       "710                                    31.92023   \n",
       "\n",
       "     F0semitoneFrom27.5Hz_sma3nz_percentile50.0  \\\n",
       "0                                      30.34848   \n",
       "1                                      30.71822   \n",
       "2                                      31.81099   \n",
       "3                                      31.55440   \n",
       "4                                      31.30969   \n",
       "..                                          ...   \n",
       "706                                    33.14330   \n",
       "707                                    32.60919   \n",
       "708                                    32.78212   \n",
       "709                                    32.94125   \n",
       "710                                    33.82060   \n",
       "\n",
       "     F0semitoneFrom27.5Hz_sma3nz_percentile80.0  \\\n",
       "0                                      32.50033   \n",
       "1                                      32.79702   \n",
       "2                                      33.75395   \n",
       "3                                      34.09322   \n",
       "4                                      33.87980   \n",
       "..                                          ...   \n",
       "706                                    34.86370   \n",
       "707                                    34.39397   \n",
       "708                                    34.68797   \n",
       "709                                    34.51957   \n",
       "710                                    35.26515   \n",
       "\n",
       "     F0semitoneFrom27.5Hz_sma3nz_pctlrange0-2  \\\n",
       "0                                    8.610376   \n",
       "1                                   11.485970   \n",
       "2                                    4.380058   \n",
       "3                                   13.913950   \n",
       "4                                    6.101919   \n",
       "..                                        ...   \n",
       "706                                  3.875711   \n",
       "707                                  6.503281   \n",
       "708                                 10.691330   \n",
       "709                                  3.563662   \n",
       "710                                  3.344917   \n",
       "\n",
       "     F0semitoneFrom27.5Hz_sma3nz_meanRisingSlope  ...  loudnessPeaksPerSec  \\\n",
       "0                                       382.2287  ...             2.586771   \n",
       "1                                       345.8376  ...             2.962298   \n",
       "2                                       576.8564  ...             1.382488   \n",
       "3                                       381.3787  ...             3.172008   \n",
       "4                                       396.8851  ...             3.081511   \n",
       "..                                           ...  ...                  ...   \n",
       "706                                     474.9471  ...             4.905848   \n",
       "707                                     447.9238  ...             5.159959   \n",
       "708                                     489.2083  ...             5.775076   \n",
       "709                                     337.6467  ...             5.755016   \n",
       "710                                     296.1331  ...             5.425220   \n",
       "\n",
       "     VoicedSegmentsPerSec  MeanVoicedSegmentLengthSec  \\\n",
       "0                2.984585                    0.193187   \n",
       "1                3.056638                    0.176667   \n",
       "2                2.901418                    0.188523   \n",
       "3                3.079948                    0.190425   \n",
       "4                3.020246                    0.185495   \n",
       "..                    ...                         ...   \n",
       "706              3.576751                    0.165417   \n",
       "707              3.732504                    0.162917   \n",
       "708              3.609558                    0.168873   \n",
       "709              3.548729                    0.166119   \n",
       "710              3.333333                    0.175882   \n",
       "\n",
       "     StddevVoicedSegmentLengthSec  MeanUnvoicedSegmentLength  \\\n",
       "0                        0.217103                   0.126782   \n",
       "1                        0.210202                   0.146333   \n",
       "2                        0.209418                   0.141905   \n",
       "3                        0.209711                   0.123953   \n",
       "4                        0.202963                   0.130690   \n",
       "..                            ...                        ...   \n",
       "706                      0.124688                   0.102923   \n",
       "707                      0.118104                   0.089118   \n",
       "708                      0.128759                   0.091618   \n",
       "709                      0.139733                   0.096667   \n",
       "710                      0.137992                   0.113226   \n",
       "\n",
       "     StddevUnvoicedSegmentLength  class  arousal  valence  dominance  \n",
       "0                       0.122798    NaN        3        5          6  \n",
       "1                       0.126521    NaN        4        5          5  \n",
       "2                       0.143771    NaN        6        4          6  \n",
       "3                       0.113591    NaN        5        4          5  \n",
       "4                       0.148902    NaN        3        5          5  \n",
       "..                           ...    ...      ...      ...        ...  \n",
       "706                     0.080493    NaN        4        5          5  \n",
       "707                     0.080745    NaN        5        3          1  \n",
       "708                     0.098647    NaN        5        4          2  \n",
       "709                     0.074148    NaN        4        3          2  \n",
       "710                     0.110450    NaN        4        5          4  \n",
       "\n",
       "[619 rows x 69 columns]"
      ]
     },
     "execution_count": 18,
     "metadata": {},
     "output_type": "execute_result"
    }
   ],
   "source": [
    "data"
   ]
  },
  {
   "cell_type": "markdown",
   "metadata": {
    "heading_collapsed": "true",
    "tags": []
   },
   "source": [
    "#### Playground"
   ]
  },
  {
   "cell_type": "code",
   "execution_count": 140,
   "metadata": {},
   "outputs": [],
   "source": [
    "# df_marker[df_marker.action == 'Rest EEG SEM end']\n",
    "# df_timeline.Phase.value_counts()\n",
    "# df_marker[df_marker.action.str.endswith('start')].action.value_counts()\n",
    "# df_marker[df_marker.action.str.endswith('start')]#.action.value_counts()\n",
    "# df_marker[df_marker.action.str.endswith('end')]#.action.value_counts()"
   ]
  },
  {
   "cell_type": "markdown",
   "metadata": {
    "heading_collapsed": "true",
    "tags": []
   },
   "source": [
    "#### Delete the following files because they suck (see excel files)"
   ]
  },
  {
   "cell_type": "markdown",
   "metadata": {
    "tags": []
   },
   "source": [
    "```txt\n",
    "PPT1: 1 3\n",
    "PPT2: ALL\n",
    "PPT3: 0 8\n",
    "PPT5: 8\n",
    "PPT6: 7\n",
    "PPT8: 8\n",
    "PPT9: 3\n",
    "PPT17: 6\n",
    "PPT24: ALL\n",
    "PPT25: ALL\n",
    "PPT29: 2 4 8\n",
    "PPT31: 2\n",
    "PPT35: 0 3 5 6 7\n",
    "PPT36: 8\n",
    "PPT45: ALL\n",
    "PPT48: 5\n",
    "PPT53: 0 / ALL (Dyslexie)\n",
    "PPT60: 0\n",
    "PPT61: 7\n",
    "PPT62: ALL\n",
    "PPT71: ALL\n",
    "PPT72: ALL\n",
    "PPT73: ALL\n",
    "PPT74: ALL\n",
    "PPT82: ALL\n",
    "```"
   ]
  },
  {
   "cell_type": "code",
   "execution_count": 141,
   "metadata": {
    "tags": []
   },
   "outputs": [],
   "source": [
    "data = data[\n",
    "    ~np.logical_and(\n",
    "        data[\"participantNum\"] == 1,\n",
    "        np.logical_or(data[\"fileNum\"] == 1, data[\"fileNum\"] == 3),\n",
    "    )\n",
    "]  # PPT1\n",
    "\n",
    "data = data[data[\"participantNum\"] != 2]  # PPT2\n",
    "\n",
    "data = data[\n",
    "    ~np.logical_and(\n",
    "        data[\"participantNum\"] == 3,\n",
    "        np.logical_or(data[\"fileNum\"] == 0, data[\"fileNum\"] == 8),\n",
    "    )\n",
    "]  # PPT3\n",
    "\n",
    "data = data[~np.logical_and(data[\"participantNum\"] == 5, data[\"fileNum\"] == 8)]  # PPT5\n",
    "data = data[~np.logical_and(data[\"participantNum\"] == 6, data[\"fileNum\"] == 7)]  # PPT6\n",
    "data = data[~np.logical_and(data[\"participantNum\"] == 8, data[\"fileNum\"] == 8)]  # PPT8\n",
    "data = data[~np.logical_and(data[\"participantNum\"] == 9, data[\"fileNum\"] == 3)]  # PPT9\n",
    "data = data[\n",
    "    ~np.logical_and(data[\"participantNum\"] == 17, data[\"fileNum\"] == 6)\n",
    "]  # PPT17\n",
    "data = data[data[\"participantNum\"] != 24]  # PPT24\n",
    "data = data[data[\"participantNum\"] != 25]  # PPT25\n",
    "data = data[\n",
    "    ~np.logical_and(\n",
    "        data[\"participantNum\"] == 29,\n",
    "        np.logical_or.reduce(\n",
    "            (data[\"fileNum\"] == 2, data[\"fileNum\"] == 4, data[\"fileNum\"] == 8)\n",
    "        ),\n",
    "    )\n",
    "]\n",
    "data = data[\n",
    "    ~np.logical_and(data[\"participantNum\"] == 31, data[\"fileNum\"] == 2)\n",
    "]  # PPT31\n",
    "data = data[\n",
    "    ~np.logical_and(\n",
    "        data[\"participantNum\"] == 35,\n",
    "        np.logical_or.reduce(\n",
    "            (\n",
    "                data[\"fileNum\"] == 0,\n",
    "                data[\"fileNum\"] == 3,\n",
    "                data[\"fileNum\"] == 5,\n",
    "                data[\"fileNum\"] == 6,\n",
    "                data[\"fileNum\"] == 7,\n",
    "            )\n",
    "        ),\n",
    "    )\n",
    "]  # PPT35\n",
    "data = data[\n",
    "    ~np.logical_and(data[\"participantNum\"] == 36, data[\"fileNum\"] == 8)\n",
    "]  # PPT36\n",
    "data = data[data[\"participantNum\"] != 45]  # PPT45\n",
    "data = data[\n",
    "    ~np.logical_and(data[\"participantNum\"] == 48, data[\"fileNum\"] == 5)\n",
    "]  # PPT48\n",
    "data = data[data[\"participantNum\"] != 53]  # PPT53\n",
    "data = data[\n",
    "    ~np.logical_and(data[\"participantNum\"] == 60, data[\"fileNum\"] == 0)\n",
    "]  # PPT60\n",
    "data = data[\n",
    "    ~np.logical_and(data[\"participantNum\"] == 61, data[\"fileNum\"] == 7)\n",
    "]  # PPT61\n",
    "data = data[data[\"participantNum\"] != 62]  # PPT62\n",
    "# data = data[data['participantNum'] != 68] # PPT68 #### Something wrong with physiological data?\n",
    "data = data[data[\"participantNum\"] != 71]  # PPT71\n",
    "data = data[data[\"participantNum\"] != 72]  # PPT72\n",
    "data = data[data[\"participantNum\"] != 73]  # PPT73\n",
    "data = data[data[\"participantNum\"] != 74]  # PPT74\n",
    "# data = data[data['participantNum'] != 79] # PPT79 #### Something wrong with physiological data?\n",
    "data = data[data[\"participantNum\"] != 82]  # PPT82\n",
    "\n",
    "# data.to_parquet(FEATURES_PATH + \"dataComplete.parquet\", engine='fastparquet')  # Write CSV"
   ]
  },
  {
   "cell_type": "markdown",
   "metadata": {},
   "source": [
    "## Visualization"
   ]
  },
  {
   "cell_type": "code",
   "execution_count": 170,
   "metadata": {},
   "outputs": [],
   "source": [
    "import plotly.graph_objects as go"
   ]
  },
  {
   "cell_type": "code",
   "execution_count": 171,
   "metadata": {},
   "outputs": [],
   "source": [
    "state_mapping_dict = {\n",
    "    1: \"baseline\",\n",
    "    2: \"controle_1\",\n",
    "    3: \"controle_2\",\n",
    "    4: \"controle_3\",\n",
    "#     5: \"DUNNO\",\n",
    "    6: \"stress_1\",\n",
    "    7: \"stress_2\",\n",
    "    8: \"stress_3\",\n",
    "}\n",
    "\n",
    "state_mapping_dict = {\n",
    "    1: \"baseline\",\n",
    "    2: \"controle\",\n",
    "    3: \"controle\",\n",
    "    4: \"controle\",\n",
    "#     5: \"DUNNO\",\n",
    "    6: \"stress\",\n",
    "    7: \"stress\",\n",
    "    8: \"stress\",\n",
    "}"
   ]
  },
  {
   "cell_type": "code",
   "execution_count": 172,
   "metadata": {
    "tags": []
   },
   "outputs": [
    {
     "data": {
      "image/png": "[encoded data removed]",
      "text/plain": [
       "<Figure size 2160x720 with 1 Axes>"
      ]
     },
     "metadata": {
      "needs_background": "light"
     },
     "output_type": "display_data"
    }
   ],
   "source": [
    "physio_mask = data.SCR_RATE.notna()\n",
    "data_valid = data[physio_mask].copy()\n",
    "data_valid[\"state_str\"] = data_valid.fileNum.map(\n",
    "    lambda x: state_mapping_dict.get(x, \"DUNNO\")\n",
    ")\n",
    "\n",
    "# for c in ['HRV', 'SCR_RATE', 'EDA']:\n",
    "data_valid.groupby(\"state_str\")[\"HR\"].plot.kde(figsize=(30, 10), legend=True);"
   ]
  },
  {
   "cell_type": "code",
   "execution_count": 173,
   "metadata": {
    "tags": []
   },
   "outputs": [
    {
     "data": {
      "application/vnd.plotly.v1+json": {
       "config": {
        "plotlyServerURL": "https://plot.ly"
       },
       "data": [
        {
         "marker": {
          "opacity": 0.7
         },
         "mode": "markers",
         "name": "baseline",
         "type": "scattergl",
         "x": [
          5.5,
          10.4,
          6.5,
          5.3999999999999995,
          7.300000000000001,
          6.1000000000000005,
          6.197417742607247,
          5.3,
          0,
          4.9,
          2.099125364431487,
          2.4,
          0,
          0,
          2.9,
          6.097459391920033,
          5.3,
          5.1000000000000005,
          3.7,
          5.0978758850478965,
          4.2,
          4.8,
          5.6000000000000005,
          5.3,
          6.8,
          5.7,
          7,
          5.397750937109538,
          6.7,
          4.798000832986256,
          5.3,
          5.6000000000000005,
          3.5,
          4.1,
          6.7,
          5.397750937109538,
          6.1000000000000005,
          4.5,
          6.6,
          4.5,
          4.8,
          5.3999999999999995,
          5.797584339858393,
          4.6,
          6.5,
          6.2,
          5,
          4.198250728862974,
          7.800000000000001
         ],
         "y": [
          0.02866684464572935,
          0.002613230067042816,
          0.04720774339544662,
          0.039363144984197886,
          0.029807016677225306,
          0.061589070325120586,
          0.040878261095811226,
          0.047977477306782,
          0.04457449084607995,
          0.031191278126445482,
          0.03474402158569937,
          0.058435846026842084,
          0.025951490025897892,
          0.04223109264751039,
          0.09685313764654611,
          0.14374794113601197,
          0.0745048576460893,
          0.024042480100629954,
          0.07672788021916287,
          0.051591130304125855,
          0.09791555510861097,
          0.03408398974609386,
          0.07934193263858696,
          0.0366294627394106,
          0.016425878932116448,
          0.045379749136327655,
          0.020173273398555517,
          0.09362246289250527,
          0.007281842681742867,
          0.1525666744955428,
          0.03466825579259539,
          0.026422177174782804,
          0.032460242778728755,
          0.07016035566475899,
          0.039030805463191987,
          0.017549320077104042,
          0.05491192419979543,
          0.0453572433706092,
          0.014325070931126945,
          0.03879807366878241,
          0.028949555419669842,
          0.020251247887410662,
          0.019756760669430815,
          0.04695603098492319,
          0.03761613625375704,
          0.033360401923525324,
          0.046123606208382996,
          0.03826255958219847,
          0.02960786617559438
         ]
        },
        {
         "marker": {
          "opacity": 0.7
         },
         "mode": "markers",
         "name": "controle",
         "type": "scattergl",
         "x": [
          6.505598114319387,
          6.172465960665658,
          5.7370517928286855,
          10.931339225016995,
          8.044692737430168,
          7.868852459016394,
          11.985383678440925,
          6.824644549763033,
          8.652360515021458,
          0,
          0,
          2.119205298013245,
          6.599131693198263,
          6.229007633587786,
          6.311044327573253,
          5.1474530831099194,
          4.9504950495049505,
          4.430299172501591,
          6.404269513008672,
          4.774292272379495,
          4.682926829268292,
          0,
          6.1764705882352935,
          0.2684563758389262,
          4.775353016688062,
          4.925019731649566,
          3.6753445635528332,
          3.108233117483811,
          4.1658630665380905,
          3.163444639718805,
          0,
          0,
          0,
          0,
          0,
          3.1893687707641196,
          3.6947791164658637,
          4.750593824228028,
          4.904862579281184,
          3.75,
          3.0164964650432053,
          2.6311667971808927,
          6.875,
          5.29182879377432,
          4.684014869888476,
          5.172413793103448,
          5.034965034965035,
          4.282073067119796,
          15.050033355570381,
          14.171082513247539,
          12.197028928850663,
          0,
          0,
          0,
          2.807983482450103,
          4.9504950495049505,
          2.8381374722838135,
          5.271317829457364,
          4.5933014354066986,
          7.0588235294117645,
          0,
          5.1570247933884295,
          0,
          7.2434607645875255,
          5.460186142709411,
          0,
          8.353413654618475,
          6.677265500794912,
          6.486486486486487,
          5.330296127562642,
          2.504012841091493,
          5.1655629139072845,
          6.310756972111554,
          6.355140186915888,
          6.4454976303317535,
          4.126696832579186,
          0,
          0,
          0,
          0,
          0,
          4.549763033175356,
          4.299933642999337,
          4.006069802731411,
          8.847058823529412,
          9.20863309352518,
          8.869565217391305,
          4.2652084757347914,
          3.86784850926672,
          3.737704918032787,
          5.48963545389564,
          4.796447076239822,
          4.165554072096128,
          4.256756756756756,
          5.134883720930233,
          5.896269335759782,
          1.7245508982035929,
          5.367412140575079,
          4.423963133640553,
          7.154471544715447,
          6.779661016949152,
          5.52177485620378,
          2.909930715935335,
          2.696629213483146,
          3.6833602584814216,
          3.5083056478405314,
          4.0469208211143695,
          4.253164556962026,
          6.206896551724138,
          6.74937965260546,
          6.605504587155964,
          6.137704918032787,
          7.103594080338266,
          6.56906429026098,
          5.118483412322275,
          7.092651757188498,
          5.487558843308675,
          6.3768115942028984,
          5.248868778280543,
          3.812154696132597,
          3.941227312013829,
          3.7209302325581395,
          6.40294388224471,
          4.934579439252336,
          5.556544968833482,
          3.0802139037433154,
          4.765342960288809,
          4.2105263157894735,
          4.663428174878557,
          4.198250728862974,
          4.98960498960499,
          9.298429319371728,
          10.561056105610561,
          5.984522785898538,
          8.234106962663976,
          6.3768115942028984,
          5.981873111782478,
          5.717965228589826,
          5.386996904024768,
          4.294917680744453,
          8.379888268156424,
          10,
          8.734835355285961,
          8.135593220338983,
          8.226527570789866,
          7.994670219853432
         ],
         "y": [
          0.03331240146814219,
          0.04418350702504721,
          0.04468437566893063,
          0.002255990759106036,
          0.002804209531843013,
          0.002611004916433049,
          0.01202668630450374,
          0.013980957367197663,
          0.02865443920186888,
          0.037663133503764754,
          0.038742308749486684,
          0.04436772211346348,
          0.030450466265879023,
          0.03683885420219599,
          0.03567871994449781,
          0.027459945476182163,
          0.026998752281052345,
          0.037589233039709714,
          0.0438855173957719,
          0.03619220454891931,
          0.045005745694079204,
          0.02557503656153666,
          0.02164710331491308,
          0.02622061435424094,
          0.05066030416159449,
          0.05567541487514875,
          0.05666311758021151,
          0.08140741043829564,
          0.040449125898207025,
          0.04503507450675492,
          0.033581755433995227,
          0.03685391119565455,
          0.03753005132387924,
          0.05911565653150965,
          0.04847317087884893,
          0.049442486910321944,
          0.020745168971031555,
          0.024299872807840673,
          0.017675117628107542,
          0.04097223598564218,
          0.03824569865128663,
          0.03561431147802739,
          0.04598005778103955,
          0.05525519836680636,
          0.07828009349307644,
          0.11339614912455963,
          0.10195466155635759,
          0.11714853259370583,
          0.0637675618311967,
          0.06505564662291288,
          0.06856240328590703,
          0.022102180948050637,
          0.020136394916051837,
          0.01642883242665215,
          0.08768663569073737,
          0.09683790097538589,
          0.09137946211897237,
          0.050293241929806644,
          0.04745816224844408,
          0.04897197394918593,
          0.06373164657804323,
          0.052591768628057506,
          0.06166004327120963,
          0.026430097914269726,
          0.036334152624572416,
          0.0326511285768698,
          0.06398817897330926,
          0.06442306707355065,
          0.0701663543294527,
          0.04215605260647573,
          0.04274719511048751,
          0.041441736154195115,
          0.017997856943524904,
          0.015861292182489252,
          0.014101320387749293,
          0.0340222535157522,
          0.03400430959304168,
          0.030610016116254468,
          0.02289573698032332,
          0.02276977613420358,
          0.025582717552854024,
          0.12173024132662377,
          0.10811883061983739,
          0.14179048399301186,
          0.009456093272576065,
          0.0069435873519042915,
          0.01103403297407493,
          0.0935622177744697,
          0.0621884808806762,
          0.1071033135246275,
          0.01770558434784599,
          0.023268149394188184,
          0.02274718897147847,
          0.02746539593577781,
          0.029048259917958744,
          0.029936220587126434,
          0.04089237903734371,
          0.05326119585263774,
          0.053579568961606434,
          0.03786969445325893,
          0.03567759126880493,
          0.0415964491520108,
          0.028084555556945424,
          0.02904172159147297,
          0.027748352728332915,
          0.013489374154085925,
          0.0141145395793081,
          0.01371893763942062,
          0.06961099504676566,
          0.07556499472715986,
          0.0694341880614674,
          0.03771889340768272,
          0.041389200524610176,
          0.007833450590453905,
          0.008040238370186262,
          0.007923039692150758,
          0.0344036936019403,
          0.032210231645969624,
          0.02895682609805303,
          0.027031806532420932,
          0.024032590536718735,
          0.024447075784443377,
          0.01963124001267761,
          0.021098904647595493,
          0.01959092701915737,
          0.022276034874806765,
          0.019358689417725602,
          0.020590336377815977,
          0.047075392247034664,
          0.04823096883142689,
          0.0542653051345753,
          0.03614639383855931,
          0.037546501878667135,
          0.04374365999145792,
          0.011832293340430927,
          0.02104523536190477,
          0.02345680524610261,
          0.04973791890790682,
          0.041298902838424294,
          0.05484672807824,
          0.0476611014573164,
          0.0459198917022418,
          0.040563684693261444,
          0.028575468354787373,
          0.027271012461947696,
          0.03098788477701891
         ]
        },
        {
         "marker": {
          "opacity": 0.7
         },
         "mode": "markers",
         "name": "stress",
         "type": "scattergl",
         "x": [
          5.836909871244635,
          6.106870229007633,
          6.502463054187192,
          10.080775444264944,
          8.669603524229075,
          10.400654129190515,
          9.74025974025974,
          7.792207792207791,
          7.926605504587156,
          2.6837060702875397,
          3.8383838383838382,
          4.59214501510574,
          6.863468634686347,
          6.5,
          5.161290322580646,
          4.608,
          5.6174334140435835,
          7.545851528384279,
          4.601769911504425,
          0,
          4.671532846715329,
          0,
          0,
          0,
          0,
          5.795170691090758,
          3.780945236309077,
          4.6021093000958775,
          3.4951456310679614,
          4.345679012345679,
          0,
          0,
          0,
          0,
          2.3900414937759336,
          4.144736842105264,
          4.948453608247423,
          5.971107544141252,
          5.088339222614842,
          4.107579462102689,
          4.511278195488721,
          6.771159874608151,
          4.497444633730835,
          4.242424242424242,
          4.173913043478261,
          8.734177215189874,
          8.685376661742984,
          6.080760095011876,
          4.382608695652174,
          0,
          0,
          1.7632653061224488,
          5.534591194968553,
          0,
          0,
          0,
          6.627218934911243,
          5.065326633165829,
          6.09375,
          7.019762845849803,
          5.737840065952184,
          5.798908807482463,
          0,
          4.695051783659379,
          3.8515546639919758,
          6.56172328086164,
          7.141738449490995,
          6.570048309178744,
          0,
          3.335907335907336,
          0.9195402298850575,
          2.125603864734299,
          0,
          0,
          3.7267080745341614,
          4.370546318289786,
          3.333333333333333,
          7.645429362880886,
          8.288288288288289,
          8.165680473372781,
          2.7863777089783284,
          0,
          2.1818181818181817,
          4.042879019908117,
          5.175718849840256,
          5.217391304347826,
          3.8827098078867546,
          5.178236397748593,
          4.293785310734463,
          4.296175752644426,
          2.4594363791631086,
          0,
          5.818181818181818,
          5.151033386327504,
          3.7037037037037033,
          6.387096774193548,
          4.842615012106537,
          4.356435643564357,
          5.519429024583664,
          4.427363566487317,
          4.967074317968016,
          5.793103448275862,
          3.8009049773755654,
          4.5823389021479715,
          6.988352745424293,
          7.561260210035005,
          7.375886524822695,
          5.287175452399685,
          4.8788115715402665,
          4.842615012106537,
          4.392678868552413,
          3.003128258602711,
          4.194174757281553,
          4.33048433048433,
          3.519061583577713,
          3.6533957845433256,
          5.411764705882353,
          3.793677204658902,
          3.1788079470198674,
          6.497816593886463,
          4.8414985590778095,
          5.306532663316583,
          6.7678958785249455,
          4.86873508353222,
          6.088117489986649,
          7.470817120622568,
          6.23608017817372,
          5.217391304347826,
          5.490774907749077,
          5.562913907284768,
          3.89294403892944,
          8.060453400503778,
          8.118393234672304,
          8.821081830790568,
          6.575342465753424,
          7.666989351403679,
          7.706422018348624
         ],
         "y": [
          0.04178517867525244,
          0.03983499619159194,
          0.04489850207170143,
          0.0028090288755529317,
          0.002813898848125298,
          0.0029425124805395274,
          0.0212291768852515,
          0.019581480039637018,
          0.0253973883812278,
          0.047290135940515315,
          0.04677636188358839,
          0.052703570276081205,
          0.04342947282711327,
          0.043856267152211185,
          0.044604470802503564,
          0.02416122152786138,
          0.027955743847689257,
          0.028833086197789026,
          0.04782278535633477,
          0.047743909906206576,
          0.04329588813798744,
          0.02073264242035493,
          0.023847832682640527,
          0.024192726250167076,
          0.055175634249623386,
          0.052559655418537105,
          0.058951689749508734,
          0.02351442247792491,
          0.025852999625129745,
          0.021890169013880884,
          0.03883026857366159,
          0.040379342933483456,
          0.04330071437373591,
          0.06454604641234996,
          0.06880638063569253,
          0.06009183032859907,
          0.04563465021908561,
          0.046672817974148524,
          0.04580115488634614,
          0.08224795143828594,
          0.08520313022629131,
          0.08938185297120979,
          0.1467135810695539,
          0.1174920629129081,
          0.12889150743488795,
          0.06778345203533814,
          0.07242942183020686,
          0.06765056716617561,
          0.022480047101782186,
          0.021284350639717984,
          0.018103383199509604,
          0.10361044490708898,
          0.09100884132208334,
          0.08055956870760639,
          0.0672539262843962,
          0.05690381287311317,
          0.04382778584370072,
          0.04802960866796999,
          0.05764356160054885,
          0.08809698695050218,
          0.0761903081823882,
          0.06863357676390167,
          0.04731438434956267,
          0.04232008392955321,
          0.05025915922551645,
          0.016769092558870994,
          0.016043898757803467,
          0.015287424539136075,
          0.03618163507212499,
          0.03979560049155093,
          0.028140834306829614,
          0.023207834130716583,
          0.031119415353893533,
          0.028903235699636282,
          0.15862529051189453,
          0.15607498371935935,
          0.14700973227593975,
          0.01385148673772024,
          0.016992034655409324,
          0.01565884838753002,
          0.11470440413288398,
          0.10208261549321405,
          0.1523112908828958,
          0.028396475790179697,
          0.02927856770940484,
          0.03491089735462298,
          0.03474226919397365,
          0.03694985954536284,
          0.03420882497345946,
          0.0641194331420538,
          0.060536655150093016,
          0.05271941189413652,
          0.042105484858536754,
          0.04505644954264514,
          0.047610594553095686,
          0.02859591456607389,
          0.02762331209501258,
          0.02920580580905202,
          0.013781821284946996,
          0.01454343925167258,
          0.015843812941744726,
          0.07334522934507771,
          0.07366706594067479,
          0.06530065571240265,
          0.010641648830253564,
          0.01272646169578219,
          0.01206850727871964,
          0.03137948701565645,
          0.036854271898430796,
          0.031212980095169075,
          0.022699062344326646,
          0.02604548679696281,
          0.02693950099845329,
          0.03372824984364226,
          0.030991400006111388,
          0.03336832991489617,
          0.020020471650275526,
          0.020479578672768665,
          0.019549809949273484,
          0.08292311364471075,
          0.07738177997987256,
          0.08448303957673002,
          0.03756193478653253,
          0.043424176972144124,
          0.03788434235537285,
          0.012475913008307152,
          0.022552760849359667,
          0.045558473513959204,
          0.04440883496763606,
          0.049898188256953774,
          0.04197148112737012,
          0.040059618228182006,
          0.04818416766959705,
          0.0363887071076392,
          0.03752948376517847,
          0.026271979771852846,
          0.028743250509760752
         ]
        }
       ],
       "layout": {
        "autosize": true,
        "template": {
         "data": {
          "bar": [
           {
            "error_x": {
             "color": "#2a3f5f"
            },
            "error_y": {
             "color": "#2a3f5f"
            },
            "marker": {
             "line": {
              "color": "#E5ECF6",
              "width": 0.5
             }
            },
            "type": "bar"
           }
          ],
          "barpolar": [
           {
            "marker": {
             "line": {
              "color": "#E5ECF6",
              "width": 0.5
             }
            },
            "type": "barpolar"
           }
          ],
          "carpet": [
           {
            "aaxis": {
             "endlinecolor": "#2a3f5f",
             "gridcolor": "white",
             "linecolor": "white",
             "minorgridcolor": "white",
             "startlinecolor": "#2a3f5f"
            },
            "baxis": {
             "endlinecolor": "#2a3f5f",
             "gridcolor": "white",
             "linecolor": "white",
             "minorgridcolor": "white",
             "startlinecolor": "#2a3f5f"
            },
            "type": "carpet"
           }
          ],
          "choropleth": [
           {
            "colorbar": {
             "outlinewidth": 0,
             "ticks": ""
            },
            "type": "choropleth"
           }
          ],
          "contour": [
           {
            "colorbar": {
             "outlinewidth": 0,
             "ticks": ""
            },
            "colorscale": [
             [
              0,
              "#0d0887"
             ],
             [
              0.1111111111111111,
              "#46039f"
             ],
             [
              0.2222222222222222,
              "#7201a8"
             ],
             [
              0.3333333333333333,
              "#9c179e"
             ],
             [
              0.4444444444444444,
              "#bd3786"
             ],
             [
              0.5555555555555556,
              "#d8576b"
             ],
             [
              0.6666666666666666,
              "#ed7953"
             ],
             [
              0.7777777777777778,
              "#fb9f3a"
             ],
             [
              0.8888888888888888,
              "#fdca26"
             ],
             [
              1,
              "#f0f921"
             ]
            ],
            "type": "contour"
           }
          ],
          "contourcarpet": [
           {
            "colorbar": {
             "outlinewidth": 0,
             "ticks": ""
            },
            "type": "contourcarpet"
           }
          ],
          "heatmap": [
           {
            "colorbar": {
             "outlinewidth": 0,
             "ticks": ""
            },
            "colorscale": [
             [
              0,
              "#0d0887"
             ],
             [
              0.1111111111111111,
              "#46039f"
             ],
             [
              0.2222222222222222,
              "#7201a8"
             ],
             [
              0.3333333333333333,
              "#9c179e"
             ],
             [
              0.4444444444444444,
              "#bd3786"
             ],
             [
              0.5555555555555556,
              "#d8576b"
             ],
             [
              0.6666666666666666,
              "#ed7953"
             ],
             [
              0.7777777777777778,
              "#fb9f3a"
             ],
             [
              0.8888888888888888,
              "#fdca26"
             ],
             [
              1,
              "#f0f921"
             ]
            ],
            "type": "heatmap"
           }
          ],
          "heatmapgl": [
           {
            "colorbar": {
             "outlinewidth": 0,
             "ticks": ""
            },
            "colorscale": [
             [
              0,
              "#0d0887"
             ],
             [
              0.1111111111111111,
              "#46039f"
             ],
             [
              0.2222222222222222,
              "#7201a8"
             ],
             [
              0.3333333333333333,
              "#9c179e"
             ],
             [
              0.4444444444444444,
              "#bd3786"
             ],
             [
              0.5555555555555556,
              "#d8576b"
             ],
             [
              0.6666666666666666,
              "#ed7953"
             ],
             [
              0.7777777777777778,
              "#fb9f3a"
             ],
             [
              0.8888888888888888,
              "#fdca26"
             ],
             [
              1,
              "#f0f921"
             ]
            ],
            "type": "heatmapgl"
           }
          ],
          "histogram": [
           {
            "marker": {
             "colorbar": {
              "outlinewidth": 0,
              "ticks": ""
             }
            },
            "type": "histogram"
           }
          ],
          "histogram2d": [
           {
            "colorbar": {
             "outlinewidth": 0,
             "ticks": ""
            },
            "colorscale": [
             [
              0,
              "#0d0887"
             ],
             [
              0.1111111111111111,
              "#46039f"
             ],
             [
              0.2222222222222222,
              "#7201a8"
             ],
             [
              0.3333333333333333,
              "#9c179e"
             ],
             [
              0.4444444444444444,
              "#bd3786"
             ],
             [
              0.5555555555555556,
              "#d8576b"
             ],
             [
              0.6666666666666666,
              "#ed7953"
             ],
             [
              0.7777777777777778,
              "#fb9f3a"
             ],
             [
              0.8888888888888888,
              "#fdca26"
             ],
             [
              1,
              "#f0f921"
             ]
            ],
            "type": "histogram2d"
           }
          ],
          "histogram2dcontour": [
           {
            "colorbar": {
             "outlinewidth": 0,
             "ticks": ""
            },
            "colorscale": [
             [
              0,
              "#0d0887"
             ],
             [
              0.1111111111111111,
              "#46039f"
             ],
             [
              0.2222222222222222,
              "#7201a8"
             ],
             [
              0.3333333333333333,
              "#9c179e"
             ],
             [
              0.4444444444444444,
              "#bd3786"
             ],
             [
              0.5555555555555556,
              "#d8576b"
             ],
             [
              0.6666666666666666,
              "#ed7953"
             ],
             [
              0.7777777777777778,
              "#fb9f3a"
             ],
             [
              0.8888888888888888,
              "#fdca26"
             ],
             [
              1,
              "#f0f921"
             ]
            ],
            "type": "histogram2dcontour"
           }
          ],
          "mesh3d": [
           {
            "colorbar": {
             "outlinewidth": 0,
             "ticks": ""
            },
            "type": "mesh3d"
           }
          ],
          "parcoords": [
           {
            "line": {
             "colorbar": {
              "outlinewidth": 0,
              "ticks": ""
             }
            },
            "type": "parcoords"
           }
          ],
          "pie": [
           {
            "automargin": true,
            "type": "pie"
           }
          ],
          "scatter": [
           {
            "marker": {
             "colorbar": {
              "outlinewidth": 0,
              "ticks": ""
             }
            },
            "type": "scatter"
           }
          ],
          "scatter3d": [
           {
            "line": {
             "colorbar": {
              "outlinewidth": 0,
              "ticks": ""
             }
            },
            "marker": {
             "colorbar": {
              "outlinewidth": 0,
              "ticks": ""
             }
            },
            "type": "scatter3d"
           }
          ],
          "scattercarpet": [
           {
            "marker": {
             "colorbar": {
              "outlinewidth": 0,
              "ticks": ""
             }
            },
            "type": "scattercarpet"
           }
          ],
          "scattergeo": [
           {
            "marker": {
             "colorbar": {
              "outlinewidth": 0,
              "ticks": ""
             }
            },
            "type": "scattergeo"
           }
          ],
          "scattergl": [
           {
            "marker": {
             "colorbar": {
              "outlinewidth": 0,
              "ticks": ""
             }
            },
            "type": "scattergl"
           }
          ],
          "scattermapbox": [
           {
            "marker": {
             "colorbar": {
              "outlinewidth": 0,
              "ticks": ""
             }
            },
            "type": "scattermapbox"
           }
          ],
          "scatterpolar": [
           {
            "marker": {
             "colorbar": {
              "outlinewidth": 0,
              "ticks": ""
             }
            },
            "type": "scatterpolar"
           }
          ],
          "scatterpolargl": [
           {
            "marker": {
             "colorbar": {
              "outlinewidth": 0,
              "ticks": ""
             }
            },
            "type": "scatterpolargl"
           }
          ],
          "scatterternary": [
           {
            "marker": {
             "colorbar": {
              "outlinewidth": 0,
              "ticks": ""
             }
            },
            "type": "scatterternary"
           }
          ],
          "surface": [
           {
            "colorbar": {
             "outlinewidth": 0,
             "ticks": ""
            },
            "colorscale": [
             [
              0,
              "#0d0887"
             ],
             [
              0.1111111111111111,
              "#46039f"
             ],
             [
              0.2222222222222222,
              "#7201a8"
             ],
             [
              0.3333333333333333,
              "#9c179e"
             ],
             [
              0.4444444444444444,
              "#bd3786"
             ],
             [
              0.5555555555555556,
              "#d8576b"
             ],
             [
              0.6666666666666666,
              "#ed7953"
             ],
             [
              0.7777777777777778,
              "#fb9f3a"
             ],
             [
              0.8888888888888888,
              "#fdca26"
             ],
             [
              1,
              "#f0f921"
             ]
            ],
            "type": "surface"
           }
          ],
          "table": [
           {
            "cells": {
             "fill": {
              "color": "#EBF0F8"
             },
             "line": {
              "color": "white"
             }
            },
            "header": {
             "fill": {
              "color": "#C8D4E3"
             },
             "line": {
              "color": "white"
             }
            },
            "type": "table"
           }
          ]
         },
         "layout": {
          "annotationdefaults": {
           "arrowcolor": "#2a3f5f",
           "arrowhead": 0,
           "arrowwidth": 1
          },
          "autotypenumbers": "strict",
          "coloraxis": {
           "colorbar": {
            "outlinewidth": 0,
            "ticks": ""
           }
          },
          "colorscale": {
           "diverging": [
            [
             0,
             "#8e0152"
            ],
            [
             0.1,
             "#c51b7d"
            ],
            [
             0.2,
             "#de77ae"
            ],
            [
             0.3,
             "#f1b6da"
            ],
            [
             0.4,
             "#fde0ef"
            ],
            [
             0.5,
             "#f7f7f7"
            ],
            [
             0.6,
             "#e6f5d0"
            ],
            [
             0.7,
             "#b8e186"
            ],
            [
             0.8,
             "#7fbc41"
            ],
            [
             0.9,
             "#4d9221"
            ],
            [
             1,
             "#276419"
            ]
           ],
           "sequential": [
            [
             0,
             "#0d0887"
            ],
            [
             0.1111111111111111,
             "#46039f"
            ],
            [
             0.2222222222222222,
             "#7201a8"
            ],
            [
             0.3333333333333333,
             "#9c179e"
            ],
            [
             0.4444444444444444,
             "#bd3786"
            ],
            [
             0.5555555555555556,
             "#d8576b"
            ],
            [
             0.6666666666666666,
             "#ed7953"
            ],
            [
             0.7777777777777778,
             "#fb9f3a"
            ],
            [
             0.8888888888888888,
             "#fdca26"
            ],
            [
             1,
             "#f0f921"
            ]
           ],
           "sequentialminus": [
            [
             0,
             "#0d0887"
            ],
            [
             0.1111111111111111,
             "#46039f"
            ],
            [
             0.2222222222222222,
             "#7201a8"
            ],
            [
             0.3333333333333333,
             "#9c179e"
            ],
            [
             0.4444444444444444,
             "#bd3786"
            ],
            [
             0.5555555555555556,
             "#d8576b"
            ],
            [
             0.6666666666666666,
             "#ed7953"
            ],
            [
             0.7777777777777778,
             "#fb9f3a"
            ],
            [
             0.8888888888888888,
             "#fdca26"
            ],
            [
             1,
             "#f0f921"
            ]
           ]
          },
          "colorway": [
           "#636efa",
           "#EF553B",
           "#00cc96",
           "#ab63fa",
           "#FFA15A",
           "#19d3f3",
           "#FF6692",
           "#B6E880",
           "#FF97FF",
           "#FECB52"
          ],
          "font": {
           "color": "#2a3f5f"
          },
          "geo": {
           "bgcolor": "white",
           "lakecolor": "white",
           "landcolor": "#E5ECF6",
           "showlakes": true,
           "showland": true,
           "subunitcolor": "white"
          },
          "hoverlabel": {
           "align": "left"
          },
          "hovermode": "closest",
          "mapbox": {
           "style": "light"
          },
          "paper_bgcolor": "white",
          "plot_bgcolor": "#E5ECF6",
          "polar": {
           "angularaxis": {
            "gridcolor": "white",
            "linecolor": "white",
            "ticks": ""
           },
           "bgcolor": "#E5ECF6",
           "radialaxis": {
            "gridcolor": "white",
            "linecolor": "white",
            "ticks": ""
           }
          },
          "scene": {
           "xaxis": {
            "backgroundcolor": "#E5ECF6",
            "gridcolor": "white",
            "gridwidth": 2,
            "linecolor": "white",
            "showbackground": true,
            "ticks": "",
            "zerolinecolor": "white"
           },
           "yaxis": {
            "backgroundcolor": "#E5ECF6",
            "gridcolor": "white",
            "gridwidth": 2,
            "linecolor": "white",
            "showbackground": true,
            "ticks": "",
            "zerolinecolor": "white"
           },
           "zaxis": {
            "backgroundcolor": "#E5ECF6",
            "gridcolor": "white",
            "gridwidth": 2,
            "linecolor": "white",
            "showbackground": true,
            "ticks": "",
            "zerolinecolor": "white"
           }
          },
          "shapedefaults": {
           "line": {
            "color": "#2a3f5f"
           }
          },
          "ternary": {
           "aaxis": {
            "gridcolor": "white",
            "linecolor": "white",
            "ticks": ""
           },
           "baxis": {
            "gridcolor": "white",
            "linecolor": "white",
            "ticks": ""
           },
           "bgcolor": "#E5ECF6",
           "caxis": {
            "gridcolor": "white",
            "linecolor": "white",
            "ticks": ""
           }
          },
          "title": {
           "x": 0.05
          },
          "xaxis": {
           "automargin": true,
           "gridcolor": "white",
           "linecolor": "white",
           "ticks": "",
           "title": {
            "standoff": 15
           },
           "zerolinecolor": "white",
           "zerolinewidth": 2
          },
          "yaxis": {
           "automargin": true,
           "gridcolor": "white",
           "linecolor": "white",
           "ticks": "",
           "title": {
            "standoff": 15
           },
           "zerolinecolor": "white",
           "zerolinewidth": 2
          }
         }
        },
        "xaxis": {
         "autorange": true,
         "range": [
          -0.8736809442575906,
          15.92371429982797
         ],
         "title": {
          "text": "SCR_RATE"
         },
         "type": "linear"
        },
        "yaxis": {
         "autorange": true,
         "range": [
          -0.009197811452085477,
          0.17007909272308605
         ],
         "title": {
          "text": "HRV"
         },
         "type": "linear"
        }
       }
      },
      "image/png": "[encoded data removed]",
      "text/html": [
       "<div>                            <div id=\"dadad2ff-d079-4765-9fb0-8c7889c19bd0\" class=\"plotly-graph-div\" style=\"height:525px; width:100%;\"></div>            <script type=\"text/javascript\">                require([\"plotly\"], function(Plotly) {                    window.PLOTLYENV=window.PLOTLYENV || {};                                    if (document.getElementById(\"dadad2ff-d079-4765-9fb0-8c7889c19bd0\")) {                    Plotly.newPlot(                        \"dadad2ff-d079-4765-9fb0-8c7889c19bd0\",                        [{\"marker\": {\"opacity\": 0.7}, \"mode\": \"markers\", \"name\": \"baseline\", \"type\": \"scattergl\", \"x\": [5.5, 10.4, 6.5, 5.3999999999999995, 7.300000000000001, 6.1000000000000005, 6.197417742607247, 5.3, 0.0, 4.9, 2.099125364431487, 2.4, 0.0, 0.0, 2.9, 6.097459391920033, 5.3, 5.1000000000000005, 3.7, 5.0978758850478965, 4.2, 4.8, 5.6000000000000005, 5.3, 6.8, 5.7, 7.0, 5.397750937109538, 6.7, 4.798000832986256, 5.3, 5.6000000000000005, 3.5, 4.1, 6.7, 5.397750937109538, 6.1000000000000005, 4.5, 6.6, 4.5, 4.8, 5.3999999999999995, 5.797584339858393, 4.6, 6.5, 6.2, 5.0, 4.198250728862974, 7.800000000000001], \"y\": [0.02866684464572935, 0.002613230067042816, 0.04720774339544662, 0.039363144984197886, 0.029807016677225306, 0.061589070325120586, 0.040878261095811226, 0.047977477306782, 0.04457449084607995, 0.031191278126445482, 0.03474402158569937, 0.058435846026842084, 0.025951490025897892, 0.04223109264751039, 0.09685313764654611, 0.14374794113601197, 0.0745048576460893, 0.024042480100629954, 0.07672788021916287, 0.051591130304125855, 0.09791555510861097, 0.03408398974609386, 0.07934193263858696, 0.0366294627394106, 0.016425878932116448, 0.045379749136327655, 0.020173273398555517, 0.09362246289250527, 0.007281842681742867, 0.1525666744955428, 0.03466825579259539, 0.026422177174782804, 0.032460242778728755, 0.07016035566475899, 0.039030805463191987, 0.017549320077104042, 0.05491192419979543, 0.0453572433706092, 0.014325070931126945, 0.03879807366878241, 0.028949555419669842, 0.020251247887410662, 0.019756760669430815, 0.04695603098492319, 0.03761613625375704, 0.033360401923525324, 0.046123606208382996, 0.03826255958219847, 0.02960786617559438]}, {\"marker\": {\"opacity\": 0.7}, \"mode\": \"markers\", \"name\": \"controle\", \"type\": \"scattergl\", \"x\": [6.505598114319387, 6.172465960665658, 5.7370517928286855, 10.931339225016995, 8.044692737430168, 7.868852459016394, 11.985383678440925, 6.824644549763033, 8.652360515021458, 0.0, 0.0, 2.119205298013245, 6.599131693198263, 6.229007633587786, 6.311044327573253, 5.1474530831099194, 4.9504950495049505, 4.430299172501591, 6.404269513008672, 4.774292272379495, 4.682926829268292, 0.0, 6.1764705882352935, 0.2684563758389262, 4.775353016688062, 4.925019731649566, 3.6753445635528332, 3.108233117483811, 4.1658630665380905, 3.163444639718805, 0.0, 0.0, 0.0, 0.0, 0.0, 3.1893687707641196, 3.6947791164658637, 4.750593824228028, 4.904862579281184, 3.75, 3.0164964650432053, 2.6311667971808927, 6.875, 5.29182879377432, 4.684014869888476, 5.172413793103448, 5.034965034965035, 4.282073067119796, 15.050033355570381, 14.171082513247539, 12.197028928850663, 0.0, 0.0, 0.0, 2.807983482450103, 4.9504950495049505, 2.8381374722838135, 5.271317829457364, 4.5933014354066986, 7.0588235294117645, 0.0, 5.1570247933884295, 0.0, 7.2434607645875255, 5.460186142709411, 0.0, 8.353413654618475, 6.677265500794912, 6.486486486486487, 5.330296127562642, 2.504012841091493, 5.1655629139072845, 6.310756972111554, 6.355140186915888, 6.4454976303317535, 4.126696832579186, 0.0, 0.0, 0.0, 0.0, 0.0, 4.549763033175356, 4.299933642999337, 4.006069802731411, 8.847058823529412, 9.20863309352518, 8.869565217391305, 4.2652084757347914, 3.86784850926672, 3.737704918032787, 5.48963545389564, 4.796447076239822, 4.165554072096128, 4.256756756756756, 5.134883720930233, 5.896269335759782, 1.7245508982035929, 5.367412140575079, 4.423963133640553, 7.154471544715447, 6.779661016949152, 5.52177485620378, 2.909930715935335, 2.696629213483146, 3.6833602584814216, 3.5083056478405314, 4.0469208211143695, 4.253164556962026, 6.206896551724138, 6.74937965260546, 6.605504587155964, 6.137704918032787, 7.103594080338266, 6.56906429026098, 5.118483412322275, 7.092651757188498, 5.487558843308675, 6.3768115942028984, 5.248868778280543, 3.812154696132597, 3.941227312013829, 3.7209302325581395, 6.40294388224471, 4.934579439252336, 5.556544968833482, 3.0802139037433154, 4.765342960288809, 4.2105263157894735, 4.663428174878557, 4.198250728862974, 4.98960498960499, 9.298429319371728, 10.561056105610561, 5.984522785898538, 8.234106962663976, 6.3768115942028984, 5.981873111782478, 5.717965228589826, 5.386996904024768, 4.294917680744453, 8.379888268156424, 10.0, 8.734835355285961, 8.135593220338983, 8.226527570789866, 7.994670219853432], \"y\": [0.03331240146814219, 0.04418350702504721, 0.04468437566893063, 0.002255990759106036, 0.002804209531843013, 0.002611004916433049, 0.01202668630450374, 0.013980957367197663, 0.02865443920186888, 0.037663133503764754, 0.038742308749486684, 0.04436772211346348, 0.030450466265879023, 0.03683885420219599, 0.03567871994449781, 0.027459945476182163, 0.026998752281052345, 0.037589233039709714, 0.0438855173957719, 0.03619220454891931, 0.045005745694079204, 0.02557503656153666, 0.02164710331491308, 0.02622061435424094, 0.05066030416159449, 0.05567541487514875, 0.05666311758021151, 0.08140741043829564, 0.040449125898207025, 0.04503507450675492, 0.033581755433995227, 0.03685391119565455, 0.03753005132387924, 0.05911565653150965, 0.04847317087884893, 0.049442486910321944, 0.020745168971031555, 0.024299872807840673, 0.017675117628107542, 0.04097223598564218, 0.03824569865128663, 0.03561431147802739, 0.04598005778103955, 0.05525519836680636, 0.07828009349307644, 0.11339614912455963, 0.10195466155635759, 0.11714853259370583, 0.0637675618311967, 0.06505564662291288, 0.06856240328590703, 0.022102180948050637, 0.020136394916051837, 0.01642883242665215, 0.08768663569073737, 0.09683790097538589, 0.09137946211897237, 0.050293241929806644, 0.04745816224844408, 0.04897197394918593, 0.06373164657804323, 0.052591768628057506, 0.06166004327120963, 0.026430097914269726, 0.036334152624572416, 0.0326511285768698, 0.06398817897330926, 0.06442306707355065, 0.0701663543294527, 0.04215605260647573, 0.04274719511048751, 0.041441736154195115, 0.017997856943524904, 0.015861292182489252, 0.014101320387749293, 0.0340222535157522, 0.03400430959304168, 0.030610016116254468, 0.02289573698032332, 0.02276977613420358, 0.025582717552854024, 0.12173024132662377, 0.10811883061983739, 0.14179048399301186, 0.009456093272576065, 0.0069435873519042915, 0.01103403297407493, 0.0935622177744697, 0.0621884808806762, 0.1071033135246275, 0.01770558434784599, 0.023268149394188184, 0.02274718897147847, 0.02746539593577781, 0.029048259917958744, 0.029936220587126434, 0.04089237903734371, 0.05326119585263774, 0.053579568961606434, 0.03786969445325893, 0.03567759126880493, 0.0415964491520108, 0.028084555556945424, 0.02904172159147297, 0.027748352728332915, 0.013489374154085925, 0.0141145395793081, 0.01371893763942062, 0.06961099504676566, 0.07556499472715986, 0.0694341880614674, 0.03771889340768272, 0.041389200524610176, 0.007833450590453905, 0.008040238370186262, 0.007923039692150758, 0.0344036936019403, 0.032210231645969624, 0.02895682609805303, 0.027031806532420932, 0.024032590536718735, 0.024447075784443377, 0.01963124001267761, 0.021098904647595493, 0.01959092701915737, 0.022276034874806765, 0.019358689417725602, 0.020590336377815977, 0.047075392247034664, 0.04823096883142689, 0.0542653051345753, 0.03614639383855931, 0.037546501878667135, 0.04374365999145792, 0.011832293340430927, 0.02104523536190477, 0.02345680524610261, 0.04973791890790682, 0.041298902838424294, 0.05484672807824, 0.0476611014573164, 0.0459198917022418, 0.040563684693261444, 0.028575468354787373, 0.027271012461947696, 0.03098788477701891]}, {\"marker\": {\"opacity\": 0.7}, \"mode\": \"markers\", \"name\": \"stress\", \"type\": \"scattergl\", \"x\": [5.836909871244635, 6.106870229007633, 6.502463054187192, 10.080775444264944, 8.669603524229075, 10.400654129190515, 9.74025974025974, 7.792207792207791, 7.926605504587156, 2.6837060702875397, 3.8383838383838382, 4.59214501510574, 6.863468634686347, 6.5, 5.161290322580646, 4.608, 5.6174334140435835, 7.545851528384279, 4.601769911504425, 0.0, 4.671532846715329, 0.0, 0.0, 0.0, 0.0, 5.795170691090758, 3.780945236309077, 4.6021093000958775, 3.4951456310679614, 4.345679012345679, 0.0, 0.0, 0.0, 0.0, 2.3900414937759336, 4.144736842105264, 4.948453608247423, 5.971107544141252, 5.088339222614842, 4.107579462102689, 4.511278195488721, 6.771159874608151, 4.497444633730835, 4.242424242424242, 4.173913043478261, 8.734177215189874, 8.685376661742984, 6.080760095011876, 4.382608695652174, 0.0, 0.0, 1.7632653061224488, 5.534591194968553, 0.0, 0.0, 0.0, 6.627218934911243, 5.065326633165829, 6.09375, 7.019762845849803, 5.737840065952184, 5.798908807482463, 0.0, 4.695051783659379, 3.8515546639919758, 6.56172328086164, 7.141738449490995, 6.570048309178744, 0.0, 3.335907335907336, 0.9195402298850575, 2.125603864734299, 0.0, 0.0, 3.7267080745341614, 4.370546318289786, 3.333333333333333, 7.645429362880886, 8.288288288288289, 8.165680473372781, 2.7863777089783284, 0.0, 2.1818181818181817, 4.042879019908117, 5.175718849840256, 5.217391304347826, 3.8827098078867546, 5.178236397748593, 4.293785310734463, 4.296175752644426, 2.4594363791631086, 0.0, 5.818181818181818, 5.151033386327504, 3.7037037037037033, 6.387096774193548, 4.842615012106537, 4.356435643564357, 5.519429024583664, 4.427363566487317, 4.967074317968016, 5.793103448275862, 3.8009049773755654, 4.5823389021479715, 6.988352745424293, 7.561260210035005, 7.375886524822695, 5.287175452399685, 4.8788115715402665, 4.842615012106537, 4.392678868552413, 3.003128258602711, 4.194174757281553, 4.33048433048433, 3.519061583577713, 3.6533957845433256, 5.411764705882353, 3.793677204658902, 3.1788079470198674, 6.497816593886463, 4.8414985590778095, 5.306532663316583, 6.7678958785249455, 4.86873508353222, 6.088117489986649, 7.470817120622568, 6.23608017817372, 5.217391304347826, 5.490774907749077, 5.562913907284768, 3.89294403892944, 8.060453400503778, 8.118393234672304, 8.821081830790568, 6.575342465753424, 7.666989351403679, 7.706422018348624], \"y\": [0.04178517867525244, 0.03983499619159194, 0.04489850207170143, 0.0028090288755529317, 0.002813898848125298, 0.0029425124805395274, 0.0212291768852515, 0.019581480039637018, 0.0253973883812278, 0.047290135940515315, 0.04677636188358839, 0.052703570276081205, 0.04342947282711327, 0.043856267152211185, 0.044604470802503564, 0.02416122152786138, 0.027955743847689257, 0.028833086197789026, 0.04782278535633477, 0.047743909906206576, 0.04329588813798744, 0.02073264242035493, 0.023847832682640527, 0.024192726250167076, 0.055175634249623386, 0.052559655418537105, 0.058951689749508734, 0.02351442247792491, 0.025852999625129745, 0.021890169013880884, 0.03883026857366159, 0.040379342933483456, 0.04330071437373591, 0.06454604641234996, 0.06880638063569253, 0.06009183032859907, 0.04563465021908561, 0.046672817974148524, 0.04580115488634614, 0.08224795143828594, 0.08520313022629131, 0.08938185297120979, 0.1467135810695539, 0.1174920629129081, 0.12889150743488795, 0.06778345203533814, 0.07242942183020686, 0.06765056716617561, 0.022480047101782186, 0.021284350639717984, 0.018103383199509604, 0.10361044490708898, 0.09100884132208334, 0.08055956870760639, 0.0672539262843962, 0.05690381287311317, 0.04382778584370072, 0.04802960866796999, 0.05764356160054885, 0.08809698695050218, 0.0761903081823882, 0.06863357676390167, 0.04731438434956267, 0.04232008392955321, 0.05025915922551645, 0.016769092558870994, 0.016043898757803467, 0.015287424539136075, 0.03618163507212499, 0.03979560049155093, 0.028140834306829614, 0.023207834130716583, 0.031119415353893533, 0.028903235699636282, 0.15862529051189453, 0.15607498371935935, 0.14700973227593975, 0.01385148673772024, 0.016992034655409324, 0.01565884838753002, 0.11470440413288398, 0.10208261549321405, 0.1523112908828958, 0.028396475790179697, 0.02927856770940484, 0.03491089735462298, 0.03474226919397365, 0.03694985954536284, 0.03420882497345946, 0.0641194331420538, 0.060536655150093016, 0.05271941189413652, 0.042105484858536754, 0.04505644954264514, 0.047610594553095686, 0.02859591456607389, 0.02762331209501258, 0.02920580580905202, 0.013781821284946996, 0.01454343925167258, 0.015843812941744726, 0.07334522934507771, 0.07366706594067479, 0.06530065571240265, 0.010641648830253564, 0.01272646169578219, 0.01206850727871964, 0.03137948701565645, 0.036854271898430796, 0.031212980095169075, 0.022699062344326646, 0.02604548679696281, 0.02693950099845329, 0.03372824984364226, 0.030991400006111388, 0.03336832991489617, 0.020020471650275526, 0.020479578672768665, 0.019549809949273484, 0.08292311364471075, 0.07738177997987256, 0.08448303957673002, 0.03756193478653253, 0.043424176972144124, 0.03788434235537285, 0.012475913008307152, 0.022552760849359667, 0.045558473513959204, 0.04440883496763606, 0.049898188256953774, 0.04197148112737012, 0.040059618228182006, 0.04818416766959705, 0.0363887071076392, 0.03752948376517847, 0.026271979771852846, 0.028743250509760752]}],                        {\"template\": {\"data\": {\"bar\": [{\"error_x\": {\"color\": \"#2a3f5f\"}, \"error_y\": {\"color\": \"#2a3f5f\"}, \"marker\": {\"line\": {\"color\": \"#E5ECF6\", \"width\": 0.5}}, \"type\": \"bar\"}], \"barpolar\": [{\"marker\": {\"line\": {\"color\": \"#E5ECF6\", \"width\": 0.5}}, \"type\": \"barpolar\"}], \"carpet\": [{\"aaxis\": {\"endlinecolor\": \"#2a3f5f\", \"gridcolor\": \"white\", \"linecolor\": \"white\", \"minorgridcolor\": \"white\", \"startlinecolor\": \"#2a3f5f\"}, \"baxis\": {\"endlinecolor\": \"#2a3f5f\", \"gridcolor\": \"white\", \"linecolor\": \"white\", \"minorgridcolor\": \"white\", \"startlinecolor\": \"#2a3f5f\"}, \"type\": \"carpet\"}], \"choropleth\": [{\"colorbar\": {\"outlinewidth\": 0, \"ticks\": \"\"}, \"type\": \"choropleth\"}], \"contour\": [{\"colorbar\": {\"outlinewidth\": 0, \"ticks\": \"\"}, \"colorscale\": [[0.0, \"#0d0887\"], [0.1111111111111111, \"#46039f\"], [0.2222222222222222, \"#7201a8\"], [0.3333333333333333, \"#9c179e\"], [0.4444444444444444, \"#bd3786\"], [0.5555555555555556, \"#d8576b\"], [0.6666666666666666, \"#ed7953\"], [0.7777777777777778, \"#fb9f3a\"], [0.8888888888888888, \"#fdca26\"], [1.0, \"#f0f921\"]], \"type\": \"contour\"}], \"contourcarpet\": [{\"colorbar\": {\"outlinewidth\": 0, \"ticks\": \"\"}, \"type\": \"contourcarpet\"}], \"heatmap\": [{\"colorbar\": {\"outlinewidth\": 0, \"ticks\": \"\"}, \"colorscale\": [[0.0, \"#0d0887\"], [0.1111111111111111, \"#46039f\"], [0.2222222222222222, \"#7201a8\"], [0.3333333333333333, \"#9c179e\"], [0.4444444444444444, \"#bd3786\"], [0.5555555555555556, \"#d8576b\"], [0.6666666666666666, \"#ed7953\"], [0.7777777777777778, \"#fb9f3a\"], [0.8888888888888888, \"#fdca26\"], [1.0, \"#f0f921\"]], \"type\": \"heatmap\"}], \"heatmapgl\": [{\"colorbar\": {\"outlinewidth\": 0, \"ticks\": \"\"}, \"colorscale\": [[0.0, \"#0d0887\"], [0.1111111111111111, \"#46039f\"], [0.2222222222222222, \"#7201a8\"], [0.3333333333333333, \"#9c179e\"], [0.4444444444444444, \"#bd3786\"], [0.5555555555555556, \"#d8576b\"], [0.6666666666666666, \"#ed7953\"], [0.7777777777777778, \"#fb9f3a\"], [0.8888888888888888, \"#fdca26\"], [1.0, \"#f0f921\"]], \"type\": \"heatmapgl\"}], \"histogram\": [{\"marker\": {\"colorbar\": {\"outlinewidth\": 0, \"ticks\": \"\"}}, \"type\": \"histogram\"}], \"histogram2d\": [{\"colorbar\": {\"outlinewidth\": 0, \"ticks\": \"\"}, \"colorscale\": [[0.0, \"#0d0887\"], [0.1111111111111111, \"#46039f\"], [0.2222222222222222, \"#7201a8\"], [0.3333333333333333, \"#9c179e\"], [0.4444444444444444, \"#bd3786\"], [0.5555555555555556, \"#d8576b\"], [0.6666666666666666, \"#ed7953\"], [0.7777777777777778, \"#fb9f3a\"], [0.8888888888888888, \"#fdca26\"], [1.0, \"#f0f921\"]], \"type\": \"histogram2d\"}], \"histogram2dcontour\": [{\"colorbar\": {\"outlinewidth\": 0, \"ticks\": \"\"}, \"colorscale\": [[0.0, \"#0d0887\"], [0.1111111111111111, \"#46039f\"], [0.2222222222222222, \"#7201a8\"], [0.3333333333333333, \"#9c179e\"], [0.4444444444444444, \"#bd3786\"], [0.5555555555555556, \"#d8576b\"], [0.6666666666666666, \"#ed7953\"], [0.7777777777777778, \"#fb9f3a\"], [0.8888888888888888, \"#fdca26\"], [1.0, \"#f0f921\"]], \"type\": \"histogram2dcontour\"}], \"mesh3d\": [{\"colorbar\": {\"outlinewidth\": 0, \"ticks\": \"\"}, \"type\": \"mesh3d\"}], \"parcoords\": [{\"line\": {\"colorbar\": {\"outlinewidth\": 0, \"ticks\": \"\"}}, \"type\": \"parcoords\"}], \"pie\": [{\"automargin\": true, \"type\": \"pie\"}], \"scatter\": [{\"marker\": {\"colorbar\": {\"outlinewidth\": 0, \"ticks\": \"\"}}, \"type\": \"scatter\"}], \"scatter3d\": [{\"line\": {\"colorbar\": {\"outlinewidth\": 0, \"ticks\": \"\"}}, \"marker\": {\"colorbar\": {\"outlinewidth\": 0, \"ticks\": \"\"}}, \"type\": \"scatter3d\"}], \"scattercarpet\": [{\"marker\": {\"colorbar\": {\"outlinewidth\": 0, \"ticks\": \"\"}}, \"type\": \"scattercarpet\"}], \"scattergeo\": [{\"marker\": {\"colorbar\": {\"outlinewidth\": 0, \"ticks\": \"\"}}, \"type\": \"scattergeo\"}], \"scattergl\": [{\"marker\": {\"colorbar\": {\"outlinewidth\": 0, \"ticks\": \"\"}}, \"type\": \"scattergl\"}], \"scattermapbox\": [{\"marker\": {\"colorbar\": {\"outlinewidth\": 0, \"ticks\": \"\"}}, \"type\": \"scattermapbox\"}], \"scatterpolar\": [{\"marker\": {\"colorbar\": {\"outlinewidth\": 0, \"ticks\": \"\"}}, \"type\": \"scatterpolar\"}], \"scatterpolargl\": [{\"marker\": {\"colorbar\": {\"outlinewidth\": 0, \"ticks\": \"\"}}, \"type\": \"scatterpolargl\"}], \"scatterternary\": [{\"marker\": {\"colorbar\": {\"outlinewidth\": 0, \"ticks\": \"\"}}, \"type\": \"scatterternary\"}], \"surface\": [{\"colorbar\": {\"outlinewidth\": 0, \"ticks\": \"\"}, \"colorscale\": [[0.0, \"#0d0887\"], [0.1111111111111111, \"#46039f\"], [0.2222222222222222, \"#7201a8\"], [0.3333333333333333, \"#9c179e\"], [0.4444444444444444, \"#bd3786\"], [0.5555555555555556, \"#d8576b\"], [0.6666666666666666, \"#ed7953\"], [0.7777777777777778, \"#fb9f3a\"], [0.8888888888888888, \"#fdca26\"], [1.0, \"#f0f921\"]], \"type\": \"surface\"}], \"table\": [{\"cells\": {\"fill\": {\"color\": \"#EBF0F8\"}, \"line\": {\"color\": \"white\"}}, \"header\": {\"fill\": {\"color\": \"#C8D4E3\"}, \"line\": {\"color\": \"white\"}}, \"type\": \"table\"}]}, \"layout\": {\"annotationdefaults\": {\"arrowcolor\": \"#2a3f5f\", \"arrowhead\": 0, \"arrowwidth\": 1}, \"autotypenumbers\": \"strict\", \"coloraxis\": {\"colorbar\": {\"outlinewidth\": 0, \"ticks\": \"\"}}, \"colorscale\": {\"diverging\": [[0, \"#8e0152\"], [0.1, \"#c51b7d\"], [0.2, \"#de77ae\"], [0.3, \"#f1b6da\"], [0.4, \"#fde0ef\"], [0.5, \"#f7f7f7\"], [0.6, \"#e6f5d0\"], [0.7, \"#b8e186\"], [0.8, \"#7fbc41\"], [0.9, \"#4d9221\"], [1, \"#276419\"]], \"sequential\": [[0.0, \"#0d0887\"], [0.1111111111111111, \"#46039f\"], [0.2222222222222222, \"#7201a8\"], [0.3333333333333333, \"#9c179e\"], [0.4444444444444444, \"#bd3786\"], [0.5555555555555556, \"#d8576b\"], [0.6666666666666666, \"#ed7953\"], [0.7777777777777778, \"#fb9f3a\"], [0.8888888888888888, \"#fdca26\"], [1.0, \"#f0f921\"]], \"sequentialminus\": [[0.0, \"#0d0887\"], [0.1111111111111111, \"#46039f\"], [0.2222222222222222, \"#7201a8\"], [0.3333333333333333, \"#9c179e\"], [0.4444444444444444, \"#bd3786\"], [0.5555555555555556, \"#d8576b\"], [0.6666666666666666, \"#ed7953\"], [0.7777777777777778, \"#fb9f3a\"], [0.8888888888888888, \"#fdca26\"], [1.0, \"#f0f921\"]]}, \"colorway\": [\"#636efa\", \"#EF553B\", \"#00cc96\", \"#ab63fa\", \"#FFA15A\", \"#19d3f3\", \"#FF6692\", \"#B6E880\", \"#FF97FF\", \"#FECB52\"], \"font\": {\"color\": \"#2a3f5f\"}, \"geo\": {\"bgcolor\": \"white\", \"lakecolor\": \"white\", \"landcolor\": \"#E5ECF6\", \"showlakes\": true, \"showland\": true, \"subunitcolor\": \"white\"}, \"hoverlabel\": {\"align\": \"left\"}, \"hovermode\": \"closest\", \"mapbox\": {\"style\": \"light\"}, \"paper_bgcolor\": \"white\", \"plot_bgcolor\": \"#E5ECF6\", \"polar\": {\"angularaxis\": {\"gridcolor\": \"white\", \"linecolor\": \"white\", \"ticks\": \"\"}, \"bgcolor\": \"#E5ECF6\", \"radialaxis\": {\"gridcolor\": \"white\", \"linecolor\": \"white\", \"ticks\": \"\"}}, \"scene\": {\"xaxis\": {\"backgroundcolor\": \"#E5ECF6\", \"gridcolor\": \"white\", \"gridwidth\": 2, \"linecolor\": \"white\", \"showbackground\": true, \"ticks\": \"\", \"zerolinecolor\": \"white\"}, \"yaxis\": {\"backgroundcolor\": \"#E5ECF6\", \"gridcolor\": \"white\", \"gridwidth\": 2, \"linecolor\": \"white\", \"showbackground\": true, \"ticks\": \"\", \"zerolinecolor\": \"white\"}, \"zaxis\": {\"backgroundcolor\": \"#E5ECF6\", \"gridcolor\": \"white\", \"gridwidth\": 2, \"linecolor\": \"white\", \"showbackground\": true, \"ticks\": \"\", \"zerolinecolor\": \"white\"}}, \"shapedefaults\": {\"line\": {\"color\": \"#2a3f5f\"}}, \"ternary\": {\"aaxis\": {\"gridcolor\": \"white\", \"linecolor\": \"white\", \"ticks\": \"\"}, \"baxis\": {\"gridcolor\": \"white\", \"linecolor\": \"white\", \"ticks\": \"\"}, \"bgcolor\": \"#E5ECF6\", \"caxis\": {\"gridcolor\": \"white\", \"linecolor\": \"white\", \"ticks\": \"\"}}, \"title\": {\"x\": 0.05}, \"xaxis\": {\"automargin\": true, \"gridcolor\": \"white\", \"linecolor\": \"white\", \"ticks\": \"\", \"title\": {\"standoff\": 15}, \"zerolinecolor\": \"white\", \"zerolinewidth\": 2}, \"yaxis\": {\"automargin\": true, \"gridcolor\": \"white\", \"linecolor\": \"white\", \"ticks\": \"\", \"title\": {\"standoff\": 15}, \"zerolinecolor\": \"white\", \"zerolinewidth\": 2}}}, \"xaxis\": {\"title\": {\"text\": \"SCR_RATE\"}}, \"yaxis\": {\"title\": {\"text\": \"HRV\"}}},                        {\"responsive\": true}                    ).then(function(){\n",
       "                            \n",
       "var gd = document.getElementById('dadad2ff-d079-4765-9fb0-8c7889c19bd0');\n",
       "var x = new MutationObserver(function (mutations, observer) {{\n",
       "        var display = window.getComputedStyle(gd).display;\n",
       "        if (!display || display === 'none') {{\n",
       "            console.log([gd, 'removed!']);\n",
       "            Plotly.purge(gd);\n",
       "            observer.disconnect();\n",
       "        }}\n",
       "}});\n",
       "\n",
       "// Listen for the removal of the full notebook cells\n",
       "var notebookContainer = gd.closest('#notebook-container');\n",
       "if (notebookContainer) {{\n",
       "    x.observe(notebookContainer, {childList: true});\n",
       "}}\n",
       "\n",
       "// Listen for the clearing of the current output cell\n",
       "var outputEl = gd.closest('.output');\n",
       "if (outputEl) {{\n",
       "    x.observe(outputEl, {childList: true});\n",
       "}}\n",
       "\n",
       "                        })                };                });            </script>        </div>"
      ]
     },
     "metadata": {},
     "output_type": "display_data"
    }
   ],
   "source": [
    "physio_mask = data.SCR_RATE.notna()\n",
    "data_valid = data[physio_mask].copy()\n",
    "data_valid[\"state_str\"] = data_valid.fileNum.map(\n",
    "    lambda x: state_mapping_dict.get(x, \"DUNNO\")\n",
    ")\n",
    "\n",
    "x_col = \"SCR_RATE\"\n",
    "y_col = \"HRV\"\n",
    "\n",
    "\n",
    "fig = go.Figure()\n",
    "for state_str in data_valid.state_str.unique():\n",
    "    data_valid_state = data_valid[data_valid.state_str == state_str]\n",
    "    fig.add_trace(\n",
    "        go.Scattergl(\n",
    "            x=data_valid_state[x_col],\n",
    "            y=data_valid_state[y_col],\n",
    "            mode=\"markers\",\n",
    "            marker_opacity=0.7,\n",
    "            name=state_str,\n",
    "        )\n",
    "    )\n",
    "fig.update_xaxes(title=x_col)\n",
    "fig.update_yaxes(title=y_col)"
   ]
  },
  {
   "cell_type": "markdown",
   "metadata": {
    "tags": []
   },
   "source": [
    "# Visualize some stuff"
   ]
  },
  {
   "cell_type": "code",
   "execution_count": null,
   "metadata": {},
   "outputs": [],
   "source": [
    "import seaborn as sns\n",
    "import matplotlib.pyplot as plt\n",
    "sns.set_theme(style=\"whitegrid\")\n",
    "\n",
    "# ax = sns.violinplot(x=\"fileNum\", y=\"F0semitoneFrom27.5Hz_sma3nz_amean@NUMERIC\", data=data)\n",
    "# ax = sns.violinplot(x=\"fileNum\", y=\"arousal\", data=data)\n",
    "# ax = sns.violinplot(x=\"fileNum\", y=\"valence\", data=data)\n",
    "ax = sns.violinplot(x=\"fileNum\", y=\"dominance\", data=data)\n"
   ]
  }
 ],
 "metadata": {
  "kernelspec": {
   "display_name": "Python 3 (ipykernel)",
   "language": "python",
   "name": "python3"
  },
  "language_info": {
   "codemirror_mode": {
    "name": "ipython",
    "version": 3
   },
   "file_extension": ".py",
   "mimetype": "text/x-python",
   "name": "python",
   "nbconvert_exporter": "python",
   "pygments_lexer": "ipython3",
   "version": "3.9.6"
  },
  "toc-autonumbering": true
 },
 "nbformat": 4,
 "nbformat_minor": 4
}
