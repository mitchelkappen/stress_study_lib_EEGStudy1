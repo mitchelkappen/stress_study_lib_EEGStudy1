{
 "cells": [
  {
   "cell_type": "code",
   "execution_count": 1,
   "metadata": {},
   "outputs": [],
   "source": [
    "%load_ext autoreload\n",
    "%autoreload 2"
   ]
  },
  {
   "cell_type": "code",
   "execution_count": 2,
   "metadata": {},
   "outputs": [],
   "source": [
    "from pathlib import Path\n",
    "\n",
    "import numpy as np\n",
    "import pandas as pd\n",
    "import plotly.graph_objects as go\n",
    "from tqdm.auto import tqdm"
   ]
  },
  {
   "cell_type": "code",
   "execution_count": 3,
   "metadata": {},
   "outputs": [],
   "source": [
    "# configure user\n",
    "user = \"jonas\"  # set this to mitchel\n",
    "\n",
    "if user.lower() == \"jonas\":\n",
    "    BASE_PATH = \"/users/jonvdrdo/jonas/data/aaa_contextaware/raw/uz_study/\"\n",
    "elif user.lower() == \"mitchel\":\n",
    "    BASE_PATH = \"D:/Data/EEG_Study_1/\"  # Go check 1_audio_preprocess.py\n",
    "DATA_PATH = BASE_PATH + \"aligned_data\"\n",
    "\n",
    "if user.lower() == \"jonas\":\n",
    "    FEATURES_PATH = \"\"  # + \"/features_gemaps/\"\n",
    "elif user.lower() == \"mitchel\":\n",
    "    FEATURES_PATH = DATA_PATH + \"/features/\""
   ]
  },
  {
   "cell_type": "markdown",
   "metadata": {
    "tags": []
   },
   "source": [
    "# sequential IBI"
   ]
  },
  {
   "cell_type": "code",
   "execution_count": 9,
   "metadata": {},
   "outputs": [
    {
     "data": {
      "application/vnd.jupyter.widget-view+json": {
       "model_id": "c7fd7b3ccd6b47599fe344858e9e3f37",
       "version_major": 2,
       "version_minor": 0
      },
      "text/plain": [
       "  0%|          | 0/85 [00:00<?, ?it/s]"
      ]
     },
     "metadata": {},
     "output_type": "display_data"
    },
    {
     "data": {
      "text/html": [
       "<div>\n",
       "<style scoped>\n",
       "    .dataframe tbody tr th:only-of-type {\n",
       "        vertical-align: middle;\n",
       "    }\n",
       "\n",
       "    .dataframe tbody tr th {\n",
       "        vertical-align: top;\n",
       "    }\n",
       "\n",
       "    .dataframe thead th {\n",
       "        text-align: right;\n",
       "    }\n",
       "</style>\n",
       "<table border=\"1\" class=\"dataframe\">\n",
       "  <thead>\n",
       "    <tr style=\"text-align: right;\">\n",
       "      <th></th>\n",
       "      <th>Phase</th>\n",
       "      <th>Trial</th>\n",
       "      <th>Block</th>\n",
       "      <th>t_start</th>\n",
       "      <th>prev_Phase</th>\n",
       "      <th>answered_in_time</th>\n",
       "      <th>answered_correctly</th>\n",
       "      <th>delay_slide_feedback</th>\n",
       "      <th>user</th>\n",
       "      <th>edf_source_dir</th>\n",
       "    </tr>\n",
       "  </thead>\n",
       "  <tbody>\n",
       "    <tr>\n",
       "      <th>0</th>\n",
       "      <td>Controle1Feedback</td>\n",
       "      <td>1.0</td>\n",
       "      <td>4</td>\n",
       "      <td>2020-02-10 10:41:11.346047+01:00</td>\n",
       "      <td>Controle1Slide</td>\n",
       "      <td>True</td>\n",
       "      <td>False</td>\n",
       "      <td>0 days 00:00:00.066000</td>\n",
       "      <td>16</td>\n",
       "      <td>edf_aligned</td>\n",
       "    </tr>\n",
       "    <tr>\n",
       "      <th>1</th>\n",
       "      <td>Controle1Feedback</td>\n",
       "      <td>2.0</td>\n",
       "      <td>4</td>\n",
       "      <td>2020-02-10 10:41:53.776047+01:00</td>\n",
       "      <td>Controle1Slide</td>\n",
       "      <td>True</td>\n",
       "      <td>True</td>\n",
       "      <td>0 days 00:00:00.067000</td>\n",
       "      <td>16</td>\n",
       "      <td>edf_aligned</td>\n",
       "    </tr>\n",
       "    <tr>\n",
       "      <th>2</th>\n",
       "      <td>Controle1Feedback</td>\n",
       "      <td>3.0</td>\n",
       "      <td>4</td>\n",
       "      <td>2020-02-10 10:42:46.723047+01:00</td>\n",
       "      <td>Controle1Slide</td>\n",
       "      <td>True</td>\n",
       "      <td>True</td>\n",
       "      <td>0 days 00:00:00.057000</td>\n",
       "      <td>16</td>\n",
       "      <td>edf_aligned</td>\n",
       "    </tr>\n",
       "    <tr>\n",
       "      <th>3</th>\n",
       "      <td>Controle1Feedback</td>\n",
       "      <td>4.0</td>\n",
       "      <td>4</td>\n",
       "      <td>2020-02-10 10:43:02.689047+01:00</td>\n",
       "      <td>Controle1Slide</td>\n",
       "      <td>True</td>\n",
       "      <td>True</td>\n",
       "      <td>0 days 00:00:00.064000</td>\n",
       "      <td>16</td>\n",
       "      <td>edf_aligned</td>\n",
       "    </tr>\n",
       "    <tr>\n",
       "      <th>4</th>\n",
       "      <td>Controle1Feedback</td>\n",
       "      <td>5.0</td>\n",
       "      <td>4</td>\n",
       "      <td>2020-02-10 10:43:23.621047+01:00</td>\n",
       "      <td>Controle1Slide</td>\n",
       "      <td>True</td>\n",
       "      <td>False</td>\n",
       "      <td>0 days 00:00:00.069000</td>\n",
       "      <td>16</td>\n",
       "      <td>edf_aligned</td>\n",
       "    </tr>\n",
       "    <tr>\n",
       "      <th>...</th>\n",
       "      <td>...</td>\n",
       "      <td>...</td>\n",
       "      <td>...</td>\n",
       "      <td>...</td>\n",
       "      <td>...</td>\n",
       "      <td>...</td>\n",
       "      <td>...</td>\n",
       "      <td>...</td>\n",
       "      <td>...</td>\n",
       "      <td>...</td>\n",
       "    </tr>\n",
       "    <tr>\n",
       "      <th>3380</th>\n",
       "      <td>Stress3FeedBack</td>\n",
       "      <td>24.0</td>\n",
       "      <td>5</td>\n",
       "      <td>2020-09-18 10:34:54.476813+02:00</td>\n",
       "      <td>Stress3Slide</td>\n",
       "      <td>True</td>\n",
       "      <td>True</td>\n",
       "      <td>0 days 00:00:00.063000</td>\n",
       "      <td>83</td>\n",
       "      <td>edf_aligned</td>\n",
       "    </tr>\n",
       "    <tr>\n",
       "      <th>3381</th>\n",
       "      <td>Stress3FeedBack</td>\n",
       "      <td>25.0</td>\n",
       "      <td>5</td>\n",
       "      <td>2020-09-18 10:35:10.892813+02:00</td>\n",
       "      <td>Stress3Slide</td>\n",
       "      <td>True</td>\n",
       "      <td>True</td>\n",
       "      <td>0 days 00:00:00.072000</td>\n",
       "      <td>83</td>\n",
       "      <td>edf_aligned</td>\n",
       "    </tr>\n",
       "    <tr>\n",
       "      <th>3382</th>\n",
       "      <td>Stress3FeedBack</td>\n",
       "      <td>26.0</td>\n",
       "      <td>5</td>\n",
       "      <td>2020-09-18 10:36:55.117813+02:00</td>\n",
       "      <td>Stress3Slide</td>\n",
       "      <td>True</td>\n",
       "      <td>False</td>\n",
       "      <td>0 days 00:00:00.082000</td>\n",
       "      <td>83</td>\n",
       "      <td>edf_aligned</td>\n",
       "    </tr>\n",
       "    <tr>\n",
       "      <th>3383</th>\n",
       "      <td>Stress3FeedBack</td>\n",
       "      <td>27.0</td>\n",
       "      <td>5</td>\n",
       "      <td>2020-09-18 10:37:21.215813+02:00</td>\n",
       "      <td>Stress3Slide</td>\n",
       "      <td>False</td>\n",
       "      <td>False</td>\n",
       "      <td>0 days 02:10:44.947000</td>\n",
       "      <td>83</td>\n",
       "      <td>edf_aligned</td>\n",
       "    </tr>\n",
       "    <tr>\n",
       "      <th>3384</th>\n",
       "      <td>Stress3FeedBack</td>\n",
       "      <td>28.0</td>\n",
       "      <td>5</td>\n",
       "      <td>2020-09-18 10:37:54.145813+02:00</td>\n",
       "      <td>Stress3Slide</td>\n",
       "      <td>True</td>\n",
       "      <td>True</td>\n",
       "      <td>0 days 00:00:00.059000</td>\n",
       "      <td>83</td>\n",
       "      <td>edf_aligned</td>\n",
       "    </tr>\n",
       "  </tbody>\n",
       "</table>\n",
       "<p>3385 rows × 10 columns</p>\n",
       "</div>"
      ],
      "text/plain": [
       "                  Phase  Trial  Block                          t_start  \\\n",
       "0     Controle1Feedback    1.0      4 2020-02-10 10:41:11.346047+01:00   \n",
       "1     Controle1Feedback    2.0      4 2020-02-10 10:41:53.776047+01:00   \n",
       "2     Controle1Feedback    3.0      4 2020-02-10 10:42:46.723047+01:00   \n",
       "3     Controle1Feedback    4.0      4 2020-02-10 10:43:02.689047+01:00   \n",
       "4     Controle1Feedback    5.0      4 2020-02-10 10:43:23.621047+01:00   \n",
       "...                 ...    ...    ...                              ...   \n",
       "3380    Stress3FeedBack   24.0      5 2020-09-18 10:34:54.476813+02:00   \n",
       "3381    Stress3FeedBack   25.0      5 2020-09-18 10:35:10.892813+02:00   \n",
       "3382    Stress3FeedBack   26.0      5 2020-09-18 10:36:55.117813+02:00   \n",
       "3383    Stress3FeedBack   27.0      5 2020-09-18 10:37:21.215813+02:00   \n",
       "3384    Stress3FeedBack   28.0      5 2020-09-18 10:37:54.145813+02:00   \n",
       "\n",
       "          prev_Phase  answered_in_time  answered_correctly  \\\n",
       "0     Controle1Slide              True               False   \n",
       "1     Controle1Slide              True                True   \n",
       "2     Controle1Slide              True                True   \n",
       "3     Controle1Slide              True                True   \n",
       "4     Controle1Slide              True               False   \n",
       "...              ...               ...                 ...   \n",
       "3380    Stress3Slide              True                True   \n",
       "3381    Stress3Slide              True                True   \n",
       "3382    Stress3Slide              True               False   \n",
       "3383    Stress3Slide             False               False   \n",
       "3384    Stress3Slide              True                True   \n",
       "\n",
       "       delay_slide_feedback user edf_source_dir  \n",
       "0    0 days 00:00:00.066000   16    edf_aligned  \n",
       "1    0 days 00:00:00.067000   16    edf_aligned  \n",
       "2    0 days 00:00:00.057000   16    edf_aligned  \n",
       "3    0 days 00:00:00.064000   16    edf_aligned  \n",
       "4    0 days 00:00:00.069000   16    edf_aligned  \n",
       "...                     ...  ...            ...  \n",
       "3380 0 days 00:00:00.063000   83    edf_aligned  \n",
       "3381 0 days 00:00:00.072000   83    edf_aligned  \n",
       "3382 0 days 00:00:00.082000   83    edf_aligned  \n",
       "3383 0 days 02:10:44.947000   83    edf_aligned  \n",
       "3384 0 days 00:00:00.059000   83    edf_aligned  \n",
       "\n",
       "[3385 rows x 10 columns]"
      ]
     },
     "execution_count": 9,
     "metadata": {},
     "output_type": "execute_result"
    }
   ],
   "source": [
    "feedback_list = []\n",
    "\n",
    "for p in tqdm(sorted(Path(DATA_PATH).iterdir())):\n",
    "    if not p.is_dir():\n",
    "        continue\n",
    "\n",
    "    timeline_file = p.joinpath(\"timeline_aligned.csv\")\n",
    "    marker_file = p.joinpath(\"marker_edf_aligned.csv\")\n",
    "\n",
    "    if timeline_file.exists() and marker_file.exists():\n",
    "        edf_source = \"edf_aligned\"\n",
    "\n",
    "        # 1. if both files exists, read them and parse the time columns\n",
    "        last_timeline_file = timeline_file\n",
    "        df_timeline = (\n",
    "            pd.read_csv(timeline_file).iloc[:, 1:].drop(columns=[\"OnsetDelay.1\"])\n",
    "        )\n",
    "        df_marker = pd.read_csv(marker_file).iloc[:, 1:]\n",
    "\n",
    "        tz = \"europe/brussels\"\n",
    "        for c in [\"t_start\", \"t_stop\"]:\n",
    "            df_timeline[c] = pd.to_datetime(df_timeline[c]).dt.tz_convert(tz)\n",
    "        for c in [\"timestamp\"]:\n",
    "            df_marker[c] = pd.to_datetime(df_marker[c]).dt.tz_convert(tz)\n",
    "\n",
    "        # 2. assert whether the start-time of the timeline file is sorted\n",
    "        df_timeline = df_timeline.sort_values(by=[\"t_start\", \"Trial\"])\n",
    "        assert df_timeline[\"t_start\"].is_monotonic_increasing\n",
    "\n",
    "        # 3. Add some additional columns\n",
    "        df_timeline[\"prev_Phase\"] = df_timeline.Phase.shift(1)\n",
    "        df_timeline[\"RESP\"] = df_timeline.RESP.shift(1)  # slide response\n",
    "        df_timeline[\"CRESP\"] = df_timeline.CRESP.shift(1)  # correct slide response\n",
    "        df_timeline[\"answered_in_time\"] = df_timeline.RESP.notna()\n",
    "        df_timeline[\"answered_correctly\"] = df_timeline.RESP == df_timeline.CRESP\n",
    "        df_timeline[\n",
    "            \"delay_slide_feedback\"\n",
    "        ] = df_timeline.t_start - df_timeline.t_stop.shift(1)\n",
    "\n",
    "        # 4. filter on the feedback events\n",
    "        df_feedback = df_timeline[\n",
    "            df_timeline.Phase.str.lower().str.contains(\"feedback\")\n",
    "        ].copy()\n",
    "\n",
    "        df_feedback[\"user\"] = p.name\n",
    "        df_feedback[\"edf_source_dir\"] = edf_source\n",
    "\n",
    "        # assert that all the previous phases were example slides\n",
    "        assert all(df_feedback[\"prev_Phase\"].str.lower().str.contains(\"slide\"))\n",
    "        feedback_list.append(df_feedback)\n",
    "\n",
    "    elif True:\n",
    "        pass\n",
    "        # TODO -> extend with non-aligned files\n",
    "\n",
    "# construct the feedback dataframe\n",
    "df_feedback = pd.concat(feedback_list, axis=0, ignore_index=True)\n",
    "\n",
    "# omit the files which have a delay larger than max_slide_delay\n",
    "# NOTE: don't do this, as these are the ones who did not answer in time\n",
    "# max_slide_delay = pd.Timedelta(seconds=0.1)\n",
    "# print(sum(df_feedback.delay_slide_feedback > max_slide_delay))\n",
    "# df_feedback = df_feedback[df_feedback.delay_slide_feedback < max_slide_delay]\n",
    "\n",
    "# show the data\n",
    "df_feedback.iloc[:, np.r_[0:4, df_feedback.shape[1] - 6 : df_feedback.shape[1]]]"
   ]
  },
  {
   "cell_type": "code",
   "execution_count": 5,
   "metadata": {},
   "outputs": [
    {
     "data": {
      "application/vnd.jupyter.widget-view+json": {
       "model_id": "c6727c8f3f2944579802b40415871287",
       "version_major": 2,
       "version_minor": 0
      },
      "text/plain": [
       "  0%|          | 0/58 [00:00<?, ?it/s]"
      ]
     },
     "metadata": {},
     "output_type": "display_data"
    }
   ],
   "source": [
    "left_slice_margin_s = 6\n",
    "right_slice_margin_s = 7\n",
    "min_r_peak_threshold = 0.9\n",
    "\n",
    "\n",
    "# ------------------- HYPERPARAMS -------------------\n",
    "# the first item exceeding this threshold will set at IBI pos 0\n",
    "time_threshold = 0\n",
    "reference_ibi_pos = -4\n",
    "\n",
    "# iterate over all the users in the feedback file\n",
    "slcs = []\n",
    "for user in tqdm(df_feedback.user.unique()):\n",
    "    df_f_user = df_feedback[df_feedback.user == user]\n",
    "\n",
    "    # fetch the correct feedback RR_interval data (matching timestamps)\n",
    "    f_path = Path(DATA_PATH).joinpath(user, df_f_user.edf_source_dir.values[0])\n",
    "    f_path = list(f_path.glob(\"rr_intervals_*.parquet\"))\n",
    "    if len(f_path) != 1:\n",
    "        print(f\"skipping user {user} f_path size {len(f_path)}\")\n",
    "        continue\n",
    "\n",
    "    rr_file_user = pd.read_parquet(f_path[0]).set_index(\"timestamp\")\n",
    "\n",
    "    for idx, r in df_f_user.iterrows():\n",
    "        t_start = r.t_start - pd.Timedelta(seconds=left_slice_margin_s)\n",
    "        t_end = r.t_start + pd.Timedelta(seconds=right_slice_margin_s)\n",
    "        slc = rr_file_user[t_start:t_end].copy().reset_index()\n",
    "\n",
    "        # do not use slices with lower\n",
    "        if not len(slc) or any(slc[\"r_peak_agreement\"] <= min_r_peak_threshold):\n",
    "            continue\n",
    "\n",
    "        # add a relative time col w.r.t. event and feedback_index which will be used\n",
    "        # to link the data back to df_feedback\n",
    "        slc[\"rel_event_time\"] = (slc.timestamp - r.t_start).dt.total_seconds()\n",
    "        slc[\"feedback_index\"] = idx\n",
    "\n",
    "        # determine the int-ibi pos\n",
    "        slc[\"IBI_pos\"] = slc.index - slc[slc.rel_event_time > time_threshold].index[0]\n",
    "        slc[\"RR_delta_ms\"] = (\n",
    "            slc.RR_interval_ms\n",
    "            - slc[slc.IBI_pos == reference_ibi_pos].RR_interval_ms.values[0]\n",
    "        )\n",
    "\n",
    "        slcs.append(slc)\n",
    "\n",
    "df_slc = pd.concat(slcs, axis=0, ignore_index=True)\n",
    "del slcs"
   ]
  },
  {
   "cell_type": "markdown",
   "metadata": {},
   "source": [
    "## Viusalizations"
   ]
  },
  {
   "cell_type": "markdown",
   "metadata": {
    "tags": []
   },
   "source": [
    "### Per trial & group"
   ]
  },
  {
   "cell_type": "code",
   "execution_count": null,
   "metadata": {
    "tags": []
   },
   "outputs": [],
   "source": [
    "# visualizing the ibi delta\n",
    "fig_list = []\n",
    "for trial in tqdm(sorted(df_feedback.Trial.unique())):\n",
    "    shown_groups = []\n",
    "    fig = go.Figure()\n",
    "    for group in [\"Controle\", \"Stress\"]:\n",
    "        rr_group = []\n",
    "        df_f_gr = df_feedback[\n",
    "            (df_feedback[\"Procedure[Block]\"] == group) & (df_feedback.Trial == trial)\n",
    "        ]\n",
    "        for feeback_idx, _ in df_f_gr.iterrows():\n",
    "            rr_d = (\n",
    "                df_slc[df_slc[\"feedback_index\"] == feeback_idx]\n",
    "                .copy()\n",
    "                .set_index(\"IBI_pos\")\n",
    "                .sort_index()[\"RR_delta_ms\"]\n",
    "            )\n",
    "            rr_group.append(rr_d)\n",
    "\n",
    "        df_rr_group = pd.concat(rr_group, axis=1, ignore_index=False)\n",
    "        rr_group_mean = df_rr_group.mean(axis=1)\n",
    "        rr_group_std = df_rr_group.std(axis=1)\n",
    "        fig.add_trace(\n",
    "            go.Scattergl(\n",
    "                x=rr_group_mean.index,\n",
    "                y=rr_group_mean,\n",
    "                error_y=dict(type=\"data\", array=rr_group_std, visible=True),\n",
    "                mode=\"markers+lines\",\n",
    "                name=group + f\" n= {df_rr_group.shape[1]}\",\n",
    "                legendgroup=group,\n",
    "                showlegend=group not in shown_groups,\n",
    "            )\n",
    "        )\n",
    "        shown_groups.append(group)\n",
    "\n",
    "    fig.update_layout(height=400, title=f\"feedback - trial {trial}\", title_x=0.5)\n",
    "    fig.update_xaxes(title_text=\"Sequential IBI\")\n",
    "    fig.update_yaxes(title_text=f\"Delta IBI (ref IBI_{reference_ibi_pos}) (ms)\")\n",
    "    fig.show()\n",
    "    fig_list.append(fig)\n",
    "\n",
    "# from context_aware.visualizations.plotly import figs_to_html\n",
    "# figs_to_html(fig_list, 'trial_sequential_ibi.html')"
   ]
  },
  {
   "cell_type": "markdown",
   "metadata": {},
   "source": [
    "### Per group & answered-in time"
   ]
  },
  {
   "cell_type": "code",
   "execution_count": 7,
   "metadata": {},
   "outputs": [
    {
     "data": {
      "application/vnd.plotly.v1+json": {
       "config": {
        "plotlyServerURL": "https://plotly.com"
       },
       "data": [
        {
         "error_y": {
          "array": [
           35.802531448244885,
           46.49113694580245,
           57.5084529664528,
           62.87943154628368,
           63.21971431292817,
           43.51475647478741,
           0,
           43.14269871409454,
           59.76422743912121,
           66.96842699174339,
           69.56078430693321,
           71.92712234156842,
           76.56225974605948,
           79.02863943819604,
           85.48587688451265,
           89.19635754275549,
           89.3850434204519,
           84.417693809906,
           79.14954946741999,
           71.81762290535967,
           56.33546047125885,
           null
          ],
          "type": "data",
          "visible": true
         },
         "legendgroup": "ControleTrue",
         "mode": "markers+lines",
         "name": "Controle answered in time - n= 1624",
         "showlegend": true,
         "type": "scattergl",
         "x": [
          -10,
          -9,
          -8,
          -7,
          -6,
          -5,
          -4,
          -3,
          -2,
          -1,
          0,
          1,
          2,
          3,
          4,
          5,
          6,
          7,
          8,
          9,
          10,
          11
         ],
         "y": [
          27.79453846153846,
          12.139453846153847,
          7.110743707093815,
          2.4805400516795886,
          -2.908284221525603,
          -2.9297052313883305,
          0,
          2.023558116232465,
          3.7594739478957906,
          8.166737474949903,
          13.505499999999998,
          2.056854709418837,
          -20.173182364729463,
          -29.336031062124253,
          -24.746771543086172,
          -15.246520080321282,
          -5.911760824742269,
          -2.6368335373317016,
          -5.936573883161512,
          -3.675506329113924,
          -3.7667678571428587,
          -37.110000000000014
         ]
        },
        {
         "error_y": {
          "array": [
           17.865694852527724,
           42.76347955150986,
           68.31810178938868,
           74.97033384790006,
           68.84952272671937,
           47.987876440390494,
           0,
           49.81119094917121,
           67.99836988616389,
           74.26636328576446,
           75.62313210891035,
           78.23312200332829,
           82.34387985658795,
           85.31695548798817,
           90.49401600852832,
           93.12816069874,
           89.81030810121665,
           87.91225528655532,
           84.89841724772616,
           79.66145321059136,
           50.46518116294783,
           null
          ],
          "type": "data",
          "visible": true
         },
         "legendgroup": "StressTrue",
         "mode": "markers+lines",
         "name": "Stress answered in time - n= 1640",
         "showlegend": true,
         "type": "scattergl",
         "x": [
          -10,
          -9,
          -8,
          -7,
          -6,
          -5,
          -4,
          -3,
          -2,
          -1,
          0,
          1,
          2,
          3,
          4,
          5,
          6,
          7,
          8,
          9,
          10,
          11
         ],
         "y": [
          3.0188181818181916,
          4.701221238938047,
          6.930274151436031,
          -3.2720873124147354,
          -4.644795386158477,
          -2.8656797752809013,
          0,
          4.238454205607474,
          4.530551401869158,
          8.100873831775699,
          13.932894392523366,
          3.499201869158876,
          -21.630410280373837,
          -33.57002429906543,
          -29.937564485981312,
          -24.887072985781998,
          -16.973129482071712,
          -12.850017326732676,
          -9.137298449612402,
          -10.30862331838565,
          -13.192867924528306,
          31.25
         ]
        },
        {
         "error_y": {
          "array": [
           null,
           44.021002180777295,
           62.8434832881698,
           54.7743642116812,
           48.65304314486575,
           41.317068346966224,
           0,
           43.050066494878564,
           60.582906009563764,
           60.52786201006743,
           60.47735651013977,
           71.5211284308741,
           82.3195744627523,
           82.64803621266162,
           68.73454713042229,
           75.34520662382714,
           73.44760710020363,
           70.74507144231917,
           52.77614374538303,
           58.900570298597245
          ],
          "type": "data",
          "visible": true
         },
         "legendgroup": "ControleFalse",
         "mode": "markers+lines",
         "name": "Controle NOT answered in time - n= 76",
         "showlegend": true,
         "type": "scattergl",
         "x": [
          -10,
          -9,
          -8,
          -7,
          -6,
          -5,
          -4,
          -3,
          -2,
          -1,
          0,
          1,
          2,
          3,
          4,
          5,
          6,
          7,
          8,
          9
         ],
         "y": [
          23.438000000000102,
          -5.858999999999999,
          17.392238095238092,
          7.050390243902445,
          -0.22111320754716435,
          0.21309090909091372,
          0,
          10.937563636363633,
          0.887745454545455,
          -0.9588363636363635,
          12.926090909090908,
          26.953218181818194,
          12.961709090909094,
          15.62492727272728,
          19.77987272727273,
          16.796872727272714,
          13.825117647058821,
          16.162175000000012,
          24.27466666666667,
          37.760500000000036
         ]
        },
        {
         "error_y": {
          "array": [
           null,
           45.4469577780271,
           83.56591013166918,
           66.54713678882094,
           40.68993274432041,
           0,
           33.691694996098754,
           47.62081913040095,
           74.42827871703602,
           66.86654884981834,
           45.8383222495148,
           67.17340735235996,
           81.59407936524534,
           90.35863697221453,
           71.05441774043959,
           63.137377530723775,
           67.53915139775899,
           69.24528419635041,
           17.901177307652105
          ],
          "type": "data",
          "visible": true
         },
         "legendgroup": "StressFalse",
         "mode": "markers+lines",
         "name": "Stress NOT answered in time - n= 45",
         "showlegend": true,
         "type": "scattergl",
         "x": [
          -9,
          -8,
          -7,
          -6,
          -5,
          -4,
          -3,
          -2,
          -1,
          0,
          1,
          2,
          3,
          4,
          5,
          6,
          7,
          8,
          9
         ],
         "y": [
          62.500999999999976,
          21.050555555555587,
          -17.773650000000014,
          -10.475863636363643,
          1.7089583333333234,
          0,
          -7.405666666666676,
          -17.496708333333334,
          -14.485791666666671,
          6.99870833333333,
          9.277291666666661,
          22.542249999999996,
          11.230374999999995,
          -30.924458333333334,
          -36.310363636363654,
          -38.597571428571435,
          -32.44366666666666,
          -55.6641,
          -39.063000000000024
         ]
        }
       ],
       "layout": {
        "autosize": true,
        "template": {
         "data": {
          "bar": [
           {
            "error_x": {
             "color": "#2a3f5f"
            },
            "error_y": {
             "color": "#2a3f5f"
            },
            "marker": {
             "line": {
              "color": "#E5ECF6",
              "width": 0.5
             },
             "pattern": {
              "fillmode": "overlay",
              "size": 10,
              "solidity": 0.2
             }
            },
            "type": "bar"
           }
          ],
          "barpolar": [
           {
            "marker": {
             "line": {
              "color": "#E5ECF6",
              "width": 0.5
             },
             "pattern": {
              "fillmode": "overlay",
              "size": 10,
              "solidity": 0.2
             }
            },
            "type": "barpolar"
           }
          ],
          "carpet": [
           {
            "aaxis": {
             "endlinecolor": "#2a3f5f",
             "gridcolor": "white",
             "linecolor": "white",
             "minorgridcolor": "white",
             "startlinecolor": "#2a3f5f"
            },
            "baxis": {
             "endlinecolor": "#2a3f5f",
             "gridcolor": "white",
             "linecolor": "white",
             "minorgridcolor": "white",
             "startlinecolor": "#2a3f5f"
            },
            "type": "carpet"
           }
          ],
          "choropleth": [
           {
            "colorbar": {
             "outlinewidth": 0,
             "ticks": ""
            },
            "type": "choropleth"
           }
          ],
          "contour": [
           {
            "colorbar": {
             "outlinewidth": 0,
             "ticks": ""
            },
            "colorscale": [
             [
              0,
              "#0d0887"
             ],
             [
              0.1111111111111111,
              "#46039f"
             ],
             [
              0.2222222222222222,
              "#7201a8"
             ],
             [
              0.3333333333333333,
              "#9c179e"
             ],
             [
              0.4444444444444444,
              "#bd3786"
             ],
             [
              0.5555555555555556,
              "#d8576b"
             ],
             [
              0.6666666666666666,
              "#ed7953"
             ],
             [
              0.7777777777777778,
              "#fb9f3a"
             ],
             [
              0.8888888888888888,
              "#fdca26"
             ],
             [
              1,
              "#f0f921"
             ]
            ],
            "type": "contour"
           }
          ],
          "contourcarpet": [
           {
            "colorbar": {
             "outlinewidth": 0,
             "ticks": ""
            },
            "type": "contourcarpet"
           }
          ],
          "heatmap": [
           {
            "colorbar": {
             "outlinewidth": 0,
             "ticks": ""
            },
            "colorscale": [
             [
              0,
              "#0d0887"
             ],
             [
              0.1111111111111111,
              "#46039f"
             ],
             [
              0.2222222222222222,
              "#7201a8"
             ],
             [
              0.3333333333333333,
              "#9c179e"
             ],
             [
              0.4444444444444444,
              "#bd3786"
             ],
             [
              0.5555555555555556,
              "#d8576b"
             ],
             [
              0.6666666666666666,
              "#ed7953"
             ],
             [
              0.7777777777777778,
              "#fb9f3a"
             ],
             [
              0.8888888888888888,
              "#fdca26"
             ],
             [
              1,
              "#f0f921"
             ]
            ],
            "type": "heatmap"
           }
          ],
          "heatmapgl": [
           {
            "colorbar": {
             "outlinewidth": 0,
             "ticks": ""
            },
            "colorscale": [
             [
              0,
              "#0d0887"
             ],
             [
              0.1111111111111111,
              "#46039f"
             ],
             [
              0.2222222222222222,
              "#7201a8"
             ],
             [
              0.3333333333333333,
              "#9c179e"
             ],
             [
              0.4444444444444444,
              "#bd3786"
             ],
             [
              0.5555555555555556,
              "#d8576b"
             ],
             [
              0.6666666666666666,
              "#ed7953"
             ],
             [
              0.7777777777777778,
              "#fb9f3a"
             ],
             [
              0.8888888888888888,
              "#fdca26"
             ],
             [
              1,
              "#f0f921"
             ]
            ],
            "type": "heatmapgl"
           }
          ],
          "histogram": [
           {
            "marker": {
             "pattern": {
              "fillmode": "overlay",
              "size": 10,
              "solidity": 0.2
             }
            },
            "type": "histogram"
           }
          ],
          "histogram2d": [
           {
            "colorbar": {
             "outlinewidth": 0,
             "ticks": ""
            },
            "colorscale": [
             [
              0,
              "#0d0887"
             ],
             [
              0.1111111111111111,
              "#46039f"
             ],
             [
              0.2222222222222222,
              "#7201a8"
             ],
             [
              0.3333333333333333,
              "#9c179e"
             ],
             [
              0.4444444444444444,
              "#bd3786"
             ],
             [
              0.5555555555555556,
              "#d8576b"
             ],
             [
              0.6666666666666666,
              "#ed7953"
             ],
             [
              0.7777777777777778,
              "#fb9f3a"
             ],
             [
              0.8888888888888888,
              "#fdca26"
             ],
             [
              1,
              "#f0f921"
             ]
            ],
            "type": "histogram2d"
           }
          ],
          "histogram2dcontour": [
           {
            "colorbar": {
             "outlinewidth": 0,
             "ticks": ""
            },
            "colorscale": [
             [
              0,
              "#0d0887"
             ],
             [
              0.1111111111111111,
              "#46039f"
             ],
             [
              0.2222222222222222,
              "#7201a8"
             ],
             [
              0.3333333333333333,
              "#9c179e"
             ],
             [
              0.4444444444444444,
              "#bd3786"
             ],
             [
              0.5555555555555556,
              "#d8576b"
             ],
             [
              0.6666666666666666,
              "#ed7953"
             ],
             [
              0.7777777777777778,
              "#fb9f3a"
             ],
             [
              0.8888888888888888,
              "#fdca26"
             ],
             [
              1,
              "#f0f921"
             ]
            ],
            "type": "histogram2dcontour"
           }
          ],
          "mesh3d": [
           {
            "colorbar": {
             "outlinewidth": 0,
             "ticks": ""
            },
            "type": "mesh3d"
           }
          ],
          "parcoords": [
           {
            "line": {
             "colorbar": {
              "outlinewidth": 0,
              "ticks": ""
             }
            },
            "type": "parcoords"
           }
          ],
          "pie": [
           {
            "automargin": true,
            "type": "pie"
           }
          ],
          "scatter": [
           {
            "marker": {
             "colorbar": {
              "outlinewidth": 0,
              "ticks": ""
             }
            },
            "type": "scatter"
           }
          ],
          "scatter3d": [
           {
            "line": {
             "colorbar": {
              "outlinewidth": 0,
              "ticks": ""
             }
            },
            "marker": {
             "colorbar": {
              "outlinewidth": 0,
              "ticks": ""
             }
            },
            "type": "scatter3d"
           }
          ],
          "scattercarpet": [
           {
            "marker": {
             "colorbar": {
              "outlinewidth": 0,
              "ticks": ""
             }
            },
            "type": "scattercarpet"
           }
          ],
          "scattergeo": [
           {
            "marker": {
             "colorbar": {
              "outlinewidth": 0,
              "ticks": ""
             }
            },
            "type": "scattergeo"
           }
          ],
          "scattergl": [
           {
            "marker": {
             "colorbar": {
              "outlinewidth": 0,
              "ticks": ""
             }
            },
            "type": "scattergl"
           }
          ],
          "scattermapbox": [
           {
            "marker": {
             "colorbar": {
              "outlinewidth": 0,
              "ticks": ""
             }
            },
            "type": "scattermapbox"
           }
          ],
          "scatterpolar": [
           {
            "marker": {
             "colorbar": {
              "outlinewidth": 0,
              "ticks": ""
             }
            },
            "type": "scatterpolar"
           }
          ],
          "scatterpolargl": [
           {
            "marker": {
             "colorbar": {
              "outlinewidth": 0,
              "ticks": ""
             }
            },
            "type": "scatterpolargl"
           }
          ],
          "scatterternary": [
           {
            "marker": {
             "colorbar": {
              "outlinewidth": 0,
              "ticks": ""
             }
            },
            "type": "scatterternary"
           }
          ],
          "surface": [
           {
            "colorbar": {
             "outlinewidth": 0,
             "ticks": ""
            },
            "colorscale": [
             [
              0,
              "#0d0887"
             ],
             [
              0.1111111111111111,
              "#46039f"
             ],
             [
              0.2222222222222222,
              "#7201a8"
             ],
             [
              0.3333333333333333,
              "#9c179e"
             ],
             [
              0.4444444444444444,
              "#bd3786"
             ],
             [
              0.5555555555555556,
              "#d8576b"
             ],
             [
              0.6666666666666666,
              "#ed7953"
             ],
             [
              0.7777777777777778,
              "#fb9f3a"
             ],
             [
              0.8888888888888888,
              "#fdca26"
             ],
             [
              1,
              "#f0f921"
             ]
            ],
            "type": "surface"
           }
          ],
          "table": [
           {
            "cells": {
             "fill": {
              "color": "#EBF0F8"
             },
             "line": {
              "color": "white"
             }
            },
            "header": {
             "fill": {
              "color": "#C8D4E3"
             },
             "line": {
              "color": "white"
             }
            },
            "type": "table"
           }
          ]
         },
         "layout": {
          "annotationdefaults": {
           "arrowcolor": "#2a3f5f",
           "arrowhead": 0,
           "arrowwidth": 1
          },
          "autotypenumbers": "strict",
          "coloraxis": {
           "colorbar": {
            "outlinewidth": 0,
            "ticks": ""
           }
          },
          "colorscale": {
           "diverging": [
            [
             0,
             "#8e0152"
            ],
            [
             0.1,
             "#c51b7d"
            ],
            [
             0.2,
             "#de77ae"
            ],
            [
             0.3,
             "#f1b6da"
            ],
            [
             0.4,
             "#fde0ef"
            ],
            [
             0.5,
             "#f7f7f7"
            ],
            [
             0.6,
             "#e6f5d0"
            ],
            [
             0.7,
             "#b8e186"
            ],
            [
             0.8,
             "#7fbc41"
            ],
            [
             0.9,
             "#4d9221"
            ],
            [
             1,
             "#276419"
            ]
           ],
           "sequential": [
            [
             0,
             "#0d0887"
            ],
            [
             0.1111111111111111,
             "#46039f"
            ],
            [
             0.2222222222222222,
             "#7201a8"
            ],
            [
             0.3333333333333333,
             "#9c179e"
            ],
            [
             0.4444444444444444,
             "#bd3786"
            ],
            [
             0.5555555555555556,
             "#d8576b"
            ],
            [
             0.6666666666666666,
             "#ed7953"
            ],
            [
             0.7777777777777778,
             "#fb9f3a"
            ],
            [
             0.8888888888888888,
             "#fdca26"
            ],
            [
             1,
             "#f0f921"
            ]
           ],
           "sequentialminus": [
            [
             0,
             "#0d0887"
            ],
            [
             0.1111111111111111,
             "#46039f"
            ],
            [
             0.2222222222222222,
             "#7201a8"
            ],
            [
             0.3333333333333333,
             "#9c179e"
            ],
            [
             0.4444444444444444,
             "#bd3786"
            ],
            [
             0.5555555555555556,
             "#d8576b"
            ],
            [
             0.6666666666666666,
             "#ed7953"
            ],
            [
             0.7777777777777778,
             "#fb9f3a"
            ],
            [
             0.8888888888888888,
             "#fdca26"
            ],
            [
             1,
             "#f0f921"
            ]
           ]
          },
          "colorway": [
           "#636efa",
           "#EF553B",
           "#00cc96",
           "#ab63fa",
           "#FFA15A",
           "#19d3f3",
           "#FF6692",
           "#B6E880",
           "#FF97FF",
           "#FECB52"
          ],
          "font": {
           "color": "#2a3f5f"
          },
          "geo": {
           "bgcolor": "white",
           "lakecolor": "white",
           "landcolor": "#E5ECF6",
           "showlakes": true,
           "showland": true,
           "subunitcolor": "white"
          },
          "hoverlabel": {
           "align": "left"
          },
          "hovermode": "closest",
          "mapbox": {
           "style": "light"
          },
          "paper_bgcolor": "white",
          "plot_bgcolor": "#E5ECF6",
          "polar": {
           "angularaxis": {
            "gridcolor": "white",
            "linecolor": "white",
            "ticks": ""
           },
           "bgcolor": "#E5ECF6",
           "radialaxis": {
            "gridcolor": "white",
            "linecolor": "white",
            "ticks": ""
           }
          },
          "scene": {
           "xaxis": {
            "backgroundcolor": "#E5ECF6",
            "gridcolor": "white",
            "gridwidth": 2,
            "linecolor": "white",
            "showbackground": true,
            "ticks": "",
            "zerolinecolor": "white"
           },
           "yaxis": {
            "backgroundcolor": "#E5ECF6",
            "gridcolor": "white",
            "gridwidth": 2,
            "linecolor": "white",
            "showbackground": true,
            "ticks": "",
            "zerolinecolor": "white"
           },
           "zaxis": {
            "backgroundcolor": "#E5ECF6",
            "gridcolor": "white",
            "gridwidth": 2,
            "linecolor": "white",
            "showbackground": true,
            "ticks": "",
            "zerolinecolor": "white"
           }
          },
          "shapedefaults": {
           "line": {
            "color": "#2a3f5f"
           }
          },
          "ternary": {
           "aaxis": {
            "gridcolor": "white",
            "linecolor": "white",
            "ticks": ""
           },
           "baxis": {
            "gridcolor": "white",
            "linecolor": "white",
            "ticks": ""
           },
           "bgcolor": "#E5ECF6",
           "caxis": {
            "gridcolor": "white",
            "linecolor": "white",
            "ticks": ""
           }
          },
          "title": {
           "x": 0.05
          },
          "xaxis": {
           "automargin": true,
           "gridcolor": "white",
           "linecolor": "white",
           "ticks": "",
           "title": {
            "standoff": 15
           },
           "zerolinecolor": "white",
           "zerolinewidth": 2
          },
          "yaxis": {
           "automargin": true,
           "gridcolor": "white",
           "linecolor": "white",
           "ticks": "",
           "title": {
            "standoff": 15
           },
           "zerolinecolor": "white",
           "zerolinewidth": 2
          }
         }
        },
        "title": {
         "text": "feedback",
         "x": 0.5
        },
        "xaxis": {
         "autorange": true,
         "range": [
          -11.26,
          12.26
         ],
         "title": {
          "text": "Sequential IBI"
         },
         "type": "linear"
        },
        "yaxis": {
         "autorange": true,
         "range": [
          -137.31959146351943,
          110.88455387986134
         ],
         "title": {
          "text": "Delta IBI (ref IBI_-4) ms"
         },
         "type": "linear"
        }
       }
      },
      "image/png": "[encoded data removed]",
      "text/html": [
       "<div>                            <div id=\"6485143b-15b0-435d-8921-6ad5322f5b99\" class=\"plotly-graph-div\" style=\"height:400px; width:100%;\"></div>            <script type=\"text/javascript\">                require([\"plotly\"], function(Plotly) {                    window.PLOTLYENV=window.PLOTLYENV || {};                                    if (document.getElementById(\"6485143b-15b0-435d-8921-6ad5322f5b99\")) {                    Plotly.newPlot(                        \"6485143b-15b0-435d-8921-6ad5322f5b99\",                        [{\"error_y\":{\"array\":[35.802531448244885,46.49113694580245,57.5084529664528,62.87943154628368,63.21971431292817,43.51475647478741,0.0,43.14269871409454,59.76422743912121,66.96842699174339,69.56078430693321,71.92712234156842,76.56225974605948,79.02863943819604,85.48587688451265,89.19635754275549,89.3850434204519,84.417693809906,79.14954946741999,71.81762290535967,56.33546047125885,null],\"type\":\"data\",\"visible\":true},\"legendgroup\":\"ControleTrue\",\"mode\":\"markers+lines\",\"name\":\"Controle answered in time - n= 1624\",\"showlegend\":true,\"type\":\"scattergl\",\"x\":[-10,-9,-8,-7,-6,-5,-4,-3,-2,-1,0,1,2,3,4,5,6,7,8,9,10,11],\"y\":[27.79453846153846,12.139453846153847,7.110743707093815,2.4805400516795886,-2.908284221525603,-2.9297052313883305,0.0,2.023558116232465,3.7594739478957906,8.166737474949903,13.505499999999998,2.056854709418837,-20.173182364729463,-29.336031062124253,-24.746771543086172,-15.246520080321282,-5.911760824742269,-2.6368335373317016,-5.936573883161512,-3.675506329113924,-3.7667678571428587,-37.110000000000014]},{\"error_y\":{\"array\":[17.865694852527724,42.76347955150986,68.31810178938868,74.97033384790006,68.84952272671937,47.987876440390494,0.0,49.81119094917121,67.99836988616389,74.26636328576446,75.62313210891035,78.23312200332829,82.34387985658795,85.31695548798817,90.49401600852832,93.12816069874,89.81030810121665,87.91225528655532,84.89841724772616,79.66145321059136,50.46518116294783,null],\"type\":\"data\",\"visible\":true},\"legendgroup\":\"StressTrue\",\"mode\":\"markers+lines\",\"name\":\"Stress answered in time - n= 1640\",\"showlegend\":true,\"type\":\"scattergl\",\"x\":[-10,-9,-8,-7,-6,-5,-4,-3,-2,-1,0,1,2,3,4,5,6,7,8,9,10,11],\"y\":[3.0188181818181916,4.701221238938047,6.930274151436031,-3.2720873124147354,-4.644795386158477,-2.8656797752809013,0.0,4.238454205607474,4.530551401869158,8.100873831775699,13.932894392523366,3.499201869158876,-21.630410280373837,-33.57002429906543,-29.937564485981312,-24.887072985781998,-16.973129482071712,-12.850017326732676,-9.137298449612402,-10.30862331838565,-13.192867924528306,31.25]},{\"error_y\":{\"array\":[null,44.021002180777295,62.8434832881698,54.7743642116812,48.65304314486575,41.317068346966224,0.0,43.050066494878564,60.582906009563764,60.52786201006743,60.47735651013977,71.5211284308741,82.3195744627523,82.64803621266162,68.73454713042229,75.34520662382714,73.44760710020363,70.74507144231917,52.77614374538303,58.900570298597245],\"type\":\"data\",\"visible\":true},\"legendgroup\":\"ControleFalse\",\"mode\":\"markers+lines\",\"name\":\"Controle NOT answered in time - n= 76\",\"showlegend\":true,\"type\":\"scattergl\",\"x\":[-10,-9,-8,-7,-6,-5,-4,-3,-2,-1,0,1,2,3,4,5,6,7,8,9],\"y\":[23.438000000000102,-5.858999999999999,17.392238095238092,7.050390243902445,-0.22111320754716435,0.21309090909091372,0.0,10.937563636363633,0.887745454545455,-0.9588363636363635,12.926090909090908,26.953218181818194,12.961709090909094,15.62492727272728,19.77987272727273,16.796872727272714,13.825117647058821,16.162175000000012,24.27466666666667,37.760500000000036]},{\"error_y\":{\"array\":[null,45.4469577780271,83.56591013166918,66.54713678882094,40.68993274432041,0.0,33.691694996098754,47.62081913040095,74.42827871703602,66.86654884981834,45.8383222495148,67.17340735235996,81.59407936524534,90.35863697221453,71.05441774043959,63.137377530723775,67.53915139775899,69.24528419635041,17.901177307652105],\"type\":\"data\",\"visible\":true},\"legendgroup\":\"StressFalse\",\"mode\":\"markers+lines\",\"name\":\"Stress NOT answered in time - n= 45\",\"showlegend\":true,\"type\":\"scattergl\",\"x\":[-9,-8,-7,-6,-5,-4,-3,-2,-1,0,1,2,3,4,5,6,7,8,9],\"y\":[62.500999999999976,21.050555555555587,-17.773650000000014,-10.475863636363643,1.7089583333333234,0.0,-7.405666666666676,-17.496708333333334,-14.485791666666671,6.99870833333333,9.277291666666661,22.542249999999996,11.230374999999995,-30.924458333333334,-36.310363636363654,-38.597571428571435,-32.44366666666666,-55.6641,-39.063000000000024]}],                        {\"height\":400,\"template\":{\"data\":{\"bar\":[{\"error_x\":{\"color\":\"#2a3f5f\"},\"error_y\":{\"color\":\"#2a3f5f\"},\"marker\":{\"line\":{\"color\":\"#E5ECF6\",\"width\":0.5},\"pattern\":{\"fillmode\":\"overlay\",\"size\":10,\"solidity\":0.2}},\"type\":\"bar\"}],\"barpolar\":[{\"marker\":{\"line\":{\"color\":\"#E5ECF6\",\"width\":0.5},\"pattern\":{\"fillmode\":\"overlay\",\"size\":10,\"solidity\":0.2}},\"type\":\"barpolar\"}],\"carpet\":[{\"aaxis\":{\"endlinecolor\":\"#2a3f5f\",\"gridcolor\":\"white\",\"linecolor\":\"white\",\"minorgridcolor\":\"white\",\"startlinecolor\":\"#2a3f5f\"},\"baxis\":{\"endlinecolor\":\"#2a3f5f\",\"gridcolor\":\"white\",\"linecolor\":\"white\",\"minorgridcolor\":\"white\",\"startlinecolor\":\"#2a3f5f\"},\"type\":\"carpet\"}],\"choropleth\":[{\"colorbar\":{\"outlinewidth\":0,\"ticks\":\"\"},\"type\":\"choropleth\"}],\"contour\":[{\"colorbar\":{\"outlinewidth\":0,\"ticks\":\"\"},\"colorscale\":[[0.0,\"#0d0887\"],[0.1111111111111111,\"#46039f\"],[0.2222222222222222,\"#7201a8\"],[0.3333333333333333,\"#9c179e\"],[0.4444444444444444,\"#bd3786\"],[0.5555555555555556,\"#d8576b\"],[0.6666666666666666,\"#ed7953\"],[0.7777777777777778,\"#fb9f3a\"],[0.8888888888888888,\"#fdca26\"],[1.0,\"#f0f921\"]],\"type\":\"contour\"}],\"contourcarpet\":[{\"colorbar\":{\"outlinewidth\":0,\"ticks\":\"\"},\"type\":\"contourcarpet\"}],\"heatmap\":[{\"colorbar\":{\"outlinewidth\":0,\"ticks\":\"\"},\"colorscale\":[[0.0,\"#0d0887\"],[0.1111111111111111,\"#46039f\"],[0.2222222222222222,\"#7201a8\"],[0.3333333333333333,\"#9c179e\"],[0.4444444444444444,\"#bd3786\"],[0.5555555555555556,\"#d8576b\"],[0.6666666666666666,\"#ed7953\"],[0.7777777777777778,\"#fb9f3a\"],[0.8888888888888888,\"#fdca26\"],[1.0,\"#f0f921\"]],\"type\":\"heatmap\"}],\"heatmapgl\":[{\"colorbar\":{\"outlinewidth\":0,\"ticks\":\"\"},\"colorscale\":[[0.0,\"#0d0887\"],[0.1111111111111111,\"#46039f\"],[0.2222222222222222,\"#7201a8\"],[0.3333333333333333,\"#9c179e\"],[0.4444444444444444,\"#bd3786\"],[0.5555555555555556,\"#d8576b\"],[0.6666666666666666,\"#ed7953\"],[0.7777777777777778,\"#fb9f3a\"],[0.8888888888888888,\"#fdca26\"],[1.0,\"#f0f921\"]],\"type\":\"heatmapgl\"}],\"histogram\":[{\"marker\":{\"pattern\":{\"fillmode\":\"overlay\",\"size\":10,\"solidity\":0.2}},\"type\":\"histogram\"}],\"histogram2d\":[{\"colorbar\":{\"outlinewidth\":0,\"ticks\":\"\"},\"colorscale\":[[0.0,\"#0d0887\"],[0.1111111111111111,\"#46039f\"],[0.2222222222222222,\"#7201a8\"],[0.3333333333333333,\"#9c179e\"],[0.4444444444444444,\"#bd3786\"],[0.5555555555555556,\"#d8576b\"],[0.6666666666666666,\"#ed7953\"],[0.7777777777777778,\"#fb9f3a\"],[0.8888888888888888,\"#fdca26\"],[1.0,\"#f0f921\"]],\"type\":\"histogram2d\"}],\"histogram2dcontour\":[{\"colorbar\":{\"outlinewidth\":0,\"ticks\":\"\"},\"colorscale\":[[0.0,\"#0d0887\"],[0.1111111111111111,\"#46039f\"],[0.2222222222222222,\"#7201a8\"],[0.3333333333333333,\"#9c179e\"],[0.4444444444444444,\"#bd3786\"],[0.5555555555555556,\"#d8576b\"],[0.6666666666666666,\"#ed7953\"],[0.7777777777777778,\"#fb9f3a\"],[0.8888888888888888,\"#fdca26\"],[1.0,\"#f0f921\"]],\"type\":\"histogram2dcontour\"}],\"mesh3d\":[{\"colorbar\":{\"outlinewidth\":0,\"ticks\":\"\"},\"type\":\"mesh3d\"}],\"parcoords\":[{\"line\":{\"colorbar\":{\"outlinewidth\":0,\"ticks\":\"\"}},\"type\":\"parcoords\"}],\"pie\":[{\"automargin\":true,\"type\":\"pie\"}],\"scatter\":[{\"marker\":{\"colorbar\":{\"outlinewidth\":0,\"ticks\":\"\"}},\"type\":\"scatter\"}],\"scatter3d\":[{\"line\":{\"colorbar\":{\"outlinewidth\":0,\"ticks\":\"\"}},\"marker\":{\"colorbar\":{\"outlinewidth\":0,\"ticks\":\"\"}},\"type\":\"scatter3d\"}],\"scattercarpet\":[{\"marker\":{\"colorbar\":{\"outlinewidth\":0,\"ticks\":\"\"}},\"type\":\"scattercarpet\"}],\"scattergeo\":[{\"marker\":{\"colorbar\":{\"outlinewidth\":0,\"ticks\":\"\"}},\"type\":\"scattergeo\"}],\"scattergl\":[{\"marker\":{\"colorbar\":{\"outlinewidth\":0,\"ticks\":\"\"}},\"type\":\"scattergl\"}],\"scattermapbox\":[{\"marker\":{\"colorbar\":{\"outlinewidth\":0,\"ticks\":\"\"}},\"type\":\"scattermapbox\"}],\"scatterpolar\":[{\"marker\":{\"colorbar\":{\"outlinewidth\":0,\"ticks\":\"\"}},\"type\":\"scatterpolar\"}],\"scatterpolargl\":[{\"marker\":{\"colorbar\":{\"outlinewidth\":0,\"ticks\":\"\"}},\"type\":\"scatterpolargl\"}],\"scatterternary\":[{\"marker\":{\"colorbar\":{\"outlinewidth\":0,\"ticks\":\"\"}},\"type\":\"scatterternary\"}],\"surface\":[{\"colorbar\":{\"outlinewidth\":0,\"ticks\":\"\"},\"colorscale\":[[0.0,\"#0d0887\"],[0.1111111111111111,\"#46039f\"],[0.2222222222222222,\"#7201a8\"],[0.3333333333333333,\"#9c179e\"],[0.4444444444444444,\"#bd3786\"],[0.5555555555555556,\"#d8576b\"],[0.6666666666666666,\"#ed7953\"],[0.7777777777777778,\"#fb9f3a\"],[0.8888888888888888,\"#fdca26\"],[1.0,\"#f0f921\"]],\"type\":\"surface\"}],\"table\":[{\"cells\":{\"fill\":{\"color\":\"#EBF0F8\"},\"line\":{\"color\":\"white\"}},\"header\":{\"fill\":{\"color\":\"#C8D4E3\"},\"line\":{\"color\":\"white\"}},\"type\":\"table\"}]},\"layout\":{\"annotationdefaults\":{\"arrowcolor\":\"#2a3f5f\",\"arrowhead\":0,\"arrowwidth\":1},\"autotypenumbers\":\"strict\",\"coloraxis\":{\"colorbar\":{\"outlinewidth\":0,\"ticks\":\"\"}},\"colorscale\":{\"diverging\":[[0,\"#8e0152\"],[0.1,\"#c51b7d\"],[0.2,\"#de77ae\"],[0.3,\"#f1b6da\"],[0.4,\"#fde0ef\"],[0.5,\"#f7f7f7\"],[0.6,\"#e6f5d0\"],[0.7,\"#b8e186\"],[0.8,\"#7fbc41\"],[0.9,\"#4d9221\"],[1,\"#276419\"]],\"sequential\":[[0.0,\"#0d0887\"],[0.1111111111111111,\"#46039f\"],[0.2222222222222222,\"#7201a8\"],[0.3333333333333333,\"#9c179e\"],[0.4444444444444444,\"#bd3786\"],[0.5555555555555556,\"#d8576b\"],[0.6666666666666666,\"#ed7953\"],[0.7777777777777778,\"#fb9f3a\"],[0.8888888888888888,\"#fdca26\"],[1.0,\"#f0f921\"]],\"sequentialminus\":[[0.0,\"#0d0887\"],[0.1111111111111111,\"#46039f\"],[0.2222222222222222,\"#7201a8\"],[0.3333333333333333,\"#9c179e\"],[0.4444444444444444,\"#bd3786\"],[0.5555555555555556,\"#d8576b\"],[0.6666666666666666,\"#ed7953\"],[0.7777777777777778,\"#fb9f3a\"],[0.8888888888888888,\"#fdca26\"],[1.0,\"#f0f921\"]]},\"colorway\":[\"#636efa\",\"#EF553B\",\"#00cc96\",\"#ab63fa\",\"#FFA15A\",\"#19d3f3\",\"#FF6692\",\"#B6E880\",\"#FF97FF\",\"#FECB52\"],\"font\":{\"color\":\"#2a3f5f\"},\"geo\":{\"bgcolor\":\"white\",\"lakecolor\":\"white\",\"landcolor\":\"#E5ECF6\",\"showlakes\":true,\"showland\":true,\"subunitcolor\":\"white\"},\"hoverlabel\":{\"align\":\"left\"},\"hovermode\":\"closest\",\"mapbox\":{\"style\":\"light\"},\"paper_bgcolor\":\"white\",\"plot_bgcolor\":\"#E5ECF6\",\"polar\":{\"angularaxis\":{\"gridcolor\":\"white\",\"linecolor\":\"white\",\"ticks\":\"\"},\"bgcolor\":\"#E5ECF6\",\"radialaxis\":{\"gridcolor\":\"white\",\"linecolor\":\"white\",\"ticks\":\"\"}},\"scene\":{\"xaxis\":{\"backgroundcolor\":\"#E5ECF6\",\"gridcolor\":\"white\",\"gridwidth\":2,\"linecolor\":\"white\",\"showbackground\":true,\"ticks\":\"\",\"zerolinecolor\":\"white\"},\"yaxis\":{\"backgroundcolor\":\"#E5ECF6\",\"gridcolor\":\"white\",\"gridwidth\":2,\"linecolor\":\"white\",\"showbackground\":true,\"ticks\":\"\",\"zerolinecolor\":\"white\"},\"zaxis\":{\"backgroundcolor\":\"#E5ECF6\",\"gridcolor\":\"white\",\"gridwidth\":2,\"linecolor\":\"white\",\"showbackground\":true,\"ticks\":\"\",\"zerolinecolor\":\"white\"}},\"shapedefaults\":{\"line\":{\"color\":\"#2a3f5f\"}},\"ternary\":{\"aaxis\":{\"gridcolor\":\"white\",\"linecolor\":\"white\",\"ticks\":\"\"},\"baxis\":{\"gridcolor\":\"white\",\"linecolor\":\"white\",\"ticks\":\"\"},\"bgcolor\":\"#E5ECF6\",\"caxis\":{\"gridcolor\":\"white\",\"linecolor\":\"white\",\"ticks\":\"\"}},\"title\":{\"x\":0.05},\"xaxis\":{\"automargin\":true,\"gridcolor\":\"white\",\"linecolor\":\"white\",\"ticks\":\"\",\"title\":{\"standoff\":15},\"zerolinecolor\":\"white\",\"zerolinewidth\":2},\"yaxis\":{\"automargin\":true,\"gridcolor\":\"white\",\"linecolor\":\"white\",\"ticks\":\"\",\"title\":{\"standoff\":15},\"zerolinecolor\":\"white\",\"zerolinewidth\":2}}},\"title\":{\"text\":\"feedback\",\"x\":0.5},\"xaxis\":{\"title\":{\"text\":\"Sequential IBI\"}},\"yaxis\":{\"title\":{\"text\":\"Delta IBI (ref IBI_-4) ms\"}}},                        {\"responsive\": true}                    ).then(function(){\n",
       "                            \n",
       "var gd = document.getElementById('6485143b-15b0-435d-8921-6ad5322f5b99');\n",
       "var x = new MutationObserver(function (mutations, observer) {{\n",
       "        var display = window.getComputedStyle(gd).display;\n",
       "        if (!display || display === 'none') {{\n",
       "            console.log([gd, 'removed!']);\n",
       "            Plotly.purge(gd);\n",
       "            observer.disconnect();\n",
       "        }}\n",
       "}});\n",
       "\n",
       "// Listen for the removal of the full notebook cells\n",
       "var notebookContainer = gd.closest('#notebook-container');\n",
       "if (notebookContainer) {{\n",
       "    x.observe(notebookContainer, {childList: true});\n",
       "}}\n",
       "\n",
       "// Listen for the clearing of the current output cell\n",
       "var outputEl = gd.closest('.output');\n",
       "if (outputEl) {{\n",
       "    x.observe(outputEl, {childList: true});\n",
       "}}\n",
       "\n",
       "                        })                };                });            </script>        </div>"
      ]
     },
     "metadata": {},
     "output_type": "display_data"
    }
   ],
   "source": [
    "fig_list = []\n",
    "fig = go.Figure()\n",
    "for answer_in_time in [True, False]:\n",
    "    shown_groups = []\n",
    "    for group in [\"Controle\", \"Stress\"]:\n",
    "        rr_group = []\n",
    "        df_f_gr = df_feedback[\n",
    "            (df_feedback[\"Procedure[Block]\"] == group)\n",
    "            & (df_feedback.answered_in_time == answer_in_time)\n",
    "        ]\n",
    "        for feeback_idx, _ in df_f_gr.iterrows():\n",
    "            rr_d = (\n",
    "                df_slc[df_slc[\"feedback_index\"] == feeback_idx]\n",
    "                .copy()\n",
    "                .set_index(\"IBI_pos\")\n",
    "                .sort_index()[\"RR_delta_ms\"]\n",
    "            )\n",
    "            rr_group.append(rr_d)\n",
    "\n",
    "        df_rr_group = pd.concat(rr_group, axis=1, ignore_index=False)\n",
    "        rr_group_mean = df_rr_group.mean(axis=1)\n",
    "        rr_group_std = df_rr_group.std(axis=1)\n",
    "        fig.add_trace(\n",
    "            go.Scattergl(\n",
    "                x=rr_group_mean.index,\n",
    "                y=rr_group_mean,\n",
    "                error_y=dict(type=\"data\", array=rr_group_std, visible=True),\n",
    "                mode=\"markers+lines\",\n",
    "                name=group\n",
    "                + f\"{' NOT' if not answer_in_time else ''} answered in time - n= {df_rr_group.shape[1]}\",\n",
    "                legendgroup=group + str(answer_in_time),\n",
    "                showlegend=group not in shown_groups,\n",
    "            )\n",
    "        )\n",
    "        shown_groups.append(group)\n",
    "\n",
    "fig.update_layout(height=400, title=f\"feedback\", title_x=0.5)\n",
    "fig.update_xaxes(title_text=\"Sequential IBI\")\n",
    "fig.update_yaxes(title_text=f\"Delta IBI (ref IBI_{reference_ibi_pos}) ms\")"
   ]
  },
  {
   "cell_type": "markdown",
   "metadata": {},
   "source": [
    "### Per group & answered correctly"
   ]
  },
  {
   "cell_type": "code",
   "execution_count": 8,
   "metadata": {},
   "outputs": [
    {
     "data": {
      "application/vnd.plotly.v1+json": {
       "config": {
        "plotlyServerURL": "https://plotly.com"
       },
       "data": [
        {
         "error_y": {
          "array": [
           47.581638573088256,
           50.14479970168028,
           60.69946830613342,
           66.80502378357201,
           66.71244283119171,
           44.58115743928021,
           0,
           41.774125476023386,
           58.789880950783335,
           68.16924514997699,
           71.18494808786069,
           74.48745656952589,
           77.2085204618008,
           78.079474076345,
           87.03145443944598,
           90.85649631045051,
           90.78589487706577,
           87.54482268202014,
           82.50219557487667,
           81.05974775362134,
           55.15716157095201
          ],
          "type": "data",
          "visible": true
         },
         "legendgroup": "ControleTrue",
         "mode": "markers+lines",
         "name": "Controle correct - n= 1004",
         "showlegend": true,
         "type": "scattergl",
         "x": [
          -10,
          -9,
          -8,
          -7,
          -6,
          -5,
          -4,
          -3,
          -2,
          -1,
          0,
          1,
          2,
          3,
          4,
          5,
          6,
          7,
          8,
          9,
          10
         ],
         "y": [
          41.01539999999998,
          5.4688153846153895,
          4.764352272727265,
          0.4451991786447655,
          -4.932508474576273,
          -4.750641109298532,
          0,
          1.886596434359808,
          3.2129773095623975,
          8.698847649918966,
          15.118458670988655,
          0.066461912479743,
          -25.17857698541329,
          -34.23828525121556,
          -27.530549432739065,
          -19.34072032520325,
          -9.021013377926423,
          -4.7547514677103715,
          -7.3482841530054674,
          -12.35105755395683,
          -15.914222222222222
         ]
        },
        {
         "error_y": {
          "array": [
           11.566059439872609,
           45.540375676057955,
           70.51634538062837,
           79.35677941222328,
           73.15136869698478,
           49.538672207236765,
           0,
           50.6252941799219,
           69.6027958683341,
           76.70076740254892,
           78.61208185244176,
           82.32911717899952,
           85.94651272972887,
           88.80705511048967,
           95.30153722028818,
           99.47874156002243,
           93.72746774643207,
           90.92746845328543,
           89.9968666969954,
           80.6903588094882,
           53.37911966819177
          ],
          "type": "data",
          "visible": true
         },
         "legendgroup": "StressTrue",
         "mode": "markers+lines",
         "name": "Stress correct - n= 1037",
         "showlegend": true,
         "type": "scattergl",
         "x": [
          -10,
          -9,
          -8,
          -7,
          -6,
          -5,
          -4,
          -3,
          -2,
          -1,
          0,
          1,
          2,
          3,
          4,
          5,
          6,
          7,
          8,
          9,
          10
         ],
         "y": [
          8.463833333333335,
          9.739763157894727,
          8.750309523809525,
          -4.308492569002125,
          -6.230367346938775,
          -2.9697873900293303,
          0,
          5.425346491228069,
          6.835975146198831,
          9.951200292397662,
          16.504473684210527,
          2.7783640350877166,
          -23.711625730994154,
          -33.97980701754386,
          -26.96109649122807,
          -22.60627976190477,
          -12.816037558685446,
          -9.856817120622573,
          -6.5548664688427305,
          -4.61263829787234,
          -14.855636363636373
         ]
        },
        {
         "error_y": {
          "array": [
           24.797158476885567,
           41.918907176557774,
           53.339290872239815,
           55.35383550859141,
           56.0493978418378,
           41.54555718109241,
           0,
           45.090468911567996,
           61.22107524092692,
           64.49442243133811,
           66.02387561117759,
           68.35649020478014,
           76.22819318673992,
           81.18797798572955,
           82.205253852345,
           85.20961887101554,
           85.51323642771796,
           78.08802894353227,
           72.0140614009692,
           54.62345933389653,
           55.9843711309116,
           null
          ],
          "type": "data",
          "visible": true
         },
         "legendgroup": "ControleFalse",
         "mode": "markers+lines",
         "name": "Controle NOT correct - n= 696",
         "showlegend": true,
         "type": "scattergl",
         "x": [
          -10,
          -9,
          -8,
          -7,
          -6,
          -5,
          -4,
          -3,
          -2,
          -1,
          0,
          1,
          2,
          3,
          4,
          5,
          6,
          7,
          8,
          9,
          10,
          11
         ],
         "y": [
          19.965555555555575,
          17.721749999999997,
          11.41671649484536,
          6.073756097560978,
          0.27436428571428395,
          0.02691743119266053,
          0,
          3.3418509174311897,
          4.1705825688073395,
          6.262566513761468,
          11.149850917431188,
          8.014130733944953,
          -8.910000000000004,
          -16.72698623853211,
          -15.190449541284403,
          -5.429272935779817,
          0.8634491725768306,
          2.664369942196532,
          -1.0795189873417699,
          10.31024038461538,
          7.542931034482755,
          -37.110000000000014
         ]
        },
        {
         "error_y": {
          "array": [
           23.084658123957546,
           35.98094642390252,
           62.99019076583382,
           67.77243176748952,
           60.79292422298655,
           44.895787305445495,
           0,
           47.61740312539097,
           64.15419564887135,
           70.05602473669762,
           69.63124058740341,
           69.24493901921687,
           75.5709587094554,
           79.597391014926,
           81.58510686987245,
           80.1993023263794,
           81.2052201995347,
           81.46480401436574,
           74.50877869000027,
           76.10378324592764,
           46.45871937775569,
           null
          ],
          "type": "data",
          "visible": true
         },
         "legendgroup": "StressFalse",
         "mode": "markers+lines",
         "name": "Stress NOT correct - n= 648",
         "showlegend": true,
         "type": "scattergl",
         "x": [
          -10,
          -9,
          -8,
          -7,
          -6,
          -5,
          -4,
          -3,
          -2,
          -1,
          0,
          1,
          2,
          3,
          4,
          5,
          6,
          7,
          8,
          9,
          10,
          11
         ],
         "y": [
          -3.5151999999999815,
          -3.8548157894736796,
          4.5619428571428555,
          -2.569549645390074,
          -2.3366125654450305,
          -2.424721951219511,
          0,
          1.576763414634141,
          -0.6049707317073171,
          3.691841463414629,
          9.236843902439025,
          5.039999999999999,
          -15.572617073170738,
          -30.263924390243908,
          -34.96095365853659,
          -29.292024691358026,
          -25.0314067357513,
          -18.911525641025644,
          -16.203687830687826,
          -20.772117647058824,
          -10.449299999999994,
          31.25
         ]
        }
       ],
       "layout": {
        "autosize": true,
        "template": {
         "data": {
          "bar": [
           {
            "error_x": {
             "color": "#2a3f5f"
            },
            "error_y": {
             "color": "#2a3f5f"
            },
            "marker": {
             "line": {
              "color": "#E5ECF6",
              "width": 0.5
             },
             "pattern": {
              "fillmode": "overlay",
              "size": 10,
              "solidity": 0.2
             }
            },
            "type": "bar"
           }
          ],
          "barpolar": [
           {
            "marker": {
             "line": {
              "color": "#E5ECF6",
              "width": 0.5
             },
             "pattern": {
              "fillmode": "overlay",
              "size": 10,
              "solidity": 0.2
             }
            },
            "type": "barpolar"
           }
          ],
          "carpet": [
           {
            "aaxis": {
             "endlinecolor": "#2a3f5f",
             "gridcolor": "white",
             "linecolor": "white",
             "minorgridcolor": "white",
             "startlinecolor": "#2a3f5f"
            },
            "baxis": {
             "endlinecolor": "#2a3f5f",
             "gridcolor": "white",
             "linecolor": "white",
             "minorgridcolor": "white",
             "startlinecolor": "#2a3f5f"
            },
            "type": "carpet"
           }
          ],
          "choropleth": [
           {
            "colorbar": {
             "outlinewidth": 0,
             "ticks": ""
            },
            "type": "choropleth"
           }
          ],
          "contour": [
           {
            "colorbar": {
             "outlinewidth": 0,
             "ticks": ""
            },
            "colorscale": [
             [
              0,
              "#0d0887"
             ],
             [
              0.1111111111111111,
              "#46039f"
             ],
             [
              0.2222222222222222,
              "#7201a8"
             ],
             [
              0.3333333333333333,
              "#9c179e"
             ],
             [
              0.4444444444444444,
              "#bd3786"
             ],
             [
              0.5555555555555556,
              "#d8576b"
             ],
             [
              0.6666666666666666,
              "#ed7953"
             ],
             [
              0.7777777777777778,
              "#fb9f3a"
             ],
             [
              0.8888888888888888,
              "#fdca26"
             ],
             [
              1,
              "#f0f921"
             ]
            ],
            "type": "contour"
           }
          ],
          "contourcarpet": [
           {
            "colorbar": {
             "outlinewidth": 0,
             "ticks": ""
            },
            "type": "contourcarpet"
           }
          ],
          "heatmap": [
           {
            "colorbar": {
             "outlinewidth": 0,
             "ticks": ""
            },
            "colorscale": [
             [
              0,
              "#0d0887"
             ],
             [
              0.1111111111111111,
              "#46039f"
             ],
             [
              0.2222222222222222,
              "#7201a8"
             ],
             [
              0.3333333333333333,
              "#9c179e"
             ],
             [
              0.4444444444444444,
              "#bd3786"
             ],
             [
              0.5555555555555556,
              "#d8576b"
             ],
             [
              0.6666666666666666,
              "#ed7953"
             ],
             [
              0.7777777777777778,
              "#fb9f3a"
             ],
             [
              0.8888888888888888,
              "#fdca26"
             ],
             [
              1,
              "#f0f921"
             ]
            ],
            "type": "heatmap"
           }
          ],
          "heatmapgl": [
           {
            "colorbar": {
             "outlinewidth": 0,
             "ticks": ""
            },
            "colorscale": [
             [
              0,
              "#0d0887"
             ],
             [
              0.1111111111111111,
              "#46039f"
             ],
             [
              0.2222222222222222,
              "#7201a8"
             ],
             [
              0.3333333333333333,
              "#9c179e"
             ],
             [
              0.4444444444444444,
              "#bd3786"
             ],
             [
              0.5555555555555556,
              "#d8576b"
             ],
             [
              0.6666666666666666,
              "#ed7953"
             ],
             [
              0.7777777777777778,
              "#fb9f3a"
             ],
             [
              0.8888888888888888,
              "#fdca26"
             ],
             [
              1,
              "#f0f921"
             ]
            ],
            "type": "heatmapgl"
           }
          ],
          "histogram": [
           {
            "marker": {
             "pattern": {
              "fillmode": "overlay",
              "size": 10,
              "solidity": 0.2
             }
            },
            "type": "histogram"
           }
          ],
          "histogram2d": [
           {
            "colorbar": {
             "outlinewidth": 0,
             "ticks": ""
            },
            "colorscale": [
             [
              0,
              "#0d0887"
             ],
             [
              0.1111111111111111,
              "#46039f"
             ],
             [
              0.2222222222222222,
              "#7201a8"
             ],
             [
              0.3333333333333333,
              "#9c179e"
             ],
             [
              0.4444444444444444,
              "#bd3786"
             ],
             [
              0.5555555555555556,
              "#d8576b"
             ],
             [
              0.6666666666666666,
              "#ed7953"
             ],
             [
              0.7777777777777778,
              "#fb9f3a"
             ],
             [
              0.8888888888888888,
              "#fdca26"
             ],
             [
              1,
              "#f0f921"
             ]
            ],
            "type": "histogram2d"
           }
          ],
          "histogram2dcontour": [
           {
            "colorbar": {
             "outlinewidth": 0,
             "ticks": ""
            },
            "colorscale": [
             [
              0,
              "#0d0887"
             ],
             [
              0.1111111111111111,
              "#46039f"
             ],
             [
              0.2222222222222222,
              "#7201a8"
             ],
             [
              0.3333333333333333,
              "#9c179e"
             ],
             [
              0.4444444444444444,
              "#bd3786"
             ],
             [
              0.5555555555555556,
              "#d8576b"
             ],
             [
              0.6666666666666666,
              "#ed7953"
             ],
             [
              0.7777777777777778,
              "#fb9f3a"
             ],
             [
              0.8888888888888888,
              "#fdca26"
             ],
             [
              1,
              "#f0f921"
             ]
            ],
            "type": "histogram2dcontour"
           }
          ],
          "mesh3d": [
           {
            "colorbar": {
             "outlinewidth": 0,
             "ticks": ""
            },
            "type": "mesh3d"
           }
          ],
          "parcoords": [
           {
            "line": {
             "colorbar": {
              "outlinewidth": 0,
              "ticks": ""
             }
            },
            "type": "parcoords"
           }
          ],
          "pie": [
           {
            "automargin": true,
            "type": "pie"
           }
          ],
          "scatter": [
           {
            "marker": {
             "colorbar": {
              "outlinewidth": 0,
              "ticks": ""
             }
            },
            "type": "scatter"
           }
          ],
          "scatter3d": [
           {
            "line": {
             "colorbar": {
              "outlinewidth": 0,
              "ticks": ""
             }
            },
            "marker": {
             "colorbar": {
              "outlinewidth": 0,
              "ticks": ""
             }
            },
            "type": "scatter3d"
           }
          ],
          "scattercarpet": [
           {
            "marker": {
             "colorbar": {
              "outlinewidth": 0,
              "ticks": ""
             }
            },
            "type": "scattercarpet"
           }
          ],
          "scattergeo": [
           {
            "marker": {
             "colorbar": {
              "outlinewidth": 0,
              "ticks": ""
             }
            },
            "type": "scattergeo"
           }
          ],
          "scattergl": [
           {
            "marker": {
             "colorbar": {
              "outlinewidth": 0,
              "ticks": ""
             }
            },
            "type": "scattergl"
           }
          ],
          "scattermapbox": [
           {
            "marker": {
             "colorbar": {
              "outlinewidth": 0,
              "ticks": ""
             }
            },
            "type": "scattermapbox"
           }
          ],
          "scatterpolar": [
           {
            "marker": {
             "colorbar": {
              "outlinewidth": 0,
              "ticks": ""
             }
            },
            "type": "scatterpolar"
           }
          ],
          "scatterpolargl": [
           {
            "marker": {
             "colorbar": {
              "outlinewidth": 0,
              "ticks": ""
             }
            },
            "type": "scatterpolargl"
           }
          ],
          "scatterternary": [
           {
            "marker": {
             "colorbar": {
              "outlinewidth": 0,
              "ticks": ""
             }
            },
            "type": "scatterternary"
           }
          ],
          "surface": [
           {
            "colorbar": {
             "outlinewidth": 0,
             "ticks": ""
            },
            "colorscale": [
             [
              0,
              "#0d0887"
             ],
             [
              0.1111111111111111,
              "#46039f"
             ],
             [
              0.2222222222222222,
              "#7201a8"
             ],
             [
              0.3333333333333333,
              "#9c179e"
             ],
             [
              0.4444444444444444,
              "#bd3786"
             ],
             [
              0.5555555555555556,
              "#d8576b"
             ],
             [
              0.6666666666666666,
              "#ed7953"
             ],
             [
              0.7777777777777778,
              "#fb9f3a"
             ],
             [
              0.8888888888888888,
              "#fdca26"
             ],
             [
              1,
              "#f0f921"
             ]
            ],
            "type": "surface"
           }
          ],
          "table": [
           {
            "cells": {
             "fill": {
              "color": "#EBF0F8"
             },
             "line": {
              "color": "white"
             }
            },
            "header": {
             "fill": {
              "color": "#C8D4E3"
             },
             "line": {
              "color": "white"
             }
            },
            "type": "table"
           }
          ]
         },
         "layout": {
          "annotationdefaults": {
           "arrowcolor": "#2a3f5f",
           "arrowhead": 0,
           "arrowwidth": 1
          },
          "autotypenumbers": "strict",
          "coloraxis": {
           "colorbar": {
            "outlinewidth": 0,
            "ticks": ""
           }
          },
          "colorscale": {
           "diverging": [
            [
             0,
             "#8e0152"
            ],
            [
             0.1,
             "#c51b7d"
            ],
            [
             0.2,
             "#de77ae"
            ],
            [
             0.3,
             "#f1b6da"
            ],
            [
             0.4,
             "#fde0ef"
            ],
            [
             0.5,
             "#f7f7f7"
            ],
            [
             0.6,
             "#e6f5d0"
            ],
            [
             0.7,
             "#b8e186"
            ],
            [
             0.8,
             "#7fbc41"
            ],
            [
             0.9,
             "#4d9221"
            ],
            [
             1,
             "#276419"
            ]
           ],
           "sequential": [
            [
             0,
             "#0d0887"
            ],
            [
             0.1111111111111111,
             "#46039f"
            ],
            [
             0.2222222222222222,
             "#7201a8"
            ],
            [
             0.3333333333333333,
             "#9c179e"
            ],
            [
             0.4444444444444444,
             "#bd3786"
            ],
            [
             0.5555555555555556,
             "#d8576b"
            ],
            [
             0.6666666666666666,
             "#ed7953"
            ],
            [
             0.7777777777777778,
             "#fb9f3a"
            ],
            [
             0.8888888888888888,
             "#fdca26"
            ],
            [
             1,
             "#f0f921"
            ]
           ],
           "sequentialminus": [
            [
             0,
             "#0d0887"
            ],
            [
             0.1111111111111111,
             "#46039f"
            ],
            [
             0.2222222222222222,
             "#7201a8"
            ],
            [
             0.3333333333333333,
             "#9c179e"
            ],
            [
             0.4444444444444444,
             "#bd3786"
            ],
            [
             0.5555555555555556,
             "#d8576b"
            ],
            [
             0.6666666666666666,
             "#ed7953"
            ],
            [
             0.7777777777777778,
             "#fb9f3a"
            ],
            [
             0.8888888888888888,
             "#fdca26"
            ],
            [
             1,
             "#f0f921"
            ]
           ]
          },
          "colorway": [
           "#636efa",
           "#EF553B",
           "#00cc96",
           "#ab63fa",
           "#FFA15A",
           "#19d3f3",
           "#FF6692",
           "#B6E880",
           "#FF97FF",
           "#FECB52"
          ],
          "font": {
           "color": "#2a3f5f"
          },
          "geo": {
           "bgcolor": "white",
           "lakecolor": "white",
           "landcolor": "#E5ECF6",
           "showlakes": true,
           "showland": true,
           "subunitcolor": "white"
          },
          "hoverlabel": {
           "align": "left"
          },
          "hovermode": "closest",
          "mapbox": {
           "style": "light"
          },
          "paper_bgcolor": "white",
          "plot_bgcolor": "#E5ECF6",
          "polar": {
           "angularaxis": {
            "gridcolor": "white",
            "linecolor": "white",
            "ticks": ""
           },
           "bgcolor": "#E5ECF6",
           "radialaxis": {
            "gridcolor": "white",
            "linecolor": "white",
            "ticks": ""
           }
          },
          "scene": {
           "xaxis": {
            "backgroundcolor": "#E5ECF6",
            "gridcolor": "white",
            "gridwidth": 2,
            "linecolor": "white",
            "showbackground": true,
            "ticks": "",
            "zerolinecolor": "white"
           },
           "yaxis": {
            "backgroundcolor": "#E5ECF6",
            "gridcolor": "white",
            "gridwidth": 2,
            "linecolor": "white",
            "showbackground": true,
            "ticks": "",
            "zerolinecolor": "white"
           },
           "zaxis": {
            "backgroundcolor": "#E5ECF6",
            "gridcolor": "white",
            "gridwidth": 2,
            "linecolor": "white",
            "showbackground": true,
            "ticks": "",
            "zerolinecolor": "white"
           }
          },
          "shapedefaults": {
           "line": {
            "color": "#2a3f5f"
           }
          },
          "ternary": {
           "aaxis": {
            "gridcolor": "white",
            "linecolor": "white",
            "ticks": ""
           },
           "baxis": {
            "gridcolor": "white",
            "linecolor": "white",
            "ticks": ""
           },
           "bgcolor": "#E5ECF6",
           "caxis": {
            "gridcolor": "white",
            "linecolor": "white",
            "ticks": ""
           }
          },
          "title": {
           "x": 0.05
          },
          "xaxis": {
           "automargin": true,
           "gridcolor": "white",
           "linecolor": "white",
           "ticks": "",
           "title": {
            "standoff": 15
           },
           "zerolinecolor": "white",
           "zerolinewidth": 2
          },
          "yaxis": {
           "automargin": true,
           "gridcolor": "white",
           "linecolor": "white",
           "ticks": "",
           "title": {
            "standoff": 15
           },
           "zerolinecolor": "white",
           "zerolinewidth": 2
          }
         }
        },
        "title": {
         "text": "feedback",
         "x": 0.5
        },
        "xaxis": {
         "autorange": true,
         "range": [
          -11.256134969325153,
          12.256134969325153
         ],
         "title": {
          "text": "Sequential IBI"
         },
         "type": "linear"
        },
        "yaxis": {
         "autorange": true,
         "range": [
          -134.89260755384942,
          107.22230096246817
         ],
         "title": {
          "text": "Delta IBI (ref IBI_-4) (ms)"
         },
         "type": "linear"
        }
       }
      },
      "image/png": "[encoded data removed]",
      "text/html": [
       "<div>                            <div id=\"aa8c1372-f977-4251-9832-df0057967add\" class=\"plotly-graph-div\" style=\"height:400px; width:100%;\"></div>            <script type=\"text/javascript\">                require([\"plotly\"], function(Plotly) {                    window.PLOTLYENV=window.PLOTLYENV || {};                                    if (document.getElementById(\"aa8c1372-f977-4251-9832-df0057967add\")) {                    Plotly.newPlot(                        \"aa8c1372-f977-4251-9832-df0057967add\",                        [{\"error_y\":{\"array\":[47.581638573088256,50.14479970168028,60.69946830613342,66.80502378357201,66.71244283119171,44.58115743928021,0.0,41.774125476023386,58.789880950783335,68.16924514997699,71.18494808786069,74.48745656952589,77.2085204618008,78.079474076345,87.03145443944598,90.85649631045051,90.78589487706577,87.54482268202014,82.50219557487667,81.05974775362134,55.15716157095201],\"type\":\"data\",\"visible\":true},\"legendgroup\":\"ControleTrue\",\"mode\":\"markers+lines\",\"name\":\"Controle correct - n= 1004\",\"showlegend\":true,\"type\":\"scattergl\",\"x\":[-10,-9,-8,-7,-6,-5,-4,-3,-2,-1,0,1,2,3,4,5,6,7,8,9,10],\"y\":[41.01539999999998,5.4688153846153895,4.764352272727265,0.4451991786447655,-4.932508474576273,-4.750641109298532,0.0,1.886596434359808,3.2129773095623975,8.698847649918966,15.118458670988655,0.066461912479743,-25.17857698541329,-34.23828525121556,-27.530549432739065,-19.34072032520325,-9.021013377926423,-4.7547514677103715,-7.3482841530054674,-12.35105755395683,-15.914222222222222]},{\"error_y\":{\"array\":[11.566059439872609,45.540375676057955,70.51634538062837,79.35677941222328,73.15136869698478,49.538672207236765,0.0,50.6252941799219,69.6027958683341,76.70076740254892,78.61208185244176,82.32911717899952,85.94651272972887,88.80705511048967,95.30153722028818,99.47874156002243,93.72746774643207,90.92746845328543,89.9968666969954,80.6903588094882,53.37911966819177],\"type\":\"data\",\"visible\":true},\"legendgroup\":\"StressTrue\",\"mode\":\"markers+lines\",\"name\":\"Stress correct - n= 1037\",\"showlegend\":true,\"type\":\"scattergl\",\"x\":[-10,-9,-8,-7,-6,-5,-4,-3,-2,-1,0,1,2,3,4,5,6,7,8,9,10],\"y\":[8.463833333333335,9.739763157894727,8.750309523809525,-4.308492569002125,-6.230367346938775,-2.9697873900293303,0.0,5.425346491228069,6.835975146198831,9.951200292397662,16.504473684210527,2.7783640350877166,-23.711625730994154,-33.97980701754386,-26.96109649122807,-22.60627976190477,-12.816037558685446,-9.856817120622573,-6.5548664688427305,-4.61263829787234,-14.855636363636373]},{\"error_y\":{\"array\":[24.797158476885567,41.918907176557774,53.339290872239815,55.35383550859141,56.0493978418378,41.54555718109241,0.0,45.090468911567996,61.22107524092692,64.49442243133811,66.02387561117759,68.35649020478014,76.22819318673992,81.18797798572955,82.205253852345,85.20961887101554,85.51323642771796,78.08802894353227,72.0140614009692,54.62345933389653,55.9843711309116,null],\"type\":\"data\",\"visible\":true},\"legendgroup\":\"ControleFalse\",\"mode\":\"markers+lines\",\"name\":\"Controle NOT correct - n= 696\",\"showlegend\":true,\"type\":\"scattergl\",\"x\":[-10,-9,-8,-7,-6,-5,-4,-3,-2,-1,0,1,2,3,4,5,6,7,8,9,10,11],\"y\":[19.965555555555575,17.721749999999997,11.41671649484536,6.073756097560978,0.27436428571428395,0.02691743119266053,0.0,3.3418509174311897,4.1705825688073395,6.262566513761468,11.149850917431188,8.014130733944953,-8.910000000000004,-16.72698623853211,-15.190449541284403,-5.429272935779817,0.8634491725768306,2.664369942196532,-1.0795189873417699,10.31024038461538,7.542931034482755,-37.110000000000014]},{\"error_y\":{\"array\":[23.084658123957546,35.98094642390252,62.99019076583382,67.77243176748952,60.79292422298655,44.895787305445495,0.0,47.61740312539097,64.15419564887135,70.05602473669762,69.63124058740341,69.24493901921687,75.5709587094554,79.597391014926,81.58510686987245,80.1993023263794,81.2052201995347,81.46480401436574,74.50877869000027,76.10378324592764,46.45871937775569,null],\"type\":\"data\",\"visible\":true},\"legendgroup\":\"StressFalse\",\"mode\":\"markers+lines\",\"name\":\"Stress NOT correct - n= 648\",\"showlegend\":true,\"type\":\"scattergl\",\"x\":[-10,-9,-8,-7,-6,-5,-4,-3,-2,-1,0,1,2,3,4,5,6,7,8,9,10,11],\"y\":[-3.5151999999999815,-3.8548157894736796,4.5619428571428555,-2.569549645390074,-2.3366125654450305,-2.424721951219511,0.0,1.576763414634141,-0.6049707317073171,3.691841463414629,9.236843902439025,5.039999999999999,-15.572617073170738,-30.263924390243908,-34.96095365853659,-29.292024691358026,-25.0314067357513,-18.911525641025644,-16.203687830687826,-20.772117647058824,-10.449299999999994,31.25]}],                        {\"height\":400,\"template\":{\"data\":{\"bar\":[{\"error_x\":{\"color\":\"#2a3f5f\"},\"error_y\":{\"color\":\"#2a3f5f\"},\"marker\":{\"line\":{\"color\":\"#E5ECF6\",\"width\":0.5},\"pattern\":{\"fillmode\":\"overlay\",\"size\":10,\"solidity\":0.2}},\"type\":\"bar\"}],\"barpolar\":[{\"marker\":{\"line\":{\"color\":\"#E5ECF6\",\"width\":0.5},\"pattern\":{\"fillmode\":\"overlay\",\"size\":10,\"solidity\":0.2}},\"type\":\"barpolar\"}],\"carpet\":[{\"aaxis\":{\"endlinecolor\":\"#2a3f5f\",\"gridcolor\":\"white\",\"linecolor\":\"white\",\"minorgridcolor\":\"white\",\"startlinecolor\":\"#2a3f5f\"},\"baxis\":{\"endlinecolor\":\"#2a3f5f\",\"gridcolor\":\"white\",\"linecolor\":\"white\",\"minorgridcolor\":\"white\",\"startlinecolor\":\"#2a3f5f\"},\"type\":\"carpet\"}],\"choropleth\":[{\"colorbar\":{\"outlinewidth\":0,\"ticks\":\"\"},\"type\":\"choropleth\"}],\"contour\":[{\"colorbar\":{\"outlinewidth\":0,\"ticks\":\"\"},\"colorscale\":[[0.0,\"#0d0887\"],[0.1111111111111111,\"#46039f\"],[0.2222222222222222,\"#7201a8\"],[0.3333333333333333,\"#9c179e\"],[0.4444444444444444,\"#bd3786\"],[0.5555555555555556,\"#d8576b\"],[0.6666666666666666,\"#ed7953\"],[0.7777777777777778,\"#fb9f3a\"],[0.8888888888888888,\"#fdca26\"],[1.0,\"#f0f921\"]],\"type\":\"contour\"}],\"contourcarpet\":[{\"colorbar\":{\"outlinewidth\":0,\"ticks\":\"\"},\"type\":\"contourcarpet\"}],\"heatmap\":[{\"colorbar\":{\"outlinewidth\":0,\"ticks\":\"\"},\"colorscale\":[[0.0,\"#0d0887\"],[0.1111111111111111,\"#46039f\"],[0.2222222222222222,\"#7201a8\"],[0.3333333333333333,\"#9c179e\"],[0.4444444444444444,\"#bd3786\"],[0.5555555555555556,\"#d8576b\"],[0.6666666666666666,\"#ed7953\"],[0.7777777777777778,\"#fb9f3a\"],[0.8888888888888888,\"#fdca26\"],[1.0,\"#f0f921\"]],\"type\":\"heatmap\"}],\"heatmapgl\":[{\"colorbar\":{\"outlinewidth\":0,\"ticks\":\"\"},\"colorscale\":[[0.0,\"#0d0887\"],[0.1111111111111111,\"#46039f\"],[0.2222222222222222,\"#7201a8\"],[0.3333333333333333,\"#9c179e\"],[0.4444444444444444,\"#bd3786\"],[0.5555555555555556,\"#d8576b\"],[0.6666666666666666,\"#ed7953\"],[0.7777777777777778,\"#fb9f3a\"],[0.8888888888888888,\"#fdca26\"],[1.0,\"#f0f921\"]],\"type\":\"heatmapgl\"}],\"histogram\":[{\"marker\":{\"pattern\":{\"fillmode\":\"overlay\",\"size\":10,\"solidity\":0.2}},\"type\":\"histogram\"}],\"histogram2d\":[{\"colorbar\":{\"outlinewidth\":0,\"ticks\":\"\"},\"colorscale\":[[0.0,\"#0d0887\"],[0.1111111111111111,\"#46039f\"],[0.2222222222222222,\"#7201a8\"],[0.3333333333333333,\"#9c179e\"],[0.4444444444444444,\"#bd3786\"],[0.5555555555555556,\"#d8576b\"],[0.6666666666666666,\"#ed7953\"],[0.7777777777777778,\"#fb9f3a\"],[0.8888888888888888,\"#fdca26\"],[1.0,\"#f0f921\"]],\"type\":\"histogram2d\"}],\"histogram2dcontour\":[{\"colorbar\":{\"outlinewidth\":0,\"ticks\":\"\"},\"colorscale\":[[0.0,\"#0d0887\"],[0.1111111111111111,\"#46039f\"],[0.2222222222222222,\"#7201a8\"],[0.3333333333333333,\"#9c179e\"],[0.4444444444444444,\"#bd3786\"],[0.5555555555555556,\"#d8576b\"],[0.6666666666666666,\"#ed7953\"],[0.7777777777777778,\"#fb9f3a\"],[0.8888888888888888,\"#fdca26\"],[1.0,\"#f0f921\"]],\"type\":\"histogram2dcontour\"}],\"mesh3d\":[{\"colorbar\":{\"outlinewidth\":0,\"ticks\":\"\"},\"type\":\"mesh3d\"}],\"parcoords\":[{\"line\":{\"colorbar\":{\"outlinewidth\":0,\"ticks\":\"\"}},\"type\":\"parcoords\"}],\"pie\":[{\"automargin\":true,\"type\":\"pie\"}],\"scatter\":[{\"marker\":{\"colorbar\":{\"outlinewidth\":0,\"ticks\":\"\"}},\"type\":\"scatter\"}],\"scatter3d\":[{\"line\":{\"colorbar\":{\"outlinewidth\":0,\"ticks\":\"\"}},\"marker\":{\"colorbar\":{\"outlinewidth\":0,\"ticks\":\"\"}},\"type\":\"scatter3d\"}],\"scattercarpet\":[{\"marker\":{\"colorbar\":{\"outlinewidth\":0,\"ticks\":\"\"}},\"type\":\"scattercarpet\"}],\"scattergeo\":[{\"marker\":{\"colorbar\":{\"outlinewidth\":0,\"ticks\":\"\"}},\"type\":\"scattergeo\"}],\"scattergl\":[{\"marker\":{\"colorbar\":{\"outlinewidth\":0,\"ticks\":\"\"}},\"type\":\"scattergl\"}],\"scattermapbox\":[{\"marker\":{\"colorbar\":{\"outlinewidth\":0,\"ticks\":\"\"}},\"type\":\"scattermapbox\"}],\"scatterpolar\":[{\"marker\":{\"colorbar\":{\"outlinewidth\":0,\"ticks\":\"\"}},\"type\":\"scatterpolar\"}],\"scatterpolargl\":[{\"marker\":{\"colorbar\":{\"outlinewidth\":0,\"ticks\":\"\"}},\"type\":\"scatterpolargl\"}],\"scatterternary\":[{\"marker\":{\"colorbar\":{\"outlinewidth\":0,\"ticks\":\"\"}},\"type\":\"scatterternary\"}],\"surface\":[{\"colorbar\":{\"outlinewidth\":0,\"ticks\":\"\"},\"colorscale\":[[0.0,\"#0d0887\"],[0.1111111111111111,\"#46039f\"],[0.2222222222222222,\"#7201a8\"],[0.3333333333333333,\"#9c179e\"],[0.4444444444444444,\"#bd3786\"],[0.5555555555555556,\"#d8576b\"],[0.6666666666666666,\"#ed7953\"],[0.7777777777777778,\"#fb9f3a\"],[0.8888888888888888,\"#fdca26\"],[1.0,\"#f0f921\"]],\"type\":\"surface\"}],\"table\":[{\"cells\":{\"fill\":{\"color\":\"#EBF0F8\"},\"line\":{\"color\":\"white\"}},\"header\":{\"fill\":{\"color\":\"#C8D4E3\"},\"line\":{\"color\":\"white\"}},\"type\":\"table\"}]},\"layout\":{\"annotationdefaults\":{\"arrowcolor\":\"#2a3f5f\",\"arrowhead\":0,\"arrowwidth\":1},\"autotypenumbers\":\"strict\",\"coloraxis\":{\"colorbar\":{\"outlinewidth\":0,\"ticks\":\"\"}},\"colorscale\":{\"diverging\":[[0,\"#8e0152\"],[0.1,\"#c51b7d\"],[0.2,\"#de77ae\"],[0.3,\"#f1b6da\"],[0.4,\"#fde0ef\"],[0.5,\"#f7f7f7\"],[0.6,\"#e6f5d0\"],[0.7,\"#b8e186\"],[0.8,\"#7fbc41\"],[0.9,\"#4d9221\"],[1,\"#276419\"]],\"sequential\":[[0.0,\"#0d0887\"],[0.1111111111111111,\"#46039f\"],[0.2222222222222222,\"#7201a8\"],[0.3333333333333333,\"#9c179e\"],[0.4444444444444444,\"#bd3786\"],[0.5555555555555556,\"#d8576b\"],[0.6666666666666666,\"#ed7953\"],[0.7777777777777778,\"#fb9f3a\"],[0.8888888888888888,\"#fdca26\"],[1.0,\"#f0f921\"]],\"sequentialminus\":[[0.0,\"#0d0887\"],[0.1111111111111111,\"#46039f\"],[0.2222222222222222,\"#7201a8\"],[0.3333333333333333,\"#9c179e\"],[0.4444444444444444,\"#bd3786\"],[0.5555555555555556,\"#d8576b\"],[0.6666666666666666,\"#ed7953\"],[0.7777777777777778,\"#fb9f3a\"],[0.8888888888888888,\"#fdca26\"],[1.0,\"#f0f921\"]]},\"colorway\":[\"#636efa\",\"#EF553B\",\"#00cc96\",\"#ab63fa\",\"#FFA15A\",\"#19d3f3\",\"#FF6692\",\"#B6E880\",\"#FF97FF\",\"#FECB52\"],\"font\":{\"color\":\"#2a3f5f\"},\"geo\":{\"bgcolor\":\"white\",\"lakecolor\":\"white\",\"landcolor\":\"#E5ECF6\",\"showlakes\":true,\"showland\":true,\"subunitcolor\":\"white\"},\"hoverlabel\":{\"align\":\"left\"},\"hovermode\":\"closest\",\"mapbox\":{\"style\":\"light\"},\"paper_bgcolor\":\"white\",\"plot_bgcolor\":\"#E5ECF6\",\"polar\":{\"angularaxis\":{\"gridcolor\":\"white\",\"linecolor\":\"white\",\"ticks\":\"\"},\"bgcolor\":\"#E5ECF6\",\"radialaxis\":{\"gridcolor\":\"white\",\"linecolor\":\"white\",\"ticks\":\"\"}},\"scene\":{\"xaxis\":{\"backgroundcolor\":\"#E5ECF6\",\"gridcolor\":\"white\",\"gridwidth\":2,\"linecolor\":\"white\",\"showbackground\":true,\"ticks\":\"\",\"zerolinecolor\":\"white\"},\"yaxis\":{\"backgroundcolor\":\"#E5ECF6\",\"gridcolor\":\"white\",\"gridwidth\":2,\"linecolor\":\"white\",\"showbackground\":true,\"ticks\":\"\",\"zerolinecolor\":\"white\"},\"zaxis\":{\"backgroundcolor\":\"#E5ECF6\",\"gridcolor\":\"white\",\"gridwidth\":2,\"linecolor\":\"white\",\"showbackground\":true,\"ticks\":\"\",\"zerolinecolor\":\"white\"}},\"shapedefaults\":{\"line\":{\"color\":\"#2a3f5f\"}},\"ternary\":{\"aaxis\":{\"gridcolor\":\"white\",\"linecolor\":\"white\",\"ticks\":\"\"},\"baxis\":{\"gridcolor\":\"white\",\"linecolor\":\"white\",\"ticks\":\"\"},\"bgcolor\":\"#E5ECF6\",\"caxis\":{\"gridcolor\":\"white\",\"linecolor\":\"white\",\"ticks\":\"\"}},\"title\":{\"x\":0.05},\"xaxis\":{\"automargin\":true,\"gridcolor\":\"white\",\"linecolor\":\"white\",\"ticks\":\"\",\"title\":{\"standoff\":15},\"zerolinecolor\":\"white\",\"zerolinewidth\":2},\"yaxis\":{\"automargin\":true,\"gridcolor\":\"white\",\"linecolor\":\"white\",\"ticks\":\"\",\"title\":{\"standoff\":15},\"zerolinecolor\":\"white\",\"zerolinewidth\":2}}},\"title\":{\"text\":\"feedback\",\"x\":0.5},\"xaxis\":{\"title\":{\"text\":\"Sequential IBI\"}},\"yaxis\":{\"title\":{\"text\":\"Delta IBI (ref IBI_-4) (ms)\"}}},                        {\"responsive\": true}                    ).then(function(){\n",
       "                            \n",
       "var gd = document.getElementById('aa8c1372-f977-4251-9832-df0057967add');\n",
       "var x = new MutationObserver(function (mutations, observer) {{\n",
       "        var display = window.getComputedStyle(gd).display;\n",
       "        if (!display || display === 'none') {{\n",
       "            console.log([gd, 'removed!']);\n",
       "            Plotly.purge(gd);\n",
       "            observer.disconnect();\n",
       "        }}\n",
       "}});\n",
       "\n",
       "// Listen for the removal of the full notebook cells\n",
       "var notebookContainer = gd.closest('#notebook-container');\n",
       "if (notebookContainer) {{\n",
       "    x.observe(notebookContainer, {childList: true});\n",
       "}}\n",
       "\n",
       "// Listen for the clearing of the current output cell\n",
       "var outputEl = gd.closest('.output');\n",
       "if (outputEl) {{\n",
       "    x.observe(outputEl, {childList: true});\n",
       "}}\n",
       "\n",
       "                        })                };                });            </script>        </div>"
      ]
     },
     "metadata": {},
     "output_type": "display_data"
    }
   ],
   "source": [
    "fig_list = []\n",
    "fig = go.Figure()\n",
    "for answered_correctly in [True, False]:\n",
    "    shown_groups = []\n",
    "    for group in [\"Controle\", \"Stress\"]:\n",
    "        rr_group = []\n",
    "        df_f_gr = df_feedback[\n",
    "            (df_feedback[\"Procedure[Block]\"] == group)\n",
    "            & (df_feedback.answered_correctly == answered_correctly)\n",
    "        ]\n",
    "        for feeback_idx, _ in df_f_gr.iterrows():\n",
    "            rr_d = (\n",
    "                df_slc[df_slc[\"feedback_index\"] == feeback_idx]\n",
    "                .copy()\n",
    "                .set_index(\"IBI_pos\")\n",
    "                .sort_index()[\"RR_delta_ms\"]\n",
    "            )\n",
    "            rr_group.append(rr_d)\n",
    "\n",
    "        df_rr_group = pd.concat(rr_group, axis=1, ignore_index=False)\n",
    "        rr_group_mean = df_rr_group.mean(axis=1)\n",
    "        rr_group_std = df_rr_group.std(axis=1)\n",
    "        fig.add_trace(\n",
    "            go.Scattergl(\n",
    "                x=rr_group_mean.index,\n",
    "                y=rr_group_mean,\n",
    "                error_y=dict(type=\"data\", array=rr_group_std, visible=True),\n",
    "                mode=\"markers+lines\",\n",
    "                name=group\n",
    "                + f\"{' NOT' if not answered_correctly else ''} correct - n= {df_rr_group.shape[1]}\",\n",
    "                legendgroup=group + str(answered_correctly),\n",
    "                showlegend=group not in shown_groups,\n",
    "            )\n",
    "        )\n",
    "        shown_groups.append(group)\n",
    "\n",
    "fig.update_layout(height=400, title=f\"feedback\", title_x=0.5)\n",
    "fig.update_xaxes(title_text=\"Sequential IBI\")\n",
    "fig.update_yaxes(title_text=f\"Delta IBI (ref IBI_{reference_ibi_pos}) (ms)\")\n",
    "fig.show()"
   ]
  }
 ],
 "metadata": {
  "interpreter": {
   "hash": "f4ee2a342fc3b62d1547648c572a552aed57cc9457279583cc1d081db5d727c9"
  },
  "jupytext": {
   "formats": "ipynb,py:percent"
  },
  "kernelspec": {
   "display_name": "Python 3",
   "language": "python",
   "name": "python3"
  },
  "language_info": {
   "codemirror_mode": {
    "name": "ipython",
    "version": 3
   },
   "file_extension": ".py",
   "mimetype": "text/x-python",
   "name": "python",
   "nbconvert_exporter": "python",
   "pygments_lexer": "ipython3",
   "version": "3.7.5"
  },
  "toc-autonumbering": true
 },
 "nbformat": 4,
 "nbformat_minor": 4
}
