{
 "cells": [
  {
   "cell_type": "code",
   "execution_count": 2,
   "metadata": {},
   "outputs": [],
   "source": [
    "%load_ext autoreload\n",
    "%autoreload 2"
   ]
  },
  {
   "cell_type": "code",
   "execution_count": 3,
   "metadata": {},
   "outputs": [],
   "source": [
    "import numpy as np\n",
    "import pandas as pd\n",
    "import plotly.graph_objects as go\n",
    "\n",
    "from pathlib import Path\n",
    "from tqdm.auto import tqdm\n",
    "from typing import Tuple\n",
    "\n",
    "tqdm.pandas()\n",
    "pd.options.display.max_columns = None"
   ]
  },
  {
   "cell_type": "code",
   "execution_count": 4,
   "metadata": {},
   "outputs": [],
   "source": [
    "# configure user\n",
    "user = \"jonas\"  # set this to mitchel\n",
    "\n",
    "if user.lower() == \"jonas\":\n",
    "    BASE_PATH = \"/users/jonvdrdo/jonas/data/aaa_contextaware/raw/uz_study/\"\n",
    "    DATA_PATH = BASE_PATH + \"aligned_data\"\n",
    "elif user.lower() == \"mitchel\":\n",
    "    BASE_PATH = \"D:/Data/EEG_Study_1/\"  # Go check 1_audio_preprocess.py\n",
    "    DATA_PATH = BASE_PATH + \"uz_study\"\n",
    "\n",
    "if user.lower() == \"jonas\":\n",
    "    FEATURES_PATH = \"\"  # + \"/features_gemaps/\"\n",
    "elif user.lower() == \"mitchel\":\n",
    "    FEATURES_PATH = DATA_PATH + \"/features/\""
   ]
  },
  {
   "cell_type": "markdown",
   "metadata": {},
   "source": [
    "Done:\n",
    "- [ ] add gender\n",
    "- [ ] fix the data for the not-aligned files\n",
    "- [ ] create a low-quality ptcpct list\n",
    "- [ ] enlarge the EDA IBI range\n",
    "- [ ] visulaize per block\n",
    "- [ ] upload latest version of the data\n",
    "\n",
    "To-do:\n",
    "- [ ] extract HRV per (sub)-block"
   ]
  },
  {
   "cell_type": "code",
   "execution_count": 5,
   "metadata": {},
   "outputs": [],
   "source": [
    "# LOG_FILE = Path(BASE_PATH).joinpath(\"Participant_key.csv\")\n",
    "# df_log = pd.read_csv(LOG_FILE)\n",
    "\n",
    "# sex_mapping = {\"Man\": \"M\", \"M\": \"M\", \"V\": \"F\", \"Vrouw\": \"F\"}\n",
    "# df_log[\"sex\"] = df_log.Geslacht.apply(lambda x: sex_mapping.get(x))\n",
    "\n",
    "# ptcpt_mask = (\n",
    "#     df_log[\"Participant No. \"].notna() & df_log[\"Participant No. \"].str.isnumeric()\n",
    "# )\n",
    "\n",
    "# df_log_sex = df_log[ptcpt_mask][[\"Participant No. \", \"sex\"]].rename(\n",
    "#     columns={\"Participant No. \": \"user\"}\n",
    "# )\n",
    "# df_log_sex.to_csv(\"sex_mapping.csv\", index=False)"
   ]
  },
  {
   "cell_type": "code",
   "execution_count": 6,
   "metadata": {},
   "outputs": [
    {
     "data": {
      "text/html": [
       "<div>\n",
       "<style scoped>\n",
       "    .dataframe tbody tr th:only-of-type {\n",
       "        vertical-align: middle;\n",
       "    }\n",
       "\n",
       "    .dataframe tbody tr th {\n",
       "        vertical-align: top;\n",
       "    }\n",
       "\n",
       "    .dataframe thead th {\n",
       "        text-align: right;\n",
       "    }\n",
       "</style>\n",
       "<table border=\"1\" class=\"dataframe\">\n",
       "  <thead>\n",
       "    <tr style=\"text-align: right;\">\n",
       "      <th></th>\n",
       "      <th>user</th>\n",
       "      <th>sex</th>\n",
       "    </tr>\n",
       "  </thead>\n",
       "  <tbody>\n",
       "    <tr>\n",
       "      <th>26</th>\n",
       "      <td>27</td>\n",
       "      <td>F</td>\n",
       "    </tr>\n",
       "    <tr>\n",
       "      <th>80</th>\n",
       "      <td>81</td>\n",
       "      <td>F</td>\n",
       "    </tr>\n",
       "    <tr>\n",
       "      <th>31</th>\n",
       "      <td>32</td>\n",
       "      <td>F</td>\n",
       "    </tr>\n",
       "  </tbody>\n",
       "</table>\n",
       "</div>"
      ],
      "text/plain": [
       "    user sex\n",
       "26    27   F\n",
       "80    81   F\n",
       "31    32   F"
      ]
     },
     "execution_count": 6,
     "metadata": {},
     "output_type": "execute_result"
    }
   ],
   "source": [
    "df_log_sex = pd.read_csv('sex_mapping.csv')\n",
    "df_log_sex.sample(3)"
   ]
  },
  {
   "cell_type": "markdown",
   "metadata": {
    "tags": []
   },
   "source": [
    "# sequential IBI"
   ]
  },
  {
   "cell_type": "code",
   "execution_count": 7,
   "metadata": {},
   "outputs": [],
   "source": [
    "def parse_timeline_marker_file(df_timeline, df_marker) -> Tuple[pd.DataFrame, ...]:\n",
    "    tz = \"europe/brussels\"\n",
    "    for c in [\"t_start\", \"t_stop\"]:\n",
    "        df_timeline[c] = pd.to_datetime(df_timeline[c]).dt.tz_convert(tz)\n",
    "    for c in [\"timestamp\"]:\n",
    "        df_marker[c] = pd.to_datetime(df_marker[c]).dt.tz_convert(tz)\n",
    "\n",
    "    # 2. assert whether the start-time of the timeline file is sorted\n",
    "    df_timeline = df_timeline.sort_values(by=[\"t_start\", \"Trial\"])\n",
    "    assert df_timeline[\"t_start\"].is_monotonic_increasing\n",
    "\n",
    "    # 3. Add some additional columns\n",
    "    df_timeline[\"prev_Phase\"] = df_timeline.Phase.shift(1)\n",
    "    df_timeline[\"RESP\"] = df_timeline.RESP.shift(1)  # slide response\n",
    "    df_timeline[\"CRESP\"] = df_timeline.CRESP.shift(1)  # correct slide response\n",
    "    df_timeline[\"answered_in_time\"] = df_timeline.RESP.notna()\n",
    "    df_timeline[\"answered_correctly\"] = df_timeline.RESP == df_timeline.CRESP\n",
    "    df_timeline[\n",
    "        \"delay_slide_feedback\"\n",
    "    ] = df_timeline.t_start - df_timeline.t_stop.shift(1)\n",
    "\n",
    "    return df_timeline, df_marker"
   ]
  },
  {
   "cell_type": "code",
   "execution_count": 8,
   "metadata": {
    "tags": []
   },
   "outputs": [
    {
     "data": {
      "application/vnd.jupyter.widget-view+json": {
       "model_id": "9de31a8dcf89443da5dcfbee874a9a79",
       "version_major": 2,
       "version_minor": 0
      },
      "text/plain": [
       "  0%|          | 0/85 [00:00<?, ?it/s]"
      ]
     },
     "metadata": {},
     "output_type": "display_data"
    },
    {
     "data": {
      "text/html": [
       "<div>\n",
       "<style scoped>\n",
       "    .dataframe tbody tr th:only-of-type {\n",
       "        vertical-align: middle;\n",
       "    }\n",
       "\n",
       "    .dataframe tbody tr th {\n",
       "        vertical-align: top;\n",
       "    }\n",
       "\n",
       "    .dataframe thead th {\n",
       "        text-align: right;\n",
       "    }\n",
       "</style>\n",
       "<table border=\"1\" class=\"dataframe\">\n",
       "  <thead>\n",
       "    <tr style=\"text-align: right;\">\n",
       "      <th></th>\n",
       "      <th>Phase</th>\n",
       "      <th>Trial</th>\n",
       "      <th>Block</th>\n",
       "      <th>t_start</th>\n",
       "      <th>answered_in_time</th>\n",
       "      <th>answered_correctly</th>\n",
       "      <th>delay_slide_feedback</th>\n",
       "      <th>user</th>\n",
       "      <th>sex</th>\n",
       "      <th>edf_source_dir</th>\n",
       "    </tr>\n",
       "  </thead>\n",
       "  <tbody>\n",
       "    <tr>\n",
       "      <th>0</th>\n",
       "      <td>Controle1Feedback</td>\n",
       "      <td>1.0</td>\n",
       "      <td>4</td>\n",
       "      <td>2020-02-03 10:16:26.896047+01:00</td>\n",
       "      <td>True</td>\n",
       "      <td>False</td>\n",
       "      <td>0 days 00:00:00.075000</td>\n",
       "      <td>10</td>\n",
       "      <td>F</td>\n",
       "      <td>edf</td>\n",
       "    </tr>\n",
       "    <tr>\n",
       "      <th>1</th>\n",
       "      <td>Controle1Feedback</td>\n",
       "      <td>2.0</td>\n",
       "      <td>4</td>\n",
       "      <td>2020-02-03 10:17:00.344047+01:00</td>\n",
       "      <td>True</td>\n",
       "      <td>True</td>\n",
       "      <td>0 days 00:00:00.061000</td>\n",
       "      <td>10</td>\n",
       "      <td>F</td>\n",
       "      <td>edf</td>\n",
       "    </tr>\n",
       "    <tr>\n",
       "      <th>2</th>\n",
       "      <td>Controle1Feedback</td>\n",
       "      <td>3.0</td>\n",
       "      <td>4</td>\n",
       "      <td>2020-02-03 10:18:11.555047+01:00</td>\n",
       "      <td>True</td>\n",
       "      <td>True</td>\n",
       "      <td>0 days 00:00:00.062000</td>\n",
       "      <td>10</td>\n",
       "      <td>F</td>\n",
       "      <td>edf</td>\n",
       "    </tr>\n",
       "    <tr>\n",
       "      <th>3</th>\n",
       "      <td>Controle1Feedback</td>\n",
       "      <td>4.0</td>\n",
       "      <td>4</td>\n",
       "      <td>2020-02-03 10:18:32.854047+01:00</td>\n",
       "      <td>True</td>\n",
       "      <td>True</td>\n",
       "      <td>0 days 00:00:00.066000</td>\n",
       "      <td>10</td>\n",
       "      <td>F</td>\n",
       "      <td>edf</td>\n",
       "    </tr>\n",
       "    <tr>\n",
       "      <th>4</th>\n",
       "      <td>Controle1Feedback</td>\n",
       "      <td>5.0</td>\n",
       "      <td>4</td>\n",
       "      <td>2020-02-03 10:18:58.118047+01:00</td>\n",
       "      <td>True</td>\n",
       "      <td>True</td>\n",
       "      <td>0 days 00:00:00.068000</td>\n",
       "      <td>10</td>\n",
       "      <td>F</td>\n",
       "      <td>edf</td>\n",
       "    </tr>\n",
       "    <tr>\n",
       "      <th>...</th>\n",
       "      <td>...</td>\n",
       "      <td>...</td>\n",
       "      <td>...</td>\n",
       "      <td>...</td>\n",
       "      <td>...</td>\n",
       "      <td>...</td>\n",
       "      <td>...</td>\n",
       "      <td>...</td>\n",
       "      <td>...</td>\n",
       "      <td>...</td>\n",
       "    </tr>\n",
       "    <tr>\n",
       "      <th>4359</th>\n",
       "      <td>Stress3FeedBack</td>\n",
       "      <td>22.0</td>\n",
       "      <td>5</td>\n",
       "      <td>2020-01-31 14:00:26.135688+01:00</td>\n",
       "      <td>True</td>\n",
       "      <td>True</td>\n",
       "      <td>0 days 00:00:00.061000</td>\n",
       "      <td>9</td>\n",
       "      <td>F</td>\n",
       "      <td>edf</td>\n",
       "    </tr>\n",
       "    <tr>\n",
       "      <th>4360</th>\n",
       "      <td>Stress3FeedBack</td>\n",
       "      <td>23.0</td>\n",
       "      <td>5</td>\n",
       "      <td>2020-01-31 14:01:08.049688+01:00</td>\n",
       "      <td>True</td>\n",
       "      <td>False</td>\n",
       "      <td>0 days 00:00:00.067000</td>\n",
       "      <td>9</td>\n",
       "      <td>F</td>\n",
       "      <td>edf</td>\n",
       "    </tr>\n",
       "    <tr>\n",
       "      <th>4361</th>\n",
       "      <td>Stress3FeedBack</td>\n",
       "      <td>24.0</td>\n",
       "      <td>5</td>\n",
       "      <td>2020-01-31 14:01:22.564688+01:00</td>\n",
       "      <td>True</td>\n",
       "      <td>True</td>\n",
       "      <td>0 days 00:00:00.071000</td>\n",
       "      <td>9</td>\n",
       "      <td>F</td>\n",
       "      <td>edf</td>\n",
       "    </tr>\n",
       "    <tr>\n",
       "      <th>4362</th>\n",
       "      <td>Stress3FeedBack</td>\n",
       "      <td>25.0</td>\n",
       "      <td>5</td>\n",
       "      <td>2020-01-31 14:01:42.496688+01:00</td>\n",
       "      <td>True</td>\n",
       "      <td>True</td>\n",
       "      <td>0 days 00:00:00.060000</td>\n",
       "      <td>9</td>\n",
       "      <td>F</td>\n",
       "      <td>edf</td>\n",
       "    </tr>\n",
       "    <tr>\n",
       "      <th>4363</th>\n",
       "      <td>Stress3FeedBack</td>\n",
       "      <td>26.0</td>\n",
       "      <td>5</td>\n",
       "      <td>2020-01-31 14:02:26.226688+01:00</td>\n",
       "      <td>True</td>\n",
       "      <td>False</td>\n",
       "      <td>0 days 00:00:00.065000</td>\n",
       "      <td>9</td>\n",
       "      <td>F</td>\n",
       "      <td>edf</td>\n",
       "    </tr>\n",
       "  </tbody>\n",
       "</table>\n",
       "<p>4364 rows × 10 columns</p>\n",
       "</div>"
      ],
      "text/plain": [
       "                  Phase  Trial  Block                          t_start  \\\n",
       "0     Controle1Feedback    1.0      4 2020-02-03 10:16:26.896047+01:00   \n",
       "1     Controle1Feedback    2.0      4 2020-02-03 10:17:00.344047+01:00   \n",
       "2     Controle1Feedback    3.0      4 2020-02-03 10:18:11.555047+01:00   \n",
       "3     Controle1Feedback    4.0      4 2020-02-03 10:18:32.854047+01:00   \n",
       "4     Controle1Feedback    5.0      4 2020-02-03 10:18:58.118047+01:00   \n",
       "...                 ...    ...    ...                              ...   \n",
       "4359    Stress3FeedBack   22.0      5 2020-01-31 14:00:26.135688+01:00   \n",
       "4360    Stress3FeedBack   23.0      5 2020-01-31 14:01:08.049688+01:00   \n",
       "4361    Stress3FeedBack   24.0      5 2020-01-31 14:01:22.564688+01:00   \n",
       "4362    Stress3FeedBack   25.0      5 2020-01-31 14:01:42.496688+01:00   \n",
       "4363    Stress3FeedBack   26.0      5 2020-01-31 14:02:26.226688+01:00   \n",
       "\n",
       "      answered_in_time  answered_correctly   delay_slide_feedback user sex  \\\n",
       "0                 True               False 0 days 00:00:00.075000   10   F   \n",
       "1                 True                True 0 days 00:00:00.061000   10   F   \n",
       "2                 True                True 0 days 00:00:00.062000   10   F   \n",
       "3                 True                True 0 days 00:00:00.066000   10   F   \n",
       "4                 True                True 0 days 00:00:00.068000   10   F   \n",
       "...                ...                 ...                    ...  ...  ..   \n",
       "4359              True                True 0 days 00:00:00.061000    9   F   \n",
       "4360              True               False 0 days 00:00:00.067000    9   F   \n",
       "4361              True                True 0 days 00:00:00.071000    9   F   \n",
       "4362              True                True 0 days 00:00:00.060000    9   F   \n",
       "4363              True               False 0 days 00:00:00.065000    9   F   \n",
       "\n",
       "     edf_source_dir  \n",
       "0               edf  \n",
       "1               edf  \n",
       "2               edf  \n",
       "3               edf  \n",
       "4               edf  \n",
       "...             ...  \n",
       "4359            edf  \n",
       "4360            edf  \n",
       "4361            edf  \n",
       "4362            edf  \n",
       "4363            edf  \n",
       "\n",
       "[4364 rows x 10 columns]"
      ]
     },
     "execution_count": 8,
     "metadata": {},
     "output_type": "execute_result"
    }
   ],
   "source": [
    "feedback_list = []\n",
    "\n",
    "for p in tqdm(sorted(Path(DATA_PATH).iterdir())):\n",
    "    if not p.is_dir():\n",
    "        continue\n",
    "\n",
    "    # -------------- edf_aligned ----------------\n",
    "    timeline_file = p.joinpath(\"timeline_aligned.csv\")\n",
    "    marker_file = p.joinpath(\"marker_edf_aligned.csv\")\n",
    "    if timeline_file.exists() and marker_file.exists():\n",
    "        edf_source = \"edf_aligned\"\n",
    "\n",
    "        # 1. if both files exists, read them and parse the time columns\n",
    "        df_timeline = (\n",
    "            pd.read_csv(timeline_file).iloc[:, 1:].drop(columns=[\"OnsetDelay.1\"])\n",
    "        )\n",
    "        df_marker = pd.read_csv(marker_file).iloc[:, 1:]\n",
    "        df_timeline, df_marker = parse_timeline_marker_file(df_timeline, df_marker)\n",
    "\n",
    "        # 4. filter on the feedback events\n",
    "        df_feedback = df_timeline[\n",
    "            df_timeline.Phase.str.lower().str.contains(\"feedback\")\n",
    "        ].copy()\n",
    "\n",
    "        df_feedback[\"user\"] = p.name\n",
    "        df_feedback['sex'] = df_log_sex[df_log_sex.user == int(p.name)]['sex'].values[0]\n",
    "        df_feedback[\"edf_source_dir\"] = edf_source\n",
    "\n",
    "        # assert that all the previous phases were example slides\n",
    "        assert all(df_feedback[\"prev_Phase\"].str.lower().str.contains(\"slide\"))\n",
    "        feedback_list.append(df_feedback)\n",
    "\n",
    "        continue\n",
    "\n",
    "    # ------------------------ marker-aligned ---------------------------\n",
    "    timeline_file = p.joinpath(\"timeline.csv\")\n",
    "    marker_file = p.joinpath(\"marker_edf.csv\")\n",
    "    if timeline_file.exists() and marker_file.exists():\n",
    "        edf_source = \"edf\"\n",
    "\n",
    "        # Read the files and parse the columns\n",
    "        df_timeline = pd.read_csv(timeline_file).drop(columns=[\"OnsetDelay.1\"])\n",
    "        df_marker = pd.read_csv(marker_file)\n",
    "        df_timeline, df_marker = parse_timeline_marker_file(df_timeline, df_marker)\n",
    "\n",
    "        # align the timeline file to the marker file\n",
    "        timeline_feedback_times = (\n",
    "            df_timeline[df_timeline.Phase.str.lower().str.contains(\"feedback\")]\n",
    "            .reset_index()\n",
    "            .t_start\n",
    "        )\n",
    "        marker_feedback_times = (\n",
    "            df_marker[df_marker.action.str.lower().str.contains(\"feedback\")]\n",
    "            .reset_index()\n",
    "            .timestamp\n",
    "        )\n",
    "        df_timeline[[\"t_start\", \"t_stop\"]] += (\n",
    "            marker_feedback_times - timeline_feedback_times\n",
    "        ).median()\n",
    "\n",
    "        # 4. filter on the feedback events\n",
    "        df_feedback = df_timeline[\n",
    "            df_timeline.Phase.str.lower().str.contains(\"feedback\")\n",
    "        ].copy()\n",
    "\n",
    "        df_feedback[\"user\"] = p.name\n",
    "        df_feedback['sex'] = df_log_sex[df_log_sex.user == int(p.name)]['sex'].values[0]\n",
    "        df_feedback[\"edf_source_dir\"] = edf_source\n",
    "\n",
    "        # assert that all the previous phases were example slides\n",
    "        assert all(df_feedback[\"prev_Phase\"].str.lower().str.contains(\"slide\"))\n",
    "        feedback_list.append(df_feedback)\n",
    "\n",
    "\n",
    "# construct the feedback dataframe\n",
    "df_feedback = pd.concat(feedback_list, axis=0, ignore_index=True)\n",
    "\n",
    "# omit the files which have a delay larger than max_slide_delay\n",
    "# NOTE: don't do this, as these are the ones who did not answer in time\n",
    "# max_slide_delay = pd.Timedelta(seconds=0.1)\n",
    "# print(sum(df_feedback.delay_slide_feedback > max_slide_delay))\n",
    "# df_feedback = df_feedback[df_feedback.delay_slide_feedback < max_slide_delay]\n",
    "\n",
    "# show the data\n",
    "df_feedback.iloc[:, np.r_[0:4, df_feedback.shape[1] - 6: df_feedback.shape[1]]]"
   ]
  },
  {
   "cell_type": "code",
   "execution_count": 9,
   "metadata": {},
   "outputs": [
    {
     "data": {
      "application/vnd.jupyter.widget-view+json": {
       "model_id": "97f6fd8a5abd490f930e64f9a712fd76",
       "version_major": 2,
       "version_minor": 0
      },
      "text/plain": [
       "  0%|          | 0/75 [00:00<?, ?it/s]"
      ]
     },
     "metadata": {},
     "output_type": "display_data"
    },
    {
     "name": "stdout",
     "output_type": "stream",
     "text": [
      "skipping user 18 f_path size 0\n"
     ]
    },
    {
     "data": {
      "application/vnd.jupyter.widget-view+json": {
       "model_id": "b60edcaf8a174a9da4d308c59a72c281",
       "version_major": 2,
       "version_minor": 0
      },
      "text/plain": [
       "0it [00:00, ?it/s]"
      ]
     },
     "metadata": {},
     "output_type": "display_data"
    }
   ],
   "source": [
    "# ------------------- HYPERPARAMS -------------------\n",
    "left_slice_margin_s = 20  # the left margin from the event\n",
    "right_slice_margin_s = 20  # the right maring from the event\n",
    "min_r_peak_threshold = 0.6  # minimum r-peak agreement threshold to still use the data\n",
    "\n",
    "time_threshold = 0  # first item exceeding this time_threshold will set at IBI pos 0\n",
    "reference_ibi_pos = -2  # the reference position\n",
    "\n",
    "# the IBI-pos range\n",
    "min_ibi_pos_range = -7\n",
    "max_ibi_pos_range = 8\n",
    "\n",
    "\n",
    "# ---------------- The algorithm ------------------\n",
    "# iterate over all the users in the feedback file\n",
    "slcs = []\n",
    "for user in tqdm(df_feedback.user.unique()):\n",
    "    df_f_user = df_feedback[df_feedback.user == user]\n",
    "\n",
    "    # fetch the correct feedback RR_interval data (matching timestamps)\n",
    "    f_path = Path(DATA_PATH).joinpath(user, df_f_user.edf_source_dir.values[0])\n",
    "    f_path = list(f_path.glob(\"rr_intervals_*.parquet\"))\n",
    "    if len(f_path) != 1:\n",
    "        print(f\"skipping user {user} f_path size {len(f_path)}\")\n",
    "        continue\n",
    "\n",
    "    rr_file_user = pd.read_parquet(f_path[0]).set_index(\"timestamp\")\n",
    "\n",
    "    for idx, r in df_f_user.iterrows():\n",
    "        t_start = r.t_start - pd.Timedelta(seconds=left_slice_margin_s)\n",
    "        t_end = r.t_start + pd.Timedelta(seconds=right_slice_margin_s)\n",
    "        slc = rr_file_user[t_start:t_end].copy().reset_index()\n",
    "\n",
    "        # do not use slices with lower\n",
    "        if len(slc) < 15 or any(slc[\"r_peak_agreement\"] <= min_r_peak_threshold):\n",
    "            # print(f'skipping slice user - {r.user} - {r.Phase} - {len(slc)}')\n",
    "            continue\n",
    "\n",
    "        # add a relative time col w.r.t. event and feedback_index which will be used\n",
    "        # to link the data back to df_feedback\n",
    "        slc[\"rel_event_time\"] = (slc.timestamp - r.t_start).dt.total_seconds()\n",
    "        slc[\"feedback_index\"] = idx\n",
    "\n",
    "        # determine the int-ibi pos\n",
    "        slc[\"IBI_pos\"] = slc.index - slc[slc.rel_event_time > time_threshold].index[0]\n",
    "        slc[\"RR_delta_ms\"] = (\n",
    "            slc.RR_interval_ms\n",
    "            - slc[slc.IBI_pos == reference_ibi_pos].RR_interval_ms.values[0]\n",
    "        ).round()\n",
    "\n",
    "        slcs.append(slc)\n",
    "\n",
    "df_slc = pd.concat(slcs, axis=0, ignore_index=True)\n",
    "del slcs\n",
    "\n",
    "r_list = []\n",
    "for feeback_idx, r in tqdm(df_feedback.iterrows()):\n",
    "    rr_d = (\n",
    "        df_slc[df_slc[\"feedback_index\"] == feeback_idx]\n",
    "        .copy()\n",
    "        .set_index(\"IBI_pos\")\n",
    "        .sort_index()[\"RR_delta_ms\"]\n",
    "    ).loc[min_ibi_pos_range:max_ibi_pos_range]\n",
    "    rr_d.index = \"IBI_pos\" + rr_d.index.astype(\"str\")\n",
    "\n",
    "    r_list.append(r.copy().append(rr_d).to_frame().T)\n",
    "\n",
    "\n",
    "df_tot_merged = pd.concat(r_list, axis=0)\n",
    "del r_list"
   ]
  },
  {
   "cell_type": "code",
   "execution_count": 10,
   "metadata": {},
   "outputs": [],
   "source": [
    "#df_tot_merged[df_tot_merged['IBI_pos-7'].isna()].user.value_counts()\n",
    "low_quality_ecg_users = set({18, 55, 80, 13, 11, 15, 35, 77})"
   ]
  },
  {
   "cell_type": "code",
   "execution_count": 11,
   "metadata": {},
   "outputs": [
    {
     "data": {
      "text/html": [
       "<div>\n",
       "<style scoped>\n",
       "    .dataframe tbody tr th:only-of-type {\n",
       "        vertical-align: middle;\n",
       "    }\n",
       "\n",
       "    .dataframe tbody tr th {\n",
       "        vertical-align: top;\n",
       "    }\n",
       "\n",
       "    .dataframe thead th {\n",
       "        text-align: right;\n",
       "    }\n",
       "</style>\n",
       "<table border=\"1\" class=\"dataframe\">\n",
       "  <thead>\n",
       "    <tr style=\"text-align: right;\">\n",
       "      <th></th>\n",
       "      <th>Phase</th>\n",
       "      <th>Trial</th>\n",
       "      <th>Block</th>\n",
       "      <th>t_start</th>\n",
       "      <th>t_stop</th>\n",
       "      <th>Procedure[Block]</th>\n",
       "      <th>Running[Block]</th>\n",
       "      <th>Procedure[Trial]</th>\n",
       "      <th>Running[Trial]</th>\n",
       "      <th>OnsetDelay</th>\n",
       "      <th>OnsetTime</th>\n",
       "      <th>ACC</th>\n",
       "      <th>CRESP</th>\n",
       "      <th>RESP</th>\n",
       "      <th>Answer</th>\n",
       "      <th>AlgemeneList</th>\n",
       "      <th>CorrectAnswer</th>\n",
       "      <th>ActionDelay</th>\n",
       "      <th>ActionTime</th>\n",
       "      <th>OnsetToOnsetTime</th>\n",
       "      <th>RT</th>\n",
       "      <th>RTTime</th>\n",
       "      <th>DurationError</th>\n",
       "      <th>OffsetDelay</th>\n",
       "      <th>OffsetTime</th>\n",
       "      <th>FinishTime</th>\n",
       "      <th>Duration</th>\n",
       "      <th>Stress3FeedBack</th>\n",
       "      <th>Cyclus</th>\n",
       "      <th>PercentageGood</th>\n",
       "      <th>StartTrigger</th>\n",
       "      <th>FeedbackTrigger</th>\n",
       "      <th>PercentageBad</th>\n",
       "      <th>Time</th>\n",
       "      <th>TimerValue</th>\n",
       "      <th>prev_Phase</th>\n",
       "      <th>answered_in_time</th>\n",
       "      <th>answered_correctly</th>\n",
       "      <th>delay_slide_feedback</th>\n",
       "      <th>user</th>\n",
       "      <th>sex</th>\n",
       "      <th>edf_source_dir</th>\n",
       "      <th>IBI_pos-7</th>\n",
       "      <th>IBI_pos-6</th>\n",
       "      <th>IBI_pos-5</th>\n",
       "      <th>IBI_pos-4</th>\n",
       "      <th>IBI_pos-3</th>\n",
       "      <th>IBI_pos-2</th>\n",
       "      <th>IBI_pos-1</th>\n",
       "      <th>IBI_pos0</th>\n",
       "      <th>IBI_pos1</th>\n",
       "      <th>IBI_pos2</th>\n",
       "      <th>IBI_pos3</th>\n",
       "      <th>IBI_pos4</th>\n",
       "      <th>IBI_pos5</th>\n",
       "      <th>IBI_pos6</th>\n",
       "      <th>IBI_pos7</th>\n",
       "      <th>IBI_pos8</th>\n",
       "    </tr>\n",
       "  </thead>\n",
       "  <tbody>\n",
       "    <tr>\n",
       "      <th>0</th>\n",
       "      <td>Stress3FeedBack</td>\n",
       "      <td>31.0</td>\n",
       "      <td>5</td>\n",
       "      <td>2020-01-30 14:00:25.205875+01:00</td>\n",
       "      <td>NaT</td>\n",
       "      <td>Stress</td>\n",
       "      <td>AlgemeneList</td>\n",
       "      <td>StressProc3</td>\n",
       "      <td>StressBlok3</td>\n",
       "      <td>73</td>\n",
       "      <td>18478722</td>\n",
       "      <td>NaN</td>\n",
       "      <td>3.0</td>\n",
       "      <td>7.0</td>\n",
       "      <td>3</td>\n",
       "      <td>2.0</td>\n",
       "      <td>NaN</td>\n",
       "      <td>NaN</td>\n",
       "      <td>NaN</td>\n",
       "      <td>NaN</td>\n",
       "      <td>NaN</td>\n",
       "      <td>NaN</td>\n",
       "      <td>NaN</td>\n",
       "      <td>NaN</td>\n",
       "      <td>NaN</td>\n",
       "      <td>NaN</td>\n",
       "      <td>NaN</td>\n",
       "      <td>NaN</td>\n",
       "      <td>11.0</td>\n",
       "      <td>74.0</td>\n",
       "      <td>47.0</td>\n",
       "      <td>114.0</td>\n",
       "      <td>62.0</td>\n",
       "      <td>299574.0</td>\n",
       "      <td>45000.0</td>\n",
       "      <td>Stress3Slide</td>\n",
       "      <td>True</td>\n",
       "      <td>False</td>\n",
       "      <td>0 days 00:00:00.073000</td>\n",
       "      <td>7</td>\n",
       "      <td>M</td>\n",
       "      <td>edf</td>\n",
       "      <td>141.0</td>\n",
       "      <td>105.0</td>\n",
       "      <td>117.0</td>\n",
       "      <td>76.0</td>\n",
       "      <td>29.0</td>\n",
       "      <td>0.0</td>\n",
       "      <td>0.0</td>\n",
       "      <td>13.0</td>\n",
       "      <td>187.0</td>\n",
       "      <td>297.0</td>\n",
       "      <td>121.0</td>\n",
       "      <td>103.0</td>\n",
       "      <td>133.0</td>\n",
       "      <td>127.0</td>\n",
       "      <td>88.0</td>\n",
       "      <td>85.0</td>\n",
       "    </tr>\n",
       "    <tr>\n",
       "      <th>0</th>\n",
       "      <td>Controle3Feedback</td>\n",
       "      <td>32.0</td>\n",
       "      <td>4</td>\n",
       "      <td>2020-03-10 16:27:28.767577+01:00</td>\n",
       "      <td>NaT</td>\n",
       "      <td>Controle</td>\n",
       "      <td>AlgemeneList</td>\n",
       "      <td>ControleProc3</td>\n",
       "      <td>ControleBlok3</td>\n",
       "      <td>62</td>\n",
       "      <td>6069998</td>\n",
       "      <td>NaN</td>\n",
       "      <td>5.0</td>\n",
       "      <td>5.0</td>\n",
       "      <td>5</td>\n",
       "      <td>1.0</td>\n",
       "      <td>NaN</td>\n",
       "      <td>NaN</td>\n",
       "      <td>NaN</td>\n",
       "      <td>NaN</td>\n",
       "      <td>NaN</td>\n",
       "      <td>NaN</td>\n",
       "      <td>NaN</td>\n",
       "      <td>NaN</td>\n",
       "      <td>NaN</td>\n",
       "      <td>NaN</td>\n",
       "      <td>NaN</td>\n",
       "      <td>NaN</td>\n",
       "      <td>10.0</td>\n",
       "      <td>71.0</td>\n",
       "      <td>61.0</td>\n",
       "      <td>128.0</td>\n",
       "      <td>54.0</td>\n",
       "      <td>NaN</td>\n",
       "      <td>45000.0</td>\n",
       "      <td>Controle3Slide</td>\n",
       "      <td>True</td>\n",
       "      <td>True</td>\n",
       "      <td>0 days 00:00:00.063000</td>\n",
       "      <td>60</td>\n",
       "      <td>F</td>\n",
       "      <td>edf_aligned</td>\n",
       "      <td>162.0</td>\n",
       "      <td>98.0</td>\n",
       "      <td>90.0</td>\n",
       "      <td>115.0</td>\n",
       "      <td>80.0</td>\n",
       "      <td>0.0</td>\n",
       "      <td>10.0</td>\n",
       "      <td>57.0</td>\n",
       "      <td>109.0</td>\n",
       "      <td>14.0</td>\n",
       "      <td>33.0</td>\n",
       "      <td>109.0</td>\n",
       "      <td>234.0</td>\n",
       "      <td>143.0</td>\n",
       "      <td>170.0</td>\n",
       "      <td>164.0</td>\n",
       "    </tr>\n",
       "    <tr>\n",
       "      <th>0</th>\n",
       "      <td>Controle1Feedback</td>\n",
       "      <td>5.0</td>\n",
       "      <td>4</td>\n",
       "      <td>2020-02-05 14:03:59.112211+01:00</td>\n",
       "      <td>NaT</td>\n",
       "      <td>Controle</td>\n",
       "      <td>AlgemeneList</td>\n",
       "      <td>ControleProc1</td>\n",
       "      <td>ControleBlok1</td>\n",
       "      <td>59</td>\n",
       "      <td>4446230</td>\n",
       "      <td>NaN</td>\n",
       "      <td>2.0</td>\n",
       "      <td>1.0</td>\n",
       "      <td>2</td>\n",
       "      <td>1.0</td>\n",
       "      <td>NaN</td>\n",
       "      <td>NaN</td>\n",
       "      <td>NaN</td>\n",
       "      <td>NaN</td>\n",
       "      <td>NaN</td>\n",
       "      <td>NaN</td>\n",
       "      <td>NaN</td>\n",
       "      <td>NaN</td>\n",
       "      <td>NaN</td>\n",
       "      <td>NaN</td>\n",
       "      <td>NaN</td>\n",
       "      <td>NaN</td>\n",
       "      <td>NaN</td>\n",
       "      <td>74.0</td>\n",
       "      <td>56.0</td>\n",
       "      <td>123.0</td>\n",
       "      <td>55.0</td>\n",
       "      <td>NaN</td>\n",
       "      <td>45000.0</td>\n",
       "      <td>Controle1Slide</td>\n",
       "      <td>True</td>\n",
       "      <td>False</td>\n",
       "      <td>0 days 00:00:00.060000</td>\n",
       "      <td>14</td>\n",
       "      <td>M</td>\n",
       "      <td>edf</td>\n",
       "      <td>102.0</td>\n",
       "      <td>49.0</td>\n",
       "      <td>64.0</td>\n",
       "      <td>73.0</td>\n",
       "      <td>37.0</td>\n",
       "      <td>0.0</td>\n",
       "      <td>55.0</td>\n",
       "      <td>75.0</td>\n",
       "      <td>51.0</td>\n",
       "      <td>10.0</td>\n",
       "      <td>8.0</td>\n",
       "      <td>60.0</td>\n",
       "      <td>3.0</td>\n",
       "      <td>-47.0</td>\n",
       "      <td>-82.0</td>\n",
       "      <td>-49.0</td>\n",
       "    </tr>\n",
       "  </tbody>\n",
       "</table>\n",
       "</div>"
      ],
      "text/plain": [
       "               Phase Trial Block                          t_start t_stop  \\\n",
       "0    Stress3FeedBack  31.0     5 2020-01-30 14:00:25.205875+01:00    NaT   \n",
       "0  Controle3Feedback  32.0     4 2020-03-10 16:27:28.767577+01:00    NaT   \n",
       "0  Controle1Feedback   5.0     4 2020-02-05 14:03:59.112211+01:00    NaT   \n",
       "\n",
       "  Procedure[Block] Running[Block] Procedure[Trial] Running[Trial] OnsetDelay  \\\n",
       "0           Stress   AlgemeneList      StressProc3    StressBlok3         73   \n",
       "0         Controle   AlgemeneList    ControleProc3  ControleBlok3         62   \n",
       "0         Controle   AlgemeneList    ControleProc1  ControleBlok1         59   \n",
       "\n",
       "  OnsetTime  ACC CRESP RESP Answer AlgemeneList CorrectAnswer ActionDelay  \\\n",
       "0  18478722  NaN   3.0  7.0      3          2.0           NaN         NaN   \n",
       "0   6069998  NaN   5.0  5.0      5          1.0           NaN         NaN   \n",
       "0   4446230  NaN   2.0  1.0      2          1.0           NaN         NaN   \n",
       "\n",
       "  ActionTime OnsetToOnsetTime   RT RTTime DurationError OffsetDelay  \\\n",
       "0        NaN              NaN  NaN    NaN           NaN         NaN   \n",
       "0        NaN              NaN  NaN    NaN           NaN         NaN   \n",
       "0        NaN              NaN  NaN    NaN           NaN         NaN   \n",
       "\n",
       "  OffsetTime FinishTime Duration Stress3FeedBack Cyclus PercentageGood  \\\n",
       "0        NaN        NaN      NaN             NaN   11.0           74.0   \n",
       "0        NaN        NaN      NaN             NaN   10.0           71.0   \n",
       "0        NaN        NaN      NaN             NaN    NaN           74.0   \n",
       "\n",
       "  StartTrigger FeedbackTrigger PercentageBad      Time TimerValue  \\\n",
       "0         47.0           114.0          62.0  299574.0    45000.0   \n",
       "0         61.0           128.0          54.0       NaN    45000.0   \n",
       "0         56.0           123.0          55.0       NaN    45000.0   \n",
       "\n",
       "       prev_Phase answered_in_time answered_correctly   delay_slide_feedback  \\\n",
       "0    Stress3Slide             True              False 0 days 00:00:00.073000   \n",
       "0  Controle3Slide             True               True 0 days 00:00:00.063000   \n",
       "0  Controle1Slide             True              False 0 days 00:00:00.060000   \n",
       "\n",
       "  user sex edf_source_dir IBI_pos-7 IBI_pos-6 IBI_pos-5 IBI_pos-4 IBI_pos-3  \\\n",
       "0    7   M            edf     141.0     105.0     117.0      76.0      29.0   \n",
       "0   60   F    edf_aligned     162.0      98.0      90.0     115.0      80.0   \n",
       "0   14   M            edf     102.0      49.0      64.0      73.0      37.0   \n",
       "\n",
       "  IBI_pos-2 IBI_pos-1 IBI_pos0 IBI_pos1 IBI_pos2 IBI_pos3 IBI_pos4 IBI_pos5  \\\n",
       "0       0.0       0.0     13.0    187.0    297.0    121.0    103.0    133.0   \n",
       "0       0.0      10.0     57.0    109.0     14.0     33.0    109.0    234.0   \n",
       "0       0.0      55.0     75.0     51.0     10.0      8.0     60.0      3.0   \n",
       "\n",
       "  IBI_pos6 IBI_pos7 IBI_pos8  \n",
       "0    127.0     88.0     85.0  \n",
       "0    143.0    170.0    164.0  \n",
       "0    -47.0    -82.0    -49.0  "
      ]
     },
     "execution_count": 11,
     "metadata": {},
     "output_type": "execute_result"
    }
   ],
   "source": [
    "df_tot_merged.sample(3)"
   ]
  },
  {
   "cell_type": "code",
   "execution_count": 25,
   "metadata": {},
   "outputs": [],
   "source": [
    "# df_tot_merged.to_parquet(\"df_tot_merged_ibi_pos_-2.parquet\", engine=\"fastparquet\")"
   ]
  },
  {
   "cell_type": "markdown",
   "metadata": {},
   "source": [
    "## Visualizations"
   ]
  },
  {
   "cell_type": "markdown",
   "metadata": {
    "tags": []
   },
   "source": [
    "### Per trial & group"
   ]
  },
  {
   "cell_type": "code",
   "execution_count": 12,
   "metadata": {
    "tags": []
   },
   "outputs": [],
   "source": [
    "# visualizing the ibi delta\n",
    "if False:\n",
    "    fig_list = []\n",
    "    for trial in tqdm(sorted(df_feedback.Trial.unique())):\n",
    "        shown_groups = []\n",
    "        fig = go.Figure()\n",
    "        for group in [\"Controle\", \"Stress\"]:\n",
    "            rr_group = []\n",
    "            df_f_gr = df_feedback[\n",
    "                (df_feedback[\"Procedure[Block]\"] == group)\n",
    "                & (df_feedback.Trial == trial)\n",
    "            ]\n",
    "            for feeback_idx, _ in df_f_gr.iterrows():\n",
    "                rr_d = (\n",
    "                    df_slc[df_slc[\"feedback_index\"] == feeback_idx]\n",
    "                    .copy()\n",
    "                    .set_index(\"IBI_pos\")\n",
    "                    .sort_index()[\"RR_delta_ms\"]\n",
    "                )\n",
    "                rr_group.append(rr_d)\n",
    "\n",
    "            df_rr_group = pd.concat(rr_group, axis=1, ignore_index=False)\n",
    "            rr_group_mean = df_rr_group.mean(axis=1)\n",
    "            rr_group_std = df_rr_group.std(axis=1)\n",
    "            fig.add_trace(\n",
    "                go.Scattergl(\n",
    "                    x=rr_group_mean.index,\n",
    "                    y=rr_group_mean,\n",
    "                    error_y=dict(type=\"data\", array=rr_group_std, visible=True),\n",
    "                    mode=\"markers+lines\",\n",
    "                    name=group + f\" n= {df_rr_group.shape[1]}\",\n",
    "                    legendgroup=group,\n",
    "                    showlegend=group not in shown_groups,\n",
    "                )\n",
    "            )\n",
    "            shown_groups.append(group)\n",
    "\n",
    "        fig.update_layout(height=400, title=f\"feedback - trial {trial}\", title_x=0.5)\n",
    "        fig.update_xaxes(title_text=\"Sequential IBI\")\n",
    "        fig.update_yaxes(title_text=f\"Delta IBI (ref IBI_{reference_ibi_pos}) (ms)\")\n",
    "        fig.show()\n",
    "        fig_list.append(fig)\n",
    "\n",
    "# from context_aware.visualizations.plotly import figs_to_html\n",
    "# figs_to_html(fig_list, 'trial_sequential_ibi.html')"
   ]
  },
  {
   "cell_type": "markdown",
   "metadata": {},
   "source": [
    "### Per group & answered-in time"
   ]
  },
  {
   "cell_type": "code",
   "execution_count": 31,
   "metadata": {},
   "outputs": [
    {
     "data": {
      "application/vnd.plotly.v1+json": {
       "config": {
        "plotlyServerURL": "https://plotly.com"
       },
       "data": [
        {
         "legendgroup": "ControleTrue",
         "mode": "markers+lines",
         "name": "Controle answered in time - n= 2090",
         "showlegend": true,
         "type": "scattergl",
         "x": [
          -45,
          -44,
          -43,
          -42,
          -41,
          -40,
          -39,
          -38,
          -37,
          -36,
          -35,
          -34,
          -33,
          -32,
          -31,
          -30,
          -29,
          -28,
          -27,
          -26,
          -25,
          -24,
          -23,
          -22,
          -21,
          -20,
          -19,
          -18,
          -17,
          -16,
          -15,
          -14,
          -13,
          -12,
          -11,
          -10,
          -9,
          -8,
          -7,
          -6,
          -5,
          -4,
          -3,
          -2,
          -1,
          0,
          1,
          2,
          3,
          4,
          5,
          6,
          7,
          8,
          9,
          10,
          11,
          12,
          13,
          14,
          15,
          16,
          17,
          18,
          19,
          20,
          21,
          22,
          23,
          24,
          25,
          26,
          27,
          28,
          29,
          30,
          31,
          32,
          33,
          34,
          35,
          36,
          37,
          38,
          39,
          40,
          41,
          42,
          43
         ],
         "y": [
          -2,
          -4.8,
          1.6666666666666667,
          -1.1875,
          1.3846153846153846,
          -0.22580645161290322,
          0.14705882352941177,
          -2.3636363636363638,
          1.5806451612903225,
          2.466666666666667,
          3.1150442477876106,
          -0.029197080291970802,
          -0.29651162790697677,
          -1.9223300970873787,
          0.1015625,
          0.5325077399380805,
          3.6955445544554455,
          -0.8816326530612245,
          -0.1470113085621971,
          -1.3487544483985765,
          -2.1779026217228465,
          -4.367741935483871,
          -5.339246119733924,
          -8.141490088858509,
          -8.045883092394721,
          -8.446492271105827,
          -10.012117714945182,
          -7.857551487414188,
          -7.710391822827939,
          -9.317155756207676,
          -9.982505643340858,
          -9.436230248306998,
          -8.164221218961625,
          -10.020316027088036,
          -10.700902934537247,
          -10.802483069977427,
          -7.904063205417607,
          -6.540632054176072,
          -6.364559819413093,
          -7.04627539503386,
          -5.30079006772009,
          -2.8566591422121896,
          -1.6021444695259595,
          0,
          3.309819413092551,
          8.957674943566591,
          -1.505079006772009,
          -23.025395033860047,
          -33.04966139954853,
          -29.753386004514674,
          -19.665914221218962,
          -10.738148984198645,
          -7.517494356659142,
          -10.37076749435666,
          -16.395598194130926,
          -20.334085778781038,
          -25.26297968397291,
          -24.580699774266364,
          -23.955981941309254,
          -19.200902934537247,
          -17.09373235460192,
          -12.594563986409966,
          -10.206167904054826,
          -9.105051664753157,
          -7.106619800820153,
          -7.2804200123533045,
          -5.626410086264101,
          -7.028510334996437,
          -8.24228028503563,
          -9.767921146953405,
          -8.306755260243632,
          -5.072592592592593,
          -3.177734375,
          -5.745098039215686,
          -4.693693693693693,
          -8.07380073800738,
          -7.801980198019802,
          -6.983425414364641,
          -3.472972972972973,
          -1.8898305084745763,
          0.7070707070707071,
          -2.7205882352941178,
          -0.4666666666666667,
          -0.8235294117647058,
          0.5151515151515151,
          -1.5555555555555556,
          4.5,
          3.4285714285714284,
          10.5
         ]
        },
        {
         "legendgroup": "StressTrue",
         "mode": "markers+lines",
         "name": "Stress answered in time - n= 2108",
         "showlegend": true,
         "type": "scattergl",
         "x": [
          -42,
          -41,
          -40,
          -39,
          -38,
          -37,
          -36,
          -35,
          -34,
          -33,
          -32,
          -31,
          -30,
          -29,
          -28,
          -27,
          -26,
          -25,
          -24,
          -23,
          -22,
          -21,
          -20,
          -19,
          -18,
          -17,
          -16,
          -15,
          -14,
          -13,
          -12,
          -11,
          -10,
          -9,
          -8,
          -7,
          -6,
          -5,
          -4,
          -3,
          -2,
          -1,
          0,
          1,
          2,
          3,
          4,
          5,
          6,
          7,
          8,
          9,
          10,
          11,
          12,
          13,
          14,
          15,
          16,
          17,
          18,
          19,
          20,
          21,
          22,
          23,
          24,
          25,
          26,
          27,
          28,
          29,
          30,
          31,
          32,
          33,
          34,
          35,
          36,
          37,
          38,
          39,
          40
         ],
         "y": [
          5,
          2.4375,
          3.3043478260869565,
          2.1481481481481484,
          2.7857142857142856,
          1.3103448275862069,
          2.1219512195121952,
          5.280701754385965,
          3.2195121951219514,
          -0.8113207547169812,
          -3.014705882352941,
          -3.8588957055214723,
          -5.066964285714286,
          -6.835125448028674,
          -6.386920980926431,
          -4.920159680638722,
          -4.110782865583457,
          -8.374313940724479,
          -7.992585727525486,
          -10.708231458842706,
          -11.748363636363637,
          -12.837148463047743,
          -15.064942874323512,
          -17.522222222222222,
          -16.163783160322954,
          -16.301865460712268,
          -16.43473389355742,
          -16.05372132064913,
          -14.5976496922216,
          -15.251259093452713,
          -15.138220481253498,
          -15.566871852266368,
          -14.926692781197538,
          -15.047006155567992,
          -15.104085058757695,
          -14.101287073307219,
          -10.449916060436486,
          -7.844432008953554,
          -4.707890318970342,
          -1.1175153889199776,
          0,
          2.365416899832121,
          7.762171236709569,
          -2.0872971460548406,
          -28.210968102965865,
          -41.36094012311136,
          -38.06603245663123,
          -30.40906547285954,
          -22.096810296586458,
          -16.30554001119194,
          -15.369334079462787,
          -16.386681589255737,
          -19.04252937884723,
          -22.440962506994964,
          -25.58030218242865,
          -25.63346390598769,
          -24.356463346390598,
          -19.477871148459382,
          -14.28555240793201,
          -12.351118760757315,
          -12.73476494486361,
          -15.310386473429952,
          -14.214881334188583,
          -12.939415538132574,
          -7.550678371907422,
          -6.2251121076233185,
          -5.509110396570204,
          -3.8859154929577464,
          -5.786792452830189,
          -11.68939393939394,
          -9.193877551020408,
          -9.725321888412017,
          -7.604395604395604,
          -5.093525179856115,
          1.2547169811320755,
          -0.5952380952380952,
          2.3454545454545452,
          3.5555555555555554,
          4.071428571428571,
          6.7407407407407405,
          6.2592592592592595,
          7.2272727272727275,
          11.625
         ]
        },
        {
         "legendgroup": "ControleFalse",
         "mode": "markers+lines",
         "name": "Controle NOT answered in time - n= 105",
         "showlegend": true,
         "type": "scattergl",
         "x": [
          -41,
          -40,
          -39,
          -38,
          -37,
          -36,
          -35,
          -34,
          -33,
          -32,
          -31,
          -30,
          -29,
          -28,
          -27,
          -26,
          -25,
          -24,
          -23,
          -22,
          -21,
          -20,
          -19,
          -18,
          -17,
          -16,
          -15,
          -14,
          -13,
          -12,
          -11,
          -10,
          -9,
          -8,
          -7,
          -6,
          -5,
          -4,
          -3,
          -2,
          -1,
          0,
          1,
          2,
          3,
          4,
          5,
          6,
          7,
          8,
          9,
          10,
          11,
          12,
          13,
          14,
          15,
          16,
          17,
          18,
          19,
          20,
          21,
          22,
          23,
          24,
          25,
          26,
          27,
          28,
          29,
          30,
          31,
          32,
          33,
          34,
          35,
          36,
          37,
          38,
          39,
          40
         ],
         "y": [
          4,
          2,
          2,
          -6,
          10.5,
          1.3333333333333333,
          3,
          3,
          -1.3333333333333333,
          -27.25,
          -11.166666666666666,
          -14,
          -28.11111111111111,
          -16.833333333333332,
          -16.25,
          -1.8064516129032258,
          6.046511627906977,
          -2.611111111111111,
          0.15384615384615385,
          -10.093333333333334,
          -12.195121951219512,
          -18.764044943820224,
          -18.177777777777777,
          -13.67032967032967,
          -13.66304347826087,
          -10.880434782608695,
          -13.543478260869565,
          -15.304347826086957,
          -12.130434782608695,
          -12.73913043478261,
          -9.880434782608695,
          -4.576086956521739,
          -1.076086956521739,
          11.619565217391305,
          14.380434782608695,
          10.108695652173912,
          9.41304347826087,
          5.8478260869565215,
          5.521739130434782,
          0,
          4.206521739130435,
          16.684782608695652,
          27.902173913043477,
          19.793478260869566,
          17.402173913043477,
          22.369565217391305,
          17.41304347826087,
          23.641304347826086,
          27.33695652173913,
          19.17391304347826,
          -1.565217391304348,
          -16.467391304347824,
          -13.695652173913043,
          -11.902173913043478,
          -11.771739130434783,
          -13.141304347826088,
          -15.804347826086957,
          -14.043956043956044,
          -0.38461538461538464,
          6.670329670329671,
          -1.2873563218390804,
          2.2560975609756095,
          5.27536231884058,
          4.573770491803279,
          -11.58,
          -9.69767441860465,
          -29.060606060606062,
          -12.052631578947368,
          -0.09090909090909091,
          -16.571428571428573,
          -13.571428571428571,
          -24.4,
          -14.2,
          -7.333333333333333,
          0,
          -7.666666666666667,
          -15,
          2,
          6,
          0,
          0,
          -6
         ]
        },
        {
         "legendgroup": "StressFalse",
         "mode": "markers+lines",
         "name": "Stress NOT answered in time - n= 61",
         "showlegend": true,
         "type": "scattergl",
         "x": [
          -36,
          -35,
          -34,
          -33,
          -32,
          -31,
          -30,
          -29,
          -28,
          -27,
          -26,
          -25,
          -24,
          -23,
          -22,
          -21,
          -20,
          -19,
          -18,
          -17,
          -16,
          -15,
          -14,
          -13,
          -12,
          -11,
          -10,
          -9,
          -8,
          -7,
          -6,
          -5,
          -4,
          -3,
          -2,
          -1,
          0,
          1,
          2,
          3,
          4,
          5,
          6,
          7,
          8,
          9,
          10,
          11,
          12,
          13,
          14,
          15,
          16,
          17,
          18,
          19,
          20,
          21,
          22,
          23,
          24,
          25,
          26,
          27,
          28,
          29,
          30,
          31,
          32
         ],
         "y": [
          -4,
          -14,
          -10,
          -2,
          8,
          -6,
          -6,
          -11,
          -7.666666666666667,
          38.8,
          20.6,
          6,
          -6.458333333333333,
          -15.148148148148149,
          -31.17241379310345,
          -27.88888888888889,
          -29.7,
          -29.357142857142858,
          -24.232558139534884,
          -10.279069767441861,
          -8.847826086956522,
          -11.065217391304348,
          -4.1521739130434785,
          12.130434782608695,
          10.91304347826087,
          -0.43478260869565216,
          -9.782608695652174,
          -26.347826086956523,
          -12.847826086956522,
          -7.630434782608695,
          2.8260869565217392,
          4.391304347826087,
          10.326086956521738,
          8.543478260869565,
          0,
          1.9782608695652173,
          9.804347826086957,
          13.58695652173913,
          15.76086956521739,
          5.826086956521739,
          -21.47826086956522,
          -2.4347826086956523,
          4.391304347826087,
          -13.391304347826088,
          -30,
          -30.76086956521739,
          -38.95652173913044,
          -39.69565217391305,
          -33.95652173913044,
          -28.82608695652174,
          -36.608695652173914,
          -38.71111111111111,
          -30.6046511627907,
          -43.27906976744186,
          -43.390243902439025,
          -36.3,
          -36.35294117647059,
          -24.161290322580644,
          -11.366666666666667,
          -13.52,
          -15.882352941176471,
          -2.9166666666666665,
          36,
          3.3333333333333335,
          -20.5,
          -26,
          -35,
          6,
          14
         ]
        }
       ],
       "layout": {
        "autosize": true,
        "template": {
         "data": {
          "bar": [
           {
            "error_x": {
             "color": "#2a3f5f"
            },
            "error_y": {
             "color": "#2a3f5f"
            },
            "marker": {
             "line": {
              "color": "#E5ECF6",
              "width": 0.5
             },
             "pattern": {
              "fillmode": "overlay",
              "size": 10,
              "solidity": 0.2
             }
            },
            "type": "bar"
           }
          ],
          "barpolar": [
           {
            "marker": {
             "line": {
              "color": "#E5ECF6",
              "width": 0.5
             },
             "pattern": {
              "fillmode": "overlay",
              "size": 10,
              "solidity": 0.2
             }
            },
            "type": "barpolar"
           }
          ],
          "carpet": [
           {
            "aaxis": {
             "endlinecolor": "#2a3f5f",
             "gridcolor": "white",
             "linecolor": "white",
             "minorgridcolor": "white",
             "startlinecolor": "#2a3f5f"
            },
            "baxis": {
             "endlinecolor": "#2a3f5f",
             "gridcolor": "white",
             "linecolor": "white",
             "minorgridcolor": "white",
             "startlinecolor": "#2a3f5f"
            },
            "type": "carpet"
           }
          ],
          "choropleth": [
           {
            "colorbar": {
             "outlinewidth": 0,
             "ticks": ""
            },
            "type": "choropleth"
           }
          ],
          "contour": [
           {
            "colorbar": {
             "outlinewidth": 0,
             "ticks": ""
            },
            "colorscale": [
             [
              0,
              "#0d0887"
             ],
             [
              0.1111111111111111,
              "#46039f"
             ],
             [
              0.2222222222222222,
              "#7201a8"
             ],
             [
              0.3333333333333333,
              "#9c179e"
             ],
             [
              0.4444444444444444,
              "#bd3786"
             ],
             [
              0.5555555555555556,
              "#d8576b"
             ],
             [
              0.6666666666666666,
              "#ed7953"
             ],
             [
              0.7777777777777778,
              "#fb9f3a"
             ],
             [
              0.8888888888888888,
              "#fdca26"
             ],
             [
              1,
              "#f0f921"
             ]
            ],
            "type": "contour"
           }
          ],
          "contourcarpet": [
           {
            "colorbar": {
             "outlinewidth": 0,
             "ticks": ""
            },
            "type": "contourcarpet"
           }
          ],
          "heatmap": [
           {
            "colorbar": {
             "outlinewidth": 0,
             "ticks": ""
            },
            "colorscale": [
             [
              0,
              "#0d0887"
             ],
             [
              0.1111111111111111,
              "#46039f"
             ],
             [
              0.2222222222222222,
              "#7201a8"
             ],
             [
              0.3333333333333333,
              "#9c179e"
             ],
             [
              0.4444444444444444,
              "#bd3786"
             ],
             [
              0.5555555555555556,
              "#d8576b"
             ],
             [
              0.6666666666666666,
              "#ed7953"
             ],
             [
              0.7777777777777778,
              "#fb9f3a"
             ],
             [
              0.8888888888888888,
              "#fdca26"
             ],
             [
              1,
              "#f0f921"
             ]
            ],
            "type": "heatmap"
           }
          ],
          "heatmapgl": [
           {
            "colorbar": {
             "outlinewidth": 0,
             "ticks": ""
            },
            "colorscale": [
             [
              0,
              "#0d0887"
             ],
             [
              0.1111111111111111,
              "#46039f"
             ],
             [
              0.2222222222222222,
              "#7201a8"
             ],
             [
              0.3333333333333333,
              "#9c179e"
             ],
             [
              0.4444444444444444,
              "#bd3786"
             ],
             [
              0.5555555555555556,
              "#d8576b"
             ],
             [
              0.6666666666666666,
              "#ed7953"
             ],
             [
              0.7777777777777778,
              "#fb9f3a"
             ],
             [
              0.8888888888888888,
              "#fdca26"
             ],
             [
              1,
              "#f0f921"
             ]
            ],
            "type": "heatmapgl"
           }
          ],
          "histogram": [
           {
            "marker": {
             "pattern": {
              "fillmode": "overlay",
              "size": 10,
              "solidity": 0.2
             }
            },
            "type": "histogram"
           }
          ],
          "histogram2d": [
           {
            "colorbar": {
             "outlinewidth": 0,
             "ticks": ""
            },
            "colorscale": [
             [
              0,
              "#0d0887"
             ],
             [
              0.1111111111111111,
              "#46039f"
             ],
             [
              0.2222222222222222,
              "#7201a8"
             ],
             [
              0.3333333333333333,
              "#9c179e"
             ],
             [
              0.4444444444444444,
              "#bd3786"
             ],
             [
              0.5555555555555556,
              "#d8576b"
             ],
             [
              0.6666666666666666,
              "#ed7953"
             ],
             [
              0.7777777777777778,
              "#fb9f3a"
             ],
             [
              0.8888888888888888,
              "#fdca26"
             ],
             [
              1,
              "#f0f921"
             ]
            ],
            "type": "histogram2d"
           }
          ],
          "histogram2dcontour": [
           {
            "colorbar": {
             "outlinewidth": 0,
             "ticks": ""
            },
            "colorscale": [
             [
              0,
              "#0d0887"
             ],
             [
              0.1111111111111111,
              "#46039f"
             ],
             [
              0.2222222222222222,
              "#7201a8"
             ],
             [
              0.3333333333333333,
              "#9c179e"
             ],
             [
              0.4444444444444444,
              "#bd3786"
             ],
             [
              0.5555555555555556,
              "#d8576b"
             ],
             [
              0.6666666666666666,
              "#ed7953"
             ],
             [
              0.7777777777777778,
              "#fb9f3a"
             ],
             [
              0.8888888888888888,
              "#fdca26"
             ],
             [
              1,
              "#f0f921"
             ]
            ],
            "type": "histogram2dcontour"
           }
          ],
          "mesh3d": [
           {
            "colorbar": {
             "outlinewidth": 0,
             "ticks": ""
            },
            "type": "mesh3d"
           }
          ],
          "parcoords": [
           {
            "line": {
             "colorbar": {
              "outlinewidth": 0,
              "ticks": ""
             }
            },
            "type": "parcoords"
           }
          ],
          "pie": [
           {
            "automargin": true,
            "type": "pie"
           }
          ],
          "scatter": [
           {
            "marker": {
             "colorbar": {
              "outlinewidth": 0,
              "ticks": ""
             }
            },
            "type": "scatter"
           }
          ],
          "scatter3d": [
           {
            "line": {
             "colorbar": {
              "outlinewidth": 0,
              "ticks": ""
             }
            },
            "marker": {
             "colorbar": {
              "outlinewidth": 0,
              "ticks": ""
             }
            },
            "type": "scatter3d"
           }
          ],
          "scattercarpet": [
           {
            "marker": {
             "colorbar": {
              "outlinewidth": 0,
              "ticks": ""
             }
            },
            "type": "scattercarpet"
           }
          ],
          "scattergeo": [
           {
            "marker": {
             "colorbar": {
              "outlinewidth": 0,
              "ticks": ""
             }
            },
            "type": "scattergeo"
           }
          ],
          "scattergl": [
           {
            "marker": {
             "colorbar": {
              "outlinewidth": 0,
              "ticks": ""
             }
            },
            "type": "scattergl"
           }
          ],
          "scattermapbox": [
           {
            "marker": {
             "colorbar": {
              "outlinewidth": 0,
              "ticks": ""
             }
            },
            "type": "scattermapbox"
           }
          ],
          "scatterpolar": [
           {
            "marker": {
             "colorbar": {
              "outlinewidth": 0,
              "ticks": ""
             }
            },
            "type": "scatterpolar"
           }
          ],
          "scatterpolargl": [
           {
            "marker": {
             "colorbar": {
              "outlinewidth": 0,
              "ticks": ""
             }
            },
            "type": "scatterpolargl"
           }
          ],
          "scatterternary": [
           {
            "marker": {
             "colorbar": {
              "outlinewidth": 0,
              "ticks": ""
             }
            },
            "type": "scatterternary"
           }
          ],
          "surface": [
           {
            "colorbar": {
             "outlinewidth": 0,
             "ticks": ""
            },
            "colorscale": [
             [
              0,
              "#0d0887"
             ],
             [
              0.1111111111111111,
              "#46039f"
             ],
             [
              0.2222222222222222,
              "#7201a8"
             ],
             [
              0.3333333333333333,
              "#9c179e"
             ],
             [
              0.4444444444444444,
              "#bd3786"
             ],
             [
              0.5555555555555556,
              "#d8576b"
             ],
             [
              0.6666666666666666,
              "#ed7953"
             ],
             [
              0.7777777777777778,
              "#fb9f3a"
             ],
             [
              0.8888888888888888,
              "#fdca26"
             ],
             [
              1,
              "#f0f921"
             ]
            ],
            "type": "surface"
           }
          ],
          "table": [
           {
            "cells": {
             "fill": {
              "color": "#EBF0F8"
             },
             "line": {
              "color": "white"
             }
            },
            "header": {
             "fill": {
              "color": "#C8D4E3"
             },
             "line": {
              "color": "white"
             }
            },
            "type": "table"
           }
          ]
         },
         "layout": {
          "annotationdefaults": {
           "arrowcolor": "#2a3f5f",
           "arrowhead": 0,
           "arrowwidth": 1
          },
          "autotypenumbers": "strict",
          "coloraxis": {
           "colorbar": {
            "outlinewidth": 0,
            "ticks": ""
           }
          },
          "colorscale": {
           "diverging": [
            [
             0,
             "#8e0152"
            ],
            [
             0.1,
             "#c51b7d"
            ],
            [
             0.2,
             "#de77ae"
            ],
            [
             0.3,
             "#f1b6da"
            ],
            [
             0.4,
             "#fde0ef"
            ],
            [
             0.5,
             "#f7f7f7"
            ],
            [
             0.6,
             "#e6f5d0"
            ],
            [
             0.7,
             "#b8e186"
            ],
            [
             0.8,
             "#7fbc41"
            ],
            [
             0.9,
             "#4d9221"
            ],
            [
             1,
             "#276419"
            ]
           ],
           "sequential": [
            [
             0,
             "#0d0887"
            ],
            [
             0.1111111111111111,
             "#46039f"
            ],
            [
             0.2222222222222222,
             "#7201a8"
            ],
            [
             0.3333333333333333,
             "#9c179e"
            ],
            [
             0.4444444444444444,
             "#bd3786"
            ],
            [
             0.5555555555555556,
             "#d8576b"
            ],
            [
             0.6666666666666666,
             "#ed7953"
            ],
            [
             0.7777777777777778,
             "#fb9f3a"
            ],
            [
             0.8888888888888888,
             "#fdca26"
            ],
            [
             1,
             "#f0f921"
            ]
           ],
           "sequentialminus": [
            [
             0,
             "#0d0887"
            ],
            [
             0.1111111111111111,
             "#46039f"
            ],
            [
             0.2222222222222222,
             "#7201a8"
            ],
            [
             0.3333333333333333,
             "#9c179e"
            ],
            [
             0.4444444444444444,
             "#bd3786"
            ],
            [
             0.5555555555555556,
             "#d8576b"
            ],
            [
             0.6666666666666666,
             "#ed7953"
            ],
            [
             0.7777777777777778,
             "#fb9f3a"
            ],
            [
             0.8888888888888888,
             "#fdca26"
            ],
            [
             1,
             "#f0f921"
            ]
           ]
          },
          "colorway": [
           "#636efa",
           "#EF553B",
           "#00cc96",
           "#ab63fa",
           "#FFA15A",
           "#19d3f3",
           "#FF6692",
           "#B6E880",
           "#FF97FF",
           "#FECB52"
          ],
          "font": {
           "color": "#2a3f5f"
          },
          "geo": {
           "bgcolor": "white",
           "lakecolor": "white",
           "landcolor": "#E5ECF6",
           "showlakes": true,
           "showland": true,
           "subunitcolor": "white"
          },
          "hoverlabel": {
           "align": "left"
          },
          "hovermode": "closest",
          "mapbox": {
           "style": "light"
          },
          "paper_bgcolor": "white",
          "plot_bgcolor": "#E5ECF6",
          "polar": {
           "angularaxis": {
            "gridcolor": "white",
            "linecolor": "white",
            "ticks": ""
           },
           "bgcolor": "#E5ECF6",
           "radialaxis": {
            "gridcolor": "white",
            "linecolor": "white",
            "ticks": ""
           }
          },
          "scene": {
           "xaxis": {
            "backgroundcolor": "#E5ECF6",
            "gridcolor": "white",
            "gridwidth": 2,
            "linecolor": "white",
            "showbackground": true,
            "ticks": "",
            "zerolinecolor": "white"
           },
           "yaxis": {
            "backgroundcolor": "#E5ECF6",
            "gridcolor": "white",
            "gridwidth": 2,
            "linecolor": "white",
            "showbackground": true,
            "ticks": "",
            "zerolinecolor": "white"
           },
           "zaxis": {
            "backgroundcolor": "#E5ECF6",
            "gridcolor": "white",
            "gridwidth": 2,
            "linecolor": "white",
            "showbackground": true,
            "ticks": "",
            "zerolinecolor": "white"
           }
          },
          "shapedefaults": {
           "line": {
            "color": "#2a3f5f"
           }
          },
          "ternary": {
           "aaxis": {
            "gridcolor": "white",
            "linecolor": "white",
            "ticks": ""
           },
           "baxis": {
            "gridcolor": "white",
            "linecolor": "white",
            "ticks": ""
           },
           "bgcolor": "#E5ECF6",
           "caxis": {
            "gridcolor": "white",
            "linecolor": "white",
            "ticks": ""
           }
          },
          "title": {
           "x": 0.05
          },
          "xaxis": {
           "automargin": true,
           "gridcolor": "white",
           "linecolor": "white",
           "ticks": "",
           "title": {
            "standoff": 15
           },
           "zerolinecolor": "white",
           "zerolinewidth": 2
          },
          "yaxis": {
           "automargin": true,
           "gridcolor": "white",
           "linecolor": "white",
           "ticks": "",
           "title": {
            "standoff": 15
           },
           "zerolinecolor": "white",
           "zerolinewidth": 2
          }
         }
        },
        "title": {
         "text": "feedback",
         "x": 0.5
        },
        "xaxis": {
         "autorange": false,
         "range": [
          -7.692509614219958,
          22.229971005935077
         ],
         "title": {
          "text": "Sequential IBI"
         },
         "type": "linear"
        },
        "yaxis": {
         "autorange": true,
         "range": [
          -49.754055438192175,
          45.16381153575315
         ],
         "title": {
          "text": "Delta IBI (ref IBI_-2) ms"
         },
         "type": "linear"
        }
       }
      },
      "image/png": "[encoded data removed]",
      "text/html": [
       "<div>                            <div id=\"a6a1cb7e-09de-4f6e-be78-9828a2638bdb\" class=\"plotly-graph-div\" style=\"height:400px; width:100%;\"></div>            <script type=\"text/javascript\">                require([\"plotly\"], function(Plotly) {                    window.PLOTLYENV=window.PLOTLYENV || {};                                    if (document.getElementById(\"a6a1cb7e-09de-4f6e-be78-9828a2638bdb\")) {                    Plotly.newPlot(                        \"a6a1cb7e-09de-4f6e-be78-9828a2638bdb\",                        [{\"legendgroup\":\"ControleTrue\",\"mode\":\"markers+lines\",\"name\":\"Controle answered in time - n= 2090\",\"showlegend\":true,\"x\":[-45,-44,-43,-42,-41,-40,-39,-38,-37,-36,-35,-34,-33,-32,-31,-30,-29,-28,-27,-26,-25,-24,-23,-22,-21,-20,-19,-18,-17,-16,-15,-14,-13,-12,-11,-10,-9,-8,-7,-6,-5,-4,-3,-2,-1,0,1,2,3,4,5,6,7,8,9,10,11,12,13,14,15,16,17,18,19,20,21,22,23,24,25,26,27,28,29,30,31,32,33,34,35,36,37,38,39,40,41,42,43],\"y\":[-2.0,-4.8,1.6666666666666667,-1.1875,1.3846153846153846,-0.22580645161290322,0.14705882352941177,-2.3636363636363638,1.5806451612903225,2.466666666666667,3.1150442477876106,-0.029197080291970802,-0.29651162790697677,-1.9223300970873787,0.1015625,0.5325077399380805,3.6955445544554455,-0.8816326530612245,-0.1470113085621971,-1.3487544483985765,-2.1779026217228465,-4.367741935483871,-5.339246119733924,-8.141490088858509,-8.045883092394721,-8.446492271105827,-10.012117714945182,-7.857551487414188,-7.710391822827939,-9.317155756207676,-9.982505643340858,-9.436230248306998,-8.164221218961625,-10.020316027088036,-10.700902934537247,-10.802483069977427,-7.904063205417607,-6.540632054176072,-6.364559819413093,-7.04627539503386,-5.30079006772009,-2.8566591422121896,-1.6021444695259595,0.0,3.309819413092551,8.957674943566591,-1.505079006772009,-23.025395033860047,-33.04966139954853,-29.753386004514674,-19.665914221218962,-10.738148984198645,-7.517494356659142,-10.37076749435666,-16.395598194130926,-20.334085778781038,-25.26297968397291,-24.580699774266364,-23.955981941309254,-19.200902934537247,-17.09373235460192,-12.594563986409966,-10.206167904054826,-9.105051664753157,-7.106619800820153,-7.2804200123533045,-5.626410086264101,-7.028510334996437,-8.24228028503563,-9.767921146953405,-8.306755260243632,-5.072592592592593,-3.177734375,-5.745098039215686,-4.693693693693693,-8.07380073800738,-7.801980198019802,-6.983425414364641,-3.472972972972973,-1.8898305084745763,0.7070707070707071,-2.7205882352941178,-0.4666666666666667,-0.8235294117647058,0.5151515151515151,-1.5555555555555556,4.5,3.4285714285714284,10.5],\"type\":\"scattergl\"},{\"legendgroup\":\"StressTrue\",\"mode\":\"markers+lines\",\"name\":\"Stress answered in time - n= 2108\",\"showlegend\":true,\"x\":[-42,-41,-40,-39,-38,-37,-36,-35,-34,-33,-32,-31,-30,-29,-28,-27,-26,-25,-24,-23,-22,-21,-20,-19,-18,-17,-16,-15,-14,-13,-12,-11,-10,-9,-8,-7,-6,-5,-4,-3,-2,-1,0,1,2,3,4,5,6,7,8,9,10,11,12,13,14,15,16,17,18,19,20,21,22,23,24,25,26,27,28,29,30,31,32,33,34,35,36,37,38,39,40],\"y\":[5.0,2.4375,3.3043478260869565,2.1481481481481484,2.7857142857142856,1.3103448275862069,2.1219512195121952,5.280701754385965,3.2195121951219514,-0.8113207547169812,-3.014705882352941,-3.8588957055214723,-5.066964285714286,-6.835125448028674,-6.386920980926431,-4.920159680638722,-4.110782865583457,-8.374313940724479,-7.992585727525486,-10.708231458842706,-11.748363636363637,-12.837148463047743,-15.064942874323512,-17.522222222222222,-16.163783160322954,-16.301865460712268,-16.43473389355742,-16.05372132064913,-14.5976496922216,-15.251259093452713,-15.138220481253498,-15.566871852266368,-14.926692781197538,-15.047006155567992,-15.104085058757695,-14.101287073307219,-10.449916060436486,-7.844432008953554,-4.707890318970342,-1.1175153889199776,0.0,2.365416899832121,7.762171236709569,-2.0872971460548406,-28.210968102965865,-41.36094012311136,-38.06603245663123,-30.40906547285954,-22.096810296586458,-16.30554001119194,-15.369334079462787,-16.386681589255737,-19.04252937884723,-22.440962506994964,-25.58030218242865,-25.63346390598769,-24.356463346390598,-19.477871148459382,-14.28555240793201,-12.351118760757315,-12.73476494486361,-15.310386473429952,-14.214881334188583,-12.939415538132574,-7.550678371907422,-6.2251121076233185,-5.509110396570204,-3.8859154929577464,-5.786792452830189,-11.68939393939394,-9.193877551020408,-9.725321888412017,-7.604395604395604,-5.093525179856115,1.2547169811320755,-0.5952380952380952,2.3454545454545452,3.5555555555555554,4.071428571428571,6.7407407407407405,6.2592592592592595,7.2272727272727275,11.625],\"type\":\"scattergl\"},{\"legendgroup\":\"ControleFalse\",\"mode\":\"markers+lines\",\"name\":\"Controle NOT answered in time - n= 105\",\"showlegend\":true,\"x\":[-41,-40,-39,-38,-37,-36,-35,-34,-33,-32,-31,-30,-29,-28,-27,-26,-25,-24,-23,-22,-21,-20,-19,-18,-17,-16,-15,-14,-13,-12,-11,-10,-9,-8,-7,-6,-5,-4,-3,-2,-1,0,1,2,3,4,5,6,7,8,9,10,11,12,13,14,15,16,17,18,19,20,21,22,23,24,25,26,27,28,29,30,31,32,33,34,35,36,37,38,39,40],\"y\":[4.0,2.0,2.0,-6.0,10.5,1.3333333333333333,3.0,3.0,-1.3333333333333333,-27.25,-11.166666666666666,-14.0,-28.11111111111111,-16.833333333333332,-16.25,-1.8064516129032258,6.046511627906977,-2.611111111111111,0.15384615384615385,-10.093333333333334,-12.195121951219512,-18.764044943820224,-18.177777777777777,-13.67032967032967,-13.66304347826087,-10.880434782608695,-13.543478260869565,-15.304347826086957,-12.130434782608695,-12.73913043478261,-9.880434782608695,-4.576086956521739,-1.076086956521739,11.619565217391305,14.380434782608695,10.108695652173912,9.41304347826087,5.8478260869565215,5.521739130434782,0.0,4.206521739130435,16.684782608695652,27.902173913043477,19.793478260869566,17.402173913043477,22.369565217391305,17.41304347826087,23.641304347826086,27.33695652173913,19.17391304347826,-1.565217391304348,-16.467391304347824,-13.695652173913043,-11.902173913043478,-11.771739130434783,-13.141304347826088,-15.804347826086957,-14.043956043956044,-0.38461538461538464,6.670329670329671,-1.2873563218390804,2.2560975609756095,5.27536231884058,4.573770491803279,-11.58,-9.69767441860465,-29.060606060606062,-12.052631578947368,-0.09090909090909091,-16.571428571428573,-13.571428571428571,-24.4,-14.2,-7.333333333333333,0.0,-7.666666666666667,-15.0,2.0,6.0,0.0,0.0,-6.0],\"type\":\"scattergl\"},{\"legendgroup\":\"StressFalse\",\"mode\":\"markers+lines\",\"name\":\"Stress NOT answered in time - n= 61\",\"showlegend\":true,\"x\":[-36,-35,-34,-33,-32,-31,-30,-29,-28,-27,-26,-25,-24,-23,-22,-21,-20,-19,-18,-17,-16,-15,-14,-13,-12,-11,-10,-9,-8,-7,-6,-5,-4,-3,-2,-1,0,1,2,3,4,5,6,7,8,9,10,11,12,13,14,15,16,17,18,19,20,21,22,23,24,25,26,27,28,29,30,31,32],\"y\":[-4.0,-14.0,-10.0,-2.0,8.0,-6.0,-6.0,-11.0,-7.666666666666667,38.8,20.6,6.0,-6.458333333333333,-15.148148148148149,-31.17241379310345,-27.88888888888889,-29.7,-29.357142857142858,-24.232558139534884,-10.279069767441861,-8.847826086956522,-11.065217391304348,-4.1521739130434785,12.130434782608695,10.91304347826087,-0.43478260869565216,-9.782608695652174,-26.347826086956523,-12.847826086956522,-7.630434782608695,2.8260869565217392,4.391304347826087,10.326086956521738,8.543478260869565,0.0,1.9782608695652173,9.804347826086957,13.58695652173913,15.76086956521739,5.826086956521739,-21.47826086956522,-2.4347826086956523,4.391304347826087,-13.391304347826088,-30.0,-30.76086956521739,-38.95652173913044,-39.69565217391305,-33.95652173913044,-28.82608695652174,-36.608695652173914,-38.71111111111111,-30.6046511627907,-43.27906976744186,-43.390243902439025,-36.3,-36.35294117647059,-24.161290322580644,-11.366666666666667,-13.52,-15.882352941176471,-2.9166666666666665,36.0,3.3333333333333335,-20.5,-26.0,-35.0,6.0,14.0],\"type\":\"scattergl\"}],                        {\"template\":{\"data\":{\"bar\":[{\"error_x\":{\"color\":\"#2a3f5f\"},\"error_y\":{\"color\":\"#2a3f5f\"},\"marker\":{\"line\":{\"color\":\"#E5ECF6\",\"width\":0.5},\"pattern\":{\"fillmode\":\"overlay\",\"size\":10,\"solidity\":0.2}},\"type\":\"bar\"}],\"barpolar\":[{\"marker\":{\"line\":{\"color\":\"#E5ECF6\",\"width\":0.5},\"pattern\":{\"fillmode\":\"overlay\",\"size\":10,\"solidity\":0.2}},\"type\":\"barpolar\"}],\"carpet\":[{\"aaxis\":{\"endlinecolor\":\"#2a3f5f\",\"gridcolor\":\"white\",\"linecolor\":\"white\",\"minorgridcolor\":\"white\",\"startlinecolor\":\"#2a3f5f\"},\"baxis\":{\"endlinecolor\":\"#2a3f5f\",\"gridcolor\":\"white\",\"linecolor\":\"white\",\"minorgridcolor\":\"white\",\"startlinecolor\":\"#2a3f5f\"},\"type\":\"carpet\"}],\"choropleth\":[{\"colorbar\":{\"outlinewidth\":0,\"ticks\":\"\"},\"type\":\"choropleth\"}],\"contour\":[{\"colorbar\":{\"outlinewidth\":0,\"ticks\":\"\"},\"colorscale\":[[0.0,\"#0d0887\"],[0.1111111111111111,\"#46039f\"],[0.2222222222222222,\"#7201a8\"],[0.3333333333333333,\"#9c179e\"],[0.4444444444444444,\"#bd3786\"],[0.5555555555555556,\"#d8576b\"],[0.6666666666666666,\"#ed7953\"],[0.7777777777777778,\"#fb9f3a\"],[0.8888888888888888,\"#fdca26\"],[1.0,\"#f0f921\"]],\"type\":\"contour\"}],\"contourcarpet\":[{\"colorbar\":{\"outlinewidth\":0,\"ticks\":\"\"},\"type\":\"contourcarpet\"}],\"heatmap\":[{\"colorbar\":{\"outlinewidth\":0,\"ticks\":\"\"},\"colorscale\":[[0.0,\"#0d0887\"],[0.1111111111111111,\"#46039f\"],[0.2222222222222222,\"#7201a8\"],[0.3333333333333333,\"#9c179e\"],[0.4444444444444444,\"#bd3786\"],[0.5555555555555556,\"#d8576b\"],[0.6666666666666666,\"#ed7953\"],[0.7777777777777778,\"#fb9f3a\"],[0.8888888888888888,\"#fdca26\"],[1.0,\"#f0f921\"]],\"type\":\"heatmap\"}],\"heatmapgl\":[{\"colorbar\":{\"outlinewidth\":0,\"ticks\":\"\"},\"colorscale\":[[0.0,\"#0d0887\"],[0.1111111111111111,\"#46039f\"],[0.2222222222222222,\"#7201a8\"],[0.3333333333333333,\"#9c179e\"],[0.4444444444444444,\"#bd3786\"],[0.5555555555555556,\"#d8576b\"],[0.6666666666666666,\"#ed7953\"],[0.7777777777777778,\"#fb9f3a\"],[0.8888888888888888,\"#fdca26\"],[1.0,\"#f0f921\"]],\"type\":\"heatmapgl\"}],\"histogram\":[{\"marker\":{\"pattern\":{\"fillmode\":\"overlay\",\"size\":10,\"solidity\":0.2}},\"type\":\"histogram\"}],\"histogram2d\":[{\"colorbar\":{\"outlinewidth\":0,\"ticks\":\"\"},\"colorscale\":[[0.0,\"#0d0887\"],[0.1111111111111111,\"#46039f\"],[0.2222222222222222,\"#7201a8\"],[0.3333333333333333,\"#9c179e\"],[0.4444444444444444,\"#bd3786\"],[0.5555555555555556,\"#d8576b\"],[0.6666666666666666,\"#ed7953\"],[0.7777777777777778,\"#fb9f3a\"],[0.8888888888888888,\"#fdca26\"],[1.0,\"#f0f921\"]],\"type\":\"histogram2d\"}],\"histogram2dcontour\":[{\"colorbar\":{\"outlinewidth\":0,\"ticks\":\"\"},\"colorscale\":[[0.0,\"#0d0887\"],[0.1111111111111111,\"#46039f\"],[0.2222222222222222,\"#7201a8\"],[0.3333333333333333,\"#9c179e\"],[0.4444444444444444,\"#bd3786\"],[0.5555555555555556,\"#d8576b\"],[0.6666666666666666,\"#ed7953\"],[0.7777777777777778,\"#fb9f3a\"],[0.8888888888888888,\"#fdca26\"],[1.0,\"#f0f921\"]],\"type\":\"histogram2dcontour\"}],\"mesh3d\":[{\"colorbar\":{\"outlinewidth\":0,\"ticks\":\"\"},\"type\":\"mesh3d\"}],\"parcoords\":[{\"line\":{\"colorbar\":{\"outlinewidth\":0,\"ticks\":\"\"}},\"type\":\"parcoords\"}],\"pie\":[{\"automargin\":true,\"type\":\"pie\"}],\"scatter\":[{\"marker\":{\"colorbar\":{\"outlinewidth\":0,\"ticks\":\"\"}},\"type\":\"scatter\"}],\"scatter3d\":[{\"line\":{\"colorbar\":{\"outlinewidth\":0,\"ticks\":\"\"}},\"marker\":{\"colorbar\":{\"outlinewidth\":0,\"ticks\":\"\"}},\"type\":\"scatter3d\"}],\"scattercarpet\":[{\"marker\":{\"colorbar\":{\"outlinewidth\":0,\"ticks\":\"\"}},\"type\":\"scattercarpet\"}],\"scattergeo\":[{\"marker\":{\"colorbar\":{\"outlinewidth\":0,\"ticks\":\"\"}},\"type\":\"scattergeo\"}],\"scattergl\":[{\"marker\":{\"colorbar\":{\"outlinewidth\":0,\"ticks\":\"\"}},\"type\":\"scattergl\"}],\"scattermapbox\":[{\"marker\":{\"colorbar\":{\"outlinewidth\":0,\"ticks\":\"\"}},\"type\":\"scattermapbox\"}],\"scatterpolar\":[{\"marker\":{\"colorbar\":{\"outlinewidth\":0,\"ticks\":\"\"}},\"type\":\"scatterpolar\"}],\"scatterpolargl\":[{\"marker\":{\"colorbar\":{\"outlinewidth\":0,\"ticks\":\"\"}},\"type\":\"scatterpolargl\"}],\"scatterternary\":[{\"marker\":{\"colorbar\":{\"outlinewidth\":0,\"ticks\":\"\"}},\"type\":\"scatterternary\"}],\"surface\":[{\"colorbar\":{\"outlinewidth\":0,\"ticks\":\"\"},\"colorscale\":[[0.0,\"#0d0887\"],[0.1111111111111111,\"#46039f\"],[0.2222222222222222,\"#7201a8\"],[0.3333333333333333,\"#9c179e\"],[0.4444444444444444,\"#bd3786\"],[0.5555555555555556,\"#d8576b\"],[0.6666666666666666,\"#ed7953\"],[0.7777777777777778,\"#fb9f3a\"],[0.8888888888888888,\"#fdca26\"],[1.0,\"#f0f921\"]],\"type\":\"surface\"}],\"table\":[{\"cells\":{\"fill\":{\"color\":\"#EBF0F8\"},\"line\":{\"color\":\"white\"}},\"header\":{\"fill\":{\"color\":\"#C8D4E3\"},\"line\":{\"color\":\"white\"}},\"type\":\"table\"}]},\"layout\":{\"annotationdefaults\":{\"arrowcolor\":\"#2a3f5f\",\"arrowhead\":0,\"arrowwidth\":1},\"autotypenumbers\":\"strict\",\"coloraxis\":{\"colorbar\":{\"outlinewidth\":0,\"ticks\":\"\"}},\"colorscale\":{\"diverging\":[[0,\"#8e0152\"],[0.1,\"#c51b7d\"],[0.2,\"#de77ae\"],[0.3,\"#f1b6da\"],[0.4,\"#fde0ef\"],[0.5,\"#f7f7f7\"],[0.6,\"#e6f5d0\"],[0.7,\"#b8e186\"],[0.8,\"#7fbc41\"],[0.9,\"#4d9221\"],[1,\"#276419\"]],\"sequential\":[[0.0,\"#0d0887\"],[0.1111111111111111,\"#46039f\"],[0.2222222222222222,\"#7201a8\"],[0.3333333333333333,\"#9c179e\"],[0.4444444444444444,\"#bd3786\"],[0.5555555555555556,\"#d8576b\"],[0.6666666666666666,\"#ed7953\"],[0.7777777777777778,\"#fb9f3a\"],[0.8888888888888888,\"#fdca26\"],[1.0,\"#f0f921\"]],\"sequentialminus\":[[0.0,\"#0d0887\"],[0.1111111111111111,\"#46039f\"],[0.2222222222222222,\"#7201a8\"],[0.3333333333333333,\"#9c179e\"],[0.4444444444444444,\"#bd3786\"],[0.5555555555555556,\"#d8576b\"],[0.6666666666666666,\"#ed7953\"],[0.7777777777777778,\"#fb9f3a\"],[0.8888888888888888,\"#fdca26\"],[1.0,\"#f0f921\"]]},\"colorway\":[\"#636efa\",\"#EF553B\",\"#00cc96\",\"#ab63fa\",\"#FFA15A\",\"#19d3f3\",\"#FF6692\",\"#B6E880\",\"#FF97FF\",\"#FECB52\"],\"font\":{\"color\":\"#2a3f5f\"},\"geo\":{\"bgcolor\":\"white\",\"lakecolor\":\"white\",\"landcolor\":\"#E5ECF6\",\"showlakes\":true,\"showland\":true,\"subunitcolor\":\"white\"},\"hoverlabel\":{\"align\":\"left\"},\"hovermode\":\"closest\",\"mapbox\":{\"style\":\"light\"},\"paper_bgcolor\":\"white\",\"plot_bgcolor\":\"#E5ECF6\",\"polar\":{\"angularaxis\":{\"gridcolor\":\"white\",\"linecolor\":\"white\",\"ticks\":\"\"},\"bgcolor\":\"#E5ECF6\",\"radialaxis\":{\"gridcolor\":\"white\",\"linecolor\":\"white\",\"ticks\":\"\"}},\"scene\":{\"xaxis\":{\"backgroundcolor\":\"#E5ECF6\",\"gridcolor\":\"white\",\"gridwidth\":2,\"linecolor\":\"white\",\"showbackground\":true,\"ticks\":\"\",\"zerolinecolor\":\"white\"},\"yaxis\":{\"backgroundcolor\":\"#E5ECF6\",\"gridcolor\":\"white\",\"gridwidth\":2,\"linecolor\":\"white\",\"showbackground\":true,\"ticks\":\"\",\"zerolinecolor\":\"white\"},\"zaxis\":{\"backgroundcolor\":\"#E5ECF6\",\"gridcolor\":\"white\",\"gridwidth\":2,\"linecolor\":\"white\",\"showbackground\":true,\"ticks\":\"\",\"zerolinecolor\":\"white\"}},\"shapedefaults\":{\"line\":{\"color\":\"#2a3f5f\"}},\"ternary\":{\"aaxis\":{\"gridcolor\":\"white\",\"linecolor\":\"white\",\"ticks\":\"\"},\"baxis\":{\"gridcolor\":\"white\",\"linecolor\":\"white\",\"ticks\":\"\"},\"bgcolor\":\"#E5ECF6\",\"caxis\":{\"gridcolor\":\"white\",\"linecolor\":\"white\",\"ticks\":\"\"}},\"title\":{\"x\":0.05},\"xaxis\":{\"automargin\":true,\"gridcolor\":\"white\",\"linecolor\":\"white\",\"ticks\":\"\",\"title\":{\"standoff\":15},\"zerolinecolor\":\"white\",\"zerolinewidth\":2},\"yaxis\":{\"automargin\":true,\"gridcolor\":\"white\",\"linecolor\":\"white\",\"ticks\":\"\",\"title\":{\"standoff\":15},\"zerolinecolor\":\"white\",\"zerolinewidth\":2}}},\"title\":{\"text\":\"feedback\",\"x\":0.5},\"height\":400,\"xaxis\":{\"title\":{\"text\":\"Sequential IBI\"}},\"yaxis\":{\"title\":{\"text\":\"Delta IBI (ref IBI_-2) ms\"}}},                        {\"responsive\": true}                    ).then(function(){\n",
       "                            \n",
       "var gd = document.getElementById('a6a1cb7e-09de-4f6e-be78-9828a2638bdb');\n",
       "var x = new MutationObserver(function (mutations, observer) {{\n",
       "        var display = window.getComputedStyle(gd).display;\n",
       "        if (!display || display === 'none') {{\n",
       "            console.log([gd, 'removed!']);\n",
       "            Plotly.purge(gd);\n",
       "            observer.disconnect();\n",
       "        }}\n",
       "}});\n",
       "\n",
       "// Listen for the removal of the full notebook cells\n",
       "var notebookContainer = gd.closest('#notebook-container');\n",
       "if (notebookContainer) {{\n",
       "    x.observe(notebookContainer, {childList: true});\n",
       "}}\n",
       "\n",
       "// Listen for the clearing of the current output cell\n",
       "var outputEl = gd.closest('.output');\n",
       "if (outputEl) {{\n",
       "    x.observe(outputEl, {childList: true});\n",
       "}}\n",
       "\n",
       "                        })                };                });            </script>        </div>"
      ]
     },
     "metadata": {},
     "output_type": "display_data"
    }
   ],
   "source": [
    "fig_list = []\n",
    "fig = go.Figure()\n",
    "for answer_in_time in [True, False]:\n",
    "    shown_groups = []\n",
    "    for group in [\"Controle\", \"Stress\"]:\n",
    "        rr_group = []\n",
    "        df_f_gr = df_feedback[\n",
    "            (df_feedback[\"Procedure[Block]\"] == group)\n",
    "            & (df_feedback.answered_in_time == answer_in_time)\n",
    "        ]\n",
    "        for feeback_idx, _ in df_f_gr.iterrows():\n",
    "            rr_d = (\n",
    "                df_slc[df_slc[\"feedback_index\"] == feeback_idx]\n",
    "                .copy()\n",
    "                .set_index(\"IBI_pos\")\n",
    "                .sort_index()[\"RR_delta_ms\"]\n",
    "            )\n",
    "            rr_group.append(rr_d)\n",
    "\n",
    "        df_rr_group = pd.concat(rr_group, axis=1, ignore_index=False)\n",
    "        rr_group_mean = df_rr_group.mean(axis=1)\n",
    "        rr_group_std = df_rr_group.std(axis=1)\n",
    "        fig.add_trace(\n",
    "            go.Scattergl(\n",
    "                x=rr_group_mean.index,\n",
    "                y=rr_group_mean,\n",
    "                # error_y=dict(type=\"data\", array=rr_group_std, visible=True),\n",
    "                mode=\"markers+lines\",\n",
    "                name=group\n",
    "                + f\"{' NOT' if not answer_in_time else ''} answered in time - n= {df_rr_group.shape[1]}\",\n",
    "                legendgroup=group + str(answer_in_time),\n",
    "                showlegend=group not in shown_groups,\n",
    "            )\n",
    "        )\n",
    "        shown_groups.append(group)\n",
    "\n",
    "fig.update_layout(height=400, title=\"feedback\", title_x=0.5)\n",
    "fig.update_xaxes(title_text=\"Sequential IBI\")\n",
    "fig.update_yaxes(title_text=f\"Delta IBI (ref IBI_{reference_ibi_pos}) ms\")"
   ]
  },
  {
   "cell_type": "markdown",
   "metadata": {
    "incorrectly_encoded_metadata": "jp-MarkdownHeadingCollapsed=true",
    "tags": []
   },
   "source": [
    "### Per group & answered correctly"
   ]
  },
  {
   "cell_type": "code",
   "execution_count": 32,
   "metadata": {},
   "outputs": [
    {
     "data": {
      "application/vnd.plotly.v1+json": {
       "config": {
        "plotlyServerURL": "https://plotly.com"
       },
       "data": [
        {
         "legendgroup": "ControleTrue",
         "mode": "markers+lines",
         "name": "Controle correct - n= 1276",
         "showlegend": true,
         "type": "scattergl",
         "x": [
          -45,
          -44,
          -43,
          -42,
          -41,
          -40,
          -39,
          -38,
          -37,
          -36,
          -35,
          -34,
          -33,
          -32,
          -31,
          -30,
          -29,
          -28,
          -27,
          -26,
          -25,
          -24,
          -23,
          -22,
          -21,
          -20,
          -19,
          -18,
          -17,
          -16,
          -15,
          -14,
          -13,
          -12,
          -11,
          -10,
          -9,
          -8,
          -7,
          -6,
          -5,
          -4,
          -3,
          -2,
          -1,
          0,
          1,
          2,
          3,
          4,
          5,
          6,
          7,
          8,
          9,
          10,
          11,
          12,
          13,
          14,
          15,
          16,
          17,
          18,
          19,
          20,
          21,
          22,
          23,
          24,
          25,
          26,
          27,
          28,
          29,
          30,
          31,
          32,
          33,
          34,
          35,
          36,
          37,
          38,
          39,
          40,
          41,
          42,
          43
         ],
         "y": [
          -2,
          -3.5,
          -4.5,
          -4.333333333333333,
          -0.8571428571428571,
          -1.76,
          -1.5714285714285714,
          -4.59375,
          -2.3095238095238093,
          -2.564516129032258,
          -2.2133333333333334,
          -5.604395604395604,
          -7.3478260869565215,
          -9.079710144927537,
          -6.024242424242424,
          -6.095,
          -3.4693877551020407,
          -7.812709030100335,
          -6.261780104712042,
          -5.0702087286527515,
          -5.616296296296296,
          -7.318471337579618,
          -6.261682242990654,
          -10.905021834061136,
          -11.753768844221106,
          -11.280346820809248,
          -12.647887323943662,
          -11.788640595903166,
          -12.28110599078341,
          -13.091324200913242,
          -12.205479452054794,
          -12.547945205479452,
          -12.142465753424657,
          -14.063013698630137,
          -14.834703196347032,
          -14.296803652968036,
          -11.533333333333333,
          -10.317808219178081,
          -8.481278538812786,
          -9.357077625570776,
          -7.211872146118721,
          -2.598173515981735,
          -1.078538812785388,
          0,
          3.289497716894977,
          8.353424657534246,
          -4.548858447488584,
          -29.168036529680364,
          -41.08401826484018,
          -35.768036529680366,
          -23.4,
          -12.33972602739726,
          -6.781735159817352,
          -8.979908675799086,
          -14.832876712328767,
          -19.294063926940638,
          -23.75068493150685,
          -23.654794520547945,
          -23.658447488584475,
          -20.39908675799087,
          -17.874771480804387,
          -13.022018348623853,
          -10.88404452690167,
          -10.871148459383754,
          -8.07626310772164,
          -7.969123505976095,
          -7.528221512247072,
          -9.922988505747126,
          -11.271683673469388,
          -13.466571834992887,
          -13.208771929824561,
          -13.011848341232227,
          -13.138364779874214,
          -16.152941176470588,
          -13.127962085308058,
          -13.95,
          -13.492753623188406,
          -12.43089430894309,
          -10.08,
          -6.379746835443038,
          -1.5238095238095237,
          -4.574468085106383,
          -3.1,
          -2.392857142857143,
          -1.6296296296296295,
          -3.3333333333333335,
          3.5384615384615383,
          3.3333333333333335,
          10.5
         ]
        },
        {
         "legendgroup": "StressTrue",
         "mode": "markers+lines",
         "name": "Stress correct - n= 1320",
         "showlegend": true,
         "type": "scattergl",
         "x": [
          -41,
          -40,
          -39,
          -38,
          -37,
          -36,
          -35,
          -34,
          -33,
          -32,
          -31,
          -30,
          -29,
          -28,
          -27,
          -26,
          -25,
          -24,
          -23,
          -22,
          -21,
          -20,
          -19,
          -18,
          -17,
          -16,
          -15,
          -14,
          -13,
          -12,
          -11,
          -10,
          -9,
          -8,
          -7,
          -6,
          -5,
          -4,
          -3,
          -2,
          -1,
          0,
          1,
          2,
          3,
          4,
          5,
          6,
          7,
          8,
          9,
          10,
          11,
          12,
          13,
          14,
          15,
          16,
          17,
          18,
          19,
          20,
          21,
          22,
          23,
          24,
          25,
          26,
          27,
          28,
          29,
          30,
          31,
          32,
          33,
          34,
          35,
          36,
          37,
          38,
          39,
          40
         ],
         "y": [
          2.3333333333333335,
          3.066666666666667,
          1.6842105263157894,
          2.9,
          1.0476190476190477,
          2.3448275862068964,
          8.3,
          3.1481481481481484,
          -1.75,
          -3,
          -5.084905660377358,
          -7.324137931034483,
          -7.893854748603352,
          -6.911764705882353,
          -4.329268292682927,
          -2.9660633484162897,
          -7.571912013536379,
          -8.15450643776824,
          -11.95322376738306,
          -11.61111111111111,
          -13.4503582395087,
          -17.417853751187085,
          -21.515711645101664,
          -19.627504553734063,
          -19.25111706881144,
          -16.620476610767874,
          -15.92511013215859,
          -17.029955947136564,
          -16.234361233480175,
          -16.577973568281937,
          -18.844052863436122,
          -17.955947136563875,
          -19.1920704845815,
          -16.734801762114536,
          -16.723348017621145,
          -13.763876651982379,
          -9.949779735682819,
          -5.005286343612335,
          -0.9074889867841409,
          0,
          2.2502202643171807,
          9.307488986784142,
          -4.225550660792951,
          -31.588546255506607,
          -42.29867841409692,
          -36.3568281938326,
          -28.823788546255507,
          -20.04669603524229,
          -14.298678414096916,
          -11.030837004405287,
          -11.884581497797356,
          -14.515418502202643,
          -17.486343612334803,
          -21.055506607929516,
          -21.955947136563875,
          -21.314537444933922,
          -16.880070546737212,
          -13.204830053667264,
          -10.978221415607985,
          -9.05045871559633,
          -13.375595805529075,
          -14.337410805300713,
          -13.234960272417707,
          -7.915816326530612,
          -5.146272855133614,
          -4.981605351170568,
          -5.046255506607929,
          -7.648648648648648,
          -14.734375,
          -11.98936170212766,
          -10.563758389261745,
          -8.55,
          -10,
          1.1,
          -0.44642857142857145,
          4.702702702702703,
          4.92,
          5.421052631578948,
          4.684210526315789,
          4.368421052631579,
          4.6,
          13.75
         ]
        },
        {
         "legendgroup": "ControleFalse",
         "mode": "markers+lines",
         "name": "Controle NOT correct - n= 919",
         "showlegend": true,
         "type": "scattergl",
         "x": [
          -44,
          -43,
          -42,
          -41,
          -40,
          -39,
          -38,
          -37,
          -36,
          -35,
          -34,
          -33,
          -32,
          -31,
          -30,
          -29,
          -28,
          -27,
          -26,
          -25,
          -24,
          -23,
          -22,
          -21,
          -20,
          -19,
          -18,
          -17,
          -16,
          -15,
          -14,
          -13,
          -12,
          -11,
          -10,
          -9,
          -8,
          -7,
          -6,
          -5,
          -4,
          -3,
          -2,
          -1,
          0,
          1,
          2,
          3,
          4,
          5,
          6,
          7,
          8,
          9,
          10,
          11,
          12,
          13,
          14,
          15,
          16,
          17,
          18,
          19,
          20,
          21,
          22,
          23,
          24,
          25,
          26,
          27,
          28,
          29,
          30,
          31,
          32,
          33,
          34,
          35,
          36,
          37,
          38,
          39,
          40,
          41,
          42
         ],
         "y": [
          -10,
          14,
          8.25,
          9.666666666666666,
          5.571428571428571,
          7.285714285714286,
          2.8461538461538463,
          9.818181818181818,
          12.419354838709678,
          12.853658536585366,
          10.510204081632653,
          13.166666666666666,
          10.38888888888889,
          9.824742268041238,
          10.131782945736434,
          12.44047619047619,
          8.38423645320197,
          8.067193675889328,
          4.262247838616715,
          3.956422018348624,
          0.3693516699410609,
          -3.298932384341637,
          -4.307073954983923,
          -3.106194690265487,
          -5.686221009549795,
          -7.278364116094987,
          -3.030065359477124,
          -1.9661458333333333,
          -4.130039011703511,
          -7.243172951885565,
          -5.7074122236671005,
          -2.973992197659298,
          -4.589076723016905,
          -4.716514954486346,
          -5.081924577373212,
          -1.9193758127438232,
          1.010403120936281,
          -0.8686605981794538,
          -1.7035110533159947,
          -0.8192457737321196,
          -2.1833550065019507,
          -1.495448634590377,
          0,
          3.4460338101430428,
          10.742522756827048,
          6.347204161248374,
          -9.156046814044213,
          -15.573472041612483,
          -14.953185955786736,
          -9.912873862158648,
          -4.344603381014304,
          -4.395318595578674,
          -8.81664499349805,
          -16.846553966189855,
          -21.352405721716515,
          -26.03250975292588,
          -24.382314694408322,
          -22.921976592977895,
          -16.769830949284785,
          -15.828348504551366,
          -12.159061277705346,
          -8.079842931937172,
          -4.738845144356955,
          -5.061744966442953,
          -5.166427546628407,
          -1.642072213500785,
          -1.5976430976430978,
          -4.0680529300567105,
          -4.059210526315789,
          -2.5437158469945356,
          6.757352941176471,
          12.439024390243903,
          10.36875,
          8.62015503875969,
          2.09375,
          3.1159420289855073,
          3.9836065573770494,
          9.686274509803921,
          6.142857142857143,
          3.1025641025641026,
          1.4545454545454546,
          4.875,
          5.571428571428571,
          8.714285714285714,
          3.142857142857143,
          7,
          4
         ]
        },
        {
         "legendgroup": "StressFalse",
         "mode": "markers+lines",
         "name": "Stress NOT correct - n= 849",
         "showlegend": true,
         "type": "scattergl",
         "x": [
          -42,
          -41,
          -40,
          -39,
          -38,
          -37,
          -36,
          -35,
          -34,
          -33,
          -32,
          -31,
          -30,
          -29,
          -28,
          -27,
          -26,
          -25,
          -24,
          -23,
          -22,
          -21,
          -20,
          -19,
          -18,
          -17,
          -16,
          -15,
          -14,
          -13,
          -12,
          -11,
          -10,
          -9,
          -8,
          -7,
          -6,
          -5,
          -4,
          -3,
          -2,
          -1,
          0,
          1,
          2,
          3,
          4,
          5,
          6,
          7,
          8,
          9,
          10,
          11,
          12,
          13,
          14,
          15,
          16,
          17,
          18,
          19,
          20,
          21,
          22,
          23,
          24,
          25,
          26,
          27,
          28,
          29,
          30,
          31,
          32,
          33,
          34,
          35,
          36,
          37,
          38,
          39,
          40
         ],
         "y": [
          5,
          2.5714285714285716,
          3.75,
          3.25,
          2.5,
          2,
          1.1538461538461537,
          -2.5,
          2.896551724137931,
          1.0857142857142856,
          -2.8043478260869565,
          -1.6551724137931034,
          -0.9875,
          -5.116504854368932,
          -5.46969696969697,
          -4.780898876404494,
          -5.16734693877551,
          -9.011834319526628,
          -7.621287128712871,
          -8.840172786177106,
          -13.059386973180077,
          -12.739795918367347,
          -12.153846153846153,
          -11.814925373134328,
          -11.073637702503682,
          -11.165945165945166,
          -15.633237822349571,
          -15.934097421203438,
          -9.954154727793696,
          -11.848137535816619,
          -11.080229226361032,
          -9.240687679083095,
          -9.66189111747851,
          -9.051575931232092,
          -12.303724928366762,
          -9.411174785100286,
          -4.186246418338109,
          -3.6146131805157595,
          -3.2335243553008595,
          -0.8223495702005731,
          0,
          2.5272206303724927,
          5.383954154727793,
          2.4226361031518624,
          -19.820916905444125,
          -36.72636103151862,
          -39.75214899713467,
          -31.143266475644698,
          -23.68481375358166,
          -19.37679083094556,
          -23.388252148997136,
          -24.654727793696274,
          -27.716332378223495,
          -31.634670487106018,
          -33.48997134670487,
          -31.82378223495702,
          -30.110315186246417,
          -24.95402298850575,
          -17.053623188405798,
          -16.507309941520468,
          -20.55786350148368,
          -19.74497681607419,
          -15.248366013071895,
          -13.097649186256781,
          -7.206412825651302,
          -8.438228438228439,
          -6.90625,
          -1.876865671641791,
          -1.683168316831683,
          -5.923076923076923,
          -4.537037037037037,
          -8.651162790697674,
          -6.6875,
          4.851063829787234,
          1.8918918918918919,
          -0.8928571428571429,
          -2.5,
          0.45454545454545453,
          1.2222222222222223,
          11.625,
          10.75,
          12.857142857142858,
          9.5
         ]
        }
       ],
       "layout": {
        "autosize": true,
        "template": {
         "data": {
          "bar": [
           {
            "error_x": {
             "color": "#2a3f5f"
            },
            "error_y": {
             "color": "#2a3f5f"
            },
            "marker": {
             "line": {
              "color": "#E5ECF6",
              "width": 0.5
             },
             "pattern": {
              "fillmode": "overlay",
              "size": 10,
              "solidity": 0.2
             }
            },
            "type": "bar"
           }
          ],
          "barpolar": [
           {
            "marker": {
             "line": {
              "color": "#E5ECF6",
              "width": 0.5
             },
             "pattern": {
              "fillmode": "overlay",
              "size": 10,
              "solidity": 0.2
             }
            },
            "type": "barpolar"
           }
          ],
          "carpet": [
           {
            "aaxis": {
             "endlinecolor": "#2a3f5f",
             "gridcolor": "white",
             "linecolor": "white",
             "minorgridcolor": "white",
             "startlinecolor": "#2a3f5f"
            },
            "baxis": {
             "endlinecolor": "#2a3f5f",
             "gridcolor": "white",
             "linecolor": "white",
             "minorgridcolor": "white",
             "startlinecolor": "#2a3f5f"
            },
            "type": "carpet"
           }
          ],
          "choropleth": [
           {
            "colorbar": {
             "outlinewidth": 0,
             "ticks": ""
            },
            "type": "choropleth"
           }
          ],
          "contour": [
           {
            "colorbar": {
             "outlinewidth": 0,
             "ticks": ""
            },
            "colorscale": [
             [
              0,
              "#0d0887"
             ],
             [
              0.1111111111111111,
              "#46039f"
             ],
             [
              0.2222222222222222,
              "#7201a8"
             ],
             [
              0.3333333333333333,
              "#9c179e"
             ],
             [
              0.4444444444444444,
              "#bd3786"
             ],
             [
              0.5555555555555556,
              "#d8576b"
             ],
             [
              0.6666666666666666,
              "#ed7953"
             ],
             [
              0.7777777777777778,
              "#fb9f3a"
             ],
             [
              0.8888888888888888,
              "#fdca26"
             ],
             [
              1,
              "#f0f921"
             ]
            ],
            "type": "contour"
           }
          ],
          "contourcarpet": [
           {
            "colorbar": {
             "outlinewidth": 0,
             "ticks": ""
            },
            "type": "contourcarpet"
           }
          ],
          "heatmap": [
           {
            "colorbar": {
             "outlinewidth": 0,
             "ticks": ""
            },
            "colorscale": [
             [
              0,
              "#0d0887"
             ],
             [
              0.1111111111111111,
              "#46039f"
             ],
             [
              0.2222222222222222,
              "#7201a8"
             ],
             [
              0.3333333333333333,
              "#9c179e"
             ],
             [
              0.4444444444444444,
              "#bd3786"
             ],
             [
              0.5555555555555556,
              "#d8576b"
             ],
             [
              0.6666666666666666,
              "#ed7953"
             ],
             [
              0.7777777777777778,
              "#fb9f3a"
             ],
             [
              0.8888888888888888,
              "#fdca26"
             ],
             [
              1,
              "#f0f921"
             ]
            ],
            "type": "heatmap"
           }
          ],
          "heatmapgl": [
           {
            "colorbar": {
             "outlinewidth": 0,
             "ticks": ""
            },
            "colorscale": [
             [
              0,
              "#0d0887"
             ],
             [
              0.1111111111111111,
              "#46039f"
             ],
             [
              0.2222222222222222,
              "#7201a8"
             ],
             [
              0.3333333333333333,
              "#9c179e"
             ],
             [
              0.4444444444444444,
              "#bd3786"
             ],
             [
              0.5555555555555556,
              "#d8576b"
             ],
             [
              0.6666666666666666,
              "#ed7953"
             ],
             [
              0.7777777777777778,
              "#fb9f3a"
             ],
             [
              0.8888888888888888,
              "#fdca26"
             ],
             [
              1,
              "#f0f921"
             ]
            ],
            "type": "heatmapgl"
           }
          ],
          "histogram": [
           {
            "marker": {
             "pattern": {
              "fillmode": "overlay",
              "size": 10,
              "solidity": 0.2
             }
            },
            "type": "histogram"
           }
          ],
          "histogram2d": [
           {
            "colorbar": {
             "outlinewidth": 0,
             "ticks": ""
            },
            "colorscale": [
             [
              0,
              "#0d0887"
             ],
             [
              0.1111111111111111,
              "#46039f"
             ],
             [
              0.2222222222222222,
              "#7201a8"
             ],
             [
              0.3333333333333333,
              "#9c179e"
             ],
             [
              0.4444444444444444,
              "#bd3786"
             ],
             [
              0.5555555555555556,
              "#d8576b"
             ],
             [
              0.6666666666666666,
              "#ed7953"
             ],
             [
              0.7777777777777778,
              "#fb9f3a"
             ],
             [
              0.8888888888888888,
              "#fdca26"
             ],
             [
              1,
              "#f0f921"
             ]
            ],
            "type": "histogram2d"
           }
          ],
          "histogram2dcontour": [
           {
            "colorbar": {
             "outlinewidth": 0,
             "ticks": ""
            },
            "colorscale": [
             [
              0,
              "#0d0887"
             ],
             [
              0.1111111111111111,
              "#46039f"
             ],
             [
              0.2222222222222222,
              "#7201a8"
             ],
             [
              0.3333333333333333,
              "#9c179e"
             ],
             [
              0.4444444444444444,
              "#bd3786"
             ],
             [
              0.5555555555555556,
              "#d8576b"
             ],
             [
              0.6666666666666666,
              "#ed7953"
             ],
             [
              0.7777777777777778,
              "#fb9f3a"
             ],
             [
              0.8888888888888888,
              "#fdca26"
             ],
             [
              1,
              "#f0f921"
             ]
            ],
            "type": "histogram2dcontour"
           }
          ],
          "mesh3d": [
           {
            "colorbar": {
             "outlinewidth": 0,
             "ticks": ""
            },
            "type": "mesh3d"
           }
          ],
          "parcoords": [
           {
            "line": {
             "colorbar": {
              "outlinewidth": 0,
              "ticks": ""
             }
            },
            "type": "parcoords"
           }
          ],
          "pie": [
           {
            "automargin": true,
            "type": "pie"
           }
          ],
          "scatter": [
           {
            "marker": {
             "colorbar": {
              "outlinewidth": 0,
              "ticks": ""
             }
            },
            "type": "scatter"
           }
          ],
          "scatter3d": [
           {
            "line": {
             "colorbar": {
              "outlinewidth": 0,
              "ticks": ""
             }
            },
            "marker": {
             "colorbar": {
              "outlinewidth": 0,
              "ticks": ""
             }
            },
            "type": "scatter3d"
           }
          ],
          "scattercarpet": [
           {
            "marker": {
             "colorbar": {
              "outlinewidth": 0,
              "ticks": ""
             }
            },
            "type": "scattercarpet"
           }
          ],
          "scattergeo": [
           {
            "marker": {
             "colorbar": {
              "outlinewidth": 0,
              "ticks": ""
             }
            },
            "type": "scattergeo"
           }
          ],
          "scattergl": [
           {
            "marker": {
             "colorbar": {
              "outlinewidth": 0,
              "ticks": ""
             }
            },
            "type": "scattergl"
           }
          ],
          "scattermapbox": [
           {
            "marker": {
             "colorbar": {
              "outlinewidth": 0,
              "ticks": ""
             }
            },
            "type": "scattermapbox"
           }
          ],
          "scatterpolar": [
           {
            "marker": {
             "colorbar": {
              "outlinewidth": 0,
              "ticks": ""
             }
            },
            "type": "scatterpolar"
           }
          ],
          "scatterpolargl": [
           {
            "marker": {
             "colorbar": {
              "outlinewidth": 0,
              "ticks": ""
             }
            },
            "type": "scatterpolargl"
           }
          ],
          "scatterternary": [
           {
            "marker": {
             "colorbar": {
              "outlinewidth": 0,
              "ticks": ""
             }
            },
            "type": "scatterternary"
           }
          ],
          "surface": [
           {
            "colorbar": {
             "outlinewidth": 0,
             "ticks": ""
            },
            "colorscale": [
             [
              0,
              "#0d0887"
             ],
             [
              0.1111111111111111,
              "#46039f"
             ],
             [
              0.2222222222222222,
              "#7201a8"
             ],
             [
              0.3333333333333333,
              "#9c179e"
             ],
             [
              0.4444444444444444,
              "#bd3786"
             ],
             [
              0.5555555555555556,
              "#d8576b"
             ],
             [
              0.6666666666666666,
              "#ed7953"
             ],
             [
              0.7777777777777778,
              "#fb9f3a"
             ],
             [
              0.8888888888888888,
              "#fdca26"
             ],
             [
              1,
              "#f0f921"
             ]
            ],
            "type": "surface"
           }
          ],
          "table": [
           {
            "cells": {
             "fill": {
              "color": "#EBF0F8"
             },
             "line": {
              "color": "white"
             }
            },
            "header": {
             "fill": {
              "color": "#C8D4E3"
             },
             "line": {
              "color": "white"
             }
            },
            "type": "table"
           }
          ]
         },
         "layout": {
          "annotationdefaults": {
           "arrowcolor": "#2a3f5f",
           "arrowhead": 0,
           "arrowwidth": 1
          },
          "autotypenumbers": "strict",
          "coloraxis": {
           "colorbar": {
            "outlinewidth": 0,
            "ticks": ""
           }
          },
          "colorscale": {
           "diverging": [
            [
             0,
             "#8e0152"
            ],
            [
             0.1,
             "#c51b7d"
            ],
            [
             0.2,
             "#de77ae"
            ],
            [
             0.3,
             "#f1b6da"
            ],
            [
             0.4,
             "#fde0ef"
            ],
            [
             0.5,
             "#f7f7f7"
            ],
            [
             0.6,
             "#e6f5d0"
            ],
            [
             0.7,
             "#b8e186"
            ],
            [
             0.8,
             "#7fbc41"
            ],
            [
             0.9,
             "#4d9221"
            ],
            [
             1,
             "#276419"
            ]
           ],
           "sequential": [
            [
             0,
             "#0d0887"
            ],
            [
             0.1111111111111111,
             "#46039f"
            ],
            [
             0.2222222222222222,
             "#7201a8"
            ],
            [
             0.3333333333333333,
             "#9c179e"
            ],
            [
             0.4444444444444444,
             "#bd3786"
            ],
            [
             0.5555555555555556,
             "#d8576b"
            ],
            [
             0.6666666666666666,
             "#ed7953"
            ],
            [
             0.7777777777777778,
             "#fb9f3a"
            ],
            [
             0.8888888888888888,
             "#fdca26"
            ],
            [
             1,
             "#f0f921"
            ]
           ],
           "sequentialminus": [
            [
             0,
             "#0d0887"
            ],
            [
             0.1111111111111111,
             "#46039f"
            ],
            [
             0.2222222222222222,
             "#7201a8"
            ],
            [
             0.3333333333333333,
             "#9c179e"
            ],
            [
             0.4444444444444444,
             "#bd3786"
            ],
            [
             0.5555555555555556,
             "#d8576b"
            ],
            [
             0.6666666666666666,
             "#ed7953"
            ],
            [
             0.7777777777777778,
             "#fb9f3a"
            ],
            [
             0.8888888888888888,
             "#fdca26"
            ],
            [
             1,
             "#f0f921"
            ]
           ]
          },
          "colorway": [
           "#636efa",
           "#EF553B",
           "#00cc96",
           "#ab63fa",
           "#FFA15A",
           "#19d3f3",
           "#FF6692",
           "#B6E880",
           "#FF97FF",
           "#FECB52"
          ],
          "font": {
           "color": "#2a3f5f"
          },
          "geo": {
           "bgcolor": "white",
           "lakecolor": "white",
           "landcolor": "#E5ECF6",
           "showlakes": true,
           "showland": true,
           "subunitcolor": "white"
          },
          "hoverlabel": {
           "align": "left"
          },
          "hovermode": "closest",
          "mapbox": {
           "style": "light"
          },
          "paper_bgcolor": "white",
          "plot_bgcolor": "#E5ECF6",
          "polar": {
           "angularaxis": {
            "gridcolor": "white",
            "linecolor": "white",
            "ticks": ""
           },
           "bgcolor": "#E5ECF6",
           "radialaxis": {
            "gridcolor": "white",
            "linecolor": "white",
            "ticks": ""
           }
          },
          "scene": {
           "xaxis": {
            "backgroundcolor": "#E5ECF6",
            "gridcolor": "white",
            "gridwidth": 2,
            "linecolor": "white",
            "showbackground": true,
            "ticks": "",
            "zerolinecolor": "white"
           },
           "yaxis": {
            "backgroundcolor": "#E5ECF6",
            "gridcolor": "white",
            "gridwidth": 2,
            "linecolor": "white",
            "showbackground": true,
            "ticks": "",
            "zerolinecolor": "white"
           },
           "zaxis": {
            "backgroundcolor": "#E5ECF6",
            "gridcolor": "white",
            "gridwidth": 2,
            "linecolor": "white",
            "showbackground": true,
            "ticks": "",
            "zerolinecolor": "white"
           }
          },
          "shapedefaults": {
           "line": {
            "color": "#2a3f5f"
           }
          },
          "ternary": {
           "aaxis": {
            "gridcolor": "white",
            "linecolor": "white",
            "ticks": ""
           },
           "baxis": {
            "gridcolor": "white",
            "linecolor": "white",
            "ticks": ""
           },
           "bgcolor": "#E5ECF6",
           "caxis": {
            "gridcolor": "white",
            "linecolor": "white",
            "ticks": ""
           }
          },
          "title": {
           "x": 0.05
          },
          "xaxis": {
           "automargin": true,
           "gridcolor": "white",
           "linecolor": "white",
           "ticks": "",
           "title": {
            "standoff": 15
           },
           "zerolinecolor": "white",
           "zerolinewidth": 2
          },
          "yaxis": {
           "automargin": true,
           "gridcolor": "white",
           "linecolor": "white",
           "ticks": "",
           "title": {
            "standoff": 15
           },
           "zerolinecolor": "white",
           "zerolinewidth": 2
          }
         }
        },
        "title": {
         "text": "feedback",
         "x": 0.5
        },
        "xaxis": {
         "autorange": true,
         "range": [
          -50.273719563392106,
          48.273719563392106
         ],
         "title": {
          "text": "Sequential IBI"
         },
         "type": "linear"
        },
        "yaxis": {
         "autorange": true,
         "range": [
          -46.65776243828552,
          18.359084024188608
         ],
         "title": {
          "text": "Delta IBI (ref IBI_-2) (ms)"
         },
         "type": "linear"
        }
       }
      },
      "image/png": "[encoded data removed]",
      "text/html": [
       "<div>                            <div id=\"a11db18b-6e09-43c9-b074-1d85bd46017b\" class=\"plotly-graph-div\" style=\"height:400px; width:100%;\"></div>            <script type=\"text/javascript\">                require([\"plotly\"], function(Plotly) {                    window.PLOTLYENV=window.PLOTLYENV || {};                                    if (document.getElementById(\"a11db18b-6e09-43c9-b074-1d85bd46017b\")) {                    Plotly.newPlot(                        \"a11db18b-6e09-43c9-b074-1d85bd46017b\",                        [{\"legendgroup\":\"ControleTrue\",\"mode\":\"markers+lines\",\"name\":\"Controle correct - n= 1276\",\"showlegend\":true,\"x\":[-45,-44,-43,-42,-41,-40,-39,-38,-37,-36,-35,-34,-33,-32,-31,-30,-29,-28,-27,-26,-25,-24,-23,-22,-21,-20,-19,-18,-17,-16,-15,-14,-13,-12,-11,-10,-9,-8,-7,-6,-5,-4,-3,-2,-1,0,1,2,3,4,5,6,7,8,9,10,11,12,13,14,15,16,17,18,19,20,21,22,23,24,25,26,27,28,29,30,31,32,33,34,35,36,37,38,39,40,41,42,43],\"y\":[-2.0,-3.5,-4.5,-4.333333333333333,-0.8571428571428571,-1.76,-1.5714285714285714,-4.59375,-2.3095238095238093,-2.564516129032258,-2.2133333333333334,-5.604395604395604,-7.3478260869565215,-9.079710144927537,-6.024242424242424,-6.095,-3.4693877551020407,-7.812709030100335,-6.261780104712042,-5.0702087286527515,-5.616296296296296,-7.318471337579618,-6.261682242990654,-10.905021834061136,-11.753768844221106,-11.280346820809248,-12.647887323943662,-11.788640595903166,-12.28110599078341,-13.091324200913242,-12.205479452054794,-12.547945205479452,-12.142465753424657,-14.063013698630137,-14.834703196347032,-14.296803652968036,-11.533333333333333,-10.317808219178081,-8.481278538812786,-9.357077625570776,-7.211872146118721,-2.598173515981735,-1.078538812785388,0.0,3.289497716894977,8.353424657534246,-4.548858447488584,-29.168036529680364,-41.08401826484018,-35.768036529680366,-23.4,-12.33972602739726,-6.781735159817352,-8.979908675799086,-14.832876712328767,-19.294063926940638,-23.75068493150685,-23.654794520547945,-23.658447488584475,-20.39908675799087,-17.874771480804387,-13.022018348623853,-10.88404452690167,-10.871148459383754,-8.07626310772164,-7.969123505976095,-7.528221512247072,-9.922988505747126,-11.271683673469388,-13.466571834992887,-13.208771929824561,-13.011848341232227,-13.138364779874214,-16.152941176470588,-13.127962085308058,-13.95,-13.492753623188406,-12.43089430894309,-10.08,-6.379746835443038,-1.5238095238095237,-4.574468085106383,-3.1,-2.392857142857143,-1.6296296296296295,-3.3333333333333335,3.5384615384615383,3.3333333333333335,10.5],\"type\":\"scattergl\"},{\"legendgroup\":\"StressTrue\",\"mode\":\"markers+lines\",\"name\":\"Stress correct - n= 1320\",\"showlegend\":true,\"x\":[-41,-40,-39,-38,-37,-36,-35,-34,-33,-32,-31,-30,-29,-28,-27,-26,-25,-24,-23,-22,-21,-20,-19,-18,-17,-16,-15,-14,-13,-12,-11,-10,-9,-8,-7,-6,-5,-4,-3,-2,-1,0,1,2,3,4,5,6,7,8,9,10,11,12,13,14,15,16,17,18,19,20,21,22,23,24,25,26,27,28,29,30,31,32,33,34,35,36,37,38,39,40],\"y\":[2.3333333333333335,3.066666666666667,1.6842105263157894,2.9,1.0476190476190477,2.3448275862068964,8.3,3.1481481481481484,-1.75,-3.0,-5.084905660377358,-7.324137931034483,-7.893854748603352,-6.911764705882353,-4.329268292682927,-2.9660633484162897,-7.571912013536379,-8.15450643776824,-11.95322376738306,-11.61111111111111,-13.4503582395087,-17.417853751187085,-21.515711645101664,-19.627504553734063,-19.25111706881144,-16.620476610767874,-15.92511013215859,-17.029955947136564,-16.234361233480175,-16.577973568281937,-18.844052863436122,-17.955947136563875,-19.1920704845815,-16.734801762114536,-16.723348017621145,-13.763876651982379,-9.949779735682819,-5.005286343612335,-0.9074889867841409,0.0,2.2502202643171807,9.307488986784142,-4.225550660792951,-31.588546255506607,-42.29867841409692,-36.3568281938326,-28.823788546255507,-20.04669603524229,-14.298678414096916,-11.030837004405287,-11.884581497797356,-14.515418502202643,-17.486343612334803,-21.055506607929516,-21.955947136563875,-21.314537444933922,-16.880070546737212,-13.204830053667264,-10.978221415607985,-9.05045871559633,-13.375595805529075,-14.337410805300713,-13.234960272417707,-7.915816326530612,-5.146272855133614,-4.981605351170568,-5.046255506607929,-7.648648648648648,-14.734375,-11.98936170212766,-10.563758389261745,-8.55,-10.0,1.1,-0.44642857142857145,4.702702702702703,4.92,5.421052631578948,4.684210526315789,4.368421052631579,4.6,13.75],\"type\":\"scattergl\"},{\"legendgroup\":\"ControleFalse\",\"mode\":\"markers+lines\",\"name\":\"Controle NOT correct - n= 919\",\"showlegend\":true,\"x\":[-44,-43,-42,-41,-40,-39,-38,-37,-36,-35,-34,-33,-32,-31,-30,-29,-28,-27,-26,-25,-24,-23,-22,-21,-20,-19,-18,-17,-16,-15,-14,-13,-12,-11,-10,-9,-8,-7,-6,-5,-4,-3,-2,-1,0,1,2,3,4,5,6,7,8,9,10,11,12,13,14,15,16,17,18,19,20,21,22,23,24,25,26,27,28,29,30,31,32,33,34,35,36,37,38,39,40,41,42],\"y\":[-10.0,14.0,8.25,9.666666666666666,5.571428571428571,7.285714285714286,2.8461538461538463,9.818181818181818,12.419354838709678,12.853658536585366,10.510204081632653,13.166666666666666,10.38888888888889,9.824742268041238,10.131782945736434,12.44047619047619,8.38423645320197,8.067193675889328,4.262247838616715,3.956422018348624,0.3693516699410609,-3.298932384341637,-4.307073954983923,-3.106194690265487,-5.686221009549795,-7.278364116094987,-3.030065359477124,-1.9661458333333333,-4.130039011703511,-7.243172951885565,-5.7074122236671005,-2.973992197659298,-4.589076723016905,-4.716514954486346,-5.081924577373212,-1.9193758127438232,1.010403120936281,-0.8686605981794538,-1.7035110533159947,-0.8192457737321196,-2.1833550065019507,-1.495448634590377,0.0,3.4460338101430428,10.742522756827048,6.347204161248374,-9.156046814044213,-15.573472041612483,-14.953185955786736,-9.912873862158648,-4.344603381014304,-4.395318595578674,-8.81664499349805,-16.846553966189855,-21.352405721716515,-26.03250975292588,-24.382314694408322,-22.921976592977895,-16.769830949284785,-15.828348504551366,-12.159061277705346,-8.079842931937172,-4.738845144356955,-5.061744966442953,-5.166427546628407,-1.642072213500785,-1.5976430976430978,-4.0680529300567105,-4.059210526315789,-2.5437158469945356,6.757352941176471,12.439024390243903,10.36875,8.62015503875969,2.09375,3.1159420289855073,3.9836065573770494,9.686274509803921,6.142857142857143,3.1025641025641026,1.4545454545454546,4.875,5.571428571428571,8.714285714285714,3.142857142857143,7.0,4.0],\"type\":\"scattergl\"},{\"legendgroup\":\"StressFalse\",\"mode\":\"markers+lines\",\"name\":\"Stress NOT correct - n= 849\",\"showlegend\":true,\"x\":[-42,-41,-40,-39,-38,-37,-36,-35,-34,-33,-32,-31,-30,-29,-28,-27,-26,-25,-24,-23,-22,-21,-20,-19,-18,-17,-16,-15,-14,-13,-12,-11,-10,-9,-8,-7,-6,-5,-4,-3,-2,-1,0,1,2,3,4,5,6,7,8,9,10,11,12,13,14,15,16,17,18,19,20,21,22,23,24,25,26,27,28,29,30,31,32,33,34,35,36,37,38,39,40],\"y\":[5.0,2.5714285714285716,3.75,3.25,2.5,2.0,1.1538461538461537,-2.5,2.896551724137931,1.0857142857142856,-2.8043478260869565,-1.6551724137931034,-0.9875,-5.116504854368932,-5.46969696969697,-4.780898876404494,-5.16734693877551,-9.011834319526628,-7.621287128712871,-8.840172786177106,-13.059386973180077,-12.739795918367347,-12.153846153846153,-11.814925373134328,-11.073637702503682,-11.165945165945166,-15.633237822349571,-15.934097421203438,-9.954154727793696,-11.848137535816619,-11.080229226361032,-9.240687679083095,-9.66189111747851,-9.051575931232092,-12.303724928366762,-9.411174785100286,-4.186246418338109,-3.6146131805157595,-3.2335243553008595,-0.8223495702005731,0.0,2.5272206303724927,5.383954154727793,2.4226361031518624,-19.820916905444125,-36.72636103151862,-39.75214899713467,-31.143266475644698,-23.68481375358166,-19.37679083094556,-23.388252148997136,-24.654727793696274,-27.716332378223495,-31.634670487106018,-33.48997134670487,-31.82378223495702,-30.110315186246417,-24.95402298850575,-17.053623188405798,-16.507309941520468,-20.55786350148368,-19.74497681607419,-15.248366013071895,-13.097649186256781,-7.206412825651302,-8.438228438228439,-6.90625,-1.876865671641791,-1.683168316831683,-5.923076923076923,-4.537037037037037,-8.651162790697674,-6.6875,4.851063829787234,1.8918918918918919,-0.8928571428571429,-2.5,0.45454545454545453,1.2222222222222223,11.625,10.75,12.857142857142858,9.5],\"type\":\"scattergl\"}],                        {\"template\":{\"data\":{\"bar\":[{\"error_x\":{\"color\":\"#2a3f5f\"},\"error_y\":{\"color\":\"#2a3f5f\"},\"marker\":{\"line\":{\"color\":\"#E5ECF6\",\"width\":0.5},\"pattern\":{\"fillmode\":\"overlay\",\"size\":10,\"solidity\":0.2}},\"type\":\"bar\"}],\"barpolar\":[{\"marker\":{\"line\":{\"color\":\"#E5ECF6\",\"width\":0.5},\"pattern\":{\"fillmode\":\"overlay\",\"size\":10,\"solidity\":0.2}},\"type\":\"barpolar\"}],\"carpet\":[{\"aaxis\":{\"endlinecolor\":\"#2a3f5f\",\"gridcolor\":\"white\",\"linecolor\":\"white\",\"minorgridcolor\":\"white\",\"startlinecolor\":\"#2a3f5f\"},\"baxis\":{\"endlinecolor\":\"#2a3f5f\",\"gridcolor\":\"white\",\"linecolor\":\"white\",\"minorgridcolor\":\"white\",\"startlinecolor\":\"#2a3f5f\"},\"type\":\"carpet\"}],\"choropleth\":[{\"colorbar\":{\"outlinewidth\":0,\"ticks\":\"\"},\"type\":\"choropleth\"}],\"contour\":[{\"colorbar\":{\"outlinewidth\":0,\"ticks\":\"\"},\"colorscale\":[[0.0,\"#0d0887\"],[0.1111111111111111,\"#46039f\"],[0.2222222222222222,\"#7201a8\"],[0.3333333333333333,\"#9c179e\"],[0.4444444444444444,\"#bd3786\"],[0.5555555555555556,\"#d8576b\"],[0.6666666666666666,\"#ed7953\"],[0.7777777777777778,\"#fb9f3a\"],[0.8888888888888888,\"#fdca26\"],[1.0,\"#f0f921\"]],\"type\":\"contour\"}],\"contourcarpet\":[{\"colorbar\":{\"outlinewidth\":0,\"ticks\":\"\"},\"type\":\"contourcarpet\"}],\"heatmap\":[{\"colorbar\":{\"outlinewidth\":0,\"ticks\":\"\"},\"colorscale\":[[0.0,\"#0d0887\"],[0.1111111111111111,\"#46039f\"],[0.2222222222222222,\"#7201a8\"],[0.3333333333333333,\"#9c179e\"],[0.4444444444444444,\"#bd3786\"],[0.5555555555555556,\"#d8576b\"],[0.6666666666666666,\"#ed7953\"],[0.7777777777777778,\"#fb9f3a\"],[0.8888888888888888,\"#fdca26\"],[1.0,\"#f0f921\"]],\"type\":\"heatmap\"}],\"heatmapgl\":[{\"colorbar\":{\"outlinewidth\":0,\"ticks\":\"\"},\"colorscale\":[[0.0,\"#0d0887\"],[0.1111111111111111,\"#46039f\"],[0.2222222222222222,\"#7201a8\"],[0.3333333333333333,\"#9c179e\"],[0.4444444444444444,\"#bd3786\"],[0.5555555555555556,\"#d8576b\"],[0.6666666666666666,\"#ed7953\"],[0.7777777777777778,\"#fb9f3a\"],[0.8888888888888888,\"#fdca26\"],[1.0,\"#f0f921\"]],\"type\":\"heatmapgl\"}],\"histogram\":[{\"marker\":{\"pattern\":{\"fillmode\":\"overlay\",\"size\":10,\"solidity\":0.2}},\"type\":\"histogram\"}],\"histogram2d\":[{\"colorbar\":{\"outlinewidth\":0,\"ticks\":\"\"},\"colorscale\":[[0.0,\"#0d0887\"],[0.1111111111111111,\"#46039f\"],[0.2222222222222222,\"#7201a8\"],[0.3333333333333333,\"#9c179e\"],[0.4444444444444444,\"#bd3786\"],[0.5555555555555556,\"#d8576b\"],[0.6666666666666666,\"#ed7953\"],[0.7777777777777778,\"#fb9f3a\"],[0.8888888888888888,\"#fdca26\"],[1.0,\"#f0f921\"]],\"type\":\"histogram2d\"}],\"histogram2dcontour\":[{\"colorbar\":{\"outlinewidth\":0,\"ticks\":\"\"},\"colorscale\":[[0.0,\"#0d0887\"],[0.1111111111111111,\"#46039f\"],[0.2222222222222222,\"#7201a8\"],[0.3333333333333333,\"#9c179e\"],[0.4444444444444444,\"#bd3786\"],[0.5555555555555556,\"#d8576b\"],[0.6666666666666666,\"#ed7953\"],[0.7777777777777778,\"#fb9f3a\"],[0.8888888888888888,\"#fdca26\"],[1.0,\"#f0f921\"]],\"type\":\"histogram2dcontour\"}],\"mesh3d\":[{\"colorbar\":{\"outlinewidth\":0,\"ticks\":\"\"},\"type\":\"mesh3d\"}],\"parcoords\":[{\"line\":{\"colorbar\":{\"outlinewidth\":0,\"ticks\":\"\"}},\"type\":\"parcoords\"}],\"pie\":[{\"automargin\":true,\"type\":\"pie\"}],\"scatter\":[{\"marker\":{\"colorbar\":{\"outlinewidth\":0,\"ticks\":\"\"}},\"type\":\"scatter\"}],\"scatter3d\":[{\"line\":{\"colorbar\":{\"outlinewidth\":0,\"ticks\":\"\"}},\"marker\":{\"colorbar\":{\"outlinewidth\":0,\"ticks\":\"\"}},\"type\":\"scatter3d\"}],\"scattercarpet\":[{\"marker\":{\"colorbar\":{\"outlinewidth\":0,\"ticks\":\"\"}},\"type\":\"scattercarpet\"}],\"scattergeo\":[{\"marker\":{\"colorbar\":{\"outlinewidth\":0,\"ticks\":\"\"}},\"type\":\"scattergeo\"}],\"scattergl\":[{\"marker\":{\"colorbar\":{\"outlinewidth\":0,\"ticks\":\"\"}},\"type\":\"scattergl\"}],\"scattermapbox\":[{\"marker\":{\"colorbar\":{\"outlinewidth\":0,\"ticks\":\"\"}},\"type\":\"scattermapbox\"}],\"scatterpolar\":[{\"marker\":{\"colorbar\":{\"outlinewidth\":0,\"ticks\":\"\"}},\"type\":\"scatterpolar\"}],\"scatterpolargl\":[{\"marker\":{\"colorbar\":{\"outlinewidth\":0,\"ticks\":\"\"}},\"type\":\"scatterpolargl\"}],\"scatterternary\":[{\"marker\":{\"colorbar\":{\"outlinewidth\":0,\"ticks\":\"\"}},\"type\":\"scatterternary\"}],\"surface\":[{\"colorbar\":{\"outlinewidth\":0,\"ticks\":\"\"},\"colorscale\":[[0.0,\"#0d0887\"],[0.1111111111111111,\"#46039f\"],[0.2222222222222222,\"#7201a8\"],[0.3333333333333333,\"#9c179e\"],[0.4444444444444444,\"#bd3786\"],[0.5555555555555556,\"#d8576b\"],[0.6666666666666666,\"#ed7953\"],[0.7777777777777778,\"#fb9f3a\"],[0.8888888888888888,\"#fdca26\"],[1.0,\"#f0f921\"]],\"type\":\"surface\"}],\"table\":[{\"cells\":{\"fill\":{\"color\":\"#EBF0F8\"},\"line\":{\"color\":\"white\"}},\"header\":{\"fill\":{\"color\":\"#C8D4E3\"},\"line\":{\"color\":\"white\"}},\"type\":\"table\"}]},\"layout\":{\"annotationdefaults\":{\"arrowcolor\":\"#2a3f5f\",\"arrowhead\":0,\"arrowwidth\":1},\"autotypenumbers\":\"strict\",\"coloraxis\":{\"colorbar\":{\"outlinewidth\":0,\"ticks\":\"\"}},\"colorscale\":{\"diverging\":[[0,\"#8e0152\"],[0.1,\"#c51b7d\"],[0.2,\"#de77ae\"],[0.3,\"#f1b6da\"],[0.4,\"#fde0ef\"],[0.5,\"#f7f7f7\"],[0.6,\"#e6f5d0\"],[0.7,\"#b8e186\"],[0.8,\"#7fbc41\"],[0.9,\"#4d9221\"],[1,\"#276419\"]],\"sequential\":[[0.0,\"#0d0887\"],[0.1111111111111111,\"#46039f\"],[0.2222222222222222,\"#7201a8\"],[0.3333333333333333,\"#9c179e\"],[0.4444444444444444,\"#bd3786\"],[0.5555555555555556,\"#d8576b\"],[0.6666666666666666,\"#ed7953\"],[0.7777777777777778,\"#fb9f3a\"],[0.8888888888888888,\"#fdca26\"],[1.0,\"#f0f921\"]],\"sequentialminus\":[[0.0,\"#0d0887\"],[0.1111111111111111,\"#46039f\"],[0.2222222222222222,\"#7201a8\"],[0.3333333333333333,\"#9c179e\"],[0.4444444444444444,\"#bd3786\"],[0.5555555555555556,\"#d8576b\"],[0.6666666666666666,\"#ed7953\"],[0.7777777777777778,\"#fb9f3a\"],[0.8888888888888888,\"#fdca26\"],[1.0,\"#f0f921\"]]},\"colorway\":[\"#636efa\",\"#EF553B\",\"#00cc96\",\"#ab63fa\",\"#FFA15A\",\"#19d3f3\",\"#FF6692\",\"#B6E880\",\"#FF97FF\",\"#FECB52\"],\"font\":{\"color\":\"#2a3f5f\"},\"geo\":{\"bgcolor\":\"white\",\"lakecolor\":\"white\",\"landcolor\":\"#E5ECF6\",\"showlakes\":true,\"showland\":true,\"subunitcolor\":\"white\"},\"hoverlabel\":{\"align\":\"left\"},\"hovermode\":\"closest\",\"mapbox\":{\"style\":\"light\"},\"paper_bgcolor\":\"white\",\"plot_bgcolor\":\"#E5ECF6\",\"polar\":{\"angularaxis\":{\"gridcolor\":\"white\",\"linecolor\":\"white\",\"ticks\":\"\"},\"bgcolor\":\"#E5ECF6\",\"radialaxis\":{\"gridcolor\":\"white\",\"linecolor\":\"white\",\"ticks\":\"\"}},\"scene\":{\"xaxis\":{\"backgroundcolor\":\"#E5ECF6\",\"gridcolor\":\"white\",\"gridwidth\":2,\"linecolor\":\"white\",\"showbackground\":true,\"ticks\":\"\",\"zerolinecolor\":\"white\"},\"yaxis\":{\"backgroundcolor\":\"#E5ECF6\",\"gridcolor\":\"white\",\"gridwidth\":2,\"linecolor\":\"white\",\"showbackground\":true,\"ticks\":\"\",\"zerolinecolor\":\"white\"},\"zaxis\":{\"backgroundcolor\":\"#E5ECF6\",\"gridcolor\":\"white\",\"gridwidth\":2,\"linecolor\":\"white\",\"showbackground\":true,\"ticks\":\"\",\"zerolinecolor\":\"white\"}},\"shapedefaults\":{\"line\":{\"color\":\"#2a3f5f\"}},\"ternary\":{\"aaxis\":{\"gridcolor\":\"white\",\"linecolor\":\"white\",\"ticks\":\"\"},\"baxis\":{\"gridcolor\":\"white\",\"linecolor\":\"white\",\"ticks\":\"\"},\"bgcolor\":\"#E5ECF6\",\"caxis\":{\"gridcolor\":\"white\",\"linecolor\":\"white\",\"ticks\":\"\"}},\"title\":{\"x\":0.05},\"xaxis\":{\"automargin\":true,\"gridcolor\":\"white\",\"linecolor\":\"white\",\"ticks\":\"\",\"title\":{\"standoff\":15},\"zerolinecolor\":\"white\",\"zerolinewidth\":2},\"yaxis\":{\"automargin\":true,\"gridcolor\":\"white\",\"linecolor\":\"white\",\"ticks\":\"\",\"title\":{\"standoff\":15},\"zerolinecolor\":\"white\",\"zerolinewidth\":2}}},\"title\":{\"text\":\"feedback\",\"x\":0.5},\"height\":400,\"xaxis\":{\"title\":{\"text\":\"Sequential IBI\"}},\"yaxis\":{\"title\":{\"text\":\"Delta IBI (ref IBI_-2) (ms)\"}}},                        {\"responsive\": true}                    ).then(function(){\n",
       "                            \n",
       "var gd = document.getElementById('a11db18b-6e09-43c9-b074-1d85bd46017b');\n",
       "var x = new MutationObserver(function (mutations, observer) {{\n",
       "        var display = window.getComputedStyle(gd).display;\n",
       "        if (!display || display === 'none') {{\n",
       "            console.log([gd, 'removed!']);\n",
       "            Plotly.purge(gd);\n",
       "            observer.disconnect();\n",
       "        }}\n",
       "}});\n",
       "\n",
       "// Listen for the removal of the full notebook cells\n",
       "var notebookContainer = gd.closest('#notebook-container');\n",
       "if (notebookContainer) {{\n",
       "    x.observe(notebookContainer, {childList: true});\n",
       "}}\n",
       "\n",
       "// Listen for the clearing of the current output cell\n",
       "var outputEl = gd.closest('.output');\n",
       "if (outputEl) {{\n",
       "    x.observe(outputEl, {childList: true});\n",
       "}}\n",
       "\n",
       "                        })                };                });            </script>        </div>"
      ]
     },
     "metadata": {},
     "output_type": "display_data"
    }
   ],
   "source": [
    "fig_list = []\n",
    "fig = go.Figure()\n",
    "for answered_correctly in [True, False]:\n",
    "    shown_groups = []\n",
    "    for group in [\"Controle\", \"Stress\"]:\n",
    "        rr_group = []\n",
    "        df_f_gr = df_feedback[\n",
    "            (df_feedback[\"Procedure[Block]\"] == group)\n",
    "            & (df_feedback.answered_correctly == answered_correctly)\n",
    "        ]\n",
    "        for feeback_idx, _ in df_f_gr.iterrows():\n",
    "            rr_d = (\n",
    "                df_slc[df_slc[\"feedback_index\"] == feeback_idx]\n",
    "                .copy()\n",
    "                .set_index(\"IBI_pos\")\n",
    "                .sort_index()[\"RR_delta_ms\"]\n",
    "            )\n",
    "            rr_group.append(rr_d)\n",
    "\n",
    "        df_rr_group = pd.concat(rr_group, axis=1, ignore_index=False)\n",
    "        rr_group_mean = df_rr_group.mean(axis=1)\n",
    "        rr_group_std = df_rr_group.std(axis=1)\n",
    "        fig.add_trace(\n",
    "            go.Scattergl(\n",
    "                x=rr_group_mean.index,\n",
    "                y=rr_group_mean,\n",
    "#                 error_y=dict(type=\"data\", array=rr_group_std, visible=True),\n",
    "                mode=\"markers+lines\",\n",
    "                name=group\n",
    "                + f\"{' NOT' if not answered_correctly else ''} correct - n= {df_rr_group.shape[1]}\",\n",
    "                legendgroup=group + str(answered_correctly),\n",
    "                showlegend=group not in shown_groups,\n",
    "            )\n",
    "        )\n",
    "        shown_groups.append(group)\n",
    "\n",
    "fig.update_layout(height=400, title=\"feedback\", title_x=0.5)\n",
    "fig.update_xaxes(title_text=\"Sequential IBI\")\n",
    "fig.update_yaxes(title_text=f\"Delta IBI (ref IBI_{reference_ibi_pos}) (ms)\")\n",
    "fig.show()"
   ]
  },
  {
   "cell_type": "code",
   "execution_count": 13,
   "metadata": {},
   "outputs": [
    {
     "ename": "NameError",
     "evalue": "name 'shown_groups' is not defined",
     "output_type": "error",
     "traceback": [
      "\u001b[0;31m---------------------------------------------------------------------------\u001b[0m",
      "\u001b[0;31mNameError\u001b[0m                                 Traceback (most recent call last)",
      "\u001b[0;32m<ipython-input-13-f1f15e019d4d>\u001b[0m in \u001b[0;36m<module>\u001b[0;34m\u001b[0m\n\u001b[1;32m     40\u001b[0m         )\n\u001b[1;32m     41\u001b[0m     )\n\u001b[0;32m---> 42\u001b[0;31m     \u001b[0mshown_groups\u001b[0m\u001b[0;34m.\u001b[0m\u001b[0mappend\u001b[0m\u001b[0;34m(\u001b[0m\u001b[0mgroup\u001b[0m\u001b[0;34m)\u001b[0m\u001b[0;34m\u001b[0m\u001b[0;34m\u001b[0m\u001b[0m\n\u001b[0m\u001b[1;32m     43\u001b[0m \u001b[0;34m\u001b[0m\u001b[0m\n\u001b[1;32m     44\u001b[0m \u001b[0mfig\u001b[0m\u001b[0;34m.\u001b[0m\u001b[0mupdate_layout\u001b[0m\u001b[0;34m(\u001b[0m\u001b[0mheight\u001b[0m\u001b[0;34m=\u001b[0m\u001b[0;36m400\u001b[0m\u001b[0;34m,\u001b[0m \u001b[0mtitle\u001b[0m\u001b[0;34m=\u001b[0m\u001b[0;34m\"feedback\"\u001b[0m\u001b[0;34m,\u001b[0m \u001b[0mtitle_x\u001b[0m\u001b[0;34m=\u001b[0m\u001b[0;36m0.5\u001b[0m\u001b[0;34m)\u001b[0m\u001b[0;34m\u001b[0m\u001b[0;34m\u001b[0m\u001b[0m\n",
      "\u001b[0;31mNameError\u001b[0m: name 'shown_groups' is not defined"
     ]
    }
   ],
   "source": [
    "fig = go.Figure()\n",
    "for sex, group, answered_in_time in [\n",
    "    (\"M\", \"Controle\", True),\n",
    "    (\"M\", \"Stress\", True),\n",
    "    (\"F\", \"Controle\", True),\n",
    "    (\"F\", \"Stress\", True),\n",
    "]:\n",
    "    rr_group = []\n",
    "    df_f_gr = df_feedback[\n",
    "        (df_feedback[\"Procedure[Block]\"] == group)\n",
    "        & (df_feedback.sex == sex)\n",
    "        & (df_feedback.answered_in_time == answered_in_time)\n",
    "    ]\n",
    "    for feeback_idx, _ in df_f_gr.iterrows():\n",
    "        rr_d = (\n",
    "            df_slc[df_slc[\"feedback_index\"] == feeback_idx]\n",
    "            .copy()\n",
    "            .set_index(\"IBI_pos\")\n",
    "            .sort_index()[\"RR_delta_ms\"]\n",
    "        )\n",
    "        rr_group.append(rr_d)\n",
    "\n",
    "    df_rr_group = pd.concat(rr_group, axis=1, ignore_index=False)\n",
    "    rr_group_mean = df_rr_group.mean(axis=1)\n",
    "    rr_group_std = df_rr_group.std(axis=1)\n",
    "    fig.add_trace(\n",
    "        go.Scattergl(\n",
    "            x=rr_group_mean.index,\n",
    "            y=rr_group_mean,\n",
    "            #                 error_y=dict(type=\"data\", array=rr_group_std, visible=True),\n",
    "            mode=\"markers+lines\",\n",
    "            name=sex\n",
    "            + \" - \"\n",
    "            + group\n",
    "            + \"- answered \"\n",
    "            + (\"\" if answered_in_time else \"not\")\n",
    "            + \" in time\",\n",
    "            legendgroup=sex,\n",
    "            showlegend=True,\n",
    "        )\n",
    "    )\n",
    "    shown_groups.append(group)\n",
    "\n",
    "fig.update_layout(height=400, title=\"feedback\", title_x=0.5)\n",
    "fig.update_xaxes(title_text=\"Sequential IBI\")\n",
    "fig.update_yaxes(title_text=f\"Delta IBI (ref IBI_{reference_ibi_pos}) (ms)\")\n",
    "fig.show()"
   ]
  },
  {
   "cell_type": "code",
   "execution_count": null,
   "metadata": {},
   "outputs": [],
   "source": [
    "# [\n",
    "#     (\"M\", \"Controle\", True, 1),\n",
    "#     (\"M\", \"Controle\", True, 2),\n",
    "#     (\"M\", \"Controle\", True, 3),\n",
    "#     (\"M\", \"Stress\", True, 1),\n",
    "#     (\"M\", \"Stress\", True, 2),\n",
    "#     (\"M\", \"Stress\", True, 3),\n",
    "#     (\"F\", \"Controle\", True, 1),\n",
    "#     (\"F\", \"Controle\", True, 2),\n",
    "#     (\"F\", \"Controle\", True, 3),\n",
    "#     (\"F\", \"Stress\", True, 1),\n",
    "#     (\"F\", \"Stress\", True, 2),\n",
    "#     (\"F\", \"Stress\", True, 3),\n",
    "# ]"
   ]
  },
  {
   "cell_type": "code",
   "execution_count": 36,
   "metadata": {},
   "outputs": [],
   "source": [
    "import plotly.express as px"
   ]
  },
  {
   "cell_type": "markdown",
   "metadata": {},
   "source": [
    "## Block & stress"
   ]
  },
  {
   "cell_type": "code",
   "execution_count": 52,
   "metadata": {},
   "outputs": [
    {
     "data": {
      "application/vnd.plotly.v1+json": {
       "config": {
        "plotlyServerURL": "https://plotly.com"
       },
       "data": [
        {
         "legendgroup": "Controle",
         "line": {
          "color": "rgb(198,219,239)",
          "dash": "dash"
         },
         "mode": "markers+lines",
         "name": "Controle - block:1 - answered  in time",
         "showlegend": true,
         "type": "scattergl",
         "x": [
          -45,
          -44,
          -43,
          -42,
          -41,
          -40,
          -39,
          -38,
          -37,
          -36,
          -35,
          -34,
          -33,
          -32,
          -31,
          -30,
          -29,
          -28,
          -27,
          -26,
          -25,
          -24,
          -23,
          -22,
          -21,
          -20,
          -19,
          -18,
          -17,
          -16,
          -15,
          -14,
          -13,
          -12,
          -11,
          -10,
          -9,
          -8,
          -7,
          -6,
          -5,
          -4,
          -3,
          -2,
          -1,
          0,
          1,
          2,
          3,
          4,
          5,
          6,
          7,
          8,
          9,
          10,
          11,
          12,
          13,
          14,
          15,
          16,
          17,
          18,
          19,
          20,
          21,
          22,
          23,
          24,
          25,
          26,
          27,
          28,
          29,
          30,
          31,
          32,
          33,
          34,
          35,
          36,
          37,
          38,
          39,
          40,
          41,
          42,
          43
         ],
         "y": [
          -2,
          -4.8,
          1.625,
          -1.9090909090909092,
          0.6666666666666666,
          -1.5833333333333333,
          -2.857142857142857,
          -3.7777777777777777,
          4.7407407407407405,
          1.6,
          1.9791666666666667,
          1.3157894736842106,
          0.8636363636363636,
          2.7222222222222223,
          6.588888888888889,
          7.899159663865547,
          8.05625,
          1.1959798994974875,
          2.221311475409836,
          -2.3457943925233646,
          -2.566666666666667,
          -6.174603174603175,
          -8.868312757201647,
          -10.854166666666666,
          -4.251724137931035,
          -6.669983416252073,
          -8.48538961038961,
          -5.166666666666667,
          -3.0953895071542132,
          -7.569620253164557,
          -11.610759493670885,
          -9.897151898734178,
          -7.694620253164557,
          -9.333860759493671,
          -8.843354430379748,
          -11.056962025316455,
          -8.147151898734178,
          -6.132911392405063,
          -7.32120253164557,
          -7.987341772151899,
          -4.0363924050632916,
          -1.7183544303797469,
          -2.7721518987341773,
          0,
          0.3069620253164557,
          6.368670886075949,
          -2.482594936708861,
          -18.454113924050635,
          -24.14873417721519,
          -18.65981012658228,
          -8.92879746835443,
          -1.5996835443037976,
          -2.6867088607594938,
          -9.77373417721519,
          -18.995253164556964,
          -26.550632911392405,
          -32.392405063291136,
          -27.216772151898734,
          -24.634493670886076,
          -18.735759493670887,
          -14.704113924050633,
          -8.18095238095238,
          -4.5424,
          -3.9193548387096775,
          -2.933006535947712,
          -3.9450171821305844,
          -2.2058823529411766,
          -1.36,
          -3.462222222222222,
          -6.484924623115578,
          -5.486238532110092,
          -3.073469387755102,
          0.5148514851485149,
          -2.7151898734177213,
          -1.140495867768595,
          -8.606382978723405,
          -9.356164383561644,
          -9.67605633802817,
          -2.4754098360655736,
          -3.0384615384615383,
          0.5348837209302325,
          -4.0344827586206895,
          1.7222222222222223,
          -0.6428571428571429,
          0.2857142857142857,
          -1.6153846153846154,
          7.545454545454546,
          5.333333333333333,
          10.5
         ]
        },
        {
         "legendgroup": "Controle",
         "line": {
          "color": "rgb(107,174,214)",
          "dash": "dash"
         },
         "mode": "markers+lines",
         "name": "Controle - block:2 - answered  in time",
         "showlegend": true,
         "type": "scattergl",
         "x": [
          -43,
          -42,
          -41,
          -40,
          -39,
          -38,
          -37,
          -36,
          -35,
          -34,
          -33,
          -32,
          -31,
          -30,
          -29,
          -28,
          -27,
          -26,
          -25,
          -24,
          -23,
          -22,
          -21,
          -20,
          -19,
          -18,
          -17,
          -16,
          -15,
          -14,
          -13,
          -12,
          -11,
          -10,
          -9,
          -8,
          -7,
          -6,
          -5,
          -4,
          -3,
          -2,
          -1,
          0,
          1,
          2,
          3,
          4,
          5,
          6,
          7,
          8,
          9,
          10,
          11,
          12,
          13,
          14,
          15,
          16,
          17,
          18,
          19,
          20,
          21,
          22,
          23,
          24,
          25,
          26,
          27,
          28,
          29,
          30,
          31,
          32,
          33,
          34,
          35,
          36,
          37,
          38,
          39,
          40,
          41,
          42
         ],
         "y": [
          2,
          -1.3333333333333333,
          2.6,
          0.4,
          4.636363636363637,
          -1.4666666666666666,
          -3.6315789473684212,
          -0.88,
          0.53125,
          -4.75,
          -2.9019607843137254,
          -3.5757575757575757,
          0.21839080459770116,
          0.5981308411214953,
          7.2421875,
          5.309677419354839,
          2.4322916666666665,
          1.4290909090909092,
          -2.3163841807909606,
          -3.491484184914842,
          -1.662162162162162,
          -8.01043841336117,
          -11.328125,
          -8.477941176470589,
          -11.037433155080214,
          -9.861946902654868,
          -8.782837127845884,
          -9.207317073170731,
          -7.529616724738676,
          -6.848432055749129,
          -7.52787456445993,
          -12.05574912891986,
          -12.70034843205575,
          -9.956445993031359,
          -6.557491289198606,
          -7.041811846689895,
          -6.083623693379791,
          -5.949477351916376,
          -5.520905923344948,
          -2.8885017421602788,
          -0.2700348432055749,
          0,
          5.614982578397212,
          10.512195121951219,
          -0.8344947735191638,
          -23.010452961672474,
          -33.91637630662021,
          -30.799651567944252,
          -22.05574912891986,
          -13.229965156794425,
          -8.031358885017422,
          -7.182926829268292,
          -14.158536585365853,
          -17.64808362369338,
          -20.998257839721255,
          -23.55923344947735,
          -23.458188153310104,
          -17.770034843205575,
          -15.203832752613241,
          -12.125874125874127,
          -11.717314487632509,
          -10.957446808510639,
          -8.393501805054152,
          -7.78585086042065,
          -4.253036437246964,
          -7.821505376344086,
          -8.083532219570406,
          -8.246612466124661,
          -6.926666666666667,
          -4.509345794392523,
          -1.2533333333333334,
          -2.015873015873016,
          0.3888888888888889,
          -3.2808988764044944,
          -4.8474576271186445,
          -7.296296296296297,
          -5.348837209302325,
          -7.861111111111111,
          -6.758620689655173,
          -4.428571428571429,
          -1.8823529411764706,
          -0.09090909090909091,
          4.1,
          0,
          -1.5,
          -8
         ]
        },
        {
         "legendgroup": "Controle",
         "line": {
          "color": "rgb(33,113,181)",
          "dash": "dash"
         },
         "mode": "markers+lines",
         "name": "Controle - block:3 - answered  in time",
         "showlegend": true,
         "type": "scattergl",
         "x": [
          -42,
          -41,
          -40,
          -39,
          -38,
          -37,
          -36,
          -35,
          -34,
          -33,
          -32,
          -31,
          -30,
          -29,
          -28,
          -27,
          -26,
          -25,
          -24,
          -23,
          -22,
          -21,
          -20,
          -19,
          -18,
          -17,
          -16,
          -15,
          -14,
          -13,
          -12,
          -11,
          -10,
          -9,
          -8,
          -7,
          -6,
          -5,
          -4,
          -3,
          -2,
          -1,
          0,
          1,
          2,
          3,
          4,
          5,
          6,
          7,
          8,
          9,
          10,
          11,
          12,
          13,
          14,
          15,
          16,
          17,
          18,
          19,
          20,
          21,
          22,
          23,
          24,
          25,
          26,
          27,
          28,
          29,
          30,
          31,
          32,
          33,
          34,
          35,
          36,
          37,
          38,
          39,
          40,
          41
         ],
         "y": [
          3,
          0.5,
          0.8888888888888888,
          -0.6666666666666666,
          -1.2727272727272727,
          2.4375,
          7.2,
          7.2727272727272725,
          3.611111111111111,
          0.7272727272727273,
          -5.235294117647059,
          -7.417721518987341,
          -8.577319587628866,
          -6.232758620689655,
          -10.977941176470589,
          -6.0109289617486334,
          -3.145748987854251,
          -1.558641975308642,
          -3.2422680412371134,
          -5.144208037825059,
          -5.1381578947368425,
          -9.08817635270541,
          -10.416822429906542,
          -10.66906474820144,
          -8.835420393559929,
          -11.793226381461675,
          -11.379858657243815,
          -10.651943462897526,
          -11.545936395759718,
          -9.3339222614841,
          -8.722614840989399,
          -10.747349823321555,
          -11.376325088339222,
          -8.998233215547703,
          -6.487632508833922,
          -5.581272084805653,
          -7.107773851590106,
          -6.489399293286219,
          -4.095406360424028,
          -1.646643109540636,
          0,
          4.3250883392226145,
          10.27208480565371,
          -1.0936395759717314,
          -28.14487632508834,
          -42.109540636042404,
          -41.079505300353354,
          -29.231448763250885,
          -18.415194346289752,
          -12.390459363957596,
          -14.270318021201414,
          -15.76148409893993,
          -16.11660777385159,
          -21.627208480565372,
          -22.67314487632509,
          -23.703180212014136,
          -21.171378091872793,
          -21.686725663716814,
          -18,
          -15,
          -12.994623655913978,
          -10.510166358595194,
          -10.542801556420233,
          -11.040511727078892,
          -12.657534246575343,
          -13.870558375634518,
          -15.120343839541547,
          -13.148550724637682,
          -7.898148148148148,
          -9.64375,
          -13.39516129032258,
          -14.10576923076923,
          -12.352272727272727,
          -8.67142857142857,
          -3.267857142857143,
          -3.022727272727273,
          7.266666666666667,
          9,
          1.3888888888888888,
          -2,
          -2,
          -3.111111111111111,
          -3.5,
          1.3333333333333333
         ]
        },
        {
         "legendgroup": "Stress",
         "line": {
          "color": "rgb(198,219,239)"
         },
         "mode": "markers+lines",
         "name": "Stress - block:1 - answered  in time",
         "showlegend": true,
         "type": "scattergl",
         "x": [
          -41,
          -40,
          -39,
          -38,
          -37,
          -36,
          -35,
          -34,
          -33,
          -32,
          -31,
          -30,
          -29,
          -28,
          -27,
          -26,
          -25,
          -24,
          -23,
          -22,
          -21,
          -20,
          -19,
          -18,
          -17,
          -16,
          -15,
          -14,
          -13,
          -12,
          -11,
          -10,
          -9,
          -8,
          -7,
          -6,
          -5,
          -4,
          -3,
          -2,
          -1,
          0,
          1,
          2,
          3,
          4,
          5,
          6,
          7,
          8,
          9,
          10,
          11,
          12,
          13,
          14,
          15,
          16,
          17,
          18,
          19,
          20,
          21,
          22,
          23,
          24,
          25,
          26,
          27,
          28,
          29,
          30,
          31,
          32,
          33,
          34,
          35,
          36,
          37,
          38,
          39,
          40
         ],
         "y": [
          6.666666666666667,
          7.25,
          4.5,
          6,
          3.25,
          5.230769230769231,
          10.352941176470589,
          4.551724137931035,
          2.189189189189189,
          0.10869565217391304,
          4.551020408163265,
          2.857142857142857,
          -1.1022727272727273,
          -1.1428571428571428,
          -3.1420118343195265,
          -0.8272727272727273,
          -8.480286738351255,
          -11.568513119533527,
          -13.403061224489797,
          -17.006711409395972,
          -14.721669980119284,
          -16.83612662942272,
          -17.651705565529625,
          -15.49113475177305,
          -16.12824956672444,
          -13.52405498281787,
          -11.22680412371134,
          -11.939862542955327,
          -14.9106529209622,
          -14.599656357388316,
          -13.427835051546392,
          -12.168384879725085,
          -14.20274914089347,
          -12.56872852233677,
          -14.793814432989691,
          -13.84192439862543,
          -9.967353951890034,
          -5.823024054982818,
          -1.7938144329896908,
          0,
          3.218213058419244,
          12.06872852233677,
          0.43127147766323026,
          -25.874570446735394,
          -36.24054982817869,
          -27.86426116838488,
          -20.88659793814433,
          -15.895189003436426,
          -12.740549828178693,
          -14.414089347079038,
          -13.063573883161512,
          -17.285223367697593,
          -23.922680412371133,
          -29.38144329896907,
          -27.843642611683848,
          -25.369415807560138,
          -19.09278350515464,
          -15.85540069686411,
          -12.419753086419753,
          -10.626785714285715,
          -11.846728971962618,
          -13.258964143426295,
          -11.97787610619469,
          -2.2317380352644838,
          -5.7701149425287355,
          -5.230769230769231,
          1.9375,
          1.8862275449101797,
          -11.5859375,
          -5.204545454545454,
          -5.013698630136986,
          -5.551724137931035,
          -3.574468085106383,
          -4.676470588235294,
          -2.64,
          3.9047619047619047,
          6.923076923076923,
          10.5,
          8.25,
          10.25,
          13.666666666666666,
          9.333333333333334
         ]
        },
        {
         "legendgroup": "Stress",
         "line": {
          "color": "rgb(107,174,214)"
         },
         "mode": "markers+lines",
         "name": "Stress - block:2 - answered  in time",
         "showlegend": true,
         "type": "scattergl",
         "x": [
          -41,
          -40,
          -39,
          -38,
          -37,
          -36,
          -35,
          -34,
          -33,
          -32,
          -31,
          -30,
          -29,
          -28,
          -27,
          -26,
          -25,
          -24,
          -23,
          -22,
          -21,
          -20,
          -19,
          -18,
          -17,
          -16,
          -15,
          -14,
          -13,
          -12,
          -11,
          -10,
          -9,
          -8,
          -7,
          -6,
          -5,
          -4,
          -3,
          -2,
          -1,
          0,
          1,
          2,
          3,
          4,
          5,
          6,
          7,
          8,
          9,
          10,
          11,
          12,
          13,
          14,
          15,
          16,
          17,
          18,
          19,
          20,
          21,
          22,
          23,
          24,
          25,
          26,
          27,
          28,
          29,
          30,
          31,
          32,
          33,
          34,
          35,
          36,
          37,
          38,
          39,
          40
         ],
         "y": [
          3.6,
          3.4444444444444446,
          2.090909090909091,
          0.6363636363636364,
          0.7272727272727273,
          -1.7857142857142858,
          -0.42857142857142855,
          4.551724137931035,
          -1,
          -6.384615384615385,
          -2.566666666666667,
          -5.118421052631579,
          -11.521739130434783,
          -9.140495867768594,
          -10.061349693251534,
          -6.857142857142857,
          -3.6589403973509933,
          -2.340909090909091,
          -7.2711442786069655,
          -7.415011037527594,
          -8.929549902152642,
          -11.818181818181818,
          -16.61672473867596,
          -15.709621993127147,
          -13.222222222222221,
          -14.085570469798657,
          -15.257956448911223,
          -13.336683417085426,
          -13.566164154103852,
          -16.34003350083752,
          -16.530988274706868,
          -15.455611390284757,
          -13.072026800670017,
          -12.43718592964824,
          -11.430485762144054,
          -8.433835845896148,
          -6.060301507537688,
          -4.4288107202680065,
          -2.120603015075377,
          0,
          2.4438860971524288,
          2.5326633165829144,
          -3.123953098827471,
          -24.731993299832496,
          -38.94137353433836,
          -39.44556113902848,
          -32.88944723618091,
          -23.142378559463985,
          -17.231155778894472,
          -12.795644891122278,
          -16.31993299832496,
          -20.55778894472362,
          -21.79564489112228,
          -23.343383584589613,
          -24.80569514237856,
          -23.12562814070352,
          -20.161073825503355,
          -13.395939086294415,
          -9.625,
          -8.624567474048442,
          -14.753153153153153,
          -16.119230769230768,
          -12.03010752688172,
          -9.181384248210025,
          -7.175066312997347,
          -7.949206349206349,
          -5.43404255319149,
          -4.208791208791209,
          -7.166666666666667,
          -11.02061855670103,
          -17.467532467532468,
          -9.222222222222221,
          -9.313725490196079,
          2.1219512195121952,
          -3.3870967741935485,
          -0.5,
          -0.8461538461538461,
          -2.8333333333333335,
          4.545454545454546,
          3,
          2.5,
          14.333333333333334
         ]
        },
        {
         "legendgroup": "Stress",
         "line": {
          "color": "rgb(33,113,181)"
         },
         "mode": "markers+lines",
         "name": "Stress - block:3 - answered  in time",
         "showlegend": true,
         "type": "scattergl",
         "x": [
          -42,
          -41,
          -40,
          -39,
          -38,
          -37,
          -36,
          -35,
          -34,
          -33,
          -32,
          -31,
          -30,
          -29,
          -28,
          -27,
          -26,
          -25,
          -24,
          -23,
          -22,
          -21,
          -20,
          -19,
          -18,
          -17,
          -16,
          -15,
          -14,
          -13,
          -12,
          -11,
          -10,
          -9,
          -8,
          -7,
          -6,
          -5,
          -4,
          -3,
          -2,
          -1,
          0,
          1,
          2,
          3,
          4,
          5,
          6,
          7,
          8,
          9,
          10,
          11,
          12,
          13,
          14,
          15,
          16,
          17,
          18,
          19,
          20,
          21,
          22,
          23,
          24,
          25,
          26,
          27,
          28,
          29,
          30,
          31,
          32,
          33,
          34,
          35,
          36,
          37,
          38,
          39,
          40
         ],
         "y": [
          5,
          -3.8,
          -2.1666666666666665,
          -0.125,
          2.5555555555555554,
          0.4,
          3.142857142857143,
          7.052631578947368,
          0,
          -4.5,
          -2.1842105263157894,
          -12.925925925925926,
          -12.128205128205128,
          -7.575757575757576,
          -8.67716535433071,
          -1.7396449704142012,
          -4.6375,
          -12.6,
          -9.979166666666666,
          -11.459584295612009,
          -10.932631578947369,
          -14.87378640776699,
          -16.605309734513273,
          -18.295336787564768,
          -17.258503401360546,
          -19.528428093645484,
          -21.532125205930807,
          -21.455592105263158,
          -18.379934210526315,
          -17.231907894736842,
          -14.473684210526315,
          -16.667763157894736,
          -17.04769736842105,
          -17.794407894736842,
          -20.14967105263158,
          -16.060855263157894,
          -9.182565789473685,
          -7.564144736842105,
          -3.914473684210526,
          0.5148026315789473,
          0,
          1.4720394736842106,
          8.774671052631579,
          -3.4802631578947367,
          -33.86348684210526,
          -48.63815789473684,
          -46.47697368421053,
          -37.088815789473685,
          -27.00657894736842,
          -18.80921052631579,
          -18.810855263157894,
          -19.633223684210527,
          -19.236842105263158,
          -21.65625,
          -24.138157894736842,
          -24.330592105263158,
          -24.595394736842106,
          -19.176276771004943,
          -13.66,
          -14.974662162162161,
          -18.813675213675214,
          -19.130742049469966,
          -13.264432029795158,
          -14.703703703703704,
          -10.819221967963387,
          -5.712820512820513,
          -3.433734939759036,
          -7.633466135458168,
          -14.453038674033149,
          -16.176470588235293,
          -10.788990825688073,
          -6.686746987951807,
          -7.885245901639344,
          -1.5853658536585367,
          6.612903225806452,
          4.321428571428571,
          3.5,
          4.9,
          8,
          8.25,
          6.75,
          7.125,
          11
         ]
        }
       ],
       "layout": {
        "autosize": true,
        "template": {
         "data": {
          "bar": [
           {
            "error_x": {
             "color": "#2a3f5f"
            },
            "error_y": {
             "color": "#2a3f5f"
            },
            "marker": {
             "line": {
              "color": "#E5ECF6",
              "width": 0.5
             },
             "pattern": {
              "fillmode": "overlay",
              "size": 10,
              "solidity": 0.2
             }
            },
            "type": "bar"
           }
          ],
          "barpolar": [
           {
            "marker": {
             "line": {
              "color": "#E5ECF6",
              "width": 0.5
             },
             "pattern": {
              "fillmode": "overlay",
              "size": 10,
              "solidity": 0.2
             }
            },
            "type": "barpolar"
           }
          ],
          "carpet": [
           {
            "aaxis": {
             "endlinecolor": "#2a3f5f",
             "gridcolor": "white",
             "linecolor": "white",
             "minorgridcolor": "white",
             "startlinecolor": "#2a3f5f"
            },
            "baxis": {
             "endlinecolor": "#2a3f5f",
             "gridcolor": "white",
             "linecolor": "white",
             "minorgridcolor": "white",
             "startlinecolor": "#2a3f5f"
            },
            "type": "carpet"
           }
          ],
          "choropleth": [
           {
            "colorbar": {
             "outlinewidth": 0,
             "ticks": ""
            },
            "type": "choropleth"
           }
          ],
          "contour": [
           {
            "colorbar": {
             "outlinewidth": 0,
             "ticks": ""
            },
            "colorscale": [
             [
              0,
              "#0d0887"
             ],
             [
              0.1111111111111111,
              "#46039f"
             ],
             [
              0.2222222222222222,
              "#7201a8"
             ],
             [
              0.3333333333333333,
              "#9c179e"
             ],
             [
              0.4444444444444444,
              "#bd3786"
             ],
             [
              0.5555555555555556,
              "#d8576b"
             ],
             [
              0.6666666666666666,
              "#ed7953"
             ],
             [
              0.7777777777777778,
              "#fb9f3a"
             ],
             [
              0.8888888888888888,
              "#fdca26"
             ],
             [
              1,
              "#f0f921"
             ]
            ],
            "type": "contour"
           }
          ],
          "contourcarpet": [
           {
            "colorbar": {
             "outlinewidth": 0,
             "ticks": ""
            },
            "type": "contourcarpet"
           }
          ],
          "heatmap": [
           {
            "colorbar": {
             "outlinewidth": 0,
             "ticks": ""
            },
            "colorscale": [
             [
              0,
              "#0d0887"
             ],
             [
              0.1111111111111111,
              "#46039f"
             ],
             [
              0.2222222222222222,
              "#7201a8"
             ],
             [
              0.3333333333333333,
              "#9c179e"
             ],
             [
              0.4444444444444444,
              "#bd3786"
             ],
             [
              0.5555555555555556,
              "#d8576b"
             ],
             [
              0.6666666666666666,
              "#ed7953"
             ],
             [
              0.7777777777777778,
              "#fb9f3a"
             ],
             [
              0.8888888888888888,
              "#fdca26"
             ],
             [
              1,
              "#f0f921"
             ]
            ],
            "type": "heatmap"
           }
          ],
          "heatmapgl": [
           {
            "colorbar": {
             "outlinewidth": 0,
             "ticks": ""
            },
            "colorscale": [
             [
              0,
              "#0d0887"
             ],
             [
              0.1111111111111111,
              "#46039f"
             ],
             [
              0.2222222222222222,
              "#7201a8"
             ],
             [
              0.3333333333333333,
              "#9c179e"
             ],
             [
              0.4444444444444444,
              "#bd3786"
             ],
             [
              0.5555555555555556,
              "#d8576b"
             ],
             [
              0.6666666666666666,
              "#ed7953"
             ],
             [
              0.7777777777777778,
              "#fb9f3a"
             ],
             [
              0.8888888888888888,
              "#fdca26"
             ],
             [
              1,
              "#f0f921"
             ]
            ],
            "type": "heatmapgl"
           }
          ],
          "histogram": [
           {
            "marker": {
             "pattern": {
              "fillmode": "overlay",
              "size": 10,
              "solidity": 0.2
             }
            },
            "type": "histogram"
           }
          ],
          "histogram2d": [
           {
            "colorbar": {
             "outlinewidth": 0,
             "ticks": ""
            },
            "colorscale": [
             [
              0,
              "#0d0887"
             ],
             [
              0.1111111111111111,
              "#46039f"
             ],
             [
              0.2222222222222222,
              "#7201a8"
             ],
             [
              0.3333333333333333,
              "#9c179e"
             ],
             [
              0.4444444444444444,
              "#bd3786"
             ],
             [
              0.5555555555555556,
              "#d8576b"
             ],
             [
              0.6666666666666666,
              "#ed7953"
             ],
             [
              0.7777777777777778,
              "#fb9f3a"
             ],
             [
              0.8888888888888888,
              "#fdca26"
             ],
             [
              1,
              "#f0f921"
             ]
            ],
            "type": "histogram2d"
           }
          ],
          "histogram2dcontour": [
           {
            "colorbar": {
             "outlinewidth": 0,
             "ticks": ""
            },
            "colorscale": [
             [
              0,
              "#0d0887"
             ],
             [
              0.1111111111111111,
              "#46039f"
             ],
             [
              0.2222222222222222,
              "#7201a8"
             ],
             [
              0.3333333333333333,
              "#9c179e"
             ],
             [
              0.4444444444444444,
              "#bd3786"
             ],
             [
              0.5555555555555556,
              "#d8576b"
             ],
             [
              0.6666666666666666,
              "#ed7953"
             ],
             [
              0.7777777777777778,
              "#fb9f3a"
             ],
             [
              0.8888888888888888,
              "#fdca26"
             ],
             [
              1,
              "#f0f921"
             ]
            ],
            "type": "histogram2dcontour"
           }
          ],
          "mesh3d": [
           {
            "colorbar": {
             "outlinewidth": 0,
             "ticks": ""
            },
            "type": "mesh3d"
           }
          ],
          "parcoords": [
           {
            "line": {
             "colorbar": {
              "outlinewidth": 0,
              "ticks": ""
             }
            },
            "type": "parcoords"
           }
          ],
          "pie": [
           {
            "automargin": true,
            "type": "pie"
           }
          ],
          "scatter": [
           {
            "marker": {
             "colorbar": {
              "outlinewidth": 0,
              "ticks": ""
             }
            },
            "type": "scatter"
           }
          ],
          "scatter3d": [
           {
            "line": {
             "colorbar": {
              "outlinewidth": 0,
              "ticks": ""
             }
            },
            "marker": {
             "colorbar": {
              "outlinewidth": 0,
              "ticks": ""
             }
            },
            "type": "scatter3d"
           }
          ],
          "scattercarpet": [
           {
            "marker": {
             "colorbar": {
              "outlinewidth": 0,
              "ticks": ""
             }
            },
            "type": "scattercarpet"
           }
          ],
          "scattergeo": [
           {
            "marker": {
             "colorbar": {
              "outlinewidth": 0,
              "ticks": ""
             }
            },
            "type": "scattergeo"
           }
          ],
          "scattergl": [
           {
            "marker": {
             "colorbar": {
              "outlinewidth": 0,
              "ticks": ""
             }
            },
            "type": "scattergl"
           }
          ],
          "scattermapbox": [
           {
            "marker": {
             "colorbar": {
              "outlinewidth": 0,
              "ticks": ""
             }
            },
            "type": "scattermapbox"
           }
          ],
          "scatterpolar": [
           {
            "marker": {
             "colorbar": {
              "outlinewidth": 0,
              "ticks": ""
             }
            },
            "type": "scatterpolar"
           }
          ],
          "scatterpolargl": [
           {
            "marker": {
             "colorbar": {
              "outlinewidth": 0,
              "ticks": ""
             }
            },
            "type": "scatterpolargl"
           }
          ],
          "scatterternary": [
           {
            "marker": {
             "colorbar": {
              "outlinewidth": 0,
              "ticks": ""
             }
            },
            "type": "scatterternary"
           }
          ],
          "surface": [
           {
            "colorbar": {
             "outlinewidth": 0,
             "ticks": ""
            },
            "colorscale": [
             [
              0,
              "#0d0887"
             ],
             [
              0.1111111111111111,
              "#46039f"
             ],
             [
              0.2222222222222222,
              "#7201a8"
             ],
             [
              0.3333333333333333,
              "#9c179e"
             ],
             [
              0.4444444444444444,
              "#bd3786"
             ],
             [
              0.5555555555555556,
              "#d8576b"
             ],
             [
              0.6666666666666666,
              "#ed7953"
             ],
             [
              0.7777777777777778,
              "#fb9f3a"
             ],
             [
              0.8888888888888888,
              "#fdca26"
             ],
             [
              1,
              "#f0f921"
             ]
            ],
            "type": "surface"
           }
          ],
          "table": [
           {
            "cells": {
             "fill": {
              "color": "#EBF0F8"
             },
             "line": {
              "color": "white"
             }
            },
            "header": {
             "fill": {
              "color": "#C8D4E3"
             },
             "line": {
              "color": "white"
             }
            },
            "type": "table"
           }
          ]
         },
         "layout": {
          "annotationdefaults": {
           "arrowcolor": "#2a3f5f",
           "arrowhead": 0,
           "arrowwidth": 1
          },
          "autotypenumbers": "strict",
          "coloraxis": {
           "colorbar": {
            "outlinewidth": 0,
            "ticks": ""
           }
          },
          "colorscale": {
           "diverging": [
            [
             0,
             "#8e0152"
            ],
            [
             0.1,
             "#c51b7d"
            ],
            [
             0.2,
             "#de77ae"
            ],
            [
             0.3,
             "#f1b6da"
            ],
            [
             0.4,
             "#fde0ef"
            ],
            [
             0.5,
             "#f7f7f7"
            ],
            [
             0.6,
             "#e6f5d0"
            ],
            [
             0.7,
             "#b8e186"
            ],
            [
             0.8,
             "#7fbc41"
            ],
            [
             0.9,
             "#4d9221"
            ],
            [
             1,
             "#276419"
            ]
           ],
           "sequential": [
            [
             0,
             "#0d0887"
            ],
            [
             0.1111111111111111,
             "#46039f"
            ],
            [
             0.2222222222222222,
             "#7201a8"
            ],
            [
             0.3333333333333333,
             "#9c179e"
            ],
            [
             0.4444444444444444,
             "#bd3786"
            ],
            [
             0.5555555555555556,
             "#d8576b"
            ],
            [
             0.6666666666666666,
             "#ed7953"
            ],
            [
             0.7777777777777778,
             "#fb9f3a"
            ],
            [
             0.8888888888888888,
             "#fdca26"
            ],
            [
             1,
             "#f0f921"
            ]
           ],
           "sequentialminus": [
            [
             0,
             "#0d0887"
            ],
            [
             0.1111111111111111,
             "#46039f"
            ],
            [
             0.2222222222222222,
             "#7201a8"
            ],
            [
             0.3333333333333333,
             "#9c179e"
            ],
            [
             0.4444444444444444,
             "#bd3786"
            ],
            [
             0.5555555555555556,
             "#d8576b"
            ],
            [
             0.6666666666666666,
             "#ed7953"
            ],
            [
             0.7777777777777778,
             "#fb9f3a"
            ],
            [
             0.8888888888888888,
             "#fdca26"
            ],
            [
             1,
             "#f0f921"
            ]
           ]
          },
          "colorway": [
           "#636efa",
           "#EF553B",
           "#00cc96",
           "#ab63fa",
           "#FFA15A",
           "#19d3f3",
           "#FF6692",
           "#B6E880",
           "#FF97FF",
           "#FECB52"
          ],
          "font": {
           "color": "#2a3f5f"
          },
          "geo": {
           "bgcolor": "white",
           "lakecolor": "white",
           "landcolor": "#E5ECF6",
           "showlakes": true,
           "showland": true,
           "subunitcolor": "white"
          },
          "hoverlabel": {
           "align": "left"
          },
          "hovermode": "closest",
          "mapbox": {
           "style": "light"
          },
          "paper_bgcolor": "white",
          "plot_bgcolor": "#E5ECF6",
          "polar": {
           "angularaxis": {
            "gridcolor": "white",
            "linecolor": "white",
            "ticks": ""
           },
           "bgcolor": "#E5ECF6",
           "radialaxis": {
            "gridcolor": "white",
            "linecolor": "white",
            "ticks": ""
           }
          },
          "scene": {
           "xaxis": {
            "backgroundcolor": "#E5ECF6",
            "gridcolor": "white",
            "gridwidth": 2,
            "linecolor": "white",
            "showbackground": true,
            "ticks": "",
            "zerolinecolor": "white"
           },
           "yaxis": {
            "backgroundcolor": "#E5ECF6",
            "gridcolor": "white",
            "gridwidth": 2,
            "linecolor": "white",
            "showbackground": true,
            "ticks": "",
            "zerolinecolor": "white"
           },
           "zaxis": {
            "backgroundcolor": "#E5ECF6",
            "gridcolor": "white",
            "gridwidth": 2,
            "linecolor": "white",
            "showbackground": true,
            "ticks": "",
            "zerolinecolor": "white"
           }
          },
          "shapedefaults": {
           "line": {
            "color": "#2a3f5f"
           }
          },
          "ternary": {
           "aaxis": {
            "gridcolor": "white",
            "linecolor": "white",
            "ticks": ""
           },
           "baxis": {
            "gridcolor": "white",
            "linecolor": "white",
            "ticks": ""
           },
           "bgcolor": "#E5ECF6",
           "caxis": {
            "gridcolor": "white",
            "linecolor": "white",
            "ticks": ""
           }
          },
          "title": {
           "x": 0.05
          },
          "xaxis": {
           "automargin": true,
           "gridcolor": "white",
           "linecolor": "white",
           "ticks": "",
           "title": {
            "standoff": 15
           },
           "zerolinecolor": "white",
           "zerolinewidth": 2
          },
          "yaxis": {
           "automargin": true,
           "gridcolor": "white",
           "linecolor": "white",
           "ticks": "",
           "title": {
            "standoff": 15
           },
           "zerolinecolor": "white",
           "zerolinewidth": 2
          }
         }
        },
        "title": {
         "text": "feedback",
         "x": 0.5
        },
        "xaxis": {
         "autorange": false,
         "range": [
          -4.075190367726233,
          8.08412751595505
         ],
         "title": {
          "text": "Sequential IBI"
         },
         "type": "linear"
        },
        "yaxis": {
         "autorange": false,
         "range": [
          -50.634803161419825,
          13.64319019203137
         ],
         "title": {
          "text": "Delta IBI (ref IBI_-2) (ms)"
         },
         "type": "linear"
        }
       }
      },
      "image/png": "[encoded data removed]",
      "text/html": [
       "<div>                            <div id=\"e1471ec0-39b5-488d-97ca-ca445c2d1edc\" class=\"plotly-graph-div\" style=\"height:600px; width:100%;\"></div>            <script type=\"text/javascript\">                require([\"plotly\"], function(Plotly) {                    window.PLOTLYENV=window.PLOTLYENV || {};                                    if (document.getElementById(\"e1471ec0-39b5-488d-97ca-ca445c2d1edc\")) {                    Plotly.newPlot(                        \"e1471ec0-39b5-488d-97ca-ca445c2d1edc\",                        [{\"legendgroup\":\"Controle\",\"line\":{\"color\":\"rgb(198,219,239)\",\"dash\":\"dash\"},\"mode\":\"markers+lines\",\"name\":\"Controle - block:1 - answered  in time\",\"showlegend\":true,\"x\":[-45,-44,-43,-42,-41,-40,-39,-38,-37,-36,-35,-34,-33,-32,-31,-30,-29,-28,-27,-26,-25,-24,-23,-22,-21,-20,-19,-18,-17,-16,-15,-14,-13,-12,-11,-10,-9,-8,-7,-6,-5,-4,-3,-2,-1,0,1,2,3,4,5,6,7,8,9,10,11,12,13,14,15,16,17,18,19,20,21,22,23,24,25,26,27,28,29,30,31,32,33,34,35,36,37,38,39,40,41,42,43],\"y\":[-2.0,-4.8,1.625,-1.9090909090909092,0.6666666666666666,-1.5833333333333333,-2.857142857142857,-3.7777777777777777,4.7407407407407405,1.6,1.9791666666666667,1.3157894736842106,0.8636363636363636,2.7222222222222223,6.588888888888889,7.899159663865547,8.05625,1.1959798994974875,2.221311475409836,-2.3457943925233646,-2.566666666666667,-6.174603174603175,-8.868312757201647,-10.854166666666666,-4.251724137931035,-6.669983416252073,-8.48538961038961,-5.166666666666667,-3.0953895071542132,-7.569620253164557,-11.610759493670885,-9.897151898734178,-7.694620253164557,-9.333860759493671,-8.843354430379748,-11.056962025316455,-8.147151898734178,-6.132911392405063,-7.32120253164557,-7.987341772151899,-4.0363924050632916,-1.7183544303797469,-2.7721518987341773,0.0,0.3069620253164557,6.368670886075949,-2.482594936708861,-18.454113924050635,-24.14873417721519,-18.65981012658228,-8.92879746835443,-1.5996835443037976,-2.6867088607594938,-9.77373417721519,-18.995253164556964,-26.550632911392405,-32.392405063291136,-27.216772151898734,-24.634493670886076,-18.735759493670887,-14.704113924050633,-8.18095238095238,-4.5424,-3.9193548387096775,-2.933006535947712,-3.9450171821305844,-2.2058823529411766,-1.36,-3.462222222222222,-6.484924623115578,-5.486238532110092,-3.073469387755102,0.5148514851485149,-2.7151898734177213,-1.140495867768595,-8.606382978723405,-9.356164383561644,-9.67605633802817,-2.4754098360655736,-3.0384615384615383,0.5348837209302325,-4.0344827586206895,1.7222222222222223,-0.6428571428571429,0.2857142857142857,-1.6153846153846154,7.545454545454546,5.333333333333333,10.5],\"type\":\"scattergl\"},{\"legendgroup\":\"Controle\",\"line\":{\"color\":\"rgb(107,174,214)\",\"dash\":\"dash\"},\"mode\":\"markers+lines\",\"name\":\"Controle - block:2 - answered  in time\",\"showlegend\":true,\"x\":[-43,-42,-41,-40,-39,-38,-37,-36,-35,-34,-33,-32,-31,-30,-29,-28,-27,-26,-25,-24,-23,-22,-21,-20,-19,-18,-17,-16,-15,-14,-13,-12,-11,-10,-9,-8,-7,-6,-5,-4,-3,-2,-1,0,1,2,3,4,5,6,7,8,9,10,11,12,13,14,15,16,17,18,19,20,21,22,23,24,25,26,27,28,29,30,31,32,33,34,35,36,37,38,39,40,41,42],\"y\":[2.0,-1.3333333333333333,2.6,0.4,4.636363636363637,-1.4666666666666666,-3.6315789473684212,-0.88,0.53125,-4.75,-2.9019607843137254,-3.5757575757575757,0.21839080459770116,0.5981308411214953,7.2421875,5.309677419354839,2.4322916666666665,1.4290909090909092,-2.3163841807909606,-3.491484184914842,-1.662162162162162,-8.01043841336117,-11.328125,-8.477941176470589,-11.037433155080214,-9.861946902654868,-8.782837127845884,-9.207317073170731,-7.529616724738676,-6.848432055749129,-7.52787456445993,-12.05574912891986,-12.70034843205575,-9.956445993031359,-6.557491289198606,-7.041811846689895,-6.083623693379791,-5.949477351916376,-5.520905923344948,-2.8885017421602788,-0.2700348432055749,0.0,5.614982578397212,10.512195121951219,-0.8344947735191638,-23.010452961672474,-33.91637630662021,-30.799651567944252,-22.05574912891986,-13.229965156794425,-8.031358885017422,-7.182926829268292,-14.158536585365853,-17.64808362369338,-20.998257839721255,-23.55923344947735,-23.458188153310104,-17.770034843205575,-15.203832752613241,-12.125874125874127,-11.717314487632509,-10.957446808510639,-8.393501805054152,-7.78585086042065,-4.253036437246964,-7.821505376344086,-8.083532219570406,-8.246612466124661,-6.926666666666667,-4.509345794392523,-1.2533333333333334,-2.015873015873016,0.3888888888888889,-3.2808988764044944,-4.8474576271186445,-7.296296296296297,-5.348837209302325,-7.861111111111111,-6.758620689655173,-4.428571428571429,-1.8823529411764706,-0.09090909090909091,4.1,0.0,-1.5,-8.0],\"type\":\"scattergl\"},{\"legendgroup\":\"Controle\",\"line\":{\"color\":\"rgb(33,113,181)\",\"dash\":\"dash\"},\"mode\":\"markers+lines\",\"name\":\"Controle - block:3 - answered  in time\",\"showlegend\":true,\"x\":[-42,-41,-40,-39,-38,-37,-36,-35,-34,-33,-32,-31,-30,-29,-28,-27,-26,-25,-24,-23,-22,-21,-20,-19,-18,-17,-16,-15,-14,-13,-12,-11,-10,-9,-8,-7,-6,-5,-4,-3,-2,-1,0,1,2,3,4,5,6,7,8,9,10,11,12,13,14,15,16,17,18,19,20,21,22,23,24,25,26,27,28,29,30,31,32,33,34,35,36,37,38,39,40,41],\"y\":[3.0,0.5,0.8888888888888888,-0.6666666666666666,-1.2727272727272727,2.4375,7.2,7.2727272727272725,3.611111111111111,0.7272727272727273,-5.235294117647059,-7.417721518987341,-8.577319587628866,-6.232758620689655,-10.977941176470589,-6.0109289617486334,-3.145748987854251,-1.558641975308642,-3.2422680412371134,-5.144208037825059,-5.1381578947368425,-9.08817635270541,-10.416822429906542,-10.66906474820144,-8.835420393559929,-11.793226381461675,-11.379858657243815,-10.651943462897526,-11.545936395759718,-9.3339222614841,-8.722614840989399,-10.747349823321555,-11.376325088339222,-8.998233215547703,-6.487632508833922,-5.581272084805653,-7.107773851590106,-6.489399293286219,-4.095406360424028,-1.646643109540636,0.0,4.3250883392226145,10.27208480565371,-1.0936395759717314,-28.14487632508834,-42.109540636042404,-41.079505300353354,-29.231448763250885,-18.415194346289752,-12.390459363957596,-14.270318021201414,-15.76148409893993,-16.11660777385159,-21.627208480565372,-22.67314487632509,-23.703180212014136,-21.171378091872793,-21.686725663716814,-18.0,-15.0,-12.994623655913978,-10.510166358595194,-10.542801556420233,-11.040511727078892,-12.657534246575343,-13.870558375634518,-15.120343839541547,-13.148550724637682,-7.898148148148148,-9.64375,-13.39516129032258,-14.10576923076923,-12.352272727272727,-8.67142857142857,-3.267857142857143,-3.022727272727273,7.266666666666667,9.0,1.3888888888888888,-2.0,-2.0,-3.111111111111111,-3.5,1.3333333333333333],\"type\":\"scattergl\"},{\"legendgroup\":\"Stress\",\"line\":{\"color\":\"rgb(198,219,239)\"},\"mode\":\"markers+lines\",\"name\":\"Stress - block:1 - answered  in time\",\"showlegend\":true,\"x\":[-41,-40,-39,-38,-37,-36,-35,-34,-33,-32,-31,-30,-29,-28,-27,-26,-25,-24,-23,-22,-21,-20,-19,-18,-17,-16,-15,-14,-13,-12,-11,-10,-9,-8,-7,-6,-5,-4,-3,-2,-1,0,1,2,3,4,5,6,7,8,9,10,11,12,13,14,15,16,17,18,19,20,21,22,23,24,25,26,27,28,29,30,31,32,33,34,35,36,37,38,39,40],\"y\":[6.666666666666667,7.25,4.5,6.0,3.25,5.230769230769231,10.352941176470589,4.551724137931035,2.189189189189189,0.10869565217391304,4.551020408163265,2.857142857142857,-1.1022727272727273,-1.1428571428571428,-3.1420118343195265,-0.8272727272727273,-8.480286738351255,-11.568513119533527,-13.403061224489797,-17.006711409395972,-14.721669980119284,-16.83612662942272,-17.651705565529625,-15.49113475177305,-16.12824956672444,-13.52405498281787,-11.22680412371134,-11.939862542955327,-14.9106529209622,-14.599656357388316,-13.427835051546392,-12.168384879725085,-14.20274914089347,-12.56872852233677,-14.793814432989691,-13.84192439862543,-9.967353951890034,-5.823024054982818,-1.7938144329896908,0.0,3.218213058419244,12.06872852233677,0.43127147766323026,-25.874570446735394,-36.24054982817869,-27.86426116838488,-20.88659793814433,-15.895189003436426,-12.740549828178693,-14.414089347079038,-13.063573883161512,-17.285223367697593,-23.922680412371133,-29.38144329896907,-27.843642611683848,-25.369415807560138,-19.09278350515464,-15.85540069686411,-12.419753086419753,-10.626785714285715,-11.846728971962618,-13.258964143426295,-11.97787610619469,-2.2317380352644838,-5.7701149425287355,-5.230769230769231,1.9375,1.8862275449101797,-11.5859375,-5.204545454545454,-5.013698630136986,-5.551724137931035,-3.574468085106383,-4.676470588235294,-2.64,3.9047619047619047,6.923076923076923,10.5,8.25,10.25,13.666666666666666,9.333333333333334],\"type\":\"scattergl\"},{\"legendgroup\":\"Stress\",\"line\":{\"color\":\"rgb(107,174,214)\"},\"mode\":\"markers+lines\",\"name\":\"Stress - block:2 - answered  in time\",\"showlegend\":true,\"x\":[-41,-40,-39,-38,-37,-36,-35,-34,-33,-32,-31,-30,-29,-28,-27,-26,-25,-24,-23,-22,-21,-20,-19,-18,-17,-16,-15,-14,-13,-12,-11,-10,-9,-8,-7,-6,-5,-4,-3,-2,-1,0,1,2,3,4,5,6,7,8,9,10,11,12,13,14,15,16,17,18,19,20,21,22,23,24,25,26,27,28,29,30,31,32,33,34,35,36,37,38,39,40],\"y\":[3.6,3.4444444444444446,2.090909090909091,0.6363636363636364,0.7272727272727273,-1.7857142857142858,-0.42857142857142855,4.551724137931035,-1.0,-6.384615384615385,-2.566666666666667,-5.118421052631579,-11.521739130434783,-9.140495867768594,-10.061349693251534,-6.857142857142857,-3.6589403973509933,-2.340909090909091,-7.2711442786069655,-7.415011037527594,-8.929549902152642,-11.818181818181818,-16.61672473867596,-15.709621993127147,-13.222222222222221,-14.085570469798657,-15.257956448911223,-13.336683417085426,-13.566164154103852,-16.34003350083752,-16.530988274706868,-15.455611390284757,-13.072026800670017,-12.43718592964824,-11.430485762144054,-8.433835845896148,-6.060301507537688,-4.4288107202680065,-2.120603015075377,0.0,2.4438860971524288,2.5326633165829144,-3.123953098827471,-24.731993299832496,-38.94137353433836,-39.44556113902848,-32.88944723618091,-23.142378559463985,-17.231155778894472,-12.795644891122278,-16.31993299832496,-20.55778894472362,-21.79564489112228,-23.343383584589613,-24.80569514237856,-23.12562814070352,-20.161073825503355,-13.395939086294415,-9.625,-8.624567474048442,-14.753153153153153,-16.119230769230768,-12.03010752688172,-9.181384248210025,-7.175066312997347,-7.949206349206349,-5.43404255319149,-4.208791208791209,-7.166666666666667,-11.02061855670103,-17.467532467532468,-9.222222222222221,-9.313725490196079,2.1219512195121952,-3.3870967741935485,-0.5,-0.8461538461538461,-2.8333333333333335,4.545454545454546,3.0,2.5,14.333333333333334],\"type\":\"scattergl\"},{\"legendgroup\":\"Stress\",\"line\":{\"color\":\"rgb(33,113,181)\"},\"mode\":\"markers+lines\",\"name\":\"Stress - block:3 - answered  in time\",\"showlegend\":true,\"x\":[-42,-41,-40,-39,-38,-37,-36,-35,-34,-33,-32,-31,-30,-29,-28,-27,-26,-25,-24,-23,-22,-21,-20,-19,-18,-17,-16,-15,-14,-13,-12,-11,-10,-9,-8,-7,-6,-5,-4,-3,-2,-1,0,1,2,3,4,5,6,7,8,9,10,11,12,13,14,15,16,17,18,19,20,21,22,23,24,25,26,27,28,29,30,31,32,33,34,35,36,37,38,39,40],\"y\":[5.0,-3.8,-2.1666666666666665,-0.125,2.5555555555555554,0.4,3.142857142857143,7.052631578947368,0.0,-4.5,-2.1842105263157894,-12.925925925925926,-12.128205128205128,-7.575757575757576,-8.67716535433071,-1.7396449704142012,-4.6375,-12.6,-9.979166666666666,-11.459584295612009,-10.932631578947369,-14.87378640776699,-16.605309734513273,-18.295336787564768,-17.258503401360546,-19.528428093645484,-21.532125205930807,-21.455592105263158,-18.379934210526315,-17.231907894736842,-14.473684210526315,-16.667763157894736,-17.04769736842105,-17.794407894736842,-20.14967105263158,-16.060855263157894,-9.182565789473685,-7.564144736842105,-3.914473684210526,0.5148026315789473,0.0,1.4720394736842106,8.774671052631579,-3.4802631578947367,-33.86348684210526,-48.63815789473684,-46.47697368421053,-37.088815789473685,-27.00657894736842,-18.80921052631579,-18.810855263157894,-19.633223684210527,-19.236842105263158,-21.65625,-24.138157894736842,-24.330592105263158,-24.595394736842106,-19.176276771004943,-13.66,-14.974662162162161,-18.813675213675214,-19.130742049469966,-13.264432029795158,-14.703703703703704,-10.819221967963387,-5.712820512820513,-3.433734939759036,-7.633466135458168,-14.453038674033149,-16.176470588235293,-10.788990825688073,-6.686746987951807,-7.885245901639344,-1.5853658536585367,6.612903225806452,4.321428571428571,3.5,4.9,8.0,8.25,6.75,7.125,11.0],\"type\":\"scattergl\"}],                        {\"template\":{\"data\":{\"bar\":[{\"error_x\":{\"color\":\"#2a3f5f\"},\"error_y\":{\"color\":\"#2a3f5f\"},\"marker\":{\"line\":{\"color\":\"#E5ECF6\",\"width\":0.5},\"pattern\":{\"fillmode\":\"overlay\",\"size\":10,\"solidity\":0.2}},\"type\":\"bar\"}],\"barpolar\":[{\"marker\":{\"line\":{\"color\":\"#E5ECF6\",\"width\":0.5},\"pattern\":{\"fillmode\":\"overlay\",\"size\":10,\"solidity\":0.2}},\"type\":\"barpolar\"}],\"carpet\":[{\"aaxis\":{\"endlinecolor\":\"#2a3f5f\",\"gridcolor\":\"white\",\"linecolor\":\"white\",\"minorgridcolor\":\"white\",\"startlinecolor\":\"#2a3f5f\"},\"baxis\":{\"endlinecolor\":\"#2a3f5f\",\"gridcolor\":\"white\",\"linecolor\":\"white\",\"minorgridcolor\":\"white\",\"startlinecolor\":\"#2a3f5f\"},\"type\":\"carpet\"}],\"choropleth\":[{\"colorbar\":{\"outlinewidth\":0,\"ticks\":\"\"},\"type\":\"choropleth\"}],\"contour\":[{\"colorbar\":{\"outlinewidth\":0,\"ticks\":\"\"},\"colorscale\":[[0.0,\"#0d0887\"],[0.1111111111111111,\"#46039f\"],[0.2222222222222222,\"#7201a8\"],[0.3333333333333333,\"#9c179e\"],[0.4444444444444444,\"#bd3786\"],[0.5555555555555556,\"#d8576b\"],[0.6666666666666666,\"#ed7953\"],[0.7777777777777778,\"#fb9f3a\"],[0.8888888888888888,\"#fdca26\"],[1.0,\"#f0f921\"]],\"type\":\"contour\"}],\"contourcarpet\":[{\"colorbar\":{\"outlinewidth\":0,\"ticks\":\"\"},\"type\":\"contourcarpet\"}],\"heatmap\":[{\"colorbar\":{\"outlinewidth\":0,\"ticks\":\"\"},\"colorscale\":[[0.0,\"#0d0887\"],[0.1111111111111111,\"#46039f\"],[0.2222222222222222,\"#7201a8\"],[0.3333333333333333,\"#9c179e\"],[0.4444444444444444,\"#bd3786\"],[0.5555555555555556,\"#d8576b\"],[0.6666666666666666,\"#ed7953\"],[0.7777777777777778,\"#fb9f3a\"],[0.8888888888888888,\"#fdca26\"],[1.0,\"#f0f921\"]],\"type\":\"heatmap\"}],\"heatmapgl\":[{\"colorbar\":{\"outlinewidth\":0,\"ticks\":\"\"},\"colorscale\":[[0.0,\"#0d0887\"],[0.1111111111111111,\"#46039f\"],[0.2222222222222222,\"#7201a8\"],[0.3333333333333333,\"#9c179e\"],[0.4444444444444444,\"#bd3786\"],[0.5555555555555556,\"#d8576b\"],[0.6666666666666666,\"#ed7953\"],[0.7777777777777778,\"#fb9f3a\"],[0.8888888888888888,\"#fdca26\"],[1.0,\"#f0f921\"]],\"type\":\"heatmapgl\"}],\"histogram\":[{\"marker\":{\"pattern\":{\"fillmode\":\"overlay\",\"size\":10,\"solidity\":0.2}},\"type\":\"histogram\"}],\"histogram2d\":[{\"colorbar\":{\"outlinewidth\":0,\"ticks\":\"\"},\"colorscale\":[[0.0,\"#0d0887\"],[0.1111111111111111,\"#46039f\"],[0.2222222222222222,\"#7201a8\"],[0.3333333333333333,\"#9c179e\"],[0.4444444444444444,\"#bd3786\"],[0.5555555555555556,\"#d8576b\"],[0.6666666666666666,\"#ed7953\"],[0.7777777777777778,\"#fb9f3a\"],[0.8888888888888888,\"#fdca26\"],[1.0,\"#f0f921\"]],\"type\":\"histogram2d\"}],\"histogram2dcontour\":[{\"colorbar\":{\"outlinewidth\":0,\"ticks\":\"\"},\"colorscale\":[[0.0,\"#0d0887\"],[0.1111111111111111,\"#46039f\"],[0.2222222222222222,\"#7201a8\"],[0.3333333333333333,\"#9c179e\"],[0.4444444444444444,\"#bd3786\"],[0.5555555555555556,\"#d8576b\"],[0.6666666666666666,\"#ed7953\"],[0.7777777777777778,\"#fb9f3a\"],[0.8888888888888888,\"#fdca26\"],[1.0,\"#f0f921\"]],\"type\":\"histogram2dcontour\"}],\"mesh3d\":[{\"colorbar\":{\"outlinewidth\":0,\"ticks\":\"\"},\"type\":\"mesh3d\"}],\"parcoords\":[{\"line\":{\"colorbar\":{\"outlinewidth\":0,\"ticks\":\"\"}},\"type\":\"parcoords\"}],\"pie\":[{\"automargin\":true,\"type\":\"pie\"}],\"scatter\":[{\"marker\":{\"colorbar\":{\"outlinewidth\":0,\"ticks\":\"\"}},\"type\":\"scatter\"}],\"scatter3d\":[{\"line\":{\"colorbar\":{\"outlinewidth\":0,\"ticks\":\"\"}},\"marker\":{\"colorbar\":{\"outlinewidth\":0,\"ticks\":\"\"}},\"type\":\"scatter3d\"}],\"scattercarpet\":[{\"marker\":{\"colorbar\":{\"outlinewidth\":0,\"ticks\":\"\"}},\"type\":\"scattercarpet\"}],\"scattergeo\":[{\"marker\":{\"colorbar\":{\"outlinewidth\":0,\"ticks\":\"\"}},\"type\":\"scattergeo\"}],\"scattergl\":[{\"marker\":{\"colorbar\":{\"outlinewidth\":0,\"ticks\":\"\"}},\"type\":\"scattergl\"}],\"scattermapbox\":[{\"marker\":{\"colorbar\":{\"outlinewidth\":0,\"ticks\":\"\"}},\"type\":\"scattermapbox\"}],\"scatterpolar\":[{\"marker\":{\"colorbar\":{\"outlinewidth\":0,\"ticks\":\"\"}},\"type\":\"scatterpolar\"}],\"scatterpolargl\":[{\"marker\":{\"colorbar\":{\"outlinewidth\":0,\"ticks\":\"\"}},\"type\":\"scatterpolargl\"}],\"scatterternary\":[{\"marker\":{\"colorbar\":{\"outlinewidth\":0,\"ticks\":\"\"}},\"type\":\"scatterternary\"}],\"surface\":[{\"colorbar\":{\"outlinewidth\":0,\"ticks\":\"\"},\"colorscale\":[[0.0,\"#0d0887\"],[0.1111111111111111,\"#46039f\"],[0.2222222222222222,\"#7201a8\"],[0.3333333333333333,\"#9c179e\"],[0.4444444444444444,\"#bd3786\"],[0.5555555555555556,\"#d8576b\"],[0.6666666666666666,\"#ed7953\"],[0.7777777777777778,\"#fb9f3a\"],[0.8888888888888888,\"#fdca26\"],[1.0,\"#f0f921\"]],\"type\":\"surface\"}],\"table\":[{\"cells\":{\"fill\":{\"color\":\"#EBF0F8\"},\"line\":{\"color\":\"white\"}},\"header\":{\"fill\":{\"color\":\"#C8D4E3\"},\"line\":{\"color\":\"white\"}},\"type\":\"table\"}]},\"layout\":{\"annotationdefaults\":{\"arrowcolor\":\"#2a3f5f\",\"arrowhead\":0,\"arrowwidth\":1},\"autotypenumbers\":\"strict\",\"coloraxis\":{\"colorbar\":{\"outlinewidth\":0,\"ticks\":\"\"}},\"colorscale\":{\"diverging\":[[0,\"#8e0152\"],[0.1,\"#c51b7d\"],[0.2,\"#de77ae\"],[0.3,\"#f1b6da\"],[0.4,\"#fde0ef\"],[0.5,\"#f7f7f7\"],[0.6,\"#e6f5d0\"],[0.7,\"#b8e186\"],[0.8,\"#7fbc41\"],[0.9,\"#4d9221\"],[1,\"#276419\"]],\"sequential\":[[0.0,\"#0d0887\"],[0.1111111111111111,\"#46039f\"],[0.2222222222222222,\"#7201a8\"],[0.3333333333333333,\"#9c179e\"],[0.4444444444444444,\"#bd3786\"],[0.5555555555555556,\"#d8576b\"],[0.6666666666666666,\"#ed7953\"],[0.7777777777777778,\"#fb9f3a\"],[0.8888888888888888,\"#fdca26\"],[1.0,\"#f0f921\"]],\"sequentialminus\":[[0.0,\"#0d0887\"],[0.1111111111111111,\"#46039f\"],[0.2222222222222222,\"#7201a8\"],[0.3333333333333333,\"#9c179e\"],[0.4444444444444444,\"#bd3786\"],[0.5555555555555556,\"#d8576b\"],[0.6666666666666666,\"#ed7953\"],[0.7777777777777778,\"#fb9f3a\"],[0.8888888888888888,\"#fdca26\"],[1.0,\"#f0f921\"]]},\"colorway\":[\"#636efa\",\"#EF553B\",\"#00cc96\",\"#ab63fa\",\"#FFA15A\",\"#19d3f3\",\"#FF6692\",\"#B6E880\",\"#FF97FF\",\"#FECB52\"],\"font\":{\"color\":\"#2a3f5f\"},\"geo\":{\"bgcolor\":\"white\",\"lakecolor\":\"white\",\"landcolor\":\"#E5ECF6\",\"showlakes\":true,\"showland\":true,\"subunitcolor\":\"white\"},\"hoverlabel\":{\"align\":\"left\"},\"hovermode\":\"closest\",\"mapbox\":{\"style\":\"light\"},\"paper_bgcolor\":\"white\",\"plot_bgcolor\":\"#E5ECF6\",\"polar\":{\"angularaxis\":{\"gridcolor\":\"white\",\"linecolor\":\"white\",\"ticks\":\"\"},\"bgcolor\":\"#E5ECF6\",\"radialaxis\":{\"gridcolor\":\"white\",\"linecolor\":\"white\",\"ticks\":\"\"}},\"scene\":{\"xaxis\":{\"backgroundcolor\":\"#E5ECF6\",\"gridcolor\":\"white\",\"gridwidth\":2,\"linecolor\":\"white\",\"showbackground\":true,\"ticks\":\"\",\"zerolinecolor\":\"white\"},\"yaxis\":{\"backgroundcolor\":\"#E5ECF6\",\"gridcolor\":\"white\",\"gridwidth\":2,\"linecolor\":\"white\",\"showbackground\":true,\"ticks\":\"\",\"zerolinecolor\":\"white\"},\"zaxis\":{\"backgroundcolor\":\"#E5ECF6\",\"gridcolor\":\"white\",\"gridwidth\":2,\"linecolor\":\"white\",\"showbackground\":true,\"ticks\":\"\",\"zerolinecolor\":\"white\"}},\"shapedefaults\":{\"line\":{\"color\":\"#2a3f5f\"}},\"ternary\":{\"aaxis\":{\"gridcolor\":\"white\",\"linecolor\":\"white\",\"ticks\":\"\"},\"baxis\":{\"gridcolor\":\"white\",\"linecolor\":\"white\",\"ticks\":\"\"},\"bgcolor\":\"#E5ECF6\",\"caxis\":{\"gridcolor\":\"white\",\"linecolor\":\"white\",\"ticks\":\"\"}},\"title\":{\"x\":0.05},\"xaxis\":{\"automargin\":true,\"gridcolor\":\"white\",\"linecolor\":\"white\",\"ticks\":\"\",\"title\":{\"standoff\":15},\"zerolinecolor\":\"white\",\"zerolinewidth\":2},\"yaxis\":{\"automargin\":true,\"gridcolor\":\"white\",\"linecolor\":\"white\",\"ticks\":\"\",\"title\":{\"standoff\":15},\"zerolinecolor\":\"white\",\"zerolinewidth\":2}}},\"title\":{\"text\":\"feedback\",\"x\":0.5},\"height\":600,\"xaxis\":{\"title\":{\"text\":\"Sequential IBI\"}},\"yaxis\":{\"title\":{\"text\":\"Delta IBI (ref IBI_-2) (ms)\"}}},                        {\"responsive\": true}                    ).then(function(){\n",
       "                            \n",
       "var gd = document.getElementById('e1471ec0-39b5-488d-97ca-ca445c2d1edc');\n",
       "var x = new MutationObserver(function (mutations, observer) {{\n",
       "        var display = window.getComputedStyle(gd).display;\n",
       "        if (!display || display === 'none') {{\n",
       "            console.log([gd, 'removed!']);\n",
       "            Plotly.purge(gd);\n",
       "            observer.disconnect();\n",
       "        }}\n",
       "}});\n",
       "\n",
       "// Listen for the removal of the full notebook cells\n",
       "var notebookContainer = gd.closest('#notebook-container');\n",
       "if (notebookContainer) {{\n",
       "    x.observe(notebookContainer, {childList: true});\n",
       "}}\n",
       "\n",
       "// Listen for the clearing of the current output cell\n",
       "var outputEl = gd.closest('.output');\n",
       "if (outputEl) {{\n",
       "    x.observe(outputEl, {childList: true});\n",
       "}}\n",
       "\n",
       "                        })                };                });            </script>        </div>"
      ]
     },
     "metadata": {},
     "output_type": "display_data"
    }
   ],
   "source": [
    "pallette_dict = {\n",
    "    'Controle': px.colors.sequential.Blues[2:],\n",
    "    'Stress': px.colors.sequential.Blues[2:],\n",
    "}\n",
    "\n",
    "fig = go.Figure()\n",
    "for group, answered_in_time, level  in [\n",
    "    (\"Controle\", True, 1),\n",
    "    (\"Controle\", True, 2),\n",
    "    (\"Controle\", True, 3),\n",
    "    (\"Stress\", True, 1),\n",
    "    (\"Stress\", True, 2),\n",
    "    (\"Stress\", True, 3),\n",
    "]:\n",
    "    rr_group = []\n",
    "    df_f_gr = df_feedback[\n",
    "        (df_feedback[\"Procedure[Block]\"] == group)\n",
    "        & df_feedback.Phase.str.contains(str(level))\n",
    "        & (df_feedback.answered_in_time == answered_in_time)\n",
    "    ]\n",
    "    for feeback_idx, _ in df_f_gr.iterrows():\n",
    "        rr_d = (\n",
    "            df_slc[df_slc[\"feedback_index\"] == feeback_idx]\n",
    "            .copy()\n",
    "            .set_index(\"IBI_pos\")\n",
    "            .sort_index()[\"RR_delta_ms\"]\n",
    "        )\n",
    "        rr_group.append(rr_d)\n",
    "\n",
    "    df_rr_group = pd.concat(rr_group, axis=1, ignore_index=False)\n",
    "    rr_group_mean = df_rr_group.mean(axis=1)\n",
    "    rr_group_std = df_rr_group.std(axis=1)\n",
    "    fig.add_trace(\n",
    "        go.Scattergl(\n",
    "            x=rr_group_mean.index,\n",
    "            y=rr_group_mean,\n",
    "            line_color=pallette_dict[group][(level-1)*2],\n",
    "            # error_y=dict(type=\"data\", array=rr_group_std, visible=True),\n",
    "            mode=\"markers+lines\",\n",
    "            line_dash=('dash' if group == 'Controle' else None),\n",
    "            name=group + \" - block:\" + str(level)\n",
    "            + \" - answered \"\n",
    "            + (\"\" if answered_in_time else \"not\")\n",
    "            + \" in time\",\n",
    "            legendgroup=group,\n",
    "            showlegend=True,\n",
    "        )\n",
    "    )\n",
    "\n",
    "fig.update_layout(height=600, title=\"feedback\", title_x=0.5)\n",
    "fig.update_xaxes(title_text=\"Sequential IBI\")\n",
    "fig.update_yaxes(title_text=f\"Delta IBI (ref IBI_{reference_ibi_pos}) (ms)\")\n",
    "fig.show()"
   ]
  },
  {
   "cell_type": "code",
   "execution_count": null,
   "metadata": {},
   "outputs": [],
   "source": []
  }
 ],
 "metadata": {
  "interpreter": {
   "hash": "f4ee2a342fc3b62d1547648c572a552aed57cc9457279583cc1d081db5d727c9"
  },
  "jupytext": {
   "formats": "ipynb,py:percent"
  },
  "kernelspec": {
   "display_name": "Python 3",
   "language": "python",
   "name": "python3"
  },
  "language_info": {
   "codemirror_mode": {
    "name": "ipython",
    "version": 3
   },
   "file_extension": ".py",
   "mimetype": "text/x-python",
   "name": "python",
   "nbconvert_exporter": "python",
   "pygments_lexer": "ipython3",
   "version": "3.7.5"
  },
  "toc-autonumbering": true
 },
 "nbformat": 4,
 "nbformat_minor": 4
}
