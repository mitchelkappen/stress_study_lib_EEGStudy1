{
 "cells": [
  {
   "cell_type": "markdown",
   "metadata": {},
   "source": [
    "# Feature Extraction from Speech Data with OpenSMILE and GeMaps config\n",
    "## Audio data collected in the EEG MIST paradigm"
   ]
  },
  {
   "cell_type": "code",
   "execution_count": 4,
   "metadata": {},
   "outputs": [],
   "source": [
    "import glob\n",
    "import os\n",
    "import subprocess\n",
    "import numpy as np\n",
    "import pandas as pd\n",
    "from scipy.io import arff\n",
    "from io import StringIO\n",
    "from pathlib import Path\n",
    "import re\n",
    "from tqdm import tqdm"
   ]
  },
  {
   "cell_type": "code",
   "execution_count": 5,
   "metadata": {},
   "outputs": [],
   "source": [
    "# Set Data Path\n",
    "# DATA_PATH = \"C:/Users/mitch/OneDrive - UGent/UGent/Projects/5. VOP project/Voice_and_App/\"\n",
    "BASE_PATH = \"Z:/ghepmk_data/2020_EEGStudy1/\"\n",
    "DATA_PATH = BASE_PATH + \"aligned_data\"\n",
    "# Set OpenSMILE Config Path\n",
    "OPENSMILE_CONFIG = '\"C:/Users/mitch/OneDrive - UGent/UGent/Topics/Facial/OpenSmile/opensmile-2.3.0/config/gemaps/GeMAPSv01a.conf\"'\n",
    "\n",
    "FEATURES_PATH = DATA_PATH + \"/features_gemaps/\"\n",
    "RAW_PATH = \"C:/Users/mitch/OneDrive - UGent/UGent/Projects/2. Vanhollebeke et al/Data/Actual/Audio_Jonas\"\n"
   ]
  },
  {
   "cell_type": "markdown",
   "metadata": {},
   "source": [
    "# Extract features"
   ]
  },
  {
   "cell_type": "markdown",
   "metadata": {},
   "source": [
    "# THIS ONE IS IF GETTING DATA FROM ALIGNED_DATA"
   ]
  },
  {
   "cell_type": "code",
   "execution_count": 6,
   "metadata": {},
   "outputs": [],
   "source": [
    "## Only run this cell ONCE (set to False if exctracted)\n",
    "\n",
    "# THIS ONE IS IF GETTING DATA FROM ALIGNED_DATA\n",
    "if False:\n",
    "    # Create paths if not existed\n",
    "    Path(FEATURES_PATH).mkdir(parents=True, exist_ok=True)\n",
    "\n",
    "    def extract(source, destination):\n",
    "        # Generate extraction command\n",
    "        cmd = \"C:/Users/mitch/OneDrive/Documents/UGent/Topics/Facial/OpenSmile/opensmile-2.3.0/SMILExtract_Release -C {} -I {} -O {}\".format(OPENSMILE_CONFIG, source, destination)\n",
    "    #     print(cmd)\n",
    "        p = subprocess.Popen(cmd, stdout=subprocess.PIPE, shell=True)\n",
    "        p.wait()\n",
    "\n",
    "    for wav_file in tqdm(glob.glob(DATA_PATH + \"/*/audio/*.wav\")):\n",
    "        participant_dir = wav_file.split(\"/\")[-1]\n",
    "        participant_dir = participant_dir.split(\"\\\\\")[1]\n",
    "        filename = re.findall(r'udio\\\\(.+).wav', wav_file)[0] # file name excluding .wav\n",
    "#         filenum = re.findall(r'occ_(.+?).wav',wav_file)[0] # file number\n",
    "        filenum = filename[filename.find('occ_')+4:filename.find('occ_')+6] # else it cant find exceptions like 99-2 or something\n",
    "\n",
    "        if filenum == \"99\": # Something went wrong in the naming of the inital files and this is a quick fix\n",
    "            filename = filename[:filename.find('occ_')+4] + \"9\" + filename[filename.find('occ_')+6:] # replace 99 by 9 but keep the rest\n",
    "        \n",
    "        out_path = FEATURES_PATH + \"/\" + participant_dir + \"/\" + filename + '.arff'\n",
    "\n",
    "        wav_file = '\"' + wav_file.replace(os.sep, '/') + '\"'\n",
    "        out_path = '\"' + out_path + '\"'\n",
    "        \n",
    "        Path(FEATURES_PATH + \"/\" + participant_dir + \"/\").mkdir(parents=True, exist_ok=True)\n",
    "        \n",
    "        extract(wav_file, out_path)\n",
    "#         break     \n",
    "#     print(out_path)"
   ]
  },
  {
   "cell_type": "markdown",
   "metadata": {},
   "source": [
    "# THIS ONE IS IF GETTING DATA FROM LOCAL JONAS_DATA"
   ]
  },
  {
   "cell_type": "code",
   "execution_count": 7,
   "metadata": {},
   "outputs": [],
   "source": [
    "## Only run this cell ONCE (set to False if exctracted)\n",
    "count = 0\n",
    "# THIS ONE IS IF GETTING DATA FROM LOCAL DATA\n",
    "if False:\n",
    "    # Create paths if not existed\n",
    "    Path(FEATURES_PATH).mkdir(parents=True, exist_ok=True)\n",
    "\n",
    "    def extract(source, destination):\n",
    "        # Generate extraction command\n",
    "        cmd = \"C:/Users/mitch/OneDrive/Documents/UGent/Topics/Facial/OpenSmile/opensmile-2.3.0/SMILExtract_Release -C {} -I {} -O {}\".format(OPENSMILE_CONFIG, source, destination)\n",
    "    #     print(cmd)\n",
    "        p = subprocess.Popen(cmd, stdout=subprocess.PIPE, shell=True)\n",
    "        p.wait()\n",
    "\n",
    "    for wav_file in tqdm(glob.glob(RAW_PATH + \"/*/sentences*.wav\")):\n",
    "        participant_dir = re.findall(r'Jonas\\\\(.+?)\\\\sentences',wav_file)[0]\n",
    "        filenum = re.findall(r'occ_(.+?).wav',wav_file)[0]\n",
    "\n",
    "        if filenum == \"99\": # Something went wrong in the naming of the inital files and this is a quick fix\n",
    "            filename = 'sentences_occ_' + '9'\n",
    "        else:\n",
    "            filename = 'sentences_occ_' + filenum\n",
    "\n",
    "        out_path = FEATURES_PATH + \"/\" + participant_dir + \"/\" + filename + '.arff'\n",
    "\n",
    "        wav_file = '\"' + wav_file.replace(os.sep, '/') + '\"'\n",
    "        out_path = '\"' + out_path + '\"'\n",
    "\n",
    "        Path(FEATURES_PATH + \"/\" + participant_dir + \"/\").mkdir(parents=True, exist_ok=True)\n",
    "\n",
    "        extract(wav_file, out_path)\n",
    "#         print(f'in file is: ', wav_file, ' and out file is: ', out_path)\n",
    "#         break     \n",
    "#     print(out_path)\n",
    "\n",
    "\n"
   ]
  },
  {
   "cell_type": "markdown",
   "metadata": {},
   "source": [
    "# Load all Marloeses and compile into comprehensive df"
   ]
  },
  {
   "cell_type": "code",
   "execution_count": 10,
   "metadata": {},
   "outputs": [],
   "source": [
    "if False: # Only used once to get everything into a nice .csv\n",
    "    from arff2pandas import a2p\n",
    "    dataMarloes = pd.DataFrame()\n",
    "    for arff_file in tqdm(glob.glob(FEATURES_PATH + \"/*/sentences*.arff\")):\n",
    "        participantNum = int(re.findall(r'features_gemaps\\\\(.+?)\\\\sentences',arff_file)[0])\n",
    "        try:\n",
    "            fileNum = int(re.findall(r'sentences_occ_(.+?).arff',arff_file)[0])\n",
    "\n",
    "            with open(arff_file) as f:\n",
    "                df = a2p.load(f)\n",
    "                df.insert(0, \"participantNum\", participantNum) # Add column for participant Number\n",
    "                df.insert(1, \"fileNum\", fileNum) # Add column for file Number\n",
    "                dataMarloes = dataMarloes.append(df)\n",
    "        except:\n",
    "            print(f'Something wrong with file name of participant: ', participantNum, 'File number: ', fileNum + 1)\n",
    "            \n",
    "    dataMarloes.to_csv(FEATURES_PATH + 'marloesFeaturesCompiled.csv', encoding='utf-8', index=False)\n",
    "    \n",
    "dataMarloes = pd.read_csv(FEATURES_PATH + 'marloesFeaturesCompiled.csv') # Read .csv file\n",
    "\n",
    "dataMarloes = dataMarloes[dataMarloes['fileNum'] != 9] # For now remove every first Marloes from the dataframe - we seem not to have any SAMs for these. \n",
    "\n",
    "# Rename column names because with the .arff files it got loaded weirdly\n",
    "maxX = len(dataMarloes.columns)\n",
    "count = 0\n",
    "\n",
    "while count < maxX:\n",
    "    if count > 2: # Skip a few\n",
    "        name = dataMarloes.columns[count]\n",
    "        name = name[0:name.find('@NUMERIC')] # Find where @NUMERIC starts and get everything in front of it\n",
    "        dataMarloes.rename(columns={dataMarloes.columns[count]: name}, inplace=True) # Rename columns\n",
    "    count = count + 1"
   ]
  },
  {
   "cell_type": "markdown",
   "metadata": {},
   "source": [
    "# Add explicit responses from appData.csv"
   ]
  },
  {
   "cell_type": "code",
   "execution_count": 11,
   "metadata": {},
   "outputs": [],
   "source": [
    "if False: # Only used once to get everything into a nice .csv\n",
    "    dataSAM = pd.DataFrame()\n",
    "\n",
    "    for csv_file in tqdm(glob.glob(DATA_PATH + \"/*/audio/appData.csv\")):\n",
    "        participantNum = csv_file.split(\"/\")[-1]\n",
    "        participantNum = int(participantNum.split(\"\\\\\")[1])\n",
    "\n",
    "        temp = pd.read_csv(csv_file)\n",
    "        for i in range(0, 9):\n",
    "            d = {'participantNum': participantNum, 'fileNum': i, 'arousal': temp['arousals_' + str(i)], 'valence': temp['valences_' + str(i)], 'dominance': temp['dominances_' + str(i)]}\n",
    "            df = pd.DataFrame(data=d)\n",
    "            dataSAM = dataSAM.append(df)\n",
    "\n",
    "    dataSAM.to_csv(FEATURES_PATH + 'SAMsCompiled.csv', encoding='utf-8', index=False) # Write CSV\n",
    "\n",
    "dataSAM = pd.read_csv(FEATURES_PATH + 'SAMsCompiled.csv') # Read CSV\n",
    "data = pd.merge(dataMarloes, dataSAM, on=[\"participantNum\", \"fileNum\"]) # Put marloes and SAMS together for all complete sets"
   ]
  },
  {
   "cell_type": "markdown",
   "metadata": {},
   "source": [
    "# Get Physiological Data"
   ]
  },
  {
   "cell_type": "markdown",
   "metadata": {},
   "source": [
    "EDA"
   ]
  },
  {
   "cell_type": "code",
   "execution_count": 12,
   "metadata": {},
   "outputs": [],
   "source": [
    "EDA_PATH = \"Z:/ghepmk_data/2020_EEGStudy1_nosync/Data/aligned/EEG1_study_feat_stats/EEG1_study_feat_stats\""
   ]
  },
  {
   "cell_type": "markdown",
   "metadata": {},
   "source": [
    "# Get aligned markers / timestamps"
   ]
  },
  {
   "cell_type": "code",
   "execution_count": 12,
   "metadata": {
    "scrolled": true
   },
   "outputs": [
    {
     "name": "stderr",
     "output_type": "stream",
     "text": [
      "  0%|                                                                                                                                                         | 0/79 [00:00<?, ?it/s]"
     ]
    },
    {
     "name": "stdout",
     "output_type": "stream",
     "text": [
      "currently processing file:  Z:/ghepmk_data/2020_EEGStudy1/aligned_data/2/timeline_aligned.csv\n",
      "currently processing file:  Z:/ghepmk_data/2020_EEGStudy1/aligned_data/3/timeline_aligned.csv\n",
      "currently processing file:  Z:/ghepmk_data/2020_EEGStudy1/aligned_data/4/timeline_aligned.csv\n",
      "currently processing file:  Z:/ghepmk_data/2020_EEGStudy1/aligned_data/5/timeline_aligned.csv\n",
      "currently processing file:  Z:/ghepmk_data/2020_EEGStudy1/aligned_data/6/timeline_aligned.csv\n",
      "currently processing file:  Z:/ghepmk_data/2020_EEGStudy1/aligned_data/7/timeline_aligned.csv\n",
      "currently processing file:  Z:/ghepmk_data/2020_EEGStudy1/aligned_data/8/timeline_aligned.csv\n",
      "currently processing file:  Z:/ghepmk_data/2020_EEGStudy1/aligned_data/9/timeline_aligned.csv\n",
      "currently processing file:  Z:/ghepmk_data/2020_EEGStudy1/aligned_data/10/timeline_aligned.csv\n",
      "currently processing file:  Z:/ghepmk_data/2020_EEGStudy1/aligned_data/11/timeline_aligned.csv\n",
      "currently processing file:  Z:/ghepmk_data/2020_EEGStudy1/aligned_data/12/timeline_aligned.csv\n",
      "currently processing file:  Z:/ghepmk_data/2020_EEGStudy1/aligned_data/13/timeline_aligned.csv\n",
      "currently processing file:  Z:/ghepmk_data/2020_EEGStudy1/aligned_data/14/timeline_aligned.csv\n",
      "currently processing file:  Z:/ghepmk_data/2020_EEGStudy1/aligned_data/15/timeline_aligned.csv\n",
      "currently processing file:  Z:/ghepmk_data/2020_EEGStudy1/aligned_data/16/timeline_aligned.csv\n"
     ]
    },
    {
     "name": "stderr",
     "output_type": "stream",
     "text": [
      " 19%|███████████████████████████▎                                                                                                                    | 15/79 [00:22<01:37,  1.52s/it]"
     ]
    },
    {
     "name": "stdout",
     "output_type": "stream",
     "text": [
      "currently processing file:  Z:/ghepmk_data/2020_EEGStudy1/aligned_data/17/timeline_aligned.csv\n"
     ]
    },
    {
     "name": "stderr",
     "output_type": "stream",
     "text": [
      " 20%|█████████████████████████████▏                                                                                                                  | 16/79 [00:45<03:29,  3.33s/it]"
     ]
    },
    {
     "name": "stdout",
     "output_type": "stream",
     "text": [
      "currently processing file:  Z:/ghepmk_data/2020_EEGStudy1/aligned_data/18/timeline_aligned.csv\n"
     ]
    },
    {
     "name": "stderr",
     "output_type": "stream",
     "text": [
      " 22%|██████████████████████████████▉                                                                                                                 | 17/79 [01:04<05:19,  5.15s/it]"
     ]
    },
    {
     "name": "stdout",
     "output_type": "stream",
     "text": [
      "currently processing file:  Z:/ghepmk_data/2020_EEGStudy1/aligned_data/19/timeline_aligned.csv\n"
     ]
    },
    {
     "name": "stderr",
     "output_type": "stream",
     "text": [
      " 23%|████████████████████████████████▊                                                                                                               | 18/79 [01:25<07:18,  7.19s/it]"
     ]
    },
    {
     "name": "stdout",
     "output_type": "stream",
     "text": [
      "currently processing file:  Z:/ghepmk_data/2020_EEGStudy1/aligned_data/20/timeline_aligned.csv\n",
      "currently processing file:  Z:/ghepmk_data/2020_EEGStudy1/aligned_data/21/timeline_aligned.csv\n"
     ]
    },
    {
     "name": "stderr",
     "output_type": "stream",
     "text": [
      " 25%|████████████████████████████████████▍                                                                                                           | 20/79 [01:45<07:55,  8.06s/it]"
     ]
    },
    {
     "name": "stdout",
     "output_type": "stream",
     "text": [
      "currently processing file:  Z:/ghepmk_data/2020_EEGStudy1/aligned_data/22/timeline_aligned.csv\n"
     ]
    },
    {
     "name": "stderr",
     "output_type": "stream",
     "text": [
      " 27%|██████████████████████████████████████▎                                                                                                         | 21/79 [02:09<10:15, 10.61s/it]"
     ]
    },
    {
     "name": "stdout",
     "output_type": "stream",
     "text": [
      "currently processing file:  Z:/ghepmk_data/2020_EEGStudy1/aligned_data/23/timeline_aligned.csv\n"
     ]
    },
    {
     "name": "stderr",
     "output_type": "stream",
     "text": [
      " 28%|████████████████████████████████████████                                                                                                        | 22/79 [02:31<12:14, 12.88s/it]"
     ]
    },
    {
     "name": "stdout",
     "output_type": "stream",
     "text": [
      "currently processing file:  Z:/ghepmk_data/2020_EEGStudy1/aligned_data/24/timeline_aligned.csv\n",
      "currently processing file:  Z:/ghepmk_data/2020_EEGStudy1/aligned_data/26/timeline_aligned.csv\n"
     ]
    },
    {
     "name": "stderr",
     "output_type": "stream",
     "text": [
      " 30%|███████████████████████████████████████████▋                                                                                                    | 24/79 [02:50<10:47, 11.77s/it]"
     ]
    },
    {
     "name": "stdout",
     "output_type": "stream",
     "text": [
      "currently processing file:  Z:/ghepmk_data/2020_EEGStudy1/aligned_data/27/timeline_aligned.csv\n"
     ]
    },
    {
     "name": "stderr",
     "output_type": "stream",
     "text": [
      " 32%|█████████████████████████████████████████████▌                                                                                                  | 25/79 [03:13<12:29, 13.87s/it]"
     ]
    },
    {
     "name": "stdout",
     "output_type": "stream",
     "text": [
      "currently processing file:  Z:/ghepmk_data/2020_EEGStudy1/aligned_data/28/timeline_aligned.csv\n"
     ]
    },
    {
     "name": "stderr",
     "output_type": "stream",
     "text": [
      " 33%|███████████████████████████████████████████████▍                                                                                                | 26/79 [03:35<13:57, 15.80s/it]"
     ]
    },
    {
     "name": "stdout",
     "output_type": "stream",
     "text": [
      "currently processing file:  Z:/ghepmk_data/2020_EEGStudy1/aligned_data/29/timeline_aligned.csv\n"
     ]
    },
    {
     "name": "stderr",
     "output_type": "stream",
     "text": [
      " 34%|█████████████████████████████████████████████████▏                                                                                              | 27/79 [03:57<15:03, 17.37s/it]"
     ]
    },
    {
     "name": "stdout",
     "output_type": "stream",
     "text": [
      "currently processing file:  Z:/ghepmk_data/2020_EEGStudy1/aligned_data/30/timeline_aligned.csv\n"
     ]
    },
    {
     "name": "stderr",
     "output_type": "stream",
     "text": [
      " 35%|███████████████████████████████████████████████████                                                                                             | 28/79 [04:17<15:14, 17.93s/it]"
     ]
    },
    {
     "name": "stdout",
     "output_type": "stream",
     "text": [
      "currently processing file:  Z:/ghepmk_data/2020_EEGStudy1/aligned_data/31/timeline_aligned.csv\n"
     ]
    },
    {
     "name": "stderr",
     "output_type": "stream",
     "text": [
      " 37%|████████████████████████████████████████████████████▊                                                                                           | 29/79 [04:41<16:16, 19.53s/it]"
     ]
    },
    {
     "name": "stdout",
     "output_type": "stream",
     "text": [
      "currently processing file:  Z:/ghepmk_data/2020_EEGStudy1/aligned_data/32/timeline_aligned.csv\n"
     ]
    },
    {
     "name": "stderr",
     "output_type": "stream",
     "text": [
      " 38%|██████████████████████████████████████████████████████▋                                                                                         | 30/79 [05:02<16:19, 19.99s/it]"
     ]
    },
    {
     "name": "stdout",
     "output_type": "stream",
     "text": [
      "currently processing file:  Z:/ghepmk_data/2020_EEGStudy1/aligned_data/33/timeline_aligned.csv\n"
     ]
    },
    {
     "name": "stderr",
     "output_type": "stream",
     "text": [
      " 39%|████████████████████████████████████████████████████████▌                                                                                       | 31/79 [05:28<17:16, 21.60s/it]"
     ]
    },
    {
     "name": "stdout",
     "output_type": "stream",
     "text": [
      "currently processing file:  Z:/ghepmk_data/2020_EEGStudy1/aligned_data/34/timeline_aligned.csv\n"
     ]
    },
    {
     "name": "stderr",
     "output_type": "stream",
     "text": [
      " 41%|██████████████████████████████████████████████████████████▎                                                                                     | 32/79 [05:44<15:50, 20.21s/it]"
     ]
    },
    {
     "name": "stdout",
     "output_type": "stream",
     "text": [
      "currently processing file:  Z:/ghepmk_data/2020_EEGStudy1/aligned_data/35/timeline_aligned.csv\n"
     ]
    },
    {
     "name": "stderr",
     "output_type": "stream",
     "text": [
      " 42%|████████████████████████████████████████████████████████████▏                                                                                   | 33/79 [06:05<15:36, 20.37s/it]"
     ]
    },
    {
     "name": "stdout",
     "output_type": "stream",
     "text": [
      "currently processing file:  Z:/ghepmk_data/2020_EEGStudy1/aligned_data/36/timeline_aligned.csv\n"
     ]
    },
    {
     "name": "stderr",
     "output_type": "stream",
     "text": [
      " 43%|█████████████████████████████████████████████████████████████▉                                                                                  | 34/79 [06:30<16:12, 21.61s/it]"
     ]
    },
    {
     "name": "stdout",
     "output_type": "stream",
     "text": [
      "currently processing file:  Z:/ghepmk_data/2020_EEGStudy1/aligned_data/37/timeline_aligned.csv\n",
      "currently processing file:  Z:/ghepmk_data/2020_EEGStudy1/aligned_data/38/timeline_aligned.csv\n"
     ]
    },
    {
     "name": "stderr",
     "output_type": "stream",
     "text": [
      " 46%|█████████████████████████████████████████████████████████████████▌                                                                              | 36/79 [06:52<12:02, 16.81s/it]"
     ]
    },
    {
     "name": "stdout",
     "output_type": "stream",
     "text": [
      "currently processing file:  Z:/ghepmk_data/2020_EEGStudy1/aligned_data/39/timeline_aligned.csv\n"
     ]
    },
    {
     "name": "stderr",
     "output_type": "stream",
     "text": [
      " 47%|███████████████████████████████████████████████████████████████████▍                                                                            | 37/79 [07:13<12:34, 17.97s/it]"
     ]
    },
    {
     "name": "stdout",
     "output_type": "stream",
     "text": [
      "currently processing file:  Z:/ghepmk_data/2020_EEGStudy1/aligned_data/40/timeline_aligned.csv\n"
     ]
    },
    {
     "name": "stderr",
     "output_type": "stream",
     "text": [
      " 48%|█████████████████████████████████████████████████████████████████████▎                                                                          | 38/79 [07:33<12:32, 18.35s/it]"
     ]
    },
    {
     "name": "stdout",
     "output_type": "stream",
     "text": [
      "currently processing file:  Z:/ghepmk_data/2020_EEGStudy1/aligned_data/41/timeline_aligned.csv\n"
     ]
    },
    {
     "name": "stderr",
     "output_type": "stream",
     "text": [
      " 49%|███████████████████████████████████████████████████████████████████████                                                                         | 39/79 [07:55<12:56, 19.42s/it]"
     ]
    },
    {
     "name": "stdout",
     "output_type": "stream",
     "text": [
      "currently processing file:  Z:/ghepmk_data/2020_EEGStudy1/aligned_data/42/timeline_aligned.csv\n"
     ]
    },
    {
     "name": "stderr",
     "output_type": "stream",
     "text": [
      " 51%|████████████████████████████████████████████████████████████████████████▉                                                                       | 40/79 [08:14<12:32, 19.28s/it]"
     ]
    },
    {
     "name": "stdout",
     "output_type": "stream",
     "text": [
      "currently processing file:  Z:/ghepmk_data/2020_EEGStudy1/aligned_data/43/timeline_aligned.csv\n"
     ]
    },
    {
     "name": "stderr",
     "output_type": "stream",
     "text": [
      " 52%|██████████████████████████████████████████████████████████████████████████▋                                                                     | 41/79 [08:36<12:38, 19.97s/it]"
     ]
    },
    {
     "name": "stdout",
     "output_type": "stream",
     "text": [
      "currently processing file:  Z:/ghepmk_data/2020_EEGStudy1/aligned_data/44/timeline_aligned.csv\n"
     ]
    },
    {
     "name": "stderr",
     "output_type": "stream",
     "text": [
      " 53%|████████████████████████████████████████████████████████████████████████████▌                                                                   | 42/79 [09:00<12:59, 21.07s/it]"
     ]
    },
    {
     "name": "stdout",
     "output_type": "stream",
     "text": [
      "currently processing file:  Z:/ghepmk_data/2020_EEGStudy1/aligned_data/46/timeline_aligned.csv\n"
     ]
    },
    {
     "name": "stderr",
     "output_type": "stream",
     "text": [
      " 54%|██████████████████████████████████████████████████████████████████████████████▍                                                                 | 43/79 [09:19<12:22, 20.62s/it]"
     ]
    },
    {
     "name": "stdout",
     "output_type": "stream",
     "text": [
      "currently processing file:  Z:/ghepmk_data/2020_EEGStudy1/aligned_data/47/timeline_aligned.csv\n",
      "currently processing file:  Z:/ghepmk_data/2020_EEGStudy1/aligned_data/48/timeline_aligned.csv\n"
     ]
    },
    {
     "name": "stderr",
     "output_type": "stream",
     "text": [
      " 57%|██████████████████████████████████████████████████████████████████████████████████                                                              | 45/79 [09:37<08:38, 15.25s/it]"
     ]
    },
    {
     "name": "stdout",
     "output_type": "stream",
     "text": [
      "currently processing file:  Z:/ghepmk_data/2020_EEGStudy1/aligned_data/49/timeline_aligned.csv\n"
     ]
    },
    {
     "name": "stderr",
     "output_type": "stream",
     "text": [
      " 58%|███████████████████████████████████████████████████████████████████████████████████▊                                                            | 46/79 [09:56<08:58, 16.30s/it]"
     ]
    },
    {
     "name": "stdout",
     "output_type": "stream",
     "text": [
      "currently processing file:  Z:/ghepmk_data/2020_EEGStudy1/aligned_data/50/timeline_aligned.csv\n"
     ]
    },
    {
     "name": "stderr",
     "output_type": "stream",
     "text": [
      " 59%|█████████████████████████████████████████████████████████████████████████████████████▋                                                          | 47/79 [10:18<09:23, 17.60s/it]"
     ]
    },
    {
     "name": "stdout",
     "output_type": "stream",
     "text": [
      "currently processing file:  Z:/ghepmk_data/2020_EEGStudy1/aligned_data/51/timeline_aligned.csv\n"
     ]
    },
    {
     "name": "stderr",
     "output_type": "stream",
     "text": [
      " 61%|███████████████████████████████████████████████████████████████████████████████████████▍                                                        | 48/79 [10:37<09:17, 18.00s/it]"
     ]
    },
    {
     "name": "stdout",
     "output_type": "stream",
     "text": [
      "currently processing file:  Z:/ghepmk_data/2020_EEGStudy1/aligned_data/52/timeline_aligned.csv\n",
      "currently processing file:  Z:/ghepmk_data/2020_EEGStudy1/aligned_data/53/timeline_aligned.csv\n"
     ]
    },
    {
     "name": "stderr",
     "output_type": "stream",
     "text": [
      " 63%|███████████████████████████████████████████████████████████████████████████████████████████▏                                                    | 50/79 [11:02<07:37, 15.77s/it]"
     ]
    },
    {
     "name": "stdout",
     "output_type": "stream",
     "text": [
      "currently processing file:  Z:/ghepmk_data/2020_EEGStudy1/aligned_data/54/timeline_aligned.csv\n"
     ]
    },
    {
     "name": "stderr",
     "output_type": "stream",
     "text": [
      " 65%|████████████████████████████████████████████████████████████████████████████████████████████▉                                                   | 51/79 [11:31<08:47, 18.82s/it]"
     ]
    },
    {
     "name": "stdout",
     "output_type": "stream",
     "text": [
      "currently processing file:  Z:/ghepmk_data/2020_EEGStudy1/aligned_data/55/timeline_aligned.csv\n"
     ]
    },
    {
     "name": "stderr",
     "output_type": "stream",
     "text": [
      " 66%|██████████████████████████████████████████████████████████████████████████████████████████████▊                                                 | 52/79 [11:50<08:25, 18.72s/it]"
     ]
    },
    {
     "name": "stdout",
     "output_type": "stream",
     "text": [
      "currently processing file:  Z:/ghepmk_data/2020_EEGStudy1/aligned_data/56/timeline_aligned.csv\n"
     ]
    },
    {
     "name": "stderr",
     "output_type": "stream",
     "text": [
      " 67%|████████████████████████████████████████████████████████████████████████████████████████████████▌                                               | 53/79 [12:14<08:43, 20.12s/it]"
     ]
    },
    {
     "name": "stdout",
     "output_type": "stream",
     "text": [
      "currently processing file:  Z:/ghepmk_data/2020_EEGStudy1/aligned_data/57/timeline_aligned.csv\n"
     ]
    },
    {
     "name": "stderr",
     "output_type": "stream",
     "text": [
      " 68%|██████████████████████████████████████████████████████████████████████████████████████████████████▍                                             | 54/79 [12:39<09:00, 21.63s/it]"
     ]
    },
    {
     "name": "stdout",
     "output_type": "stream",
     "text": [
      "currently processing file:  Z:/ghepmk_data/2020_EEGStudy1/aligned_data/58/timeline_aligned.csv\n"
     ]
    },
    {
     "name": "stderr",
     "output_type": "stream",
     "text": [
      " 70%|████████████████████████████████████████████████████████████████████████████████████████████████████▎                                           | 55/79 [12:57<08:15, 20.63s/it]"
     ]
    },
    {
     "name": "stdout",
     "output_type": "stream",
     "text": [
      "currently processing file:  Z:/ghepmk_data/2020_EEGStudy1/aligned_data/59/timeline_aligned.csv\n"
     ]
    },
    {
     "name": "stderr",
     "output_type": "stream",
     "text": [
      " 71%|██████████████████████████████████████████████████████████████████████████████████████████████████████                                          | 56/79 [13:15<07:33, 19.70s/it]"
     ]
    },
    {
     "name": "stdout",
     "output_type": "stream",
     "text": [
      "currently processing file:  Z:/ghepmk_data/2020_EEGStudy1/aligned_data/60/timeline_aligned.csv\n"
     ]
    },
    {
     "name": "stderr",
     "output_type": "stream",
     "text": [
      " 72%|███████████████████████████████████████████████████████████████████████████████████████████████████████▉                                        | 57/79 [13:37<07:28, 20.37s/it]"
     ]
    },
    {
     "name": "stdout",
     "output_type": "stream",
     "text": [
      "currently processing file:  Z:/ghepmk_data/2020_EEGStudy1/aligned_data/61/timeline_aligned.csv\n",
      "currently processing file:  Z:/ghepmk_data/2020_EEGStudy1/aligned_data/63/timeline_aligned.csv\n"
     ]
    },
    {
     "name": "stderr",
     "output_type": "stream",
     "text": [
      " 75%|███████████████████████████████████████████████████████████████████████████████████████████████████████████▌                                    | 59/79 [13:56<05:08, 15.44s/it]"
     ]
    },
    {
     "name": "stdout",
     "output_type": "stream",
     "text": [
      "currently processing file:  Z:/ghepmk_data/2020_EEGStudy1/aligned_data/64/timeline_aligned.csv\n"
     ]
    },
    {
     "name": "stderr",
     "output_type": "stream",
     "text": [
      " 76%|█████████████████████████████████████████████████████████████████████████████████████████████████████████████▎                                  | 60/79 [14:16<05:14, 16.55s/it]"
     ]
    },
    {
     "name": "stdout",
     "output_type": "stream",
     "text": [
      "currently processing file:  Z:/ghepmk_data/2020_EEGStudy1/aligned_data/65/timeline_aligned.csv\n"
     ]
    },
    {
     "name": "stderr",
     "output_type": "stream",
     "text": [
      " 77%|███████████████████████████████████████████████████████████████████████████████████████████████████████████████▏                                | 61/79 [14:36<05:16, 17.56s/it]"
     ]
    },
    {
     "name": "stdout",
     "output_type": "stream",
     "text": [
      "currently processing file:  Z:/ghepmk_data/2020_EEGStudy1/aligned_data/66/timeline_aligned.csv\n"
     ]
    },
    {
     "name": "stderr",
     "output_type": "stream",
     "text": [
      " 78%|█████████████████████████████████████████████████████████████████████████████████████████████████████████████████                               | 62/79 [14:57<05:12, 18.41s/it]"
     ]
    },
    {
     "name": "stdout",
     "output_type": "stream",
     "text": [
      "currently processing file:  Z:/ghepmk_data/2020_EEGStudy1/aligned_data/67/timeline_aligned.csv\n"
     ]
    },
    {
     "name": "stderr",
     "output_type": "stream",
     "text": [
      " 80%|██████████████████████████████████████████████████████████████████████████████████████████████████████████████████▊                             | 63/79 [15:14<04:49, 18.10s/it]"
     ]
    },
    {
     "name": "stdout",
     "output_type": "stream",
     "text": [
      "currently processing file:  Z:/ghepmk_data/2020_EEGStudy1/aligned_data/68/timeline_aligned.csv\n",
      "currently processing file:  Z:/ghepmk_data/2020_EEGStudy1/aligned_data/69/timeline_aligned.csv\n",
      "currently processing file:  Z:/ghepmk_data/2020_EEGStudy1/aligned_data/70/timeline_aligned.csv\n",
      "currently processing file:  Z:/ghepmk_data/2020_EEGStudy1/aligned_data/71/timeline_aligned.csv\n",
      "currently processing file:  Z:/ghepmk_data/2020_EEGStudy1/aligned_data/72/timeline_aligned.csv\n"
     ]
    },
    {
     "name": "stderr",
     "output_type": "stream",
     "text": [
      " 86%|███████████████████████████████████████████████████████████████████████████████████████████████████████████████████████████▉                    | 68/79 [15:32<01:32,  8.39s/it]"
     ]
    },
    {
     "name": "stdout",
     "output_type": "stream",
     "text": [
      "currently processing file:  Z:/ghepmk_data/2020_EEGStudy1/aligned_data/73/timeline_aligned.csv\n"
     ]
    },
    {
     "name": "stderr",
     "output_type": "stream",
     "text": [
      " 87%|█████████████████████████████████████████████████████████████████████████████████████████████████████████████████████████████▊                  | 69/79 [15:53<01:44, 10.45s/it]"
     ]
    },
    {
     "name": "stdout",
     "output_type": "stream",
     "text": [
      "currently processing file:  Z:/ghepmk_data/2020_EEGStudy1/aligned_data/74/timeline_aligned.csv\n"
     ]
    },
    {
     "name": "stderr",
     "output_type": "stream",
     "text": [
      " 89%|███████████████████████████████████████████████████████████████████████████████████████████████████████████████████████████████▌                | 70/79 [16:16<01:55, 12.88s/it]"
     ]
    },
    {
     "name": "stdout",
     "output_type": "stream",
     "text": [
      "currently processing file:  Z:/ghepmk_data/2020_EEGStudy1/aligned_data/75/timeline_aligned.csv\n",
      "currently processing file:  Z:/ghepmk_data/2020_EEGStudy1/aligned_data/76/timeline_aligned.csv\n",
      "currently processing file:  Z:/ghepmk_data/2020_EEGStudy1/aligned_data/77/timeline_aligned.csv\n",
      "currently processing file:  Z:/ghepmk_data/2020_EEGStudy1/aligned_data/78/timeline_aligned.csv\n",
      "currently processing file:  Z:/ghepmk_data/2020_EEGStudy1/aligned_data/79/timeline_aligned.csv\n",
      "currently processing file:  Z:/ghepmk_data/2020_EEGStudy1/aligned_data/80/timeline_aligned.csv\n"
     ]
    },
    {
     "name": "stderr",
     "output_type": "stream",
     "text": [
      " 96%|██████████████████████████████████████████████████████████████████████████████████████████████████████████████████████████████████████████▌     | 76/79 [16:35<00:20,  6.84s/it]"
     ]
    },
    {
     "name": "stdout",
     "output_type": "stream",
     "text": [
      "currently processing file:  Z:/ghepmk_data/2020_EEGStudy1/aligned_data/81/timeline_aligned.csv\n"
     ]
    },
    {
     "name": "stderr",
     "output_type": "stream",
     "text": [
      " 97%|████████████████████████████████████████████████████████████████████████████████████████████████████████████████████████████████████████████▎   | 77/79 [16:56<00:17,  8.63s/it]"
     ]
    },
    {
     "name": "stdout",
     "output_type": "stream",
     "text": [
      "currently processing file:  Z:/ghepmk_data/2020_EEGStudy1/aligned_data/82/timeline_aligned.csv\n"
     ]
    },
    {
     "name": "stderr",
     "output_type": "stream",
     "text": [
      " 99%|██████████████████████████████████████████████████████████████████████████████████████████████████████████████████████████████████████████████▏ | 78/79 [17:18<00:10, 10.80s/it]"
     ]
    },
    {
     "name": "stdout",
     "output_type": "stream",
     "text": [
      "currently processing file:  Z:/ghepmk_data/2020_EEGStudy1/aligned_data/83/timeline_aligned.csv\n"
     ]
    },
    {
     "name": "stderr",
     "output_type": "stream",
     "text": [
      "100%|████████████████████████████████████████████████████████████████████████████████████████████████████████████████████████████████████████████████| 79/79 [17:38<00:00, 13.39s/it]\n"
     ]
    }
   ],
   "source": [
    "import bisect\n",
    "import time\n",
    "\n",
    "startlist = ['Controle1Slide', 'Controle2Slide', 'Controle3Slide', 'Stress1Slide', 'Stress2Slide', 'Stress3Slide']\n",
    "stoplist = ['ControleSAM', 'ControleSAM3', 'ControleSAM4', 'StressSAM', 'StressSAM1', 'StressSAM2']\n",
    "fileNums = [2, 3, 4, 6, 7, 8] # Relevant filenums for control and stress block\n",
    "\n",
    "data[\"HR\"] = np.nan\n",
    "data[\"EDA\"] = np.nan\n",
    "data[\"SCR_Peaks\"] = np.nan\n",
    "t = time.time()\n",
    "\n",
    "for p in tqdm(np.unique(data.participantNum)):\n",
    "    file = DATA_PATH + '/' + str(p) + '/timeline_aligned.csv'\n",
    "    print(f'currently processing file: ', file)\n",
    "    if p != 68 | p != 79:\n",
    "        if os.path.isfile(file):\n",
    "            tempcsv = pd.read_csv(file)\n",
    "            tempeda = pd.read_parquet('Z:/ghepmk_data/2020_EEGStudy1_nosync/Data/aligned/EEG1_study_feat_stats/EEG1_study_feat_stats/' + '/' + str(p) + '/gsr_processed.parquet', engine='pyarrow') # @Jonas, these are the files you sent me through Mattermost\n",
    "            tempecg = pd.read_parquet(DATA_PATH + '/' + str(p) + '/edf_aligned/ecg.parquet', engine='pyarrow')\n",
    "\n",
    "            tempcsv['t_start'] =  pd.to_datetime(tempcsv['t_start'])\n",
    "            tempcsv['t_stop'] =  pd.to_datetime(tempcsv['t_stop'])\n",
    "\n",
    "            for i in range(0,len(startlist)): \n",
    "                startstamp = tempcsv.t_start[np.where(tempcsv.Phase == startlist[i])[0][0]] # The timestamp of the start of this block\n",
    "                stopstamp = tempcsv.t_start[np.where(tempcsv.Phase == stoplist[i])[0][0]] # Same but for the end of this block\n",
    "                # ECG\n",
    "                startLocECG = bisect.bisect_left(tempecg.timestamp,startstamp) # Find closest timestamp in the ecg data for start\n",
    "                stopLocECG = bisect.bisect_left(tempecg.timestamp,stopstamp) # Same but for end\n",
    "                #EDA\n",
    "                startLocEDA = bisect.bisect_left(tempeda.index,startstamp)\n",
    "                stopLocEDA = bisect.bisect_left(tempeda.index,stopstamp)\n",
    "\n",
    "                # Average the data (this is probably pretty wrong) for the full segment to get one datapoint\n",
    "                HR = tempecg.ECG_Rate[startLocECG:stopLocECG].mean()\n",
    "                EDA = tempeda.processed_EDA[startLocEDA:stopLocEDA].mean()\n",
    "                SCR_peaks = tempeda.SCR_Peaks_neurokit[startLocEDA:stopLocEDA].mean()\n",
    "\n",
    "                location = np.where(np.logical_and(data['participantNum'] == p, data['fileNum'] == fileNums[i]))[0][0]\n",
    "                data.at[location, 'HR'] = HR\n",
    "                data.at[location, 'EDA'] = EDA\n",
    "                data.at[location, 'SCR_Peaks'] = SCR_peaks\n",
    "    #             break\n",
    "    #         break\n",
    "# tempcsv\n",
    "elapsed = time.time() - t"
   ]
  },
  {
   "cell_type": "code",
   "execution_count": 13,
   "metadata": {},
   "outputs": [
    {
     "data": {
      "text/html": [
       "<div>\n",
       "<style scoped>\n",
       "    .dataframe tbody tr th:only-of-type {\n",
       "        vertical-align: middle;\n",
       "    }\n",
       "\n",
       "    .dataframe tbody tr th {\n",
       "        vertical-align: top;\n",
       "    }\n",
       "\n",
       "    .dataframe thead th {\n",
       "        text-align: right;\n",
       "    }\n",
       "</style>\n",
       "<table border=\"1\" class=\"dataframe\">\n",
       "  <thead>\n",
       "    <tr style=\"text-align: right;\">\n",
       "      <th></th>\n",
       "      <th>participantNum</th>\n",
       "      <th>fileNum</th>\n",
       "      <th>name@STRING</th>\n",
       "      <th>F0semitoneFrom27.5Hz_sma3nz_amean</th>\n",
       "      <th>F0semitoneFrom27.5Hz_sma3nz_stddevNorm</th>\n",
       "      <th>F0semitoneFrom27.5Hz_sma3nz_percentile20.0</th>\n",
       "      <th>F0semitoneFrom27.5Hz_sma3nz_percentile50.0</th>\n",
       "      <th>F0semitoneFrom27.5Hz_sma3nz_percentile80.0</th>\n",
       "      <th>F0semitoneFrom27.5Hz_sma3nz_pctlrange0-2</th>\n",
       "      <th>F0semitoneFrom27.5Hz_sma3nz_meanRisingSlope</th>\n",
       "      <th>...</th>\n",
       "      <th>StddevVoicedSegmentLengthSec</th>\n",
       "      <th>MeanUnvoicedSegmentLength</th>\n",
       "      <th>StddevUnvoicedSegmentLength</th>\n",
       "      <th>class</th>\n",
       "      <th>arousal</th>\n",
       "      <th>valence</th>\n",
       "      <th>dominance</th>\n",
       "      <th>HR</th>\n",
       "      <th>EDA</th>\n",
       "      <th>SCR_Peaks</th>\n",
       "    </tr>\n",
       "  </thead>\n",
       "  <tbody>\n",
       "    <tr>\n",
       "      <th>0</th>\n",
       "      <td>10</td>\n",
       "      <td>0</td>\n",
       "      <td>unknown</td>\n",
       "      <td>27.92543</td>\n",
       "      <td>0.234147</td>\n",
       "      <td>23.88995</td>\n",
       "      <td>30.34848</td>\n",
       "      <td>32.50033</td>\n",
       "      <td>8.610376</td>\n",
       "      <td>382.2287</td>\n",
       "      <td>...</td>\n",
       "      <td>0.217103</td>\n",
       "      <td>0.126782</td>\n",
       "      <td>0.122798</td>\n",
       "      <td>NaN</td>\n",
       "      <td>3</td>\n",
       "      <td>5</td>\n",
       "      <td>6</td>\n",
       "      <td>NaN</td>\n",
       "      <td>NaN</td>\n",
       "      <td>NaN</td>\n",
       "    </tr>\n",
       "    <tr>\n",
       "      <th>1</th>\n",
       "      <td>10</td>\n",
       "      <td>1</td>\n",
       "      <td>unknown</td>\n",
       "      <td>27.96764</td>\n",
       "      <td>0.243268</td>\n",
       "      <td>21.31105</td>\n",
       "      <td>30.71822</td>\n",
       "      <td>32.79702</td>\n",
       "      <td>11.485970</td>\n",
       "      <td>345.8376</td>\n",
       "      <td>...</td>\n",
       "      <td>0.210202</td>\n",
       "      <td>0.146333</td>\n",
       "      <td>0.126521</td>\n",
       "      <td>NaN</td>\n",
       "      <td>4</td>\n",
       "      <td>5</td>\n",
       "      <td>5</td>\n",
       "      <td>NaN</td>\n",
       "      <td>NaN</td>\n",
       "      <td>NaN</td>\n",
       "    </tr>\n",
       "    <tr>\n",
       "      <th>2</th>\n",
       "      <td>10</td>\n",
       "      <td>2</td>\n",
       "      <td>unknown</td>\n",
       "      <td>30.11015</td>\n",
       "      <td>0.192709</td>\n",
       "      <td>29.37389</td>\n",
       "      <td>31.81099</td>\n",
       "      <td>33.75395</td>\n",
       "      <td>4.380058</td>\n",
       "      <td>576.8564</td>\n",
       "      <td>...</td>\n",
       "      <td>0.209418</td>\n",
       "      <td>0.141905</td>\n",
       "      <td>0.143771</td>\n",
       "      <td>NaN</td>\n",
       "      <td>6</td>\n",
       "      <td>4</td>\n",
       "      <td>6</td>\n",
       "      <td>NaN</td>\n",
       "      <td>NaN</td>\n",
       "      <td>NaN</td>\n",
       "    </tr>\n",
       "    <tr>\n",
       "      <th>3</th>\n",
       "      <td>10</td>\n",
       "      <td>3</td>\n",
       "      <td>unknown</td>\n",
       "      <td>28.57158</td>\n",
       "      <td>0.264562</td>\n",
       "      <td>20.17927</td>\n",
       "      <td>31.55440</td>\n",
       "      <td>34.09322</td>\n",
       "      <td>13.913950</td>\n",
       "      <td>381.3787</td>\n",
       "      <td>...</td>\n",
       "      <td>0.209711</td>\n",
       "      <td>0.123954</td>\n",
       "      <td>0.113591</td>\n",
       "      <td>NaN</td>\n",
       "      <td>5</td>\n",
       "      <td>4</td>\n",
       "      <td>5</td>\n",
       "      <td>NaN</td>\n",
       "      <td>NaN</td>\n",
       "      <td>NaN</td>\n",
       "    </tr>\n",
       "    <tr>\n",
       "      <th>4</th>\n",
       "      <td>10</td>\n",
       "      <td>4</td>\n",
       "      <td>unknown</td>\n",
       "      <td>29.18650</td>\n",
       "      <td>0.228047</td>\n",
       "      <td>27.77788</td>\n",
       "      <td>31.30969</td>\n",
       "      <td>33.87980</td>\n",
       "      <td>6.101919</td>\n",
       "      <td>396.8851</td>\n",
       "      <td>...</td>\n",
       "      <td>0.202963</td>\n",
       "      <td>0.130690</td>\n",
       "      <td>0.148903</td>\n",
       "      <td>NaN</td>\n",
       "      <td>3</td>\n",
       "      <td>5</td>\n",
       "      <td>5</td>\n",
       "      <td>NaN</td>\n",
       "      <td>NaN</td>\n",
       "      <td>NaN</td>\n",
       "    </tr>\n",
       "    <tr>\n",
       "      <th>...</th>\n",
       "      <td>...</td>\n",
       "      <td>...</td>\n",
       "      <td>...</td>\n",
       "      <td>...</td>\n",
       "      <td>...</td>\n",
       "      <td>...</td>\n",
       "      <td>...</td>\n",
       "      <td>...</td>\n",
       "      <td>...</td>\n",
       "      <td>...</td>\n",
       "      <td>...</td>\n",
       "      <td>...</td>\n",
       "      <td>...</td>\n",
       "      <td>...</td>\n",
       "      <td>...</td>\n",
       "      <td>...</td>\n",
       "      <td>...</td>\n",
       "      <td>...</td>\n",
       "      <td>...</td>\n",
       "      <td>...</td>\n",
       "      <td>...</td>\n",
       "    </tr>\n",
       "    <tr>\n",
       "      <th>706</th>\n",
       "      <td>9</td>\n",
       "      <td>4</td>\n",
       "      <td>unknown</td>\n",
       "      <td>31.14767</td>\n",
       "      <td>0.207179</td>\n",
       "      <td>30.98799</td>\n",
       "      <td>33.14330</td>\n",
       "      <td>34.86370</td>\n",
       "      <td>3.875711</td>\n",
       "      <td>474.9471</td>\n",
       "      <td>...</td>\n",
       "      <td>0.124688</td>\n",
       "      <td>0.102923</td>\n",
       "      <td>0.080493</td>\n",
       "      <td>NaN</td>\n",
       "      <td>4</td>\n",
       "      <td>5</td>\n",
       "      <td>5</td>\n",
       "      <td>NaN</td>\n",
       "      <td>NaN</td>\n",
       "      <td>NaN</td>\n",
       "    </tr>\n",
       "    <tr>\n",
       "      <th>707</th>\n",
       "      <td>9</td>\n",
       "      <td>5</td>\n",
       "      <td>unknown</td>\n",
       "      <td>30.24376</td>\n",
       "      <td>0.213153</td>\n",
       "      <td>27.89069</td>\n",
       "      <td>32.60919</td>\n",
       "      <td>34.39397</td>\n",
       "      <td>6.503281</td>\n",
       "      <td>447.9238</td>\n",
       "      <td>...</td>\n",
       "      <td>0.118104</td>\n",
       "      <td>0.089118</td>\n",
       "      <td>0.080745</td>\n",
       "      <td>NaN</td>\n",
       "      <td>5</td>\n",
       "      <td>3</td>\n",
       "      <td>1</td>\n",
       "      <td>NaN</td>\n",
       "      <td>NaN</td>\n",
       "      <td>NaN</td>\n",
       "    </tr>\n",
       "    <tr>\n",
       "      <th>708</th>\n",
       "      <td>9</td>\n",
       "      <td>6</td>\n",
       "      <td>unknown</td>\n",
       "      <td>30.15134</td>\n",
       "      <td>0.221737</td>\n",
       "      <td>23.99664</td>\n",
       "      <td>32.78212</td>\n",
       "      <td>34.68797</td>\n",
       "      <td>10.691330</td>\n",
       "      <td>489.2083</td>\n",
       "      <td>...</td>\n",
       "      <td>0.128759</td>\n",
       "      <td>0.091618</td>\n",
       "      <td>0.098647</td>\n",
       "      <td>NaN</td>\n",
       "      <td>5</td>\n",
       "      <td>4</td>\n",
       "      <td>2</td>\n",
       "      <td>NaN</td>\n",
       "      <td>NaN</td>\n",
       "      <td>NaN</td>\n",
       "    </tr>\n",
       "    <tr>\n",
       "      <th>709</th>\n",
       "      <td>9</td>\n",
       "      <td>7</td>\n",
       "      <td>unknown</td>\n",
       "      <td>31.15793</td>\n",
       "      <td>0.180178</td>\n",
       "      <td>30.95590</td>\n",
       "      <td>32.94125</td>\n",
       "      <td>34.51957</td>\n",
       "      <td>3.563662</td>\n",
       "      <td>337.6467</td>\n",
       "      <td>...</td>\n",
       "      <td>0.139733</td>\n",
       "      <td>0.096667</td>\n",
       "      <td>0.074148</td>\n",
       "      <td>NaN</td>\n",
       "      <td>4</td>\n",
       "      <td>3</td>\n",
       "      <td>2</td>\n",
       "      <td>NaN</td>\n",
       "      <td>NaN</td>\n",
       "      <td>NaN</td>\n",
       "    </tr>\n",
       "    <tr>\n",
       "      <th>710</th>\n",
       "      <td>9</td>\n",
       "      <td>8</td>\n",
       "      <td>unknown</td>\n",
       "      <td>32.28329</td>\n",
       "      <td>0.160083</td>\n",
       "      <td>31.92023</td>\n",
       "      <td>33.82060</td>\n",
       "      <td>35.26515</td>\n",
       "      <td>3.344917</td>\n",
       "      <td>296.1331</td>\n",
       "      <td>...</td>\n",
       "      <td>0.137992</td>\n",
       "      <td>0.113226</td>\n",
       "      <td>0.110450</td>\n",
       "      <td>NaN</td>\n",
       "      <td>4</td>\n",
       "      <td>5</td>\n",
       "      <td>4</td>\n",
       "      <td>NaN</td>\n",
       "      <td>NaN</td>\n",
       "      <td>NaN</td>\n",
       "    </tr>\n",
       "  </tbody>\n",
       "</table>\n",
       "<p>711 rows × 72 columns</p>\n",
       "</div>"
      ],
      "text/plain": [
       "     participantNum  fileNum name@STRING  F0semitoneFrom27.5Hz_sma3nz_amean  \\\n",
       "0                10        0     unknown                           27.92543   \n",
       "1                10        1     unknown                           27.96764   \n",
       "2                10        2     unknown                           30.11015   \n",
       "3                10        3     unknown                           28.57158   \n",
       "4                10        4     unknown                           29.18650   \n",
       "..              ...      ...         ...                                ...   \n",
       "706               9        4     unknown                           31.14767   \n",
       "707               9        5     unknown                           30.24376   \n",
       "708               9        6     unknown                           30.15134   \n",
       "709               9        7     unknown                           31.15793   \n",
       "710               9        8     unknown                           32.28329   \n",
       "\n",
       "     F0semitoneFrom27.5Hz_sma3nz_stddevNorm  \\\n",
       "0                                  0.234147   \n",
       "1                                  0.243268   \n",
       "2                                  0.192709   \n",
       "3                                  0.264562   \n",
       "4                                  0.228047   \n",
       "..                                      ...   \n",
       "706                                0.207179   \n",
       "707                                0.213153   \n",
       "708                                0.221737   \n",
       "709                                0.180178   \n",
       "710                                0.160083   \n",
       "\n",
       "     F0semitoneFrom27.5Hz_sma3nz_percentile20.0  \\\n",
       "0                                      23.88995   \n",
       "1                                      21.31105   \n",
       "2                                      29.37389   \n",
       "3                                      20.17927   \n",
       "4                                      27.77788   \n",
       "..                                          ...   \n",
       "706                                    30.98799   \n",
       "707                                    27.89069   \n",
       "708                                    23.99664   \n",
       "709                                    30.95590   \n",
       "710                                    31.92023   \n",
       "\n",
       "     F0semitoneFrom27.5Hz_sma3nz_percentile50.0  \\\n",
       "0                                      30.34848   \n",
       "1                                      30.71822   \n",
       "2                                      31.81099   \n",
       "3                                      31.55440   \n",
       "4                                      31.30969   \n",
       "..                                          ...   \n",
       "706                                    33.14330   \n",
       "707                                    32.60919   \n",
       "708                                    32.78212   \n",
       "709                                    32.94125   \n",
       "710                                    33.82060   \n",
       "\n",
       "     F0semitoneFrom27.5Hz_sma3nz_percentile80.0  \\\n",
       "0                                      32.50033   \n",
       "1                                      32.79702   \n",
       "2                                      33.75395   \n",
       "3                                      34.09322   \n",
       "4                                      33.87980   \n",
       "..                                          ...   \n",
       "706                                    34.86370   \n",
       "707                                    34.39397   \n",
       "708                                    34.68797   \n",
       "709                                    34.51957   \n",
       "710                                    35.26515   \n",
       "\n",
       "     F0semitoneFrom27.5Hz_sma3nz_pctlrange0-2  \\\n",
       "0                                    8.610376   \n",
       "1                                   11.485970   \n",
       "2                                    4.380058   \n",
       "3                                   13.913950   \n",
       "4                                    6.101919   \n",
       "..                                        ...   \n",
       "706                                  3.875711   \n",
       "707                                  6.503281   \n",
       "708                                 10.691330   \n",
       "709                                  3.563662   \n",
       "710                                  3.344917   \n",
       "\n",
       "     F0semitoneFrom27.5Hz_sma3nz_meanRisingSlope  ...  \\\n",
       "0                                       382.2287  ...   \n",
       "1                                       345.8376  ...   \n",
       "2                                       576.8564  ...   \n",
       "3                                       381.3787  ...   \n",
       "4                                       396.8851  ...   \n",
       "..                                           ...  ...   \n",
       "706                                     474.9471  ...   \n",
       "707                                     447.9238  ...   \n",
       "708                                     489.2083  ...   \n",
       "709                                     337.6467  ...   \n",
       "710                                     296.1331  ...   \n",
       "\n",
       "     StddevVoicedSegmentLengthSec  MeanUnvoicedSegmentLength  \\\n",
       "0                        0.217103                   0.126782   \n",
       "1                        0.210202                   0.146333   \n",
       "2                        0.209418                   0.141905   \n",
       "3                        0.209711                   0.123954   \n",
       "4                        0.202963                   0.130690   \n",
       "..                            ...                        ...   \n",
       "706                      0.124688                   0.102923   \n",
       "707                      0.118104                   0.089118   \n",
       "708                      0.128759                   0.091618   \n",
       "709                      0.139733                   0.096667   \n",
       "710                      0.137992                   0.113226   \n",
       "\n",
       "     StddevUnvoicedSegmentLength  class  arousal  valence  dominance  HR  EDA  \\\n",
       "0                       0.122798    NaN        3        5          6 NaN  NaN   \n",
       "1                       0.126521    NaN        4        5          5 NaN  NaN   \n",
       "2                       0.143771    NaN        6        4          6 NaN  NaN   \n",
       "3                       0.113591    NaN        5        4          5 NaN  NaN   \n",
       "4                       0.148903    NaN        3        5          5 NaN  NaN   \n",
       "..                           ...    ...      ...      ...        ...  ..  ...   \n",
       "706                     0.080493    NaN        4        5          5 NaN  NaN   \n",
       "707                     0.080745    NaN        5        3          1 NaN  NaN   \n",
       "708                     0.098647    NaN        5        4          2 NaN  NaN   \n",
       "709                     0.074148    NaN        4        3          2 NaN  NaN   \n",
       "710                     0.110450    NaN        4        5          4 NaN  NaN   \n",
       "\n",
       "     SCR_Peaks  \n",
       "0          NaN  \n",
       "1          NaN  \n",
       "2          NaN  \n",
       "3          NaN  \n",
       "4          NaN  \n",
       "..         ...  \n",
       "706        NaN  \n",
       "707        NaN  \n",
       "708        NaN  \n",
       "709        NaN  \n",
       "710        NaN  \n",
       "\n",
       "[711 rows x 72 columns]"
      ]
     },
     "execution_count": 13,
     "metadata": {},
     "output_type": "execute_result"
    }
   ],
   "source": [
    "data"
   ]
  },
  {
   "cell_type": "markdown",
   "metadata": {},
   "source": [
    "#### Delete the following files because they suck (see excel files)\n",
    "\n",
    "PPT1: 1 3\n",
    "PPT2: ALL\n",
    "PPT3: 0 8\n",
    "PPT5: 8\n",
    "PPT6: 7\n",
    "PPT8: 8\n",
    "PPT9: 3\n",
    "PPT17: 6\n",
    "PPT24: ALL\n",
    "PPT25: ALL\n",
    "PPT29: 2 4 8\n",
    "PPT31: 2\n",
    "PPT35: 0 3 5 6 7\n",
    "PPT36: 8\n",
    "PPT45: ALL\n",
    "PPT48: 5\n",
    "PPT53: 0 / ALL (Dyslexie)\n",
    "PPT60: 0\n",
    "PPT61: 7\n",
    "PPT62: ALL\n",
    "PPT71: ALL\n",
    "PPT72: ALL\n",
    "PPT73: ALL\n",
    "PPT74: ALL\n",
    "PPT82: ALL\n"
   ]
  },
  {
   "cell_type": "code",
   "execution_count": 14,
   "metadata": {},
   "outputs": [],
   "source": [
    "data = data[~np.logical_and(data['participantNum'] == 1, np.logical_or(data['fileNum'] == 1, data['fileNum'] == 3))] # PPT1\n",
    "data = data[data['participantNum'] != 2] # PPT2\n",
    "data = data[~np.logical_and(data['participantNum'] == 3, np.logical_or(data['fileNum'] == 0, data['fileNum'] == 8))] # PPT3\n",
    "data = data[~np.logical_and(data['participantNum'] == 5, data['fileNum'] == 8)] # PPT5\n",
    "data = data[~np.logical_and(data['participantNum'] == 6, data['fileNum'] == 7)] # PPT6\n",
    "data = data[~np.logical_and(data['participantNum'] == 8, data['fileNum'] == 8)] # PPT8\n",
    "data = data[~np.logical_and(data['participantNum'] == 9, data['fileNum'] == 3)] # PPT9\n",
    "data = data[~np.logical_and(data['participantNum'] == 17, data['fileNum'] == 6)] # PPT17\n",
    "data = data[data['participantNum'] != 24] # PPT24\n",
    "data = data[data['participantNum'] != 25] # PPT25\n",
    "data = data[~np.logical_and(data['participantNum'] == 29, np.logical_or.reduce((data['fileNum'] == 2, data['fileNum'] == 4, data['fileNum'] == 8)))]\n",
    "data = data[~np.logical_and(data['participantNum'] == 31, data['fileNum'] == 2)] # PPT31\n",
    "data = data[~np.logical_and(data['participantNum'] == 35, np.logical_or.reduce((data['fileNum'] == 0, data['fileNum'] == 3, data['fileNum'] == 5, data['fileNum'] == 6 , data['fileNum'] == 7)))] # PPT35\n",
    "data = data[~np.logical_and(data['participantNum'] == 36, data['fileNum'] == 8)] # PPT36\n",
    "data = data[data['participantNum'] != 45] # PPT45\n",
    "data = data[~np.logical_and(data['participantNum'] == 48, data['fileNum'] == 5)] # PPT48\n",
    "data = data[data['participantNum'] != 53] # PPT53\n",
    "data = data[~np.logical_and(data['participantNum'] == 60, data['fileNum'] == 0)] # PPT60\n",
    "data = data[~np.logical_and(data['participantNum'] == 61, data['fileNum'] == 7)] # PPT61\n",
    "data = data[data['participantNum'] != 62] # PPT62\n",
    "# data = data[data['participantNum'] != 68] # PPT68 #### Something wrong with physiological data? \n",
    "data = data[data['participantNum'] != 71] # PPT71\n",
    "data = data[data['participantNum'] != 72] # PPT72\n",
    "data = data[data['participantNum'] != 73] # PPT73\n",
    "data = data[data['participantNum'] != 74] # PPT74\n",
    "# data = data[data['participantNum'] != 79] # PPT79 #### Something wrong with physiological data? \n",
    "data = data[data['participantNum'] != 82] # PPT82\n",
    "\n",
    "data.to_csv(FEATURES_PATH + 'dataComplete.csv', encoding='utf-8', index=False) # Write CSV"
   ]
  },
  {
   "cell_type": "markdown",
   "metadata": {},
   "source": [
    "# Visualize some stuf"
   ]
  },
  {
   "cell_type": "code",
   "execution_count": 16,
   "metadata": {},
   "outputs": [
    {
     "data": {
      "image/png": "[encoded data removed]",
      "text/plain": [
       "<Figure size 432x288 with 1 Axes>"
      ]
     },
     "metadata": {},
     "output_type": "display_data"
    }
   ],
   "source": [
    "import seaborn as sns\n",
    "import matplotlib.pyplot as plt\n",
    "sns.set_theme(style=\"whitegrid\")\n",
    "\n",
    "# ax = sns.violinplot(x=\"fileNum\", y=\"F0semitoneFrom27.5Hz_sma3nz_amean@NUMERIC\", data=data)\n",
    "# ax = sns.violinplot(x=\"fileNum\", y=\"arousal\", data=data)\n",
    "# ax = sns.violinplot(x=\"fileNum\", y=\"valence\", data=data)\n",
    "ax = sns.violinplot(x=\"fileNum\", y=\"dominance\", data=data)\n"
   ]
  },
  {
   "cell_type": "code",
   "execution_count": null,
   "metadata": {},
   "outputs": [],
   "source": []
  }
 ],
 "metadata": {
  "kernelspec": {
   "display_name": "Python 3",
   "language": "python",
   "name": "python3"
  },
  "language_info": {
   "codemirror_mode": {
    "name": "ipython",
    "version": 3
   },
   "file_extension": ".py",
   "mimetype": "text/x-python",
   "name": "python",
   "nbconvert_exporter": "python",
   "pygments_lexer": "ipython3",
   "version": "3.8.6"
  }
 },
 "nbformat": 4,
 "nbformat_minor": 4
}
